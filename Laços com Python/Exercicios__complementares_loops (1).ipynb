{
  "cells": [
    {
      "cell_type": "markdown",
      "id": "deff90ca",
      "metadata": {
        "id": "deff90ca"
      },
      "source": [
        "#### Exercicio 1\n",
        "\n",
        "Nesse exercícios você deverá criar 3 funções que irão receber uma lista de números inteiros e retornar a soma deles.\n",
        "A primeira função você deverá fazer utilizando WHILE, na segunda FOR e na terceira de alguma outra maneira.\n",
        "\n",
        "Exemplo:\n",
        "\n",
        "lista_numeros = [1,2,3,4,5,6,7,8,9,10]\n",
        "\n",
        "print(soma_while(lista_numeros)) \n",
        "\n",
        "55\n",
        "\n",
        "print(soma_for(lista_numeros))\n",
        "\n",
        "55\n",
        "\n",
        "print(soma(lista_numeros))\n",
        "\n",
        "55"
      ]
    },
    {
      "cell_type": "code",
      "execution_count": null,
      "id": "bc9492e0",
      "metadata": {
        "id": "bc9492e0"
      },
      "outputs": [],
      "source": [
        "lista_numeros = [1,2,3,4,5,6,7,8,9,10]"
      ]
    },
    {
      "cell_type": "code",
      "source": [
        "sum=0\n",
        "x=0\n",
        "c=-1\n",
        "p=0"
      ],
      "metadata": {
        "id": "Xw18TLrxrH8L"
      },
      "id": "Xw18TLrxrH8L",
      "execution_count": null,
      "outputs": []
    },
    {
      "cell_type": "code",
      "execution_count": null,
      "id": "c3caff35",
      "metadata": {
        "colab": {
          "base_uri": "https://localhost:8080/"
        },
        "id": "c3caff35",
        "outputId": "4848bbe2-685b-4b74-bfec-2091340d2a94"
      },
      "outputs": [
        {
          "output_type": "execute_result",
          "data": {
            "text/plain": [
              "55"
            ]
          },
          "metadata": {},
          "execution_count": 46
        }
      ],
      "source": [
        "def soma1(lista_numeros):\n",
        "  sum=0\n",
        "  c=-1\n",
        "  while(c<len(lista_numeros)-1):\n",
        "    c+=1\n",
        "    sum+=lista_numeros[c]\n",
        "  return sum\n",
        "soma1(lista_numeros)"
      ]
    },
    {
      "cell_type": "code",
      "execution_count": null,
      "id": "89eeb96a",
      "metadata": {
        "colab": {
          "base_uri": "https://localhost:8080/"
        },
        "id": "89eeb96a",
        "outputId": "194c41f5-09db-40b1-d9b9-58edcde3922c"
      },
      "outputs": [
        {
          "output_type": "execute_result",
          "data": {
            "text/plain": [
              "55"
            ]
          },
          "metadata": {},
          "execution_count": 50
        }
      ],
      "source": [
        "def soma2(lista_numeros):\n",
        "  sum=0\n",
        "  for item in lista_numeros:\n",
        "    sum+=item\n",
        "  return sum\n",
        "soma2(lista_numeros)    "
      ]
    },
    {
      "cell_type": "code",
      "source": [
        "def soma3(lista_numeros):\n",
        "  sum=0\n",
        "  for pol in range(0,len(lista_numeros)+1):sum+=pol\n",
        "  return sum\n",
        "soma3(lista_numeros)  "
      ],
      "metadata": {
        "colab": {
          "base_uri": "https://localhost:8080/"
        },
        "id": "i5LnRwJmrB2O",
        "outputId": "98a8187a-6372-407d-d03b-fed66e9d4e8f"
      },
      "id": "i5LnRwJmrB2O",
      "execution_count": null,
      "outputs": [
        {
          "output_type": "execute_result",
          "data": {
            "text/plain": [
              "55"
            ]
          },
          "metadata": {},
          "execution_count": 89
        }
      ]
    },
    {
      "cell_type": "markdown",
      "id": "5e5347d6",
      "metadata": {
        "id": "5e5347d6"
      },
      "source": [
        "##### Exercicio 2\n",
        "\n",
        "Escreva um programa em Python para adivinhar um número entre 1 e 9.\n",
        "\n",
        "Nota: O usuário é solicitado a inserir um palpite. Se o usuário adivinhar errado, o prompt aparecerá novamente até que o palpite esteja correto, em um palpite bem-sucedido, o usuário receberá um \"Bem adivinhado!\" mensagem e o programa será encerrado.\n",
        "\n",
        "Dica: Use o pacote random"
      ]
    },
    {
      "cell_type": "code",
      "execution_count": null,
      "id": "d1589283",
      "metadata": {
        "colab": {
          "base_uri": "https://localhost:8080/"
        },
        "id": "d1589283",
        "outputId": "f2cf7bda-881e-4c8c-97ed-8df3c8841efd"
      },
      "outputs": [
        {
          "output_type": "stream",
          "name": "stdout",
          "text": [
            "Seu palpite: 5, palpite do pc: 5\n",
            "Você acertou!\n"
          ]
        }
      ],
      "source": [
        "from random import randint\n",
        "pc=randint(0,9)\n",
        "print(f'Seu palpite: {palpite}, palpite do pc: {pc}')\n",
        "if palpite==pc:print('Você acertou!')"
      ]
    },
    {
      "cell_type": "code",
      "execution_count": null,
      "id": "d38719d5",
      "metadata": {
        "colab": {
          "base_uri": "https://localhost:8080/"
        },
        "id": "d38719d5",
        "outputId": "182e2bdf-954b-4364-9929-2487c531d699"
      },
      "outputs": [
        {
          "name": "stdout",
          "output_type": "stream",
          "text": [
            "Digite um palpite: 5\n"
          ]
        }
      ],
      "source": [
        "palpite=int(input(\"Digite um palpite: \"))"
      ]
    },
    {
      "cell_type": "code",
      "source": [
        "if palpite==pc:print('Você acertou!')"
      ],
      "metadata": {
        "id": "bju0AFW5tv36"
      },
      "id": "bju0AFW5tv36",
      "execution_count": null,
      "outputs": []
    },
    {
      "cell_type": "code",
      "source": [
        "print(f'Seu palpite: {palpite}, palpite do pc: {pc}')"
      ],
      "metadata": {
        "colab": {
          "base_uri": "https://localhost:8080/"
        },
        "id": "E5vSdJ_Ut-FQ",
        "outputId": "192fa842-6990-4b0a-ac82-59e8ce9696ff"
      },
      "id": "E5vSdJ_Ut-FQ",
      "execution_count": null,
      "outputs": [
        {
          "output_type": "stream",
          "name": "stdout",
          "text": [
            "Seu palpite: 5, palpite do pc: 3\n"
          ]
        }
      ]
    },
    {
      "cell_type": "markdown",
      "id": "75b05f01",
      "metadata": {
        "id": "75b05f01"
      },
      "source": [
        "#### Exercicio 3\n",
        "\n",
        "Nesse exercícios você deverá criar 3 métodos que irá receber um array de números inteiros e retornar a Média Aritmética Simples deles.\n",
        "O primeiro método você deverá fazer utilizando WHILE, no segundo FOR e no terceiro de alguma outra maneira.\n",
        "\n",
        "Exemplo:\n",
        "    \n",
        "lista_numeros = [1,2,3,4,5,6,7,8,9,10]\n",
        "\n",
        "print(media_while(lista_numeros))\n",
        "\n",
        "5.5\n",
        "\n",
        "print(media_for(lista_numeros))\n",
        "\n",
        "5.5\n",
        "\n",
        "print(media(lista_numeros)) \n",
        "\n",
        "5.5\n"
      ]
    },
    {
      "cell_type": "code",
      "execution_count": null,
      "id": "62f7962d",
      "metadata": {
        "colab": {
          "base_uri": "https://localhost:8080/"
        },
        "id": "62f7962d",
        "outputId": "62f565c9-4d74-4298-cd4e-3112b1ece233"
      },
      "outputs": [
        {
          "output_type": "execute_result",
          "data": {
            "text/plain": [
              "5.5"
            ]
          },
          "metadata": {},
          "execution_count": 92
        }
      ],
      "source": [
        "def media_while(lista_numeros):\n",
        "  sum=0\n",
        "  c=-1\n",
        "  while(c<len(lista_numeros)-1):\n",
        "    c+=1\n",
        "    sum+=lista_numeros[c]\n",
        "    media=sum/len(lista_numeros)\n",
        "  return media\n",
        "media_while(lista_numeros)"
      ]
    },
    {
      "cell_type": "code",
      "execution_count": null,
      "id": "fd975bc0",
      "metadata": {
        "colab": {
          "base_uri": "https://localhost:8080/"
        },
        "id": "fd975bc0",
        "outputId": "7aee3cfd-e56d-4d96-b294-6fd85a005d1c"
      },
      "outputs": [
        {
          "output_type": "execute_result",
          "data": {
            "text/plain": [
              "5.5"
            ]
          },
          "metadata": {},
          "execution_count": 91
        }
      ],
      "source": [
        "def media_for(lista_numeros):\n",
        "  sum=0\n",
        "  for item in lista_numeros:\n",
        "    sum+=item\n",
        "    media=sum/len(lista_numeros)\n",
        "  return media\n",
        "media_for(lista_numeros)   "
      ]
    },
    {
      "cell_type": "code",
      "execution_count": null,
      "id": "b02560c3",
      "metadata": {
        "colab": {
          "base_uri": "https://localhost:8080/"
        },
        "id": "b02560c3",
        "outputId": "c20c1b25-cd6b-46b0-8a63-947b0d110f0a"
      },
      "outputs": [
        {
          "output_type": "execute_result",
          "data": {
            "text/plain": [
              "5.5"
            ]
          },
          "metadata": {},
          "execution_count": 90
        }
      ],
      "source": [
        "def media(lista_numeros):\n",
        "  sum=0\n",
        "  for pol in range(0,len(lista_numeros)+1):sum+=pol\n",
        "  media=sum/len(lista_numeros)\n",
        "  return media\n",
        "media(lista_numeros) "
      ]
    }
  ],
  "metadata": {
    "hide_input": false,
    "kernelspec": {
      "display_name": "Python 3 (ipykernel)",
      "language": "python",
      "name": "python3"
    },
    "language_info": {
      "codemirror_mode": {
        "name": "ipython",
        "version": 3
      },
      "file_extension": ".py",
      "mimetype": "text/x-python",
      "name": "python",
      "nbconvert_exporter": "python",
      "pygments_lexer": "ipython3",
      "version": "3.9.7"
    },
    "colab": {
      "name": "Exercicios _complementares_loops.ipynb",
      "provenance": [],
      "collapsed_sections": []
    }
  },
  "nbformat": 4,
  "nbformat_minor": 5
}