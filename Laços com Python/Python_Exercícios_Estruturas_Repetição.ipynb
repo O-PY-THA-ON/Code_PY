{
  "cells": [
    {
      "cell_type": "markdown",
      "metadata": {
        "cell_id": "0ba0928c-d1b2-4f9d-ab40-cbab13fd9ba4",
        "deepnote_cell_height": 120.390625,
        "deepnote_cell_type": "markdown",
        "id": "c9BudZ2gNE2n"
      },
      "source": [
        "### Exercício 1\n",
        "\n",
        "\n",
        "Ler 5 notas e informar a média usando loop for\n"
      ]
    },
    {
      "cell_type": "markdown",
      "metadata": {
        "cell_id": "00001-36235c6a-b9b4-4917-8d2d-b40868f972db",
        "deepnote_cell_height": 70,
        "deepnote_cell_type": "markdown",
        "id": "RFJ-2UWJSviN"
      },
      "source": [
        ""
      ]
    },
    {
      "cell_type": "code",
      "execution_count": 3,
      "metadata": {
        "cell_id": "00002-d047fd2a-7b3c-456c-b276-a35c60357706",
        "deepnote_cell_height": 66,
        "deepnote_cell_type": "code",
        "id": "SVlPSs0oS1XU",
        "colab": {
          "base_uri": "https://localhost:8080/"
        },
        "outputId": "d80317c3-68d0-43ab-8c5c-4e1163cbbb91"
      },
      "outputs": [
        {
          "output_type": "stream",
          "name": "stdout",
          "text": [
            "Informe uma nota: 5\n",
            "Informe uma nota: 5\n",
            "Informe uma nota: 5\n",
            "Informe uma nota: 5\n",
            "Informe uma nota: 5\n",
            "A media informada foi: 5.00\n"
          ]
        }
      ],
      "source": [
        "s=0\n",
        "for c in range(1,6):\n",
        "  nota=float(input(\"Informe uma nota: \"))\n",
        "  s+=nota\n",
        "  media=s/c\n",
        "print(f\"A media informada foi: {media:.2f}\")  "
      ]
    },
    {
      "cell_type": "code",
      "execution_count": null,
      "metadata": {
        "cell_id": "00006-b30d7e57-3da4-4f91-98f6-bc8b0d6b84ff",
        "deepnote_cell_height": 130.1875,
        "deepnote_cell_type": "code",
        "id": "EfSe5EF6bYCA"
      },
      "outputs": [],
      "source": [
        ""
      ]
    },
    {
      "cell_type": "markdown",
      "metadata": {
        "cell_id": "00007-ee4363c8-7047-4493-ac9c-e418764cfe48",
        "deepnote_cell_height": 70,
        "deepnote_cell_type": "markdown",
        "id": "-44bufKRbeBf"
      },
      "source": [
        "### Exercício 2\n",
        "Ler 5 notas e informar a média usando loop while"
      ]
    },
    {
      "cell_type": "code",
      "execution_count": 5,
      "metadata": {
        "cell_id": "00008-74390165-401c-4cb6-ac14-a69650f96b13",
        "colab": {
          "base_uri": "https://localhost:8080/"
        },
        "deepnote_cell_height": 321.125,
        "deepnote_cell_type": "code",
        "id": "5O23ONtfbf9w",
        "outputId": "01f4617d-899a-45e2-ba63-5f511d70253b"
      },
      "outputs": [
        {
          "output_type": "stream",
          "name": "stdout",
          "text": [
            "Informe uma nota: 5\n",
            "Informe uma nota: 5\n",
            "Informe uma nota: 5\n",
            "Informe uma nota: 5\n",
            "Informe uma nota: 5\n",
            "5.0\n"
          ]
        }
      ],
      "source": [
        "s=c1=0\n",
        "while(c1<5):\n",
        "  c1+=1\n",
        "  nota1=float(input(\"Informe uma nota: \"))\n",
        "  s+=nota1\n",
        "  media=s/c1\n",
        "print(media)  "
      ]
    },
    {
      "cell_type": "markdown",
      "metadata": {
        "cell_id": "00009-9d68c25a-f497-47a9-bb91-44caf051eedd",
        "deepnote_cell_height": 120.390625,
        "deepnote_cell_type": "markdown",
        "id": "QK3YAlgdN0t3"
      },
      "source": [
        "### Exercício 3\n",
        "\n",
        "Imprimir a tabuada do número 3 (3 x 1 = 1 - 3 x 10 = 30) usando loop for"
      ]
    },
    {
      "cell_type": "markdown",
      "metadata": {
        "cell_id": "00010-1ddbe34b-1125-4ba0-98a5-edb333d9253a",
        "deepnote_cell_height": 70,
        "deepnote_cell_type": "markdown",
        "id": "DgR_HhoqcKlH"
      },
      "source": [
        ""
      ]
    },
    {
      "cell_type": "code",
      "execution_count": 7,
      "metadata": {
        "cell_id": "00011-7205360c-0bb7-4a1a-bd5b-78096d9361e0",
        "colab": {
          "base_uri": "https://localhost:8080/"
        },
        "deepnote_cell_height": 311.875,
        "deepnote_cell_type": "code",
        "id": "17IiwQLVcKM1",
        "outputId": "80d1bf77-1ba7-478e-d01d-bae9f072ae47"
      },
      "outputs": [
        {
          "output_type": "stream",
          "name": "stdout",
          "text": [
            "3x1=3\n",
            "3x2=6\n",
            "3x3=9\n",
            "3x4=12\n",
            "3x5=15\n",
            "3x6=18\n",
            "3x7=21\n",
            "3x8=24\n",
            "3x9=27\n",
            "3x10=30\n"
          ]
        }
      ],
      "source": [
        "for c in range(1,11):print(f'{3}x{c}={3*c}')"
      ]
    },
    {
      "cell_type": "markdown",
      "metadata": {
        "cell_id": "00012-d40bfddf-e7db-4e21-bba1-890eb96a8f9b",
        "deepnote_cell_height": 122,
        "deepnote_cell_type": "markdown",
        "id": "7HRSb00ycuip"
      },
      "source": [
        "### Exercício 4\n",
        "\n",
        "Imprimir a tabuada do número 3 (3 x 1 = 1 - 3 x 10 = 30) usando loop while"
      ]
    },
    {
      "cell_type": "code",
      "execution_count": 8,
      "metadata": {
        "cell_id": "00013-75c0e365-8cc7-49ea-b627-26dbe03fa91d",
        "colab": {
          "base_uri": "https://localhost:8080/"
        },
        "deepnote_cell_height": 347.875,
        "deepnote_cell_type": "code",
        "id": "rR51zPtEcuKg",
        "outputId": "405eb703-3ef5-4a87-9c0b-d6bc75179866",
        "owner_user_id": "d001098f-5dea-4d4f-8c97-a79374dcf058"
      },
      "outputs": [
        {
          "output_type": "stream",
          "name": "stdout",
          "text": [
            "3x1=3\n",
            "3x2=6\n",
            "3x3=9\n",
            "3x4=12\n",
            "3x5=15\n",
            "3x6=18\n",
            "3x7=21\n",
            "3x8=24\n",
            "3x9=27\n",
            "3x10=30\n",
            "3x11=33\n"
          ]
        }
      ],
      "source": [
        "x=0\n",
        "while(x<11):\n",
        "  x+=1\n",
        "  print(f'{3}x{x}={3*x}')"
      ]
    },
    {
      "cell_type": "markdown",
      "metadata": {
        "created_in_deepnote_cell": true,
        "deepnote_cell_type": "markdown",
        "tags": [],
        "id": "hoIg_dWKvT3Y"
      },
      "source": [
        "<a style='text-decoration:none;line-height:16px;display:flex;color:#5B5B62;padding:10px;justify-content:end;' href='https://deepnote.com?utm_source=created-in-deepnote-cell&projectId=1076b42e-c05f-4a34-b15a-62125e5c174b' target=\"_blank\">\n",
        "<img alt='Created in deepnote.com' style='display:inline;max-height:16px;margin:0px;margin-right:7.5px;' src='data:image/svg+xml;base64,PD94bWwgdmVyc2lvbj0iMS4wIiBlbmNvZGluZz0iVVRGLTgiPz4KPHN2ZyB3aWR0aD0iODBweCIgaGVpZ2h0PSI4MHB4IiB2aWV3Qm94PSIwIDAgODAgODAiIHZlcnNpb249IjEuMSIgeG1sbnM9Imh0dHA6Ly93d3cudzMub3JnLzIwMDAvc3ZnIiB4bWxuczp4bGluaz0iaHR0cDovL3d3dy53My5vcmcvMTk5OS94bGluayI+CiAgICA8IS0tIEdlbmVyYXRvcjogU2tldGNoIDU0LjEgKDc2NDkwKSAtIGh0dHBzOi8vc2tldGNoYXBwLmNvbSAtLT4KICAgIDx0aXRsZT5Hcm91cCAzPC90aXRsZT4KICAgIDxkZXNjPkNyZWF0ZWQgd2l0aCBTa2V0Y2guPC9kZXNjPgogICAgPGcgaWQ9IkxhbmRpbmciIHN0cm9rZT0ibm9uZSIgc3Ryb2tlLXdpZHRoPSIxIiBmaWxsPSJub25lIiBmaWxsLXJ1bGU9ImV2ZW5vZGQiPgogICAgICAgIDxnIGlkPSJBcnRib2FyZCIgdHJhbnNmb3JtPSJ0cmFuc2xhdGUoLTEyMzUuMDAwMDAwLCAtNzkuMDAwMDAwKSI+CiAgICAgICAgICAgIDxnIGlkPSJHcm91cC0zIiB0cmFuc2Zvcm09InRyYW5zbGF0ZSgxMjM1LjAwMDAwMCwgNzkuMDAwMDAwKSI+CiAgICAgICAgICAgICAgICA8cG9seWdvbiBpZD0iUGF0aC0yMCIgZmlsbD0iIzAyNjVCNCIgcG9pbnRzPSIyLjM3NjIzNzYyIDgwIDM4LjA0NzY2NjcgODAgNTcuODIxNzgyMiA3My44MDU3NTkyIDU3LjgyMTc4MjIgMzIuNzU5MjczOSAzOS4xNDAyMjc4IDMxLjY4MzE2ODMiPjwvcG9seWdvbj4KICAgICAgICAgICAgICAgIDxwYXRoIGQ9Ik0zNS4wMDc3MTgsODAgQzQyLjkwNjIwMDcsNzYuNDU0OTM1OCA0Ny41NjQ5MTY3LDcxLjU0MjI2NzEgNDguOTgzODY2LDY1LjI2MTk5MzkgQzUxLjExMjI4OTksNTUuODQxNTg0MiA0MS42NzcxNzk1LDQ5LjIxMjIyODQgMjUuNjIzOTg0Niw0OS4yMTIyMjg0IEMyNS40ODQ5Mjg5LDQ5LjEyNjg0NDggMjkuODI2MTI5Niw0My4yODM4MjQ4IDM4LjY0NzU4NjksMzEuNjgzMTY4MyBMNzIuODcxMjg3MSwzMi41NTQ0MjUgTDY1LjI4MDk3Myw2Ny42NzYzNDIxIEw1MS4xMTIyODk5LDc3LjM3NjE0NCBMMzUuMDA3NzE4LDgwIFoiIGlkPSJQYXRoLTIyIiBmaWxsPSIjMDAyODY4Ij48L3BhdGg+CiAgICAgICAgICAgICAgICA8cGF0aCBkPSJNMCwzNy43MzA0NDA1IEwyNy4xMTQ1MzcsMC4yNTcxMTE0MzYgQzYyLjM3MTUxMjMsLTEuOTkwNzE3MDEgODAsMTAuNTAwMzkyNyA4MCwzNy43MzA0NDA1IEM4MCw2NC45NjA0ODgyIDY0Ljc3NjUwMzgsNzkuMDUwMzQxNCAzNC4zMjk1MTEzLDgwIEM0Ny4wNTUzNDg5LDc3LjU2NzA4MDggNTMuNDE4MjY3Nyw3MC4zMTM2MTAzIDUzLjQxODI2NzcsNTguMjM5NTg4NSBDNTMuNDE4MjY3Nyw0MC4xMjg1NTU3IDM2LjMwMzk1NDQsMzcuNzMwNDQwNSAyNS4yMjc0MTcsMzcuNzMwNDQwNSBDMTcuODQzMDU4NiwzNy43MzA0NDA1IDkuNDMzOTE5NjYsMzcuNzMwNDQwNSAwLDM3LjczMDQ0MDUgWiIgaWQ9IlBhdGgtMTkiIGZpbGw9IiMzNzkzRUYiPjwvcGF0aD4KICAgICAgICAgICAgPC9nPgogICAgICAgIDwvZz4KICAgIDwvZz4KPC9zdmc+' > </img>\n",
        "Created in <span style='font-weight:600;margin-left:4px;'>Deepnote</span></a>"
      ]
    }
  ],
  "metadata": {
    "colab": {
      "name": "Python_Exercícios_Estruturas_Repetição.ipynb",
      "provenance": []
    },
    "deepnote": {},
    "deepnote_execution_queue": [],
    "deepnote_notebook_id": "9d4b2e7f-1771-470b-a7a8-9ff92629f997",
    "kernelspec": {
      "display_name": "Python 3",
      "language": "python",
      "name": "python3"
    },
    "language_info": {
      "codemirror_mode": {
        "name": "ipython",
        "version": 3
      },
      "file_extension": ".py",
      "mimetype": "text/x-python",
      "name": "python",
      "nbconvert_exporter": "python",
      "pygments_lexer": "ipython3",
      "version": "3.8.8"
    }
  },
  "nbformat": 4,
  "nbformat_minor": 0
}