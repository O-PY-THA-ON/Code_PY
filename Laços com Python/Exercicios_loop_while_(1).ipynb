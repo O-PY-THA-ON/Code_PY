{
  "cells": [
    {
      "cell_type": "markdown",
      "id": "a132daf4",
      "metadata": {
        "id": "a132daf4"
      },
      "source": [
        "#### Exercício 1 \n",
        "Apresentar o quadrado dos números inteiros de 15 a 200"
      ]
    },
    {
      "cell_type": "code",
      "execution_count": null,
      "id": "5a6c5218",
      "metadata": {
        "colab": {
          "base_uri": "https://localhost:8080/"
        },
        "id": "5a6c5218",
        "outputId": "a3d2a826-bdad-4c1b-d31e-a1efbfd99c74"
      },
      "outputs": [
        {
          "output_type": "stream",
          "name": "stdout",
          "text": [
            "15² = 225\n",
            "16² = 256\n",
            "17² = 289\n",
            "18² = 324\n",
            "19² = 361\n",
            "20² = 400\n",
            "21² = 441\n",
            "22² = 484\n",
            "23² = 529\n",
            "24² = 576\n",
            "25² = 625\n",
            "26² = 676\n",
            "27² = 729\n",
            "28² = 784\n",
            "29² = 841\n",
            "30² = 900\n",
            "31² = 961\n",
            "32² = 1024\n",
            "33² = 1089\n",
            "34² = 1156\n",
            "35² = 1225\n",
            "36² = 1296\n",
            "37² = 1369\n",
            "38² = 1444\n",
            "39² = 1521\n",
            "40² = 1600\n",
            "41² = 1681\n",
            "42² = 1764\n",
            "43² = 1849\n",
            "44² = 1936\n",
            "45² = 2025\n",
            "46² = 2116\n",
            "47² = 2209\n",
            "48² = 2304\n",
            "49² = 2401\n",
            "50² = 2500\n",
            "51² = 2601\n",
            "52² = 2704\n",
            "53² = 2809\n",
            "54² = 2916\n",
            "55² = 3025\n",
            "56² = 3136\n",
            "57² = 3249\n",
            "58² = 3364\n",
            "59² = 3481\n",
            "60² = 3600\n",
            "61² = 3721\n",
            "62² = 3844\n",
            "63² = 3969\n",
            "64² = 4096\n",
            "65² = 4225\n",
            "66² = 4356\n",
            "67² = 4489\n",
            "68² = 4624\n",
            "69² = 4761\n",
            "70² = 4900\n",
            "71² = 5041\n",
            "72² = 5184\n",
            "73² = 5329\n",
            "74² = 5476\n",
            "75² = 5625\n",
            "76² = 5776\n",
            "77² = 5929\n",
            "78² = 6084\n",
            "79² = 6241\n",
            "80² = 6400\n",
            "81² = 6561\n",
            "82² = 6724\n",
            "83² = 6889\n",
            "84² = 7056\n",
            "85² = 7225\n",
            "86² = 7396\n",
            "87² = 7569\n",
            "88² = 7744\n",
            "89² = 7921\n",
            "90² = 8100\n",
            "91² = 8281\n",
            "92² = 8464\n",
            "93² = 8649\n",
            "94² = 8836\n",
            "95² = 9025\n",
            "96² = 9216\n",
            "97² = 9409\n",
            "98² = 9604\n",
            "99² = 9801\n",
            "100² = 10000\n",
            "101² = 10201\n",
            "102² = 10404\n",
            "103² = 10609\n",
            "104² = 10816\n",
            "105² = 11025\n",
            "106² = 11236\n",
            "107² = 11449\n",
            "108² = 11664\n",
            "109² = 11881\n",
            "110² = 12100\n",
            "111² = 12321\n",
            "112² = 12544\n",
            "113² = 12769\n",
            "114² = 12996\n",
            "115² = 13225\n",
            "116² = 13456\n",
            "117² = 13689\n",
            "118² = 13924\n",
            "119² = 14161\n",
            "120² = 14400\n",
            "121² = 14641\n",
            "122² = 14884\n",
            "123² = 15129\n",
            "124² = 15376\n",
            "125² = 15625\n",
            "126² = 15876\n",
            "127² = 16129\n",
            "128² = 16384\n",
            "129² = 16641\n",
            "130² = 16900\n",
            "131² = 17161\n",
            "132² = 17424\n",
            "133² = 17689\n",
            "134² = 17956\n",
            "135² = 18225\n",
            "136² = 18496\n",
            "137² = 18769\n",
            "138² = 19044\n",
            "139² = 19321\n",
            "140² = 19600\n",
            "141² = 19881\n",
            "142² = 20164\n",
            "143² = 20449\n",
            "144² = 20736\n",
            "145² = 21025\n",
            "146² = 21316\n",
            "147² = 21609\n",
            "148² = 21904\n",
            "149² = 22201\n",
            "150² = 22500\n",
            "151² = 22801\n",
            "152² = 23104\n",
            "153² = 23409\n",
            "154² = 23716\n",
            "155² = 24025\n",
            "156² = 24336\n",
            "157² = 24649\n",
            "158² = 24964\n",
            "159² = 25281\n",
            "160² = 25600\n",
            "161² = 25921\n",
            "162² = 26244\n",
            "163² = 26569\n",
            "164² = 26896\n",
            "165² = 27225\n",
            "166² = 27556\n",
            "167² = 27889\n",
            "168² = 28224\n",
            "169² = 28561\n",
            "170² = 28900\n",
            "171² = 29241\n",
            "172² = 29584\n",
            "173² = 29929\n",
            "174² = 30276\n",
            "175² = 30625\n",
            "176² = 30976\n",
            "177² = 31329\n",
            "178² = 31684\n",
            "179² = 32041\n",
            "180² = 32400\n",
            "181² = 32761\n",
            "182² = 33124\n",
            "183² = 33489\n",
            "184² = 33856\n",
            "185² = 34225\n",
            "186² = 34596\n",
            "187² = 34969\n",
            "188² = 35344\n",
            "189² = 35721\n",
            "190² = 36100\n",
            "191² = 36481\n",
            "192² = 36864\n",
            "193² = 37249\n",
            "194² = 37636\n",
            "195² = 38025\n",
            "196² = 38416\n",
            "197² = 38809\n",
            "198² = 39204\n",
            "199² = 39601\n",
            "200² = 40000\n"
          ]
        }
      ],
      "source": [
        "for i in range(15, 201):\n",
        "  print(f'{i}² = {i**2}')\n"
      ]
    },
    {
      "cell_type": "code",
      "source": [
        "parada = 15\n",
        "n = 15\n",
        "while(parada!=201):\n",
        "  qud = n**2\n",
        "  print(qud)\n",
        "  parada+=1\n",
        "  n+=1"
      ],
      "metadata": {
        "colab": {
          "base_uri": "https://localhost:8080/"
        },
        "id": "JAt3zC-7535Z",
        "outputId": "96a36c5d-4906-4e64-df99-a74c8841efc6"
      },
      "id": "JAt3zC-7535Z",
      "execution_count": null,
      "outputs": [
        {
          "output_type": "stream",
          "name": "stdout",
          "text": [
            "225\n",
            "256\n",
            "289\n",
            "324\n",
            "361\n",
            "400\n",
            "441\n",
            "484\n",
            "529\n",
            "576\n",
            "625\n",
            "676\n",
            "729\n",
            "784\n",
            "841\n",
            "900\n",
            "961\n",
            "1024\n",
            "1089\n",
            "1156\n",
            "1225\n",
            "1296\n",
            "1369\n",
            "1444\n",
            "1521\n",
            "1600\n",
            "1681\n",
            "1764\n",
            "1849\n",
            "1936\n",
            "2025\n",
            "2116\n",
            "2209\n",
            "2304\n",
            "2401\n",
            "2500\n",
            "2601\n",
            "2704\n",
            "2809\n",
            "2916\n",
            "3025\n",
            "3136\n",
            "3249\n",
            "3364\n",
            "3481\n",
            "3600\n",
            "3721\n",
            "3844\n",
            "3969\n",
            "4096\n",
            "4225\n",
            "4356\n",
            "4489\n",
            "4624\n",
            "4761\n",
            "4900\n",
            "5041\n",
            "5184\n",
            "5329\n",
            "5476\n",
            "5625\n",
            "5776\n",
            "5929\n",
            "6084\n",
            "6241\n",
            "6400\n",
            "6561\n",
            "6724\n",
            "6889\n",
            "7056\n",
            "7225\n",
            "7396\n",
            "7569\n",
            "7744\n",
            "7921\n",
            "8100\n",
            "8281\n",
            "8464\n",
            "8649\n",
            "8836\n",
            "9025\n",
            "9216\n",
            "9409\n",
            "9604\n",
            "9801\n",
            "10000\n",
            "10201\n",
            "10404\n",
            "10609\n",
            "10816\n",
            "11025\n",
            "11236\n",
            "11449\n",
            "11664\n",
            "11881\n",
            "12100\n",
            "12321\n",
            "12544\n",
            "12769\n",
            "12996\n",
            "13225\n",
            "13456\n",
            "13689\n",
            "13924\n",
            "14161\n",
            "14400\n",
            "14641\n",
            "14884\n",
            "15129\n",
            "15376\n",
            "15625\n",
            "15876\n",
            "16129\n",
            "16384\n",
            "16641\n",
            "16900\n",
            "17161\n",
            "17424\n",
            "17689\n",
            "17956\n",
            "18225\n",
            "18496\n",
            "18769\n",
            "19044\n",
            "19321\n",
            "19600\n",
            "19881\n",
            "20164\n",
            "20449\n",
            "20736\n",
            "21025\n",
            "21316\n",
            "21609\n",
            "21904\n",
            "22201\n",
            "22500\n",
            "22801\n",
            "23104\n",
            "23409\n",
            "23716\n",
            "24025\n",
            "24336\n",
            "24649\n",
            "24964\n",
            "25281\n",
            "25600\n",
            "25921\n",
            "26244\n",
            "26569\n",
            "26896\n",
            "27225\n",
            "27556\n",
            "27889\n",
            "28224\n",
            "28561\n",
            "28900\n",
            "29241\n",
            "29584\n",
            "29929\n",
            "30276\n",
            "30625\n",
            "30976\n",
            "31329\n",
            "31684\n",
            "32041\n",
            "32400\n",
            "32761\n",
            "33124\n",
            "33489\n",
            "33856\n",
            "34225\n",
            "34596\n",
            "34969\n",
            "35344\n",
            "35721\n",
            "36100\n",
            "36481\n",
            "36864\n",
            "37249\n",
            "37636\n",
            "38025\n",
            "38416\n",
            "38809\n",
            "39204\n",
            "39601\n",
            "40000\n"
          ]
        }
      ]
    },
    {
      "cell_type": "markdown",
      "id": "81d49018",
      "metadata": {
        "id": "81d49018"
      },
      "source": [
        "#### Exercício 2\n",
        "\n",
        "Apresentar o total da soma obtida dos cem primeiros números inteiros\n",
        "(1+2+3+4+5+6+7+...+97+98+99+100)"
      ]
    },
    {
      "cell_type": "code",
      "execution_count": null,
      "id": "74b15ef2",
      "metadata": {
        "colab": {
          "base_uri": "https://localhost:8080/"
        },
        "id": "74b15ef2",
        "outputId": "8534e41a-8ed5-4395-b8de-3fd95f8404e0"
      },
      "outputs": [
        {
          "output_type": "stream",
          "name": "stdout",
          "text": [
            "5050\n"
          ]
        }
      ],
      "source": [
        "parada = 0\n",
        "soma = 0\n",
        "n = 0\n",
        "while(parada!=100):\n",
        "  n+=1\n",
        "  soma+=n\n",
        "  parada+=1\n",
        "\n",
        "print(soma)"
      ]
    },
    {
      "cell_type": "code",
      "source": [
        "soma = 0\n",
        "for i in range(0,101):\n",
        "  soma+=i\n",
        "\n",
        "print(soma)\n"
      ],
      "metadata": {
        "colab": {
          "base_uri": "https://localhost:8080/"
        },
        "id": "CxKgG1KZzukn",
        "outputId": "dfea15a7-b1c8-48e6-c778-f9d91111aa59"
      },
      "id": "CxKgG1KZzukn",
      "execution_count": null,
      "outputs": [
        {
          "output_type": "stream",
          "name": "stdout",
          "text": [
            "5050\n"
          ]
        }
      ]
    },
    {
      "cell_type": "markdown",
      "id": "478a5daa",
      "metadata": {
        "id": "478a5daa"
      },
      "source": [
        "#### Exercício 3\n",
        "Escrever um algoritmo que lê 5 valores para a variável A, um de cada vez,\n",
        "e contar quantos destes valores são negativos. Após a leitura, o programa deve mostrar\n",
        "a quantidade de números negativos"
      ]
    },
    {
      "cell_type": "code",
      "execution_count": null,
      "id": "a5d7f537",
      "metadata": {
        "colab": {
          "base_uri": "https://localhost:8080/"
        },
        "id": "a5d7f537",
        "outputId": "927c87ee-229a-4bcf-d92f-c2a0d5521c81"
      },
      "outputs": [
        {
          "output_type": "stream",
          "name": "stdout",
          "text": [
            "Digite um número: 8\n",
            "Digite um número: -2\n",
            "Digite um número: -3\n",
            "Digite um número: -2.3\n",
            "Digite um número: 9\n",
            "Foram inseridos 3 números negativos\n"
          ]
        }
      ],
      "source": [
        "parada = 0\n",
        "contador = 0\n",
        "while parada < 5:\n",
        "  n = float(input('Digite um número: '))\n",
        "  parada+=1\n",
        "  if n < 0:\n",
        "    contador+=1\n",
        "  \n",
        "\n",
        "print(f'Foram inseridos {contador} números negativos')"
      ]
    },
    {
      "cell_type": "code",
      "source": [
        "for c in range(0,5):\n",
        "  x = float(input('Digite um número: '))\n",
        "  if n<0:\n",
        "\n"
      ],
      "metadata": {
        "colab": {
          "base_uri": "https://localhost:8080/"
        },
        "id": "vtUKMM3D9DZG",
        "outputId": "e225b616-0ee7-423a-c78f-6d5c4836934c"
      },
      "id": "vtUKMM3D9DZG",
      "execution_count": null,
      "outputs": [
        {
          "name": "stdout",
          "output_type": "stream",
          "text": [
            "Digite um número: 5\n",
            "Digite um número: 4\n",
            "Digite um número: 5\n",
            "Digite um número: 5\n",
            "Digite um número: 4\n"
          ]
        }
      ]
    },
    {
      "cell_type": "markdown",
      "id": "c4288dd1",
      "metadata": {
        "id": "c4288dd1"
      },
      "source": [
        "#### Exercício 4\n",
        "Ler duas notas e informar a média. Se o valor digitado for menor do que 0 (zero)\n",
        "ou maior do que 10 (dez), o usuário deve digitar a nota novamente"
      ]
    },
    {
      "cell_type": "code",
      "execution_count": null,
      "id": "2e26d092",
      "metadata": {
        "colab": {
          "base_uri": "https://localhost:8080/"
        },
        "id": "2e26d092",
        "outputId": "c0cd30e3-18de-4554-b377-e48f14ac6391"
      },
      "outputs": [
        {
          "output_type": "stream",
          "name": "stdout",
          "text": [
            "Digite um número: 6\n",
            "Digite um número: 13\n",
            "Digite outro número: 43\n",
            "Digite um número: 12\n",
            "Digite outro número: 11\n",
            "Digite um número: 11\n",
            "Digite outro número: 11\n",
            "Digite um número: 1\n",
            "A média dos números inseridos é 3.50\n"
          ]
        }
      ],
      "source": [
        "parada = 0\n",
        "soma = 0\n",
        "while parada<2:\n",
        "  n = float(input('Digite um número: '))\n",
        "  if n<0 or n>10:\n",
        "    n = float(input('Digite outro número: '))\n",
        "  else:\n",
        "    parada+=1\n",
        "    soma+=n\n",
        "    media = soma/2\n",
        "print(f'A média dos números inseridos é {media:.2f}')"
      ]
    },
    {
      "cell_type": "code",
      "source": [
        "1"
      ],
      "metadata": {
        "id": "PWxUTnlKm3jV"
      },
      "id": "PWxUTnlKm3jV",
      "execution_count": null,
      "outputs": []
    }
  ],
  "metadata": {
    "kernelspec": {
      "display_name": "Python 3",
      "language": "python",
      "name": "python3"
    },
    "language_info": {
      "codemirror_mode": {
        "name": "ipython",
        "version": 3
      },
      "file_extension": ".py",
      "mimetype": "text/x-python",
      "name": "python",
      "nbconvert_exporter": "python",
      "pygments_lexer": "ipython3",
      "version": "3.8.8"
    },
    "colab": {
      "name": "Exercicios_loop_while (1).ipynb",
      "provenance": []
    }
  },
  "nbformat": 4,
  "nbformat_minor": 5
}