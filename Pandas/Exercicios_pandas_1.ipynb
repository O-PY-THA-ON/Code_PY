{
  "cells": [
    {
      "cell_type": "code",
      "execution_count": null,
      "id": "56a4ad0d",
      "metadata": {
        "id": "56a4ad0d"
      },
      "outputs": [],
      "source": [
        ""
      ]
    },
    {
      "cell_type": "markdown",
      "id": "250ccdda",
      "metadata": {
        "id": "250ccdda"
      },
      "source": [
        "#### Exercício \n",
        "\n",
        "Muitas vezes os dados que você irá acessar virão no formato de dicionários.\n",
        "\n",
        "**Crie  um DataFrame usando o dicionário abaixo e  use a lista rótulos(também abaixo) como índice.**"
      ]
    },
    {
      "cell_type": "code",
      "execution_count": null,
      "id": "6d2c29d7",
      "metadata": {
        "id": "6d2c29d7"
      },
      "outputs": [],
      "source": [
        "import pandas as pd"
      ]
    },
    {
      "cell_type": "code",
      "execution_count": null,
      "id": "a1a1ef97",
      "metadata": {
        "id": "a1a1ef97"
      },
      "outputs": [],
      "source": [
        "exam_data = {'nome': ['Sandra', 'Carlos', 'Regiane', 'Cesar', 'Eliana', 'Marcelio', 'Marcos', 'Leandra', 'Roberto', 'João'],\n",
        "'pontuação': [10, 9, 6.5, 8.7, 9, 6.8, 9.5, 5, 8, 4],\n",
        "'tentativas': [1, 3, 2, 3, 2, 3, 1, 1, 2, 1],\n",
        "'aprovado': ['sim', 'sim', 'não', 'sim', 'sim', 'não', 'sim', 'não', 'sim', 'não']}\n",
        "\n",
        "rotulos = ['a', 'b', 'c', 'd', 'e', 'f', 'g', 'h', 'i', 'j']"
      ]
    },
    {
      "cell_type": "markdown",
      "id": "83e39fc8",
      "metadata": {
        "id": "83e39fc8"
      },
      "source": [
        "**crie o dataframe:**"
      ]
    },
    {
      "cell_type": "code",
      "execution_count": null,
      "id": "a803f78a",
      "metadata": {
        "id": "a803f78a"
      },
      "outputs": [],
      "source": [
        "df=pd.DataFrame({'Nome': exam_data['nome'],\n",
        "              'Pontuação': exam_data['pontuação'],\n",
        "              'Tentativas': exam_data['tentativas'],\n",
        "              'Aprovado':exam_data['aprovado'],\n",
        "              'Rotulo':rotulos\n",
        "              })\n",
        "\n"
      ]
    },
    {
      "cell_type": "markdown",
      "id": "1f37783e",
      "metadata": {
        "id": "1f37783e"
      },
      "source": [
        "**visualize algumas linhas da  tabela que você criou**"
      ]
    },
    {
      "cell_type": "code",
      "execution_count": null,
      "id": "f6804b86",
      "metadata": {
        "colab": {
          "base_uri": "https://localhost:8080/",
          "height": 206
        },
        "id": "f6804b86",
        "outputId": "c899c7ca-294a-4b8f-84df-07c74efa44c2"
      },
      "outputs": [
        {
          "output_type": "execute_result",
          "data": {
            "text/plain": [
              "      Nome  Pontuação  Tentativas Aprovado Rotulo\n",
              "0   Sandra       10.0           1      sim      a\n",
              "1   Carlos        9.0           3      sim      b\n",
              "2  Regiane        6.5           2      não      c\n",
              "3    Cesar        8.7           3      sim      d\n",
              "4   Eliana        9.0           2      sim      e"
            ],
            "text/html": [
              "\n",
              "  <div id=\"df-1992a4d0-9024-4a40-a1a2-03732469a9a4\">\n",
              "    <div class=\"colab-df-container\">\n",
              "      <div>\n",
              "<style scoped>\n",
              "    .dataframe tbody tr th:only-of-type {\n",
              "        vertical-align: middle;\n",
              "    }\n",
              "\n",
              "    .dataframe tbody tr th {\n",
              "        vertical-align: top;\n",
              "    }\n",
              "\n",
              "    .dataframe thead th {\n",
              "        text-align: right;\n",
              "    }\n",
              "</style>\n",
              "<table border=\"1\" class=\"dataframe\">\n",
              "  <thead>\n",
              "    <tr style=\"text-align: right;\">\n",
              "      <th></th>\n",
              "      <th>Nome</th>\n",
              "      <th>Pontuação</th>\n",
              "      <th>Tentativas</th>\n",
              "      <th>Aprovado</th>\n",
              "      <th>Rotulo</th>\n",
              "    </tr>\n",
              "  </thead>\n",
              "  <tbody>\n",
              "    <tr>\n",
              "      <th>0</th>\n",
              "      <td>Sandra</td>\n",
              "      <td>10.0</td>\n",
              "      <td>1</td>\n",
              "      <td>sim</td>\n",
              "      <td>a</td>\n",
              "    </tr>\n",
              "    <tr>\n",
              "      <th>1</th>\n",
              "      <td>Carlos</td>\n",
              "      <td>9.0</td>\n",
              "      <td>3</td>\n",
              "      <td>sim</td>\n",
              "      <td>b</td>\n",
              "    </tr>\n",
              "    <tr>\n",
              "      <th>2</th>\n",
              "      <td>Regiane</td>\n",
              "      <td>6.5</td>\n",
              "      <td>2</td>\n",
              "      <td>não</td>\n",
              "      <td>c</td>\n",
              "    </tr>\n",
              "    <tr>\n",
              "      <th>3</th>\n",
              "      <td>Cesar</td>\n",
              "      <td>8.7</td>\n",
              "      <td>3</td>\n",
              "      <td>sim</td>\n",
              "      <td>d</td>\n",
              "    </tr>\n",
              "    <tr>\n",
              "      <th>4</th>\n",
              "      <td>Eliana</td>\n",
              "      <td>9.0</td>\n",
              "      <td>2</td>\n",
              "      <td>sim</td>\n",
              "      <td>e</td>\n",
              "    </tr>\n",
              "  </tbody>\n",
              "</table>\n",
              "</div>\n",
              "      <button class=\"colab-df-convert\" onclick=\"convertToInteractive('df-1992a4d0-9024-4a40-a1a2-03732469a9a4')\"\n",
              "              title=\"Convert this dataframe to an interactive table.\"\n",
              "              style=\"display:none;\">\n",
              "        \n",
              "  <svg xmlns=\"http://www.w3.org/2000/svg\" height=\"24px\"viewBox=\"0 0 24 24\"\n",
              "       width=\"24px\">\n",
              "    <path d=\"M0 0h24v24H0V0z\" fill=\"none\"/>\n",
              "    <path d=\"M18.56 5.44l.94 2.06.94-2.06 2.06-.94-2.06-.94-.94-2.06-.94 2.06-2.06.94zm-11 1L8.5 8.5l.94-2.06 2.06-.94-2.06-.94L8.5 2.5l-.94 2.06-2.06.94zm10 10l.94 2.06.94-2.06 2.06-.94-2.06-.94-.94-2.06-.94 2.06-2.06.94z\"/><path d=\"M17.41 7.96l-1.37-1.37c-.4-.4-.92-.59-1.43-.59-.52 0-1.04.2-1.43.59L10.3 9.45l-7.72 7.72c-.78.78-.78 2.05 0 2.83L4 21.41c.39.39.9.59 1.41.59.51 0 1.02-.2 1.41-.59l7.78-7.78 2.81-2.81c.8-.78.8-2.07 0-2.86zM5.41 20L4 18.59l7.72-7.72 1.47 1.35L5.41 20z\"/>\n",
              "  </svg>\n",
              "      </button>\n",
              "      \n",
              "  <style>\n",
              "    .colab-df-container {\n",
              "      display:flex;\n",
              "      flex-wrap:wrap;\n",
              "      gap: 12px;\n",
              "    }\n",
              "\n",
              "    .colab-df-convert {\n",
              "      background-color: #E8F0FE;\n",
              "      border: none;\n",
              "      border-radius: 50%;\n",
              "      cursor: pointer;\n",
              "      display: none;\n",
              "      fill: #1967D2;\n",
              "      height: 32px;\n",
              "      padding: 0 0 0 0;\n",
              "      width: 32px;\n",
              "    }\n",
              "\n",
              "    .colab-df-convert:hover {\n",
              "      background-color: #E2EBFA;\n",
              "      box-shadow: 0px 1px 2px rgba(60, 64, 67, 0.3), 0px 1px 3px 1px rgba(60, 64, 67, 0.15);\n",
              "      fill: #174EA6;\n",
              "    }\n",
              "\n",
              "    [theme=dark] .colab-df-convert {\n",
              "      background-color: #3B4455;\n",
              "      fill: #D2E3FC;\n",
              "    }\n",
              "\n",
              "    [theme=dark] .colab-df-convert:hover {\n",
              "      background-color: #434B5C;\n",
              "      box-shadow: 0px 1px 3px 1px rgba(0, 0, 0, 0.15);\n",
              "      filter: drop-shadow(0px 1px 2px rgba(0, 0, 0, 0.3));\n",
              "      fill: #FFFFFF;\n",
              "    }\n",
              "  </style>\n",
              "\n",
              "      <script>\n",
              "        const buttonEl =\n",
              "          document.querySelector('#df-1992a4d0-9024-4a40-a1a2-03732469a9a4 button.colab-df-convert');\n",
              "        buttonEl.style.display =\n",
              "          google.colab.kernel.accessAllowed ? 'block' : 'none';\n",
              "\n",
              "        async function convertToInteractive(key) {\n",
              "          const element = document.querySelector('#df-1992a4d0-9024-4a40-a1a2-03732469a9a4');\n",
              "          const dataTable =\n",
              "            await google.colab.kernel.invokeFunction('convertToInteractive',\n",
              "                                                     [key], {});\n",
              "          if (!dataTable) return;\n",
              "\n",
              "          const docLinkHtml = 'Like what you see? Visit the ' +\n",
              "            '<a target=\"_blank\" href=https://colab.research.google.com/notebooks/data_table.ipynb>data table notebook</a>'\n",
              "            + ' to learn more about interactive tables.';\n",
              "          element.innerHTML = '';\n",
              "          dataTable['output_type'] = 'display_data';\n",
              "          await google.colab.output.renderOutput(dataTable, element);\n",
              "          const docLink = document.createElement('div');\n",
              "          docLink.innerHTML = docLinkHtml;\n",
              "          element.appendChild(docLink);\n",
              "        }\n",
              "      </script>\n",
              "    </div>\n",
              "  </div>\n",
              "  "
            ]
          },
          "metadata": {},
          "execution_count": 4
        }
      ],
      "source": [
        "df.head()\n"
      ]
    },
    {
      "cell_type": "markdown",
      "id": "8900799f",
      "metadata": {
        "id": "8900799f"
      },
      "source": [
        "**mude o nome da coluna pontuação para notas**"
      ]
    },
    {
      "cell_type": "code",
      "execution_count": null,
      "id": "41e689b0",
      "metadata": {
        "colab": {
          "base_uri": "https://localhost:8080/",
          "height": 363
        },
        "id": "41e689b0",
        "outputId": "406b1b60-e725-4f92-d087-104bab19e836"
      },
      "outputs": [
        {
          "output_type": "execute_result",
          "data": {
            "text/plain": [
              "       Nome  Notas  Tentativas Aprovado Rotulo\n",
              "0    Sandra   10.0           1      sim      a\n",
              "1    Carlos    9.0           3      sim      b\n",
              "2   Regiane    6.5           2      não      c\n",
              "3     Cesar    8.7           3      sim      d\n",
              "4    Eliana    9.0           2      sim      e\n",
              "5  Marcelio    6.8           3      não      f\n",
              "6    Marcos    9.5           1      sim      g\n",
              "7   Leandra    5.0           1      não      h\n",
              "8   Roberto    8.0           2      sim      i\n",
              "9      João    4.0           1      não      j"
            ],
            "text/html": [
              "\n",
              "  <div id=\"df-812369d8-f4b9-4d0a-b4ac-cc22d2d3f8ec\">\n",
              "    <div class=\"colab-df-container\">\n",
              "      <div>\n",
              "<style scoped>\n",
              "    .dataframe tbody tr th:only-of-type {\n",
              "        vertical-align: middle;\n",
              "    }\n",
              "\n",
              "    .dataframe tbody tr th {\n",
              "        vertical-align: top;\n",
              "    }\n",
              "\n",
              "    .dataframe thead th {\n",
              "        text-align: right;\n",
              "    }\n",
              "</style>\n",
              "<table border=\"1\" class=\"dataframe\">\n",
              "  <thead>\n",
              "    <tr style=\"text-align: right;\">\n",
              "      <th></th>\n",
              "      <th>Nome</th>\n",
              "      <th>Notas</th>\n",
              "      <th>Tentativas</th>\n",
              "      <th>Aprovado</th>\n",
              "      <th>Rotulo</th>\n",
              "    </tr>\n",
              "  </thead>\n",
              "  <tbody>\n",
              "    <tr>\n",
              "      <th>0</th>\n",
              "      <td>Sandra</td>\n",
              "      <td>10.0</td>\n",
              "      <td>1</td>\n",
              "      <td>sim</td>\n",
              "      <td>a</td>\n",
              "    </tr>\n",
              "    <tr>\n",
              "      <th>1</th>\n",
              "      <td>Carlos</td>\n",
              "      <td>9.0</td>\n",
              "      <td>3</td>\n",
              "      <td>sim</td>\n",
              "      <td>b</td>\n",
              "    </tr>\n",
              "    <tr>\n",
              "      <th>2</th>\n",
              "      <td>Regiane</td>\n",
              "      <td>6.5</td>\n",
              "      <td>2</td>\n",
              "      <td>não</td>\n",
              "      <td>c</td>\n",
              "    </tr>\n",
              "    <tr>\n",
              "      <th>3</th>\n",
              "      <td>Cesar</td>\n",
              "      <td>8.7</td>\n",
              "      <td>3</td>\n",
              "      <td>sim</td>\n",
              "      <td>d</td>\n",
              "    </tr>\n",
              "    <tr>\n",
              "      <th>4</th>\n",
              "      <td>Eliana</td>\n",
              "      <td>9.0</td>\n",
              "      <td>2</td>\n",
              "      <td>sim</td>\n",
              "      <td>e</td>\n",
              "    </tr>\n",
              "    <tr>\n",
              "      <th>5</th>\n",
              "      <td>Marcelio</td>\n",
              "      <td>6.8</td>\n",
              "      <td>3</td>\n",
              "      <td>não</td>\n",
              "      <td>f</td>\n",
              "    </tr>\n",
              "    <tr>\n",
              "      <th>6</th>\n",
              "      <td>Marcos</td>\n",
              "      <td>9.5</td>\n",
              "      <td>1</td>\n",
              "      <td>sim</td>\n",
              "      <td>g</td>\n",
              "    </tr>\n",
              "    <tr>\n",
              "      <th>7</th>\n",
              "      <td>Leandra</td>\n",
              "      <td>5.0</td>\n",
              "      <td>1</td>\n",
              "      <td>não</td>\n",
              "      <td>h</td>\n",
              "    </tr>\n",
              "    <tr>\n",
              "      <th>8</th>\n",
              "      <td>Roberto</td>\n",
              "      <td>8.0</td>\n",
              "      <td>2</td>\n",
              "      <td>sim</td>\n",
              "      <td>i</td>\n",
              "    </tr>\n",
              "    <tr>\n",
              "      <th>9</th>\n",
              "      <td>João</td>\n",
              "      <td>4.0</td>\n",
              "      <td>1</td>\n",
              "      <td>não</td>\n",
              "      <td>j</td>\n",
              "    </tr>\n",
              "  </tbody>\n",
              "</table>\n",
              "</div>\n",
              "      <button class=\"colab-df-convert\" onclick=\"convertToInteractive('df-812369d8-f4b9-4d0a-b4ac-cc22d2d3f8ec')\"\n",
              "              title=\"Convert this dataframe to an interactive table.\"\n",
              "              style=\"display:none;\">\n",
              "        \n",
              "  <svg xmlns=\"http://www.w3.org/2000/svg\" height=\"24px\"viewBox=\"0 0 24 24\"\n",
              "       width=\"24px\">\n",
              "    <path d=\"M0 0h24v24H0V0z\" fill=\"none\"/>\n",
              "    <path d=\"M18.56 5.44l.94 2.06.94-2.06 2.06-.94-2.06-.94-.94-2.06-.94 2.06-2.06.94zm-11 1L8.5 8.5l.94-2.06 2.06-.94-2.06-.94L8.5 2.5l-.94 2.06-2.06.94zm10 10l.94 2.06.94-2.06 2.06-.94-2.06-.94-.94-2.06-.94 2.06-2.06.94z\"/><path d=\"M17.41 7.96l-1.37-1.37c-.4-.4-.92-.59-1.43-.59-.52 0-1.04.2-1.43.59L10.3 9.45l-7.72 7.72c-.78.78-.78 2.05 0 2.83L4 21.41c.39.39.9.59 1.41.59.51 0 1.02-.2 1.41-.59l7.78-7.78 2.81-2.81c.8-.78.8-2.07 0-2.86zM5.41 20L4 18.59l7.72-7.72 1.47 1.35L5.41 20z\"/>\n",
              "  </svg>\n",
              "      </button>\n",
              "      \n",
              "  <style>\n",
              "    .colab-df-container {\n",
              "      display:flex;\n",
              "      flex-wrap:wrap;\n",
              "      gap: 12px;\n",
              "    }\n",
              "\n",
              "    .colab-df-convert {\n",
              "      background-color: #E8F0FE;\n",
              "      border: none;\n",
              "      border-radius: 50%;\n",
              "      cursor: pointer;\n",
              "      display: none;\n",
              "      fill: #1967D2;\n",
              "      height: 32px;\n",
              "      padding: 0 0 0 0;\n",
              "      width: 32px;\n",
              "    }\n",
              "\n",
              "    .colab-df-convert:hover {\n",
              "      background-color: #E2EBFA;\n",
              "      box-shadow: 0px 1px 2px rgba(60, 64, 67, 0.3), 0px 1px 3px 1px rgba(60, 64, 67, 0.15);\n",
              "      fill: #174EA6;\n",
              "    }\n",
              "\n",
              "    [theme=dark] .colab-df-convert {\n",
              "      background-color: #3B4455;\n",
              "      fill: #D2E3FC;\n",
              "    }\n",
              "\n",
              "    [theme=dark] .colab-df-convert:hover {\n",
              "      background-color: #434B5C;\n",
              "      box-shadow: 0px 1px 3px 1px rgba(0, 0, 0, 0.15);\n",
              "      filter: drop-shadow(0px 1px 2px rgba(0, 0, 0, 0.3));\n",
              "      fill: #FFFFFF;\n",
              "    }\n",
              "  </style>\n",
              "\n",
              "      <script>\n",
              "        const buttonEl =\n",
              "          document.querySelector('#df-812369d8-f4b9-4d0a-b4ac-cc22d2d3f8ec button.colab-df-convert');\n",
              "        buttonEl.style.display =\n",
              "          google.colab.kernel.accessAllowed ? 'block' : 'none';\n",
              "\n",
              "        async function convertToInteractive(key) {\n",
              "          const element = document.querySelector('#df-812369d8-f4b9-4d0a-b4ac-cc22d2d3f8ec');\n",
              "          const dataTable =\n",
              "            await google.colab.kernel.invokeFunction('convertToInteractive',\n",
              "                                                     [key], {});\n",
              "          if (!dataTable) return;\n",
              "\n",
              "          const docLinkHtml = 'Like what you see? Visit the ' +\n",
              "            '<a target=\"_blank\" href=https://colab.research.google.com/notebooks/data_table.ipynb>data table notebook</a>'\n",
              "            + ' to learn more about interactive tables.';\n",
              "          element.innerHTML = '';\n",
              "          dataTable['output_type'] = 'display_data';\n",
              "          await google.colab.output.renderOutput(dataTable, element);\n",
              "          const docLink = document.createElement('div');\n",
              "          docLink.innerHTML = docLinkHtml;\n",
              "          element.appendChild(docLink);\n",
              "        }\n",
              "      </script>\n",
              "    </div>\n",
              "  </div>\n",
              "  "
            ]
          },
          "metadata": {},
          "execution_count": 5
        }
      ],
      "source": [
        "df.columns=['Nome','Notas','Tentativas','Aprovado','Rotulo']\n",
        "df"
      ]
    },
    {
      "cell_type": "code",
      "execution_count": null,
      "id": "ac46f174",
      "metadata": {
        "id": "ac46f174"
      },
      "outputs": [],
      "source": [
        ""
      ]
    },
    {
      "cell_type": "markdown",
      "id": "0839ca0f",
      "metadata": {
        "id": "0839ca0f"
      },
      "source": [
        "**Imprima informações basicas do dataframe que você criou**"
      ]
    },
    {
      "cell_type": "code",
      "execution_count": null,
      "id": "20e8a251",
      "metadata": {
        "colab": {
          "base_uri": "https://localhost:8080/",
          "height": 363
        },
        "id": "20e8a251",
        "outputId": "d5201b33-46f2-4046-9d70-1c09f5a4cc2c"
      },
      "outputs": [
        {
          "output_type": "execute_result",
          "data": {
            "text/plain": [
              "       Nome  Notas  Tentativas Aprovado Rotulo\n",
              "0    Sandra   10.0           1      sim      a\n",
              "1    Carlos    9.0           3      sim      b\n",
              "2   Regiane    6.5           2      não      c\n",
              "3     Cesar    8.7           3      sim      d\n",
              "4    Eliana    9.0           2      sim      e\n",
              "5  Marcelio    6.8           3      não      f\n",
              "6    Marcos    9.5           1      sim      g\n",
              "7   Leandra    5.0           1      não      h\n",
              "8   Roberto    8.0           2      sim      i\n",
              "9      João    4.0           1      não      j"
            ],
            "text/html": [
              "\n",
              "  <div id=\"df-cd816516-7429-4a19-b888-f6dc99e63fb7\">\n",
              "    <div class=\"colab-df-container\">\n",
              "      <div>\n",
              "<style scoped>\n",
              "    .dataframe tbody tr th:only-of-type {\n",
              "        vertical-align: middle;\n",
              "    }\n",
              "\n",
              "    .dataframe tbody tr th {\n",
              "        vertical-align: top;\n",
              "    }\n",
              "\n",
              "    .dataframe thead th {\n",
              "        text-align: right;\n",
              "    }\n",
              "</style>\n",
              "<table border=\"1\" class=\"dataframe\">\n",
              "  <thead>\n",
              "    <tr style=\"text-align: right;\">\n",
              "      <th></th>\n",
              "      <th>Nome</th>\n",
              "      <th>Notas</th>\n",
              "      <th>Tentativas</th>\n",
              "      <th>Aprovado</th>\n",
              "      <th>Rotulo</th>\n",
              "    </tr>\n",
              "  </thead>\n",
              "  <tbody>\n",
              "    <tr>\n",
              "      <th>0</th>\n",
              "      <td>Sandra</td>\n",
              "      <td>10.0</td>\n",
              "      <td>1</td>\n",
              "      <td>sim</td>\n",
              "      <td>a</td>\n",
              "    </tr>\n",
              "    <tr>\n",
              "      <th>1</th>\n",
              "      <td>Carlos</td>\n",
              "      <td>9.0</td>\n",
              "      <td>3</td>\n",
              "      <td>sim</td>\n",
              "      <td>b</td>\n",
              "    </tr>\n",
              "    <tr>\n",
              "      <th>2</th>\n",
              "      <td>Regiane</td>\n",
              "      <td>6.5</td>\n",
              "      <td>2</td>\n",
              "      <td>não</td>\n",
              "      <td>c</td>\n",
              "    </tr>\n",
              "    <tr>\n",
              "      <th>3</th>\n",
              "      <td>Cesar</td>\n",
              "      <td>8.7</td>\n",
              "      <td>3</td>\n",
              "      <td>sim</td>\n",
              "      <td>d</td>\n",
              "    </tr>\n",
              "    <tr>\n",
              "      <th>4</th>\n",
              "      <td>Eliana</td>\n",
              "      <td>9.0</td>\n",
              "      <td>2</td>\n",
              "      <td>sim</td>\n",
              "      <td>e</td>\n",
              "    </tr>\n",
              "    <tr>\n",
              "      <th>5</th>\n",
              "      <td>Marcelio</td>\n",
              "      <td>6.8</td>\n",
              "      <td>3</td>\n",
              "      <td>não</td>\n",
              "      <td>f</td>\n",
              "    </tr>\n",
              "    <tr>\n",
              "      <th>6</th>\n",
              "      <td>Marcos</td>\n",
              "      <td>9.5</td>\n",
              "      <td>1</td>\n",
              "      <td>sim</td>\n",
              "      <td>g</td>\n",
              "    </tr>\n",
              "    <tr>\n",
              "      <th>7</th>\n",
              "      <td>Leandra</td>\n",
              "      <td>5.0</td>\n",
              "      <td>1</td>\n",
              "      <td>não</td>\n",
              "      <td>h</td>\n",
              "    </tr>\n",
              "    <tr>\n",
              "      <th>8</th>\n",
              "      <td>Roberto</td>\n",
              "      <td>8.0</td>\n",
              "      <td>2</td>\n",
              "      <td>sim</td>\n",
              "      <td>i</td>\n",
              "    </tr>\n",
              "    <tr>\n",
              "      <th>9</th>\n",
              "      <td>João</td>\n",
              "      <td>4.0</td>\n",
              "      <td>1</td>\n",
              "      <td>não</td>\n",
              "      <td>j</td>\n",
              "    </tr>\n",
              "  </tbody>\n",
              "</table>\n",
              "</div>\n",
              "      <button class=\"colab-df-convert\" onclick=\"convertToInteractive('df-cd816516-7429-4a19-b888-f6dc99e63fb7')\"\n",
              "              title=\"Convert this dataframe to an interactive table.\"\n",
              "              style=\"display:none;\">\n",
              "        \n",
              "  <svg xmlns=\"http://www.w3.org/2000/svg\" height=\"24px\"viewBox=\"0 0 24 24\"\n",
              "       width=\"24px\">\n",
              "    <path d=\"M0 0h24v24H0V0z\" fill=\"none\"/>\n",
              "    <path d=\"M18.56 5.44l.94 2.06.94-2.06 2.06-.94-2.06-.94-.94-2.06-.94 2.06-2.06.94zm-11 1L8.5 8.5l.94-2.06 2.06-.94-2.06-.94L8.5 2.5l-.94 2.06-2.06.94zm10 10l.94 2.06.94-2.06 2.06-.94-2.06-.94-.94-2.06-.94 2.06-2.06.94z\"/><path d=\"M17.41 7.96l-1.37-1.37c-.4-.4-.92-.59-1.43-.59-.52 0-1.04.2-1.43.59L10.3 9.45l-7.72 7.72c-.78.78-.78 2.05 0 2.83L4 21.41c.39.39.9.59 1.41.59.51 0 1.02-.2 1.41-.59l7.78-7.78 2.81-2.81c.8-.78.8-2.07 0-2.86zM5.41 20L4 18.59l7.72-7.72 1.47 1.35L5.41 20z\"/>\n",
              "  </svg>\n",
              "      </button>\n",
              "      \n",
              "  <style>\n",
              "    .colab-df-container {\n",
              "      display:flex;\n",
              "      flex-wrap:wrap;\n",
              "      gap: 12px;\n",
              "    }\n",
              "\n",
              "    .colab-df-convert {\n",
              "      background-color: #E8F0FE;\n",
              "      border: none;\n",
              "      border-radius: 50%;\n",
              "      cursor: pointer;\n",
              "      display: none;\n",
              "      fill: #1967D2;\n",
              "      height: 32px;\n",
              "      padding: 0 0 0 0;\n",
              "      width: 32px;\n",
              "    }\n",
              "\n",
              "    .colab-df-convert:hover {\n",
              "      background-color: #E2EBFA;\n",
              "      box-shadow: 0px 1px 2px rgba(60, 64, 67, 0.3), 0px 1px 3px 1px rgba(60, 64, 67, 0.15);\n",
              "      fill: #174EA6;\n",
              "    }\n",
              "\n",
              "    [theme=dark] .colab-df-convert {\n",
              "      background-color: #3B4455;\n",
              "      fill: #D2E3FC;\n",
              "    }\n",
              "\n",
              "    [theme=dark] .colab-df-convert:hover {\n",
              "      background-color: #434B5C;\n",
              "      box-shadow: 0px 1px 3px 1px rgba(0, 0, 0, 0.15);\n",
              "      filter: drop-shadow(0px 1px 2px rgba(0, 0, 0, 0.3));\n",
              "      fill: #FFFFFF;\n",
              "    }\n",
              "  </style>\n",
              "\n",
              "      <script>\n",
              "        const buttonEl =\n",
              "          document.querySelector('#df-cd816516-7429-4a19-b888-f6dc99e63fb7 button.colab-df-convert');\n",
              "        buttonEl.style.display =\n",
              "          google.colab.kernel.accessAllowed ? 'block' : 'none';\n",
              "\n",
              "        async function convertToInteractive(key) {\n",
              "          const element = document.querySelector('#df-cd816516-7429-4a19-b888-f6dc99e63fb7');\n",
              "          const dataTable =\n",
              "            await google.colab.kernel.invokeFunction('convertToInteractive',\n",
              "                                                     [key], {});\n",
              "          if (!dataTable) return;\n",
              "\n",
              "          const docLinkHtml = 'Like what you see? Visit the ' +\n",
              "            '<a target=\"_blank\" href=https://colab.research.google.com/notebooks/data_table.ipynb>data table notebook</a>'\n",
              "            + ' to learn more about interactive tables.';\n",
              "          element.innerHTML = '';\n",
              "          dataTable['output_type'] = 'display_data';\n",
              "          await google.colab.output.renderOutput(dataTable, element);\n",
              "          const docLink = document.createElement('div');\n",
              "          docLink.innerHTML = docLinkHtml;\n",
              "          element.appendChild(docLink);\n",
              "        }\n",
              "      </script>\n",
              "    </div>\n",
              "  </div>\n",
              "  "
            ]
          },
          "metadata": {},
          "execution_count": 6
        }
      ],
      "source": [
        "df\n"
      ]
    },
    {
      "cell_type": "markdown",
      "id": "30cc959c",
      "metadata": {
        "id": "30cc959c"
      },
      "source": [
        "**Imprima as colunas do seu dataframe**\n"
      ]
    },
    {
      "cell_type": "code",
      "execution_count": null,
      "id": "1d5229fa",
      "metadata": {
        "colab": {
          "base_uri": "https://localhost:8080/"
        },
        "id": "1d5229fa",
        "outputId": "9501364d-305b-4564-c3a1-68e1de04a1a1"
      },
      "outputs": [
        {
          "output_type": "execute_result",
          "data": {
            "text/plain": [
              "Index(['Nome', 'Notas', 'Tentativas', 'Aprovado', 'Rotulo'], dtype='object')"
            ]
          },
          "metadata": {},
          "execution_count": 7
        }
      ],
      "source": [
        "df.columns"
      ]
    },
    {
      "cell_type": "code",
      "execution_count": null,
      "id": "d73ca6b3",
      "metadata": {
        "id": "d73ca6b3",
        "colab": {
          "base_uri": "https://localhost:8080/"
        },
        "outputId": "038d7488-0164-453f-8053-912c201f11e2"
      },
      "outputs": [
        {
          "output_type": "execute_result",
          "data": {
            "text/plain": [
              "0      Sandra\n",
              "1      Carlos\n",
              "2     Regiane\n",
              "3       Cesar\n",
              "4      Eliana\n",
              "5    Marcelio\n",
              "6      Marcos\n",
              "7     Leandra\n",
              "8     Roberto\n",
              "9        João\n",
              "Name: Nome, dtype: object"
            ]
          },
          "metadata": {},
          "execution_count": 11
        }
      ],
      "source": [
        "df['Nome']"
      ]
    },
    {
      "cell_type": "code",
      "source": [
        "df.iloc[0,1]"
      ],
      "metadata": {
        "colab": {
          "base_uri": "https://localhost:8080/"
        },
        "id": "VS7rL9JhskoQ",
        "outputId": "98075eb1-2ea3-4c71-f492-a176a82bd20b"
      },
      "id": "VS7rL9JhskoQ",
      "execution_count": null,
      "outputs": [
        {
          "output_type": "execute_result",
          "data": {
            "text/plain": [
              "10.0"
            ]
          },
          "metadata": {},
          "execution_count": 14
        }
      ]
    },
    {
      "cell_type": "code",
      "source": [
        "from google.colab import drive\n",
        "drive.mount('/content/drive')"
      ],
      "metadata": {
        "id": "0Cg4H_ZJs9Y4"
      },
      "id": "0Cg4H_ZJs9Y4",
      "execution_count": null,
      "outputs": []
    }
  ],
  "metadata": {
    "kernelspec": {
      "display_name": "Python 3",
      "language": "python",
      "name": "python3"
    },
    "language_info": {
      "codemirror_mode": {
        "name": "ipython",
        "version": 3
      },
      "file_extension": ".py",
      "mimetype": "text/x-python",
      "name": "python",
      "nbconvert_exporter": "python",
      "pygments_lexer": "ipython3",
      "version": "3.8.8"
    },
    "colab": {
      "name": "Exercicios_pandas_1.ipynb",
      "provenance": [],
      "collapsed_sections": []
    }
  },
  "nbformat": 4,
  "nbformat_minor": 5
}