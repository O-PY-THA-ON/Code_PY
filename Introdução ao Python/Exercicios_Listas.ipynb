{
  "cells": [
    {
      "cell_type": "markdown",
      "id": "43a6bef2",
      "metadata": {
        "id": "43a6bef2"
      },
      "source": [
        "#### Exercício 1 - Imprima a lista de nomes recebida em ordem alfabética crescente\n",
        " \n",
        "\n"
      ]
    },
    {
      "cell_type": "code",
      "execution_count": 2,
      "id": "a2828c52",
      "metadata": {
        "id": "a2828c52"
      },
      "outputs": [],
      "source": [
        "a=['u', 'v','z','e','m']"
      ]
    },
    {
      "cell_type": "code",
      "execution_count": 7,
      "id": "54002069",
      "metadata": {
        "colab": {
          "base_uri": "https://localhost:8080/"
        },
        "id": "54002069",
        "outputId": "8857e1d5-f2dd-46b8-d4e2-2c05aaadc28c"
      },
      "outputs": [
        {
          "output_type": "stream",
          "name": "stdout",
          "text": [
            "['e', 'm', 'u', 'v', 'z']\n"
          ]
        }
      ],
      "source": [
        "print(sorted(a))"
      ]
    },
    {
      "cell_type": "markdown",
      "id": "ceffad26",
      "metadata": {
        "id": "ceffad26"
      },
      "source": [
        "#### Exercício 2 - Imprima a lista de nomes recebida em ordem alfabética decrescente\n",
        "  "
      ]
    },
    {
      "cell_type": "code",
      "execution_count": 5,
      "id": "11f17b1f",
      "metadata": {
        "id": "11f17b1f"
      },
      "outputs": [],
      "source": [
        "a=['u', 'v','z','e','m']\n"
      ]
    },
    {
      "cell_type": "code",
      "source": [
        "print(sorted(a,reverse=True))"
      ],
      "metadata": {
        "colab": {
          "base_uri": "https://localhost:8080/"
        },
        "id": "Rz-uO8W9WUZJ",
        "outputId": "9a6b7f26-c137-4e43-a557-5f8e5de06a97"
      },
      "id": "Rz-uO8W9WUZJ",
      "execution_count": 6,
      "outputs": [
        {
          "output_type": "stream",
          "name": "stdout",
          "text": [
            "['z', 'v', 'u', 'm', 'e']\n"
          ]
        }
      ]
    },
    {
      "cell_type": "markdown",
      "id": "b6165953",
      "metadata": {
        "id": "b6165953"
      },
      "source": [
        "##### Exercício 3 - Imprima o segundo elemento da lista recebida\n",
        "\n",
        "\n"
      ]
    },
    {
      "cell_type": "code",
      "source": [
        "print(a[1])"
      ],
      "metadata": {
        "colab": {
          "base_uri": "https://localhost:8080/"
        },
        "id": "Smroom0jWZni",
        "outputId": "ddaf49f6-a70c-4a51-f580-af926b0cc009"
      },
      "id": "Smroom0jWZni",
      "execution_count": 8,
      "outputs": [
        {
          "output_type": "stream",
          "name": "stdout",
          "text": [
            "v\n"
          ]
        }
      ]
    },
    {
      "cell_type": "markdown",
      "id": "291e9b4e",
      "metadata": {
        "id": "291e9b4e"
      },
      "source": [
        "##### Exercício 4 - Imprima o último elemento da lista recebida\n",
        "  \n"
      ]
    },
    {
      "cell_type": "code",
      "source": [
        "print(a[len(a)-1])"
      ],
      "metadata": {
        "colab": {
          "base_uri": "https://localhost:8080/"
        },
        "id": "PPAqYVf4Wbm4",
        "outputId": "53581f27-a8bc-456f-db8e-6f9679d79dde"
      },
      "id": "PPAqYVf4Wbm4",
      "execution_count": 9,
      "outputs": [
        {
          "output_type": "stream",
          "name": "stdout",
          "text": [
            "m\n"
          ]
        }
      ]
    },
    {
      "cell_type": "markdown",
      "id": "c0f1d4d5",
      "metadata": {
        "id": "c0f1d4d5"
      },
      "source": [
        "##### Exercício 5 -  Encontrar o erro no código abaixo\n",
        "Obs: A lista não pode ser modificada\n",
        " \n",
        "\n"
      ]
    },
    {
      "cell_type": "code",
      "execution_count": 10,
      "id": "9e12e56b",
      "metadata": {
        "colab": {
          "base_uri": "https://localhost:8080/",
          "height": 183
        },
        "id": "9e12e56b",
        "outputId": "c48a3838-0f3f-4239-a742-a8bad7923bee"
      },
      "outputs": [
        {
          "output_type": "error",
          "ename": "IndexError",
          "evalue": "ignored",
          "traceback": [
            "\u001b[0;31m---------------------------------------------------------------------------\u001b[0m",
            "\u001b[0;31mIndexError\u001b[0m                                Traceback (most recent call last)",
            "\u001b[0;32m<ipython-input-10-2f6b582502c3>\u001b[0m in \u001b[0;36m<module>\u001b[0;34m()\u001b[0m\n\u001b[1;32m      1\u001b[0m \u001b[0mmy_list\u001b[0m \u001b[0;34m=\u001b[0m \u001b[0;34m[\u001b[0m\u001b[0;36m1\u001b[0m\u001b[0;34m,\u001b[0m \u001b[0;36m2\u001b[0m\u001b[0;34m,\u001b[0m \u001b[0;36m3\u001b[0m\u001b[0;34m,\u001b[0m \u001b[0;36m4\u001b[0m\u001b[0;34m,\u001b[0m \u001b[0;36m5\u001b[0m\u001b[0;34m]\u001b[0m\u001b[0;34m\u001b[0m\u001b[0;34m\u001b[0m\u001b[0m\n\u001b[0;32m----> 2\u001b[0;31m \u001b[0mprint\u001b[0m\u001b[0;34m(\u001b[0m\u001b[0mmy_list\u001b[0m\u001b[0;34m[\u001b[0m\u001b[0;36m5\u001b[0m\u001b[0;34m]\u001b[0m\u001b[0;34m)\u001b[0m\u001b[0;34m\u001b[0m\u001b[0;34m\u001b[0m\u001b[0m\n\u001b[0m",
            "\u001b[0;31mIndexError\u001b[0m: list index out of range"
          ]
        }
      ],
      "source": [
        "my_list = [1, 2, 3, 4, 5]\n",
        "print(my_list[5])\n",
        "#a lista vai até a posição 4\n"
      ]
    },
    {
      "cell_type": "code",
      "source": [
        ""
      ],
      "metadata": {
        "id": "FeIm8sLqWr67"
      },
      "id": "FeIm8sLqWr67",
      "execution_count": null,
      "outputs": []
    },
    {
      "cell_type": "markdown",
      "id": "5673fce8",
      "metadata": {
        "id": "5673fce8"
      },
      "source": [
        "##### Exercício 6 - Encontrar o erro no código abaixo\n",
        "obs.:my_list não deverá ser modificada\n",
        "\n",
        "Último elemento da lista deverá ser removido\n",
        "  \n",
        "\n"
      ]
    },
    {
      "cell_type": "code",
      "execution_count": 11,
      "id": "358901e5",
      "metadata": {
        "colab": {
          "base_uri": "https://localhost:8080/",
          "height": 201
        },
        "id": "358901e5",
        "outputId": "59c25daa-37a7-493c-f0d3-20562fe1670e"
      },
      "outputs": [
        {
          "output_type": "error",
          "ename": "ValueError",
          "evalue": "ignored",
          "traceback": [
            "\u001b[0;31m---------------------------------------------------------------------------\u001b[0m",
            "\u001b[0;31mValueError\u001b[0m                                Traceback (most recent call last)",
            "\u001b[0;32m<ipython-input-11-c2b2dca228c1>\u001b[0m in \u001b[0;36m<module>\u001b[0;34m()\u001b[0m\n\u001b[1;32m      1\u001b[0m \u001b[0mmy_list\u001b[0m \u001b[0;34m=\u001b[0m \u001b[0;34m[\u001b[0m\u001b[0;36m1\u001b[0m\u001b[0;34m,\u001b[0m \u001b[0;36m2\u001b[0m\u001b[0;34m,\u001b[0m \u001b[0;36m3\u001b[0m\u001b[0;34m,\u001b[0m \u001b[0;36m4\u001b[0m\u001b[0;34m,\u001b[0m \u001b[0;36m5\u001b[0m\u001b[0;34m]\u001b[0m\u001b[0;34m\u001b[0m\u001b[0;34m\u001b[0m\u001b[0m\n\u001b[0;32m----> 2\u001b[0;31m \u001b[0mmy_list\u001b[0m\u001b[0;34m.\u001b[0m\u001b[0mremove\u001b[0m\u001b[0;34m(\u001b[0m\u001b[0;36m6\u001b[0m\u001b[0;34m)\u001b[0m\u001b[0;34m\u001b[0m\u001b[0;34m\u001b[0m\u001b[0m\n\u001b[0m\u001b[1;32m      3\u001b[0m \u001b[0mprint\u001b[0m\u001b[0;34m(\u001b[0m\u001b[0mmy_list\u001b[0m\u001b[0;34m[\u001b[0m\u001b[0;36m0\u001b[0m\u001b[0;34m]\u001b[0m\u001b[0;34m)\u001b[0m\u001b[0;34m\u001b[0m\u001b[0;34m\u001b[0m\u001b[0m\n",
            "\u001b[0;31mValueError\u001b[0m: list.remove(x): x not in list"
          ]
        }
      ],
      "source": [
        "my_list = [1, 2, 3, 4, 5]\n",
        "my_list.remove(6)\n",
        "print(my_list[0])"
      ]
    },
    {
      "cell_type": "markdown",
      "id": "9610c134",
      "metadata": {
        "id": "9610c134"
      },
      "source": [
        "##### Exercício 8  -  Programa Python para trocar os primeiros e últimos elementos em uma lista"
      ]
    },
    {
      "cell_type": "markdown",
      "id": "8175b850",
      "metadata": {
        "id": "8175b850"
      },
      "source": [
        "Dada uma lista, escreva um programa Python para trocar o primeiro e o último elemento da lista."
      ]
    },
    {
      "cell_type": "raw",
      "id": "9ef126ca",
      "metadata": {
        "id": "9ef126ca"
      },
      "source": [
        "Exemplos:\n",
        " \n",
        "Input : [12, 35, 9, 56, 24]\n",
        "Output : [24, 35, 9, 56, 12]\n",
        "\n",
        "Input : [1, 2, 3]\n",
        "Output : [3, 2, 1]\n"
      ]
    },
    {
      "cell_type": "code",
      "execution_count": 12,
      "id": "cc1b1b7d",
      "metadata": {
        "id": "cc1b1b7d"
      },
      "outputs": [],
      "source": [
        "my_list = [1, 2, 3, 4, 5]"
      ]
    },
    {
      "cell_type": "code",
      "execution_count": 21,
      "id": "d649ff2d",
      "metadata": {
        "id": "d649ff2d"
      },
      "outputs": [],
      "source": [
        "my_list[0]=my_list[len(my_list)-1]\n",
        "my_list[len(my_list)-1]=1\n"
      ]
    },
    {
      "cell_type": "code",
      "execution_count": 22,
      "id": "768b0e08",
      "metadata": {
        "colab": {
          "base_uri": "https://localhost:8080/"
        },
        "id": "768b0e08",
        "outputId": "134c88b7-a32d-4e1c-e65e-03a43af7cccf"
      },
      "outputs": [
        {
          "output_type": "stream",
          "name": "stdout",
          "text": [
            "[5, 2, 3, 4, 1]\n"
          ]
        }
      ],
      "source": [
        "print(my_list)"
      ]
    }
  ],
  "metadata": {
    "kernelspec": {
      "display_name": "Python 3",
      "language": "python",
      "name": "python3"
    },
    "language_info": {
      "codemirror_mode": {
        "name": "ipython",
        "version": 3
      },
      "file_extension": ".py",
      "mimetype": "text/x-python",
      "name": "python",
      "nbconvert_exporter": "python",
      "pygments_lexer": "ipython3",
      "version": "3.8.8"
    },
    "colab": {
      "name": "Exercicios_Listas.ipynb",
      "provenance": []
    }
  },
  "nbformat": 4,
  "nbformat_minor": 5
}