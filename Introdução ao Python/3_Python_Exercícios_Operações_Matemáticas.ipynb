{
  "cells": [
    {
      "cell_type": "markdown",
      "source": [
        "# Exercício 1\n",
        "\n",
        "Ler dois números inteiros, executar e mostrar o resultado das seguintes operações: adição, subtração, multiplicação e divisão\n"
      ],
      "metadata": {
        "id": "c9BudZ2gNE2n",
        "cell_id": "a13085bf-a135-4d6c-8ff9-5cac050db426",
        "deepnote_cell_type": "markdown",
        "deepnote_cell_height": 142.78125
      }
    },
    {
      "cell_type": "code",
      "metadata": {
        "id": "iYgw0XGvM0Xz",
        "cell_id": "00001-0502f2bd-fe25-4afb-9fde-65e6d77e4286",
        "deepnote_to_be_reexecuted": false,
        "source_hash": "b623e53d",
        "execution_start": 1651880335087,
        "execution_millis": 1,
        "deepnote_cell_type": "code",
        "deepnote_cell_height": 81
      },
      "source": [
        "num1=float(input(\"Digite um número: \"))]\n",
        "num2=float(input(\"Digite um segundo número: \"))\n",
        "print(f'Soma: {num1+num2}')"
      ],
      "execution_count": null,
      "outputs": []
    },
    {
      "cell_type": "code",
      "metadata": {
        "id": "4iPC34bCkDUF",
        "cell_id": "00002-27359fb2-6d64-470b-86dc-3f6df53c8c2a",
        "deepnote_to_be_reexecuted": false,
        "source_hash": "b623e53d",
        "execution_start": 1651880337731,
        "execution_millis": 1,
        "deepnote_cell_type": "code",
        "deepnote_cell_height": 81
      },
      "source": [
        "print(f'Subtração: {num1-num2}')"
      ],
      "execution_count": null,
      "outputs": []
    },
    {
      "cell_type": "code",
      "metadata": {
        "id": "Dy_UFha_Nb8o",
        "cell_id": "00003-b4e00298-da8d-4e49-8b77-75d95801fc15",
        "deepnote_cell_type": "code",
        "deepnote_cell_height": 66
      },
      "source": [
        "print(f'Multiplicação: {num1*num2}')"
      ],
      "execution_count": null,
      "outputs": []
    },
    {
      "cell_type": "code",
      "metadata": {
        "id": "59F8tj9qNnuF",
        "cell_id": "00004-fa088f26-3c18-497d-ad6c-bd4ad51e938f",
        "deepnote_to_be_reexecuted": false,
        "source_hash": "b623e53d",
        "execution_start": 1651880331028,
        "execution_millis": 0,
        "deepnote_cell_type": "code",
        "deepnote_cell_height": 81
      },
      "source": [
        "print(f'Divisão: {num1/num2}')"
      ],
      "execution_count": null,
      "outputs": []
    },
    {
      "cell_type": "markdown",
      "source": [
        "# Exercício 2\n",
        "\n",
        "Efetuar o cálculo da quantidade de litros de combustível gasto em uma viagem, utilizando um automóvel que faz 12 Km por litro. Para obter o cálculo, o usuário deve fornecer o tempo gasto na viagem e a velocidade média durante ela. Desta forma, será possível obter a distância percorrida com a fórmula DISTANCIA = TEMPO * VELOCIDADE. Tendo o valor da distância, basta calcular a quantidade de litros de combustível utilizada na viagem, com a fórmula: LITROS_USADOS = DISTANCIA / 12. O programa deve apresentar os valores da velocidade média, tempo gasto na viagem, a distância percorrida e a quantidade de litros utilizada na viagem"
      ],
      "metadata": {
        "id": "QK3YAlgdN0t3",
        "cell_id": "00005-8f9ab57b-c6e4-48b2-ade6-eb391cbe79b6",
        "deepnote_cell_type": "markdown",
        "deepnote_cell_height": 254.734375
      }
    },
    {
      "cell_type": "code",
      "metadata": {
        "id": "FIz6i8_LOByQ",
        "colab": {
          "base_uri": "https://localhost:8080/"
        },
        "outputId": "dba8ee9c-466b-4261-acb5-879e34360b43",
        "cell_id": "00006-22aa1e8d-2339-4adf-ba66-3a46b8158146",
        "deepnote_to_be_reexecuted": false,
        "source_hash": "b623e53d",
        "execution_start": 1651880346003,
        "execution_millis": 1,
        "deepnote_cell_type": "code",
        "deepnote_cell_height": 81
      },
      "source": [
        "tempo=int(input(\"Digite aqui o tempo gasto: \"))\n",
        "velocidade=float(input(\"Digite aqui a velocidade média: \"))\n",
        "distancia=tempo*velocidade\n",
        "litros_usados=distancia/12\n",
        "print(f\"\"\"Velocidade:{velocidade} km/h\n",
        "Tempo:{tempo} h\n",
        "Distância:{distancia} Km\n",
        "Litros:{litros_usados:.2f} L\"\"\")"
      ],
      "execution_count": 3,
      "outputs": [
        {
          "output_type": "stream",
          "name": "stdout",
          "text": [
            "Digite aqui o tempo gasto: 45\n",
            "Digite aqui a velocidade média: 12\n",
            "Velocidade:12.0 km/h\n",
            "Tempo:45 h\n",
            "Distância:540.0 Km\n",
            "Litros:45.00 L\n"
          ]
        }
      ]
    },
    {
      "cell_type": "code",
      "metadata": {
        "id": "-GFuR-Vpkh6C",
        "cell_id": "00007-9f6267f3-be3e-45ed-89c1-5b6206f8f593",
        "deepnote_to_be_reexecuted": false,
        "source_hash": "b623e53d",
        "execution_start": 1651880350038,
        "execution_millis": 2,
        "deepnote_cell_type": "code",
        "deepnote_cell_height": 81
      },
      "source": [
        ""
      ],
      "execution_count": null,
      "outputs": []
    },
    {
      "cell_type": "code",
      "metadata": {
        "id": "g1-4CUlMORsU",
        "cell_id": "00008-3b569eb6-7a0d-4db8-b8be-ee8101db533a",
        "deepnote_to_be_reexecuted": false,
        "source_hash": "b623e53d",
        "execution_start": 1651880353886,
        "execution_millis": 3,
        "deepnote_cell_type": "code",
        "deepnote_cell_height": 81
      },
      "source": [
        ""
      ],
      "execution_count": null,
      "outputs": []
    },
    {
      "cell_type": "code",
      "metadata": {
        "id": "9uVrqKjhOcAV",
        "cell_id": "00009-69201316-6bc9-4e4b-bc10-e3727e416a55",
        "deepnote_to_be_reexecuted": false,
        "source_hash": "b623e53d",
        "execution_start": 1651880359664,
        "execution_millis": 1,
        "deepnote_cell_type": "code",
        "deepnote_cell_height": 81
      },
      "source": [
        ""
      ],
      "execution_count": null,
      "outputs": []
    },
    {
      "cell_type": "code",
      "metadata": {
        "cell_id": "3c594b5bb35c414da127605d4d549b50",
        "tags": [],
        "owner_user_id": "d001098f-5dea-4d4f-8c97-a79374dcf058",
        "deepnote_cell_type": "code",
        "deepnote_cell_height": 66,
        "id": "jDkgK7wOBPN9"
      },
      "source": [
        ""
      ],
      "execution_count": null,
      "outputs": []
    },
    {
      "cell_type": "markdown",
      "source": [
        "<a style='text-decoration:none;line-height:16px;display:flex;color:#5B5B62;padding:10px;justify-content:end;' href='https://deepnote.com?utm_source=created-in-deepnote-cell&projectId=eec70b1f-d358-4411-8f87-859776d4c904' target=\"_blank\">\n",
        "<img alt='Created in deepnote.com' style='display:inline;max-height:16px;margin:0px;margin-right:7.5px;' src='data:image/svg+xml;base64,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' > </img>\n",
        "Created in <span style='font-weight:600;margin-left:4px;'>Deepnote</span></a>"
      ],
      "metadata": {
        "tags": [],
        "created_in_deepnote_cell": true,
        "deepnote_cell_type": "markdown",
        "id": "TfE0VJ4HBPOC"
      }
    }
  ],
  "nbformat": 4,
  "nbformat_minor": 0,
  "metadata": {
    "colab": {
      "name": "3_Python_Exercícios_Operações_Matemáticas.ipynb",
      "provenance": [],
      "collapsed_sections": []
    },
    "kernelspec": {
      "name": "python3",
      "display_name": "Python 3"
    },
    "deepnote_notebook_id": "ef99d260-6dc2-45c7-9346-1d6dcdae63bb",
    "deepnote": {},
    "deepnote_execution_queue": []
  }
}