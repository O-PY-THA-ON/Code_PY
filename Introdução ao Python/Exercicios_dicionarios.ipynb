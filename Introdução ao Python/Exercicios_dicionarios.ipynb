{
  "cells": [
    {
      "cell_type": "markdown",
      "id": "d930e153",
      "metadata": {
        "id": "d930e153"
      },
      "source": [
        "#### Exercício 1 - No dicionário 'my_dict' são armazenados as notas de alunos\n",
        "##### Imprima a nota do aluno 'Júlio'\n"
      ]
    },
    {
      "cell_type": "code",
      "execution_count": 2,
      "id": "60889799",
      "metadata": {
        "colab": {
          "base_uri": "https://localhost:8080/"
        },
        "id": "60889799",
        "outputId": "5e7ad79d-71fd-4af0-dcf9-e15b66526416"
      },
      "outputs": [
        {
          "output_type": "execute_result",
          "data": {
            "text/plain": [
              "8"
            ]
          },
          "metadata": {},
          "execution_count": 2
        }
      ],
      "source": [
        "my_dict = {\n",
        "    'Ana': 10,\n",
        "    'Júlio': 8,\n",
        "    'Antônio': 9,\n",
        "    'Maria': 7\n",
        "}\n",
        "my_dict['Júlio']"
      ]
    },
    {
      "cell_type": "markdown",
      "id": "f4e448eb",
      "metadata": {
        "id": "f4e448eb"
      },
      "source": [
        "##### Exercício 2 -No dicionário 'my_dict' são armazenados as notas de alunos, mas a aluna 'Ana' faz mais parte da turma\n",
        "##### Imprima my_dict revisada com a exclusão da aluna 'Ana'\n",
        "  "
      ]
    },
    {
      "cell_type": "code",
      "execution_count": 4,
      "id": "d7a659a2",
      "metadata": {
        "colab": {
          "base_uri": "https://localhost:8080/"
        },
        "id": "d7a659a2",
        "outputId": "517fb99a-bc31-4576-e2ff-3c134d57da76"
      },
      "outputs": [
        {
          "output_type": "execute_result",
          "data": {
            "text/plain": [
              "{'Antônio': 9, 'Júlio': 8, 'Maria': 7}"
            ]
          },
          "metadata": {},
          "execution_count": 4
        }
      ],
      "source": [
        "my_dict = {\n",
        "    'Ana': 10,\n",
        "    'Júlio': 8,\n",
        "    'Antônio': 9,\n",
        "    'Maria': 7\n",
        "  }\n",
        "my_dict.pop('Ana')\n",
        "my_dict"
      ]
    },
    {
      "cell_type": "markdown",
      "id": "fdd2155e",
      "metadata": {
        "id": "fdd2155e"
      },
      "source": [
        "##### Exercício 3 - No dicionário 'my_dict' são armazenados as notas de alunos, a aluna 'Carla' acabou de entrar na turma\n",
        "##### Imprima my_dict revisada com a inclusão da aluna 'Carla' e sua nota 0, pois ela ainda fará seus exercícios\n",
        "  "
      ]
    },
    {
      "cell_type": "code",
      "execution_count": 6,
      "id": "3d1b7993",
      "metadata": {
        "colab": {
          "base_uri": "https://localhost:8080/"
        },
        "id": "3d1b7993",
        "outputId": "1fba08e4-b261-4aa8-9cf2-563e7552a0e5"
      },
      "outputs": [
        {
          "output_type": "execute_result",
          "data": {
            "text/plain": [
              "{'Ana': 10, 'Antônio': 9, 'Carla': 0, 'Júlio': 8, 'Maria': 7}"
            ]
          },
          "metadata": {},
          "execution_count": 6
        }
      ],
      "source": [
        "my_dict = {\n",
        "    'Ana': 10,\n",
        "    'Júlio': 8,\n",
        "    'Antônio': 9,\n",
        "    'Maria': 7\n",
        "  }\n",
        "my_dict['Carla']=0\n",
        "my_dict"
      ]
    },
    {
      "cell_type": "markdown",
      "id": "cd437e0d",
      "metadata": {
        "id": "cd437e0d"
      },
      "source": [
        "##### Exercício 4 - Encontrar o erro no código abaixo\n",
        "##### my_dict não deverá ser modificada\n",
        "  "
      ]
    },
    {
      "cell_type": "code",
      "execution_count": 7,
      "id": "9f33740d",
      "metadata": {
        "colab": {
          "base_uri": "https://localhost:8080/",
          "height": 201
        },
        "id": "9f33740d",
        "outputId": "aa8df1ff-fe7a-457c-a3bc-6570190f4da2"
      },
      "outputs": [
        {
          "output_type": "error",
          "ename": "KeyError",
          "evalue": "ignored",
          "traceback": [
            "\u001b[0;31m---------------------------------------------------------------------------\u001b[0m",
            "\u001b[0;31mKeyError\u001b[0m                                  Traceback (most recent call last)",
            "\u001b[0;32m<ipython-input-7-cd2357b7f5b7>\u001b[0m in \u001b[0;36m<module>\u001b[0;34m()\u001b[0m\n\u001b[1;32m      5\u001b[0m       \u001b[0;34m'Maria'\u001b[0m\u001b[0;34m:\u001b[0m \u001b[0;36m7\u001b[0m\u001b[0;34m\u001b[0m\u001b[0;34m\u001b[0m\u001b[0m\n\u001b[1;32m      6\u001b[0m     }\n\u001b[0;32m----> 7\u001b[0;31m \u001b[0mprint\u001b[0m\u001b[0;34m(\u001b[0m\u001b[0mmy_dict\u001b[0m\u001b[0;34m[\u001b[0m\u001b[0;34m'Maria José'\u001b[0m\u001b[0;34m]\u001b[0m\u001b[0;34m)\u001b[0m\u001b[0;34m\u001b[0m\u001b[0;34m\u001b[0m\u001b[0m\n\u001b[0m",
            "\u001b[0;31mKeyError\u001b[0m: 'Maria José'"
          ]
        }
      ],
      "source": [
        "my_dict = {\n",
        "      'Ana': 10,\n",
        "      'Júlio': 8,\n",
        "      'Antônio': 9,\n",
        "      'Maria': 7\n",
        "    }\n",
        "print(my_dict['Maria José'])"
      ]
    },
    {
      "cell_type": "code",
      "execution_count": null,
      "id": "daad97ac",
      "metadata": {
        "id": "daad97ac"
      },
      "outputs": [],
      "source": [
        ""
      ]
    }
  ],
  "metadata": {
    "kernelspec": {
      "display_name": "Python 3",
      "language": "python",
      "name": "python3"
    },
    "language_info": {
      "codemirror_mode": {
        "name": "ipython",
        "version": 3
      },
      "file_extension": ".py",
      "mimetype": "text/x-python",
      "name": "python",
      "nbconvert_exporter": "python",
      "pygments_lexer": "ipython3",
      "version": "3.8.8"
    },
    "colab": {
      "name": "Exercicios_dicionarios.ipynb",
      "provenance": [],
      "collapsed_sections": []
    }
  },
  "nbformat": 4,
  "nbformat_minor": 5
}