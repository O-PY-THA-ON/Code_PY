{
  "cells": [
    {
      "cell_type": "markdown",
      "id": "19749b02",
      "metadata": {
        "id": "19749b02"
      },
      "source": [
        "##### Exercício 1 - Calcule a soma dos elementos da  tupla 'my_tuple'\n"
      ]
    },
    {
      "cell_type": "code",
      "execution_count": 1,
      "id": "42e50779",
      "metadata": {
        "colab": {
          "base_uri": "https://localhost:8080/"
        },
        "id": "42e50779",
        "outputId": "0a86b8c6-dd83-432c-ebd7-57a46c0d1e0d"
      },
      "outputs": [
        {
          "output_type": "stream",
          "name": "stdout",
          "text": [
            "15\n"
          ]
        }
      ],
      "source": [
        "my_tuple = 1, 2, 3, 4, 5\n",
        "s=0\n",
        "for c in my_tuple:s+=c\n",
        "print(s)"
      ]
    },
    {
      "cell_type": "markdown",
      "id": "afcce53d",
      "metadata": {
        "id": "afcce53d"
      },
      "source": [
        "##### Exercício 2 - Retorne o segundo elemento da tupla 'my_tuple'\n"
      ]
    },
    {
      "cell_type": "code",
      "execution_count": 2,
      "id": "4f28cd2a",
      "metadata": {
        "colab": {
          "base_uri": "https://localhost:8080/"
        },
        "id": "4f28cd2a",
        "outputId": "11da4c22-f23e-478d-8cb6-ecd29e612e04"
      },
      "outputs": [
        {
          "output_type": "stream",
          "name": "stdout",
          "text": [
            "2\n"
          ]
        }
      ],
      "source": [
        "my_tuple = 1, 2, 3, 4, 5\n",
        "print(my_tuple[1])"
      ]
    },
    {
      "cell_type": "markdown",
      "id": "213a9f27",
      "metadata": {
        "id": "213a9f27"
      },
      "source": [
        "##### Exercício 3 - Encontrar o erro no código abaixo"
      ]
    },
    {
      "cell_type": "code",
      "execution_count": 3,
      "id": "99c732f3",
      "metadata": {
        "colab": {
          "base_uri": "https://localhost:8080/",
          "height": 201
        },
        "id": "99c732f3",
        "outputId": "ce94d344-f779-4b16-b2e0-9db1b279e218"
      },
      "outputs": [
        {
          "output_type": "error",
          "ename": "AttributeError",
          "evalue": "ignored",
          "traceback": [
            "\u001b[0;31m---------------------------------------------------------------------------\u001b[0m",
            "\u001b[0;31mAttributeError\u001b[0m                            Traceback (most recent call last)",
            "\u001b[0;32m<ipython-input-3-ecc2325470ae>\u001b[0m in \u001b[0;36m<module>\u001b[0;34m()\u001b[0m\n\u001b[1;32m      1\u001b[0m \u001b[0mmy_tuple\u001b[0m \u001b[0;34m=\u001b[0m \u001b[0;36m1\u001b[0m\u001b[0;34m,\u001b[0m \u001b[0;36m2\u001b[0m\u001b[0;34m,\u001b[0m \u001b[0;36m3\u001b[0m\u001b[0;34m,\u001b[0m \u001b[0;36m4\u001b[0m\u001b[0;34m,\u001b[0m \u001b[0;36m5\u001b[0m\u001b[0;34m\u001b[0m\u001b[0;34m\u001b[0m\u001b[0m\n\u001b[0;32m----> 2\u001b[0;31m \u001b[0mmy_tuple\u001b[0m\u001b[0;34m.\u001b[0m\u001b[0mremove\u001b[0m\u001b[0;34m(\u001b[0m\u001b[0;36m1\u001b[0m\u001b[0;34m)\u001b[0m\u001b[0;34m\u001b[0m\u001b[0;34m\u001b[0m\u001b[0m\n\u001b[0m\u001b[1;32m      3\u001b[0m \u001b[0mprint\u001b[0m\u001b[0;34m(\u001b[0m\u001b[0mmy_tuple\u001b[0m\u001b[0;34m)\u001b[0m\u001b[0;34m\u001b[0m\u001b[0;34m\u001b[0m\u001b[0m\n",
            "\u001b[0;31mAttributeError\u001b[0m: 'tuple' object has no attribute 'remove'"
          ]
        }
      ],
      "source": [
        "my_tuple = 1, 2, 3, 4, 5\n",
        "my_tuple.remove(1)\n",
        "print(my_tuple)"
      ]
    },
    {
      "cell_type": "code",
      "execution_count": null,
      "id": "4d01f5d2",
      "metadata": {
        "id": "4d01f5d2"
      },
      "outputs": [],
      "source": [
        ""
      ]
    }
  ],
  "metadata": {
    "kernelspec": {
      "display_name": "Python 3",
      "language": "python",
      "name": "python3"
    },
    "language_info": {
      "codemirror_mode": {
        "name": "ipython",
        "version": 3
      },
      "file_extension": ".py",
      "mimetype": "text/x-python",
      "name": "python",
      "nbconvert_exporter": "python",
      "pygments_lexer": "ipython3",
      "version": "3.8.8"
    },
    "colab": {
      "name": "Exercícios  - Tuplas.ipynb",
      "provenance": [],
      "collapsed_sections": []
    }
  },
  "nbformat": 4,
  "nbformat_minor": 5
}