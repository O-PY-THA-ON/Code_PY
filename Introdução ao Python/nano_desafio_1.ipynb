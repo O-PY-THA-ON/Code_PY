{
  "cells": [
    {
      "cell_type": "markdown",
      "metadata": {
        "cell_id": "00001-9059c58a-7002-4ff3-b2cc-c2ee2f4cdd95",
        "deepnote_cell_type": "markdown",
        "tags": [],
        "id": "4I_QG74ydQld"
      },
      "source": [
        "<div>\n",
        "    <p style=\"float: right;\"><img src=\"https://media.swipepages.com/2021/2/sirius-logo-principal-tag-1-300.png\" height=\"80px\"border=\"1px\"></p>\n",
        "    \n",
        "</div>\n",
        "<h1>Nano Desafio 1 </h1>\n",
        "<h2> Exercícios iniciais em python </h2>\n",
        "\n",
        "Aluno: \n",
        "\n",
        "Data:\n",
        "\n",
        "\n"
      ]
    },
    {
      "cell_type": "markdown",
      "metadata": {
        "cell_id": "00001-3484bef7-70cf-44b1-8e45-48ba8ff5a84e",
        "deepnote_cell_type": "markdown",
        "tags": [],
        "id": "6t57slVndQl2"
      },
      "source": [
        "<h3> Primeiro desafio </h3>\n",
        "\n",
        "Estamos usando notebooks(no caso usando DeepNote) para escrever códigos. Existem várias formas de programar em Python, inclusive usando editores de texto como o VSCode por exemplo.\n",
        "\n",
        "\n",
        "Vamos precisar que você *baixe* esse notebook e salve na sua pasta no DeepNote para que possa resolver os exercícios!"
      ]
    },
    {
      "cell_type": "markdown",
      "metadata": {
        "cell_id": "00002-81b8b9f9-efcd-47bb-a0e7-2386e20f6603",
        "deepnote_cell_type": "markdown",
        "tags": [],
        "id": "5386KJcxdQl7"
      },
      "source": [
        "## Exercício 1\n",
        "Imprima o seu nome usando a função padrão do python - print()\n"
      ]
    },
    {
      "cell_type": "code",
      "execution_count": 1,
      "metadata": {
        "colab": {
          "base_uri": "https://localhost:8080/"
        },
        "id": "O_AUAqVwdQl-",
        "outputId": "b0d9e42c-0c51-42d3-e9a1-e61bb3cb80d1"
      },
      "outputs": [
        {
          "output_type": "stream",
          "name": "stdout",
          "text": [
            "Gabriel Nunes Barbosa Nogueira\n"
          ]
        }
      ],
      "source": [
        "print(\"Gabriel Nunes Barbosa Nogueira\")"
      ]
    },
    {
      "cell_type": "markdown",
      "metadata": {
        "cell_id": "00003-bcf5a961-9eed-41a3-8a9a-1f2537f8a1ec",
        "deepnote_cell_type": "markdown",
        "tags": [],
        "id": "xfDSls1ndQmD"
      },
      "source": [
        "## Exercício 2\n",
        "Imprima o seu nome e sobrenome usando a função padrão do python mas em linhas diferentes"
      ]
    },
    {
      "cell_type": "code",
      "execution_count": 2,
      "metadata": {
        "colab": {
          "base_uri": "https://localhost:8080/"
        },
        "id": "a94lYysXdQmF",
        "outputId": "2c611a09-456d-4ec9-9d22-2cb8e271ba11"
      },
      "outputs": [
        {
          "output_type": "stream",
          "name": "stdout",
          "text": [
            "Gabriel\n",
            "Nunes Barbosa Nogueira\n"
          ]
        }
      ],
      "source": [
        "print(\"\"\"Gabriel\n",
        "Nunes Barbosa Nogueira\"\"\")"
      ]
    },
    {
      "cell_type": "markdown",
      "metadata": {
        "cell_id": "00004-20839cdd-e6f4-4118-9b12-44e1f536ac51",
        "deepnote_cell_type": "markdown",
        "tags": [],
        "id": "rvNhU__UdQmH"
      },
      "source": [
        "## Exercício 3\n",
        "Você consegue repetir o exercício 2 mas agora apenas uma vez o comando \"print\" ?"
      ]
    },
    {
      "cell_type": "code",
      "execution_count": 3,
      "metadata": {
        "colab": {
          "base_uri": "https://localhost:8080/"
        },
        "id": "NUiDaVJwdQmM",
        "outputId": "5ff61c6f-68ce-4a87-9735-b909530c63cd"
      },
      "outputs": [
        {
          "output_type": "stream",
          "name": "stdout",
          "text": [
            "Gabriel\n",
            "Nunes Barbosa Nogueira\n"
          ]
        }
      ],
      "source": [
        "print(\"\"\"Gabriel\n",
        "Nunes Barbosa Nogueira\"\"\")"
      ]
    },
    {
      "cell_type": "markdown",
      "metadata": {
        "cell_id": "00005-5cff4d10-02a1-4ae7-a49f-53da9ea1172e",
        "deepnote_cell_type": "markdown",
        "tags": [],
        "id": "jfKfbUrLdQmP"
      },
      "source": [
        "## Exercício 4\n",
        "Imprima a subtração de 2 números!"
      ]
    },
    {
      "cell_type": "code",
      "execution_count": 4,
      "metadata": {
        "colab": {
          "base_uri": "https://localhost:8080/"
        },
        "id": "QjRZRQ65dQmT",
        "outputId": "f36a8648-4804-4039-c3b7-ccf6a7dd7b08"
      },
      "outputs": [
        {
          "output_type": "stream",
          "name": "stdout",
          "text": [
            "2\n"
          ]
        }
      ],
      "source": [
        "print(6-4)"
      ]
    },
    {
      "cell_type": "markdown",
      "metadata": {
        "cell_id": "00006-6c152d9f-43ce-41a1-9ed1-737f2b07f7f7",
        "deepnote_cell_type": "markdown",
        "tags": [],
        "id": "XdvcRZC_dQmV"
      },
      "source": [
        "## Exercício 5\n",
        "Imprima a soma de 2 números a sua escolha"
      ]
    },
    {
      "cell_type": "code",
      "execution_count": 5,
      "metadata": {
        "colab": {
          "base_uri": "https://localhost:8080/"
        },
        "id": "qjmwKKBcdQmZ",
        "outputId": "57192702-7b3d-4507-d11a-fcda723de649"
      },
      "outputs": [
        {
          "output_type": "stream",
          "name": "stdout",
          "text": [
            "10\n"
          ]
        }
      ],
      "source": [
        "print(6+4)"
      ]
    },
    {
      "cell_type": "markdown",
      "metadata": {
        "cell_id": "00007-0835fb45-dad9-48b4-b456-e785013d9e90",
        "deepnote_cell_type": "markdown",
        "tags": [],
        "id": "3x5qRz7jdQmb"
      },
      "source": [
        "## Exercício 6\n",
        "Quanto é 8 elevado a potencia 4"
      ]
    },
    {
      "cell_type": "code",
      "execution_count": 6,
      "metadata": {
        "colab": {
          "base_uri": "https://localhost:8080/"
        },
        "id": "OKOlTcp-dQmd",
        "outputId": "81c6673d-a2b0-447b-857e-2f02d786ead9"
      },
      "outputs": [
        {
          "output_type": "stream",
          "name": "stdout",
          "text": [
            "4096\n"
          ]
        }
      ],
      "source": [
        "print(8**4)"
      ]
    },
    {
      "cell_type": "markdown",
      "metadata": {
        "cell_id": "00008-b610cffe-c267-400d-975d-660028fcbe9a",
        "deepnote_cell_type": "markdown",
        "tags": [],
        "id": "8i55aJRpdQmf"
      },
      "source": [
        "## Exercício 7\n",
        "**Split esta string:**\n",
        " \n",
        " s = 'Eu sou uma string que vou virar uma lista após você aplicar o split, \"me splita?\"'"
      ]
    },
    {
      "cell_type": "code",
      "execution_count": 8,
      "metadata": {
        "colab": {
          "base_uri": "https://localhost:8080/"
        },
        "id": "WcHkDoYXdQmi",
        "outputId": "eecd4fa2-e1a8-43ad-fb6d-aa54cf0391ad"
      },
      "outputs": [
        {
          "output_type": "stream",
          "name": "stdout",
          "text": [
            "['Eu', 'sou', 'uma', 'string', 'que', 'vou', 'virar', 'uma', 'lista', 'após', 'você', 'aplicar', 'o', 'split,', 'me', 'splita?']\n"
          ]
        }
      ],
      "source": [
        "splito_sim=\"Eu sou uma string que vou virar uma lista após você aplicar o split, me splita?\".split()\n",
        "print(splito_sim)"
      ]
    },
    {
      "cell_type": "markdown",
      "metadata": {
        "cell_id": "00010-9aa226a4-1322-4ff5-afca-97327ec31617",
        "deepnote_cell_type": "markdown",
        "tags": [],
        "id": "xzGeG1iVdQmk"
      },
      "source": [
        "## Exercício 8\n",
        "Crie duas variáveis com valores inteiros <br>\n",
        "Imprima a soma dessas duas variáveis <br>"
      ]
    },
    {
      "cell_type": "code",
      "execution_count": 11,
      "metadata": {
        "colab": {
          "base_uri": "https://localhost:8080/"
        },
        "id": "-qTyMox2dQmm",
        "outputId": "b1e11bda-aa63-49da-c380-e8781c995151"
      },
      "outputs": [
        {
          "output_type": "stream",
          "name": "stdout",
          "text": [
            "5\n",
            "5\n",
            "10\n"
          ]
        }
      ],
      "source": [
        "num1=int(input())\n",
        "num2=int(input())\n",
        "print(num1+num2)"
      ]
    },
    {
      "cell_type": "markdown",
      "metadata": {
        "cell_id": "00011-87b91a4e-677e-4645-af3a-bc27d107b009",
        "deepnote_cell_type": "markdown",
        "tags": [],
        "id": "wmF6QoEIdQmn"
      },
      "source": [
        "## Exercício 9\n",
        "Crie duas variáveis que irão receber os valores do usuário <br>\n",
        "Imprima a soma dessas duas variáveis <br>"
      ]
    },
    {
      "cell_type": "code",
      "execution_count": 12,
      "metadata": {
        "colab": {
          "base_uri": "https://localhost:8080/"
        },
        "id": "Op-_wbitdQmp",
        "outputId": "cac6d088-b8a0-4668-b0ac-f6ecef97e7a0"
      },
      "outputs": [
        {
          "output_type": "stream",
          "name": "stdout",
          "text": [
            "5\n",
            "5\n",
            "10\n"
          ]
        }
      ],
      "source": [
        "num1=int(input())\n",
        "num2=int(input())\n",
        "print(num1+num2)"
      ]
    },
    {
      "cell_type": "markdown",
      "metadata": {
        "cell_id": "00012-04d6af7e-4b24-45fd-b5b4-2357dec40669",
        "deepnote_cell_type": "markdown",
        "tags": [],
        "id": "7UtMJlridQmr"
      },
      "source": [
        "## Exercício 10\n",
        "Qual dos seguintes comandos em Python exibe o número 4?(Ei, responda antes de executar!😇)"
      ]
    },
    {
      "cell_type": "markdown",
      "metadata": {
        "id": "tDrRCeBmdQmt"
      },
      "source": [
        "1. Print(4)\n",
        "2. print 2+2\n",
        "3. print(7-3)\n",
        "4. Print('4')"
      ]
    },
    {
      "cell_type": "markdown",
      "metadata": {
        "id": "Rx7HcMdldQmv"
      },
      "source": [
        ""
      ]
    },
    {
      "cell_type": "code",
      "source": [
        "# Print(4)\n",
        "# print 2+2\n",
        "print(7-3)\n",
        "# Print('4')"
      ],
      "metadata": {
        "colab": {
          "base_uri": "https://localhost:8080/"
        },
        "id": "v1pI_6oYeUsH",
        "outputId": "32671c21-6309-41ee-f404-e68b97c24440"
      },
      "execution_count": 13,
      "outputs": [
        {
          "output_type": "stream",
          "name": "stdout",
          "text": [
            "4\n"
          ]
        }
      ]
    },
    {
      "cell_type": "markdown",
      "metadata": {
        "cell_id": "00013-fcca80d7-7979-4aa5-aba2-e72369c2fb69",
        "deepnote_cell_type": "markdown",
        "tags": [],
        "id": "E1nT_w_EdQmw"
      },
      "source": [
        "## Exercício 11\n",
        "Crie um programa que peça ao usuário para digitar seu nome e sua idade. Imprima uma mensagem endereçada a eles informando o ano em que completarão 100 anos."
      ]
    },
    {
      "cell_type": "code",
      "execution_count": 15,
      "metadata": {
        "colab": {
          "base_uri": "https://localhost:8080/"
        },
        "id": "Qn_FGUl6dQmx",
        "outputId": "fd7b8b2f-ab58-44e7-ad95-3114cfd1446e"
      },
      "outputs": [
        {
          "output_type": "stream",
          "name": "stdout",
          "text": [
            "Digite seu nome:g\n",
            "Digite sua idade: 24\n",
            "Completara 100 anos em 2097\n"
          ]
        }
      ],
      "source": [
        "nome=input(\"Digite seu nome:\")\n",
        "ano=int(input(\"Digite sua idade: \"))\n",
        "cem=100-ano\n",
        "print(f'Completara 100 anos em {2021+cem}')\n"
      ]
    },
    {
      "cell_type": "markdown",
      "metadata": {
        "cell_id": "00014-33346b94-ae79-42e1-a53a-4403c15fc59d",
        "deepnote_cell_type": "markdown",
        "tags": [],
        "id": "w7nLkZd_dQmy"
      },
      "source": [
        "## Exercício 12\n",
        "Faça um programa que, dada a entrada do usuário em metros, transforme para milímetros"
      ]
    },
    {
      "cell_type": "code",
      "execution_count": 16,
      "metadata": {
        "colab": {
          "base_uri": "https://localhost:8080/"
        },
        "id": "scpkfAFhdQm0",
        "outputId": "f2c0a6a2-32c3-4cca-b701-dad2a0e65d3f"
      },
      "outputs": [
        {
          "output_type": "stream",
          "name": "stdout",
          "text": [
            "Informe a medida em metros: 6\n",
            "6000.0 mm\n"
          ]
        }
      ],
      "source": [
        "mm=float(input(\"Informe a medida em metros: \"))*1000\n",
        "print(f'{mm} mm')"
      ]
    },
    {
      "cell_type": "markdown",
      "metadata": {
        "cell_id": "00015-b23a0380-40f6-4c72-9e3d-c4454e1204c4",
        "deepnote_cell_type": "markdown",
        "tags": [],
        "id": "HQwULFjWdQm1"
      },
      "source": [
        "## Exercício 13\n",
        "Dado o número de dias, horas e minutos, transforme tudo para segundos e some o resultado!"
      ]
    },
    {
      "cell_type": "code",
      "execution_count": 17,
      "metadata": {
        "colab": {
          "base_uri": "https://localhost:8080/"
        },
        "id": "K1eF5snydQm3",
        "outputId": "0401e335-4aa2-439a-e90d-e06b647038d7"
      },
      "outputs": [
        {
          "output_type": "stream",
          "name": "stdout",
          "text": [
            "Informe a quantidade de dias: 2\n",
            "Informe a quantidade de horas: 4\n",
            "Informe a quantidade de minutos: 5\n",
            "187500\n"
          ]
        }
      ],
      "source": [
        "dia=int(input(\"Informe a quantidade de dias: \"))*24*60*60\n",
        "horas=int(input(\"Informe a quantidade de horas: \"))*3600\n",
        "minutos=int(input(\"Informe a quantidade de minutos: \"))*60\n",
        "print(dia+horas+minutos)"
      ]
    },
    {
      "cell_type": "markdown",
      "metadata": {
        "cell_id": "00016-6d412b56-38d6-4d0e-9a88-b039d5eec743",
        "deepnote_cell_type": "markdown",
        "tags": [],
        "id": "Q64AOzvbdQm4"
      },
      "source": [
        "## Exercício 14\n",
        "Quantos segundos você já viveu? <br>\n",
        "Dado a idade em anos de uma pessoa, informe quantos segundos ela já viveu!"
      ]
    },
    {
      "cell_type": "code",
      "execution_count": 19,
      "metadata": {
        "colab": {
          "base_uri": "https://localhost:8080/"
        },
        "id": "tIJcNrebdQm6",
        "outputId": "1a3a3b5c-edb2-4a4f-dbb4-d8a4ce7e98ea"
      },
      "outputs": [
        {
          "output_type": "stream",
          "name": "stdout",
          "text": [
            "Informe sua idade: 5\n",
            "157680000.0 segundos de vida uhullll\n"
          ]
        }
      ],
      "source": [
        "anos=float(input(\"Informe sua idade: \"))*31536000\n",
        "print(f\"{anos} segundos de vida uhullll\")"
      ]
    },
    {
      "cell_type": "markdown",
      "metadata": {
        "cell_id": "00017-f796480d-8c3f-42a9-ad70-3fc6b00506a8",
        "deepnote_cell_type": "markdown",
        "tags": [],
        "id": "TaAM8k92dQm6"
      },
      "source": [
        "## Exercício 15\n",
        "Aumento salarial! <br>\n",
        "A partir do salário informado pelo usuário e o percentual desejado de aumento do mesmo, calcule o novo valor do salário"
      ]
    },
    {
      "cell_type": "code",
      "execution_count": 21,
      "metadata": {
        "colab": {
          "base_uri": "https://localhost:8080/"
        },
        "id": "WMeu2Oq8dQm8",
        "outputId": "9c3667c8-0fea-4492-c5b9-afcf5764a714"
      },
      "outputs": [
        {
          "output_type": "stream",
          "name": "stdout",
          "text": [
            "Informe seu salario: 500\n",
            "Informe a taxa: 25\n",
            "Salário Atual: 625.0\n"
          ]
        }
      ],
      "source": [
        "sal=float(input(\"Informe seu salario: \"))\n",
        "taxa=float(input(\"Informe a taxa: \"))/100+1\n",
        "print(f'Salário Atual: {sal*taxa}')"
      ]
    },
    {
      "cell_type": "markdown",
      "metadata": {
        "cell_id": "00018-36d850b4-72c0-4593-b5c2-cef7edfb2a80",
        "deepnote_cell_type": "markdown",
        "tags": [],
        "id": "x0DZTZGSdQm9"
      },
      "source": [
        "## Exercício 17\n",
        "Utilizando o Python, descubra se o número 5776 é divisivel por 3"
      ]
    },
    {
      "cell_type": "code",
      "execution_count": 23,
      "metadata": {
        "colab": {
          "base_uri": "https://localhost:8080/"
        },
        "id": "MRJkpbqTdQm-",
        "outputId": "7f1ab366-c86f-427a-d432-31f3432143a5"
      },
      "outputs": [
        {
          "output_type": "execute_result",
          "data": {
            "text/plain": [
              "False"
            ]
          },
          "metadata": {},
          "execution_count": 23
        }
      ],
      "source": [
        "5776%3==0"
      ]
    },
    {
      "cell_type": "markdown",
      "metadata": {
        "id": "r0BRVIIqdQm_"
      },
      "source": [
        "O resto da divisão de 5776 por 3 não resulto em 0 e sim em 1, logo 5776 não é divisivel por 3!"
      ]
    },
    {
      "cell_type": "markdown",
      "metadata": {
        "cell_id": "00019-34389055-61e8-4abe-84d3-bac4c10aba73",
        "deepnote_cell_type": "markdown",
        "tags": [],
        "id": "-m_SS_MRdQnB"
      },
      "source": [
        "## Exercício 18\n",
        "Ta frio ou ta quente? Dado uma temperatura em Celsius transforme-a para Fahrenheit <br>\n",
        "Dica: F = 9*C/5 + 32.8"
      ]
    },
    {
      "cell_type": "code",
      "execution_count": 24,
      "metadata": {
        "colab": {
          "base_uri": "https://localhost:8080/"
        },
        "id": "6sT6vBd-dQnD",
        "outputId": "65a97449-03ac-47e6-a7c6-97a39e9055f6"
      },
      "outputs": [
        {
          "output_type": "stream",
          "name": "stdout",
          "text": [
            "Informe a temperatura em Celsius: 5\n",
            "A temperatura em Fahrenheit é: 41.80\n"
          ]
        }
      ],
      "source": [
        "C=float(input(\"Informe a temperatura em Celsius: \"))\n",
        "print(f\"A temperatura em Fahrenheit é: {(9*C/5 + 32.8):.2f}\")"
      ]
    },
    {
      "cell_type": "markdown",
      "metadata": {
        "cell_id": "00020-862b7b58-ef67-487f-9a3a-05ff168f4f3a",
        "deepnote_cell_type": "markdown",
        "tags": [],
        "id": "EuwjqqaCdQnE"
      },
      "source": [
        "## Exercício 19\n",
        "Corriga o código abaixo para que ele funcione. O resultado esperado é que o programa retorne a soma dos números informados pelo usuário."
      ]
    },
    {
      "cell_type": "code",
      "execution_count": null,
      "metadata": {
        "id": "UXftZUBadQnH",
        "outputId": "45fc1a41-33e4-4ebe-f141-6454d69a0c29"
      },
      "outputs": [
        {
          "name": "stdout",
          "output_type": "stream",
          "text": [
            "53\n",
            "103\n",
            "33\n"
          ]
        }
      ],
      "source": [
        "a = input(5)\n",
        "b = input(10)\n",
        "print(a+b)"
      ]
    },
    {
      "cell_type": "code",
      "execution_count": null,
      "metadata": {
        "cell_id": "00021-d2025b5d-24c3-4bf3-aec9-796148e24553",
        "deepnote_cell_type": "markdown",
        "tags": [],
        "id": "hblwQ6fodQnO"
      },
      "outputs": [],
      "source": [
        ""
      ]
    },
    {
      "cell_type": "markdown",
      "metadata": {
        "cell_id": "00022-2ea46d70-8018-4d95-b69e-4f76df1e494b",
        "deepnote_cell_type": "markdown",
        "tags": [],
        "id": "_v7xwomQdQnP"
      },
      "source": [
        "## Exercício 20\n",
        "Execute o código abaixo e explique o erro:"
      ]
    },
    {
      "cell_type": "code",
      "execution_count": null,
      "metadata": {
        "id": "Wc8G7H6SdQnQ",
        "outputId": "76bfa485-7e11-45ab-9f3a-553d3605c2e6"
      },
      "outputs": [
        {
          "ename": "ZeroDivisionError",
          "evalue": "division by zero",
          "output_type": "error",
          "traceback": [
            "\u001b[1;31m---------------------------------------------------------------------------\u001b[0m",
            "\u001b[1;31mZeroDivisionError\u001b[0m                         Traceback (most recent call last)",
            "\u001b[1;32m<ipython-input-47-9f98af1fa1ad>\u001b[0m in \u001b[0;36m<module>\u001b[1;34m\u001b[0m\n\u001b[1;32m----> 1\u001b[1;33m \u001b[0mprint\u001b[0m\u001b[1;33m(\u001b[0m\u001b[1;33m(\u001b[0m\u001b[1;36m38\u001b[0m\u001b[1;33m+\u001b[0m\u001b[1;36m16\u001b[0m\u001b[1;33m)\u001b[0m\u001b[1;33m*\u001b[0m\u001b[1;36m11\u001b[0m\u001b[1;33m/\u001b[0m\u001b[1;33m(\u001b[0m\u001b[1;36m15\u001b[0m\u001b[1;33m-\u001b[0m\u001b[1;36m17\u001b[0m\u001b[1;33m+\u001b[0m\u001b[1;36m2\u001b[0m\u001b[1;33m)\u001b[0m\u001b[1;33m)\u001b[0m\u001b[1;33m\u001b[0m\u001b[1;33m\u001b[0m\u001b[0m\n\u001b[0m",
            "\u001b[1;31mZeroDivisionError\u001b[0m: division by zero"
          ]
        }
      ],
      "source": [
        "print((38+16)*11/(15-17+2))"
      ]
    },
    {
      "cell_type": "markdown",
      "metadata": {
        "id": "XNgJSYMkdQnR"
      },
      "source": [
        "Caraca! Deu erro!!!! Não se preocupe! Os erros são nossos amigos. Eles nos informam o que fizemos de errado e onde.\n",
        "Nesse caso na linha 1, cometemos o erro  *ZeroDivisionError*, ou seja, tentamos dividir por zero.Como isso não é possível,\n",
        "nosso amigo Python nos alertou sobre isso!!!"
      ]
    },
    {
      "cell_type": "markdown",
      "metadata": {
        "cell_id": "00023-470f2509-76dc-4adf-816e-5e245e938b8b",
        "deepnote_cell_type": "markdown",
        "tags": [],
        "id": "D6AmlD-ddQnT"
      },
      "source": [
        "## Exercício 22\n",
        "Sandra investiu R$1000,00 na sua conta no Banco \"Rende +\" por um ano.Sabendo que seu investimento rende 0.02% por dia útil, qual o montante Sandra terá após 7 semanas de investimento?\n"
      ]
    },
    {
      "cell_type": "code",
      "execution_count": 25,
      "metadata": {
        "colab": {
          "base_uri": "https://localhost:8080/"
        },
        "id": "S6CX-5R7dQnU",
        "outputId": "57f6f4bb-2bdd-4863-f2be-47edd65bcc6f"
      },
      "outputs": [
        {
          "output_type": "stream",
          "name": "stdout",
          "text": [
            "1009.8471877316115\n"
          ]
        }
      ],
      "source": [
        "print(1000*(1+0.0002)**49)"
      ]
    },
    {
      "cell_type": "code",
      "execution_count": null,
      "metadata": {
        "id": "5lZ0FrardQnV"
      },
      "outputs": [],
      "source": [
        ""
      ]
    },
    {
      "cell_type": "code",
      "execution_count": null,
      "metadata": {
        "id": "zrINdP5QdQnX"
      },
      "outputs": [],
      "source": [
        ""
      ]
    },
    {
      "cell_type": "markdown",
      "metadata": {
        "cell_id": "00021-ca4e6b01-bb13-4684-bdd3-d08328baebb9",
        "deepnote_cell_type": "markdown",
        "tags": [],
        "id": "_tPz2F3RdQnY"
      },
      "source": [
        ""
      ]
    },
    {
      "cell_type": "markdown",
      "metadata": {
        "cell_id": "00006-2d589f6f-e584-4d33-9241-6337cd28f35d",
        "deepnote_cell_type": "markdown",
        "tags": [],
        "id": "0bTk8XIVdQnY"
      },
      "source": [
        "## Bônus\n",
        "1- Você consegue repetir todos esses exercícios no VSCode?\n",
        "Obs: Não precisa fazer hoje!!😅"
      ]
    },
    {
      "cell_type": "markdown",
      "metadata": {
        "created_in_deepnote_cell": true,
        "deepnote_cell_type": "markdown",
        "tags": [],
        "id": "Wdr73mX7dQnZ"
      },
      "source": [
        "<a style='text-decoration:none;line-height:16px;display:flex;color:#5B5B62;padding:10px;justify-content:end;' href='https://deepnote.com?utm_source=created-in-deepnote-cell&projectId=365ce906-43f9-4c18-8b32-7d1882be1090' target=\"_blank\">\n",
        "<img alt='Created in deepnote.com' style='display:inline;max-height:16px;margin:0px;margin-right:7.5px;' src='data:image/svg+xml;base64,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' > </img>\n",
        "Created in <span style='font-weight:600;margin-left:4px;'>Deepnote</span></a>"
      ]
    }
  ],
  "metadata": {
    "deepnote": {
      "is_reactive": false
    },
    "deepnote_execution_queue": [],
    "deepnote_notebook_id": "20baba61-9256-48a1-8eac-728e83a54b3b",
    "hide_input": false,
    "kernelspec": {
      "display_name": "Python 3 (ipykernel)",
      "language": "python",
      "name": "python3"
    },
    "language_info": {
      "codemirror_mode": {
        "name": "ipython",
        "version": 3
      },
      "file_extension": ".py",
      "mimetype": "text/x-python",
      "name": "python",
      "nbconvert_exporter": "python",
      "pygments_lexer": "ipython3",
      "version": "3.9.7"
    },
    "colab": {
      "name": "nano_desafio_1.ipynb",
      "provenance": []
    }
  },
  "nbformat": 4,
  "nbformat_minor": 0
}