{
  "cells": [
    {
      "cell_type": "markdown",
      "id": "ae515778",
      "metadata": {
        "id": "ae515778"
      },
      "source": [
        "#### EXERCICIO C1 Inversão"
      ]
    },
    {
      "cell_type": "markdown",
      "id": "098bdb39",
      "metadata": {
        "id": "098bdb39"
      },
      "source": [
        "- O programa deve fazer a leitura de duas variáveis(strings)\n",
        "\n",
        "- Os valores devem ser registrados em var1 e var2\n",
        "\n",
        "- O programa deve inverter os valores, ou seja, o valor de var1 deve substiutir o de var2 e vice-versa.\n",
        "\n",
        "- o programa deve imprimir as variáveis invertidas"
      ]
    },
    {
      "cell_type": "code",
      "execution_count": 1,
      "id": "e21c10dc",
      "metadata": {
        "colab": {
          "base_uri": "https://localhost:8080/"
        },
        "id": "e21c10dc",
        "outputId": "b9f22ec2-00ad-4e0a-e50a-4258119adefb"
      },
      "outputs": [
        {
          "output_type": "stream",
          "name": "stdout",
          "text": [
            "5 4\n",
            "4 5\n"
          ]
        }
      ],
      "source": [
        "var1,var2=input().split()\n",
        "print(var2,var1)"
      ]
    },
    {
      "cell_type": "markdown",
      "id": "e8437a6d",
      "metadata": {
        "id": "e8437a6d"
      },
      "source": [
        "#### EXERCICIO C2 Operações"
      ]
    },
    {
      "cell_type": "markdown",
      "id": "5cca27a7",
      "metadata": {
        "id": "5cca27a7"
      },
      "source": [
        " - O programa deve ler um número inteiro\n",
        "\n",
        " - O antecessor desse número\n",
        " \n",
        " - O sucessor desse número\n",
        " \n",
        " - Esse número elevado a potência 2"
      ]
    },
    {
      "cell_type": "code",
      "execution_count": 4,
      "id": "579460a9",
      "metadata": {
        "colab": {
          "base_uri": "https://localhost:8080/"
        },
        "id": "579460a9",
        "outputId": "7c5ad778-312d-43da-8357-34aac179e300"
      },
      "outputs": [
        {
          "output_type": "stream",
          "name": "stdout",
          "text": [
            "5\n",
            "sucessor: 6 antecessor:4 potencia:25\n"
          ]
        }
      ],
      "source": [
        "programa=int(input())\n",
        "s=programa+1\n",
        "a=programa-1\n",
        "pot=programa**2\n",
        "print(f'sucessor: {s} antecessor:{a} potencia:{pot}')"
      ]
    },
    {
      "cell_type": "markdown",
      "id": "d8ffdb97",
      "metadata": {
        "id": "d8ffdb97"
      },
      "source": [
        "##### Exercicio C3 Porcentagem"
      ]
    },
    {
      "cell_type": "markdown",
      "id": "b3144673",
      "metadata": {
        "id": "b3144673"
      },
      "source": [
        "Você é responsável por calcular as estatísticas de  uma gincana. Conforme os participantes conseguissem realizar as provas recebiam uma camiseta vermelha ou amarela.\n",
        "\n",
        "- O programa deve ler  a quantidade total de participantes(informado pelo usuário)\n",
        "- O programa deve ler o total de pessoas com camisas amarelas(informado pelo usuário)\n",
        "- O programa deve ler o percentual de pessoas com camisas amarelas e vermelhas\n",
        " "
      ]
    },
    {
      "cell_type": "code",
      "execution_count": 7,
      "id": "053a9814",
      "metadata": {
        "colab": {
          "base_uri": "https://localhost:8080/"
        },
        "id": "053a9814",
        "outputId": "bc37c89c-27d9-4b2d-e629-d43424c3ec7a"
      },
      "outputs": [
        {
          "output_type": "stream",
          "name": "stdout",
          "text": [
            "Total de participantes: 150\n",
            "Total de participantes do time amarelo: 5\n",
            "camisas amarelas:3.33 camisas vermelha: 96.67\n"
          ]
        }
      ],
      "source": [
        "total=int(input(\"Total de participantes: \"))\n",
        "total_amarelos=int(input(\"Total de participantes do time amarelo: \"))\n",
        "total_vermelhos=total-total_amarelos\n",
        "pa=(total_amarelos/total)*100\n",
        "pm=(total_vermelhos/total)*100\n",
        "print(f\"camisas amarelas:{pa:.2f} camisas vermelha: {pm:.2f}\")"
      ]
    },
    {
      "cell_type": "code",
      "execution_count": null,
      "id": "5e7c69d7",
      "metadata": {
        "id": "5e7c69d7"
      },
      "outputs": [],
      "source": [
        ""
      ]
    }
  ],
  "metadata": {
    "kernelspec": {
      "display_name": "Python 3",
      "language": "python",
      "name": "python3"
    },
    "language_info": {
      "codemirror_mode": {
        "name": "ipython",
        "version": 3
      },
      "file_extension": ".py",
      "mimetype": "text/x-python",
      "name": "python",
      "nbconvert_exporter": "python",
      "pygments_lexer": "ipython3",
      "version": "3.8.8"
    },
    "colab": {
      "name": "ExercíciosComplementares .ipynb",
      "provenance": []
    }
  },
  "nbformat": 4,
  "nbformat_minor": 5
}