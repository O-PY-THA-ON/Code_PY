{
  "cells": [
    {
      "cell_type": "code",
      "execution_count": null,
      "metadata": {
        "cell_id": "2d9dace3-8651-4ae5-827b-de8276cd19d2",
        "deepnote_cell_height": 81,
        "deepnote_cell_type": "code",
        "deepnote_to_be_reexecuted": false,
        "execution_millis": 1,
        "execution_start": 1651931093756,
        "source_hash": "f7e231c6",
        "tags": [],
        "id": "LaCjFNz-9KId"
      },
      "outputs": [],
      "source": [
        "# Start wri"
      ]
    },
    {
      "cell_type": "markdown",
      "metadata": {
        "cell_id": "095ca695962a457c843a1ee5b9ca8e4e",
        "deepnote_cell_height": 239.953125,
        "deepnote_cell_type": "markdown",
        "tags": [],
        "id": "9JstyrcK9KIx"
      },
      "source": [
        "## Exercício 1\n",
        "\n",
        "Escreva um programa que pede o raio(r) de um círculo para o usuário, e em seguida exiba o perímetro(P) e área(A) do círculo.\n",
        "\n",
        "Dica, para saber o valor de pi, use:\n",
        "\n",
        "import math\n",
        "\n",
        "print(math.pi)"
      ]
    },
    {
      "cell_type": "markdown",
      "metadata": {
        "cell_id": "34d955ba1aaf45a6b90399d846171c01",
        "deepnote_cell_height": 46,
        "deepnote_cell_type": "markdown",
        "tags": [],
        "id": "Mo_5ssP49KI7"
      },
      "source": [
        ""
      ]
    },
    {
      "cell_type": "code",
      "source": [
        "from math import floor"
      ],
      "metadata": {
        "id": "ef3EGAkO97TJ"
      },
      "execution_count": 6,
      "outputs": []
    },
    {
      "cell_type": "code",
      "source": [
        "def area(r):\n",
        "  a=(3.14*r**2)\n",
        "  return a"
      ],
      "metadata": {
        "id": "LWbHsNUe9W79"
      },
      "execution_count": 4,
      "outputs": []
    },
    {
      "cell_type": "code",
      "source": [
        "def perimetro(r):\n",
        "  p=(2*r*3.14)\n",
        "  return p"
      ],
      "metadata": {
        "id": "x96oyAI59Wp3"
      },
      "execution_count": 9,
      "outputs": []
    },
    {
      "cell_type": "code",
      "source": [
        "r=float(input(\"Digite o valor do raio: \"))\n",
        "print(f'O valor da área: {area(r):.2f} e o valor do perimetro: {perimetro(r):.2f}')"
      ],
      "metadata": {
        "colab": {
          "base_uri": "https://localhost:8080/"
        },
        "id": "kqTgJzyD-BQo",
        "outputId": "c3ee5104-8a58-4079-9808-1e71e1b3cfc4"
      },
      "execution_count": 11,
      "outputs": [
        {
          "output_type": "stream",
          "name": "stdout",
          "text": [
            "Digite o valor do raio: 3\n",
            "O valor da área: 28.00 e o valor da temperatura: 18.00\n"
          ]
        }
      ]
    },
    {
      "cell_type": "code",
      "execution_count": null,
      "metadata": {
        "cell_id": "82f1dc7d1d614b9c8691362ed9ee02e3",
        "deepnote_cell_height": 81,
        "deepnote_cell_type": "code",
        "deepnote_to_be_reexecuted": false,
        "execution_millis": 3,
        "execution_start": 1651931900460,
        "source_hash": "b623e53d",
        "tags": [],
        "id": "43jFyep39KJA"
      },
      "outputs": [],
      "source": [
        "print(f'O valor da área: {area(r):.2f} e o valor da temperatura: {perimetro(r):.2f}')"
      ]
    },
    {
      "cell_type": "markdown",
      "metadata": {
        "cell_id": "3489806b0785465fa3db48a2a78f9eac",
        "deepnote_cell_height": 153.171875,
        "deepnote_cell_type": "markdown",
        "tags": [],
        "id": "U-0yeoz39KJC"
      },
      "source": [
        "## Exercício 2\n",
        "Ler uma temperatura em graus Celsius e apresentá-la convertida em graus Fahrenheit.\n",
        "A fórmula de conversão é F = (9 * C + 160) / 5, na qual F é a temperatura em Fahrenheit e\n",
        "C é a temperatura em graus Celsius '''\n"
      ]
    },
    {
      "cell_type": "code",
      "execution_count": 13,
      "metadata": {
        "cell_id": "224445bd4e7c441d8e6675af92318bc8",
        "deepnote_cell_height": 66,
        "deepnote_cell_type": "code",
        "owner_user_id": "d001098f-5dea-4d4f-8c97-a79374dcf058",
        "tags": [],
        "colab": {
          "base_uri": "https://localhost:8080/"
        },
        "id": "sIEkoAwV9KJI",
        "outputId": "a6c5d60d-39eb-4897-e1ef-9551c8575af0"
      },
      "outputs": [
        {
          "output_type": "stream",
          "name": "stdout",
          "text": [
            "Digite aqui o valor da temperatura em graus celsius para conversão em Fahrenheit: 12\n",
            "53.60\n"
          ]
        }
      ],
      "source": [
        "## Exercício 2\n",
        "celsius=float(input(\"Digite aqui o valor da temperatura em graus celsius para conversão em Fahrenheit: \"))\n",
        "F = (9 * celsius + 160) / 5\n",
        "print(f'O valor da temperatura em Fahrenheit: {F:.2f}')"
      ]
    },
    {
      "cell_type": "markdown",
      "metadata": {
        "cell_id": "13b09b310251437ebba73a3df2349524",
        "deepnote_cell_height": 130.78125,
        "deepnote_cell_type": "markdown",
        "tags": [],
        "id": "Hf2O6d-e9KJL"
      },
      "source": [
        "## Exercício 3 \n",
        "\n",
        "Ler os valores de comprimento, largura e altura e apresentar o valor do volume de uma\n",
        "caixa retangular. Utilize para o cálculo a fórmula: VOLUME = COMPRIMENTO * LARGURA * ALTURA"
      ]
    },
    {
      "cell_type": "code",
      "execution_count": null,
      "metadata": {
        "cell_id": "c52144fee5a04652a0c5c66f62506151",
        "deepnote_cell_height": 81,
        "deepnote_cell_type": "code",
        "deepnote_to_be_reexecuted": false,
        "execution_millis": 0,
        "execution_start": 1651931882016,
        "source_hash": "b623e53d",
        "tags": [],
        "id": "CkrfVwOS9KJQ"
      },
      "outputs": [],
      "source": [
        "VOLUME=input(\"Digite aqui o comprimento, largura e altura, separados por espaço nessa linha: \").split()\n",
        "COMPRIMENTO=float(VOLUME[0]) \n",
        "LARGURA=float(VOLUME[1]) \n",
        "ALTURA=float(VOLUME[2])\n",
        "volume=COMPRIMENTO * LARGURA * ALTURA\n",
        "print(f'O volume é: {volume}')"
      ]
    },
    {
      "cell_type": "code",
      "execution_count": null,
      "metadata": {
        "cell_id": "9fd42bd766c54036bdf739e5ba06fc6a",
        "deepnote_cell_height": 81,
        "deepnote_cell_type": "code",
        "deepnote_to_be_reexecuted": true,
        "source_hash": "b623e53d",
        "tags": [],
        "id": "E4V84DWq9KJU"
      },
      "outputs": [],
      "source": [
        ""
      ]
    },
    {
      "cell_type": "markdown",
      "metadata": {
        "created_in_deepnote_cell": true,
        "deepnote_cell_type": "markdown",
        "tags": [],
        "id": "jJb7mCKD9KJY"
      },
      "source": [
        "<a style='text-decoration:none;line-height:16px;display:flex;color:#5B5B62;padding:10px;justify-content:end;' href='https://deepnote.com?utm_source=created-in-deepnote-cell&projectId=eec70b1f-d358-4411-8f87-859776d4c904' target=\"_blank\">\n",
        "<img alt='Created in deepnote.com' style='display:inline;max-height:16px;margin:0px;margin-right:7.5px;' src='data:image/svg+xml;base64,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' > </img>\n",
        "Created in <span style='font-weight:600;margin-left:4px;'>Deepnote</span></a>"
      ]
    }
  ],
  "metadata": {
    "deepnote": {},
    "deepnote_execution_queue": [],
    "deepnote_notebook_id": "b76372bf-ada3-4654-9d59-e3ecffb3ca7d",
    "kernelspec": {
      "display_name": "Python 3",
      "language": "python",
      "name": "python3"
    },
    "language_info": {
      "codemirror_mode": {
        "name": "ipython",
        "version": 3
      },
      "file_extension": ".py",
      "mimetype": "text/x-python",
      "name": "python",
      "nbconvert_exporter": "python",
      "pygments_lexer": "ipython3",
      "version": "3.8.8"
    },
    "colab": {
      "name": "2_Exercicios_input.ipynb",
      "provenance": [],
      "collapsed_sections": []
    }
  },
  "nbformat": 4,
  "nbformat_minor": 0
}