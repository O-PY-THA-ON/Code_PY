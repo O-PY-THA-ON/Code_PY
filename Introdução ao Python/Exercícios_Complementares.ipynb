{
  "cells": [
    {
      "cell_type": "markdown",
      "id": "63167b3b",
      "metadata": {
        "id": "63167b3b"
      },
      "source": [
        ""
      ]
    },
    {
      "cell_type": "markdown",
      "id": "488249e0",
      "metadata": {
        "id": "488249e0"
      },
      "source": [
        "#### Exercicio C1\n",
        "\n",
        "Crie uma função que receba como argumentos os dois valores de um retângulo e então retorne a Área e o Perímetro do retângulo. Chame a função com os argumentos 2 e 10 para verificar se funcionou corretamente."
      ]
    },
    {
      "cell_type": "code",
      "execution_count": 3,
      "id": "861a68ad",
      "metadata": {
        "id": "861a68ad"
      },
      "outputs": [],
      "source": [
        "def area():\n",
        "  a=float(input(\"Digite o valor de a: \"))\n",
        "  b=float(input(\"Digite o valor de b: \"))\n",
        "  ar=a*b\n",
        "  return ar\n",
        "def perimetro():\n",
        "  a=float(input(\"Digite o valor de a: \"))\n",
        "  b=float(input(\"Digite o valor de b: \"))\n",
        "  per=2*(a+b)\n",
        "  return per\n",
        "area()\n",
        "perimetro()"
      ]
    },
    {
      "cell_type": "code",
      "execution_count": null,
      "id": "b3f6ecc4",
      "metadata": {
        "id": "b3f6ecc4"
      },
      "outputs": [],
      "source": [
        ""
      ]
    },
    {
      "cell_type": "markdown",
      "id": "8d52f732",
      "metadata": {
        "id": "8d52f732"
      },
      "source": [
        "#### Exercício C2\n",
        "\n",
        "Chame um método que permita extrair o nome e a idade fornecidos separadamente. Em seguida, imprima os valores \"nome\" e \"idade\" para verificar seu resultado. Veja que o código abaixo está errado."
      ]
    },
    {
      "cell_type": "code",
      "execution_count": 2,
      "id": "47f90ffc",
      "metadata": {
        "colab": {
          "base_uri": "https://localhost:8080/"
        },
        "id": "47f90ffc",
        "outputId": "59d0275c-66de-4f33-f52c-e3f531582419"
      },
      "outputs": [
        {
          "output_type": "stream",
          "name": "stdout",
          "text": [
            "Peter\n",
            "24\n"
          ]
        }
      ],
      "source": [
        "nome, idade = 'Peter,24'.split(',')\n",
        "print(f\"\"\"{nome}\n",
        "{idade}\"\"\")"
      ]
    },
    {
      "cell_type": "code",
      "execution_count": null,
      "id": "6bfb72e8",
      "metadata": {
        "id": "6bfb72e8"
      },
      "outputs": [],
      "source": [
        ""
      ]
    },
    {
      "cell_type": "code",
      "execution_count": null,
      "id": "a2e070af",
      "metadata": {
        "id": "a2e070af"
      },
      "outputs": [],
      "source": [
        ""
      ]
    },
    {
      "cell_type": "markdown",
      "id": "37a184c3",
      "metadata": {
        "id": "37a184c3"
      },
      "source": [
        "#### Exercício C3 \n",
        "Obtenha o maior número(máximo) entre os valores 25, 65, 890 e 15.\n"
      ]
    },
    {
      "cell_type": "code",
      "execution_count": 4,
      "id": "ea171c98",
      "metadata": {
        "colab": {
          "base_uri": "https://localhost:8080/"
        },
        "id": "ea171c98",
        "outputId": "4384235c-58b2-4973-ca50-647aca6f1fc8"
      },
      "outputs": [
        {
          "output_type": "stream",
          "name": "stdout",
          "text": [
            "890\n"
          ]
        }
      ],
      "source": [
        "lista=[25, 65, 890 , 15]\n",
        "print(sorted(lista)[len(lista)-1])"
      ]
    },
    {
      "cell_type": "markdown",
      "id": "f6a4ef3b",
      "metadata": {
        "id": "f6a4ef3b"
      },
      "source": [
        "#### Exercício C4\n",
        "Conte quantos caracteres tem a palavra \"constituição\" usando uma função padrão do python"
      ]
    },
    {
      "cell_type": "code",
      "execution_count": 6,
      "id": "70eb10a0",
      "metadata": {
        "colab": {
          "base_uri": "https://localhost:8080/"
        },
        "id": "70eb10a0",
        "outputId": "6581cc41-4292-4542-a346-5b338579e89c"
      },
      "outputs": [
        {
          "output_type": "stream",
          "name": "stdout",
          "text": [
            "12\n"
          ]
        }
      ],
      "source": [
        "palavra=\"constituição\"\n",
        "print(len(palavra))"
      ]
    },
    {
      "cell_type": "markdown",
      "id": "c260de5d",
      "metadata": {
        "id": "c260de5d"
      },
      "source": [
        "##### Exercício C5\n",
        "Encontre a soma de todos os elementos na lista fornecida, chamada \"Numeros\"."
      ]
    },
    {
      "cell_type": "code",
      "execution_count": 7,
      "id": "9ee7c818",
      "metadata": {
        "colab": {
          "base_uri": "https://localhost:8080/"
        },
        "id": "9ee7c818",
        "outputId": "ffbdead5-174d-4b02-c8b4-d27884df1ca0"
      },
      "outputs": [
        {
          "output_type": "stream",
          "name": "stdout",
          "text": [
            "995\n"
          ]
        }
      ],
      "source": [
        "s=0\n",
        "for item in lista:s+=item\n",
        "print(s)  "
      ]
    },
    {
      "cell_type": "markdown",
      "id": "c29aa52c",
      "metadata": {
        "id": "c29aa52c"
      },
      "source": [
        "##### Exercício C6\n",
        "\n",
        "Crie uma função, chamada \"distancia_do_zero\", que retorne o valor absoluto de um único argumento fornecido e imprima uma declaração \"Impossível\" se o argumento fornecido não for um número. Chame a função com os valores de -15 e \"limão\" para verificar se funciona corretamente."
      ]
    },
    {
      "cell_type": "code",
      "execution_count": 8,
      "id": "e7a7e57f",
      "metadata": {
        "id": "e7a7e57f"
      },
      "outputs": [],
      "source": [
        "from math import pow,sqrt\n",
        "def distancia_do_zero(num):\n",
        "  return sqrt(pow(num,2))"
      ]
    },
    {
      "cell_type": "code",
      "execution_count": 9,
      "id": "a8b88f9f",
      "metadata": {
        "colab": {
          "base_uri": "https://localhost:8080/"
        },
        "id": "a8b88f9f",
        "outputId": "a772d7d3-4feb-4e7d-e065-c76a69918ecc"
      },
      "outputs": [
        {
          "name": "stdout",
          "output_type": "stream",
          "text": [
            "Digite um numero para saber o seu valor absoluto: -8\n"
          ]
        },
        {
          "output_type": "execute_result",
          "data": {
            "text/plain": [
              "8.0"
            ]
          },
          "metadata": {},
          "execution_count": 9
        }
      ],
      "source": [
        "num=int(input(\"Digite um numero para saber o seu valor absoluto: \"))\n",
        "distancia_do_zero(num)"
      ]
    },
    {
      "cell_type": "code",
      "execution_count": null,
      "id": "033a9e67",
      "metadata": {
        "id": "033a9e67"
      },
      "outputs": [],
      "source": [
        ""
      ]
    },
    {
      "cell_type": "markdown",
      "id": "5e50b3bc",
      "metadata": {
        "id": "5e50b3bc"
      },
      "source": [
        "##### Exercício C7\n",
        "\n",
        "Dada a lista:\n"
      ]
    },
    {
      "cell_type": "code",
      "execution_count": 11,
      "id": "939dd2ef",
      "metadata": {
        "id": "939dd2ef"
      },
      "outputs": [],
      "source": [
        "Numeros = [15, 40, 50, 100, 115, 140]"
      ]
    },
    {
      "cell_type": "markdown",
      "id": "1f00fc88",
      "metadata": {
        "id": "1f00fc88"
      },
      "source": [
        "Usando o fatiamento de lista(slicing), obtenha os números 100 e 115."
      ]
    },
    {
      "cell_type": "code",
      "execution_count": 13,
      "id": "4b133183",
      "metadata": {
        "colab": {
          "base_uri": "https://localhost:8080/"
        },
        "id": "4b133183",
        "outputId": "2629c2dd-8fb1-45ee-c66a-44a016190355"
      },
      "outputs": [
        {
          "output_type": "stream",
          "name": "stdout",
          "text": [
            "100 115\n"
          ]
        }
      ],
      "source": [
        "lis=[]\n",
        "for item in Numeros:\n",
        "  if item==100:lis.append(item)\n",
        "  if item==115:lis.append(item)  \n",
        "print(*lis)  "
      ]
    },
    {
      "cell_type": "markdown",
      "id": "b12b14ea",
      "metadata": {
        "id": "b12b14ea"
      },
      "source": [
        "Usando o fatiamento, extraia os quatro primeiros elementos da lista."
      ]
    },
    {
      "cell_type": "code",
      "source": [
        "lis1=[]"
      ],
      "metadata": {
        "id": "2F6Q140PRkTq"
      },
      "id": "2F6Q140PRkTq",
      "execution_count": 15,
      "outputs": []
    },
    {
      "cell_type": "code",
      "execution_count": 16,
      "id": "00ed5635",
      "metadata": {
        "colab": {
          "base_uri": "https://localhost:8080/"
        },
        "id": "00ed5635",
        "outputId": "e191fa5d-7cbd-48b0-b6e4-fb7612406843"
      },
      "outputs": [
        {
          "output_type": "stream",
          "name": "stdout",
          "text": [
            "15 40 50 100\n"
          ]
        }
      ],
      "source": [
        "for item in range(0,4):\n",
        "  lis1.append(Numeros[item])\n",
        "print(*lis1)"
      ]
    },
    {
      "cell_type": "markdown",
      "id": "abd4bef4",
      "metadata": {
        "id": "abd4bef4"
      },
      "source": [
        "Qual é a posição do valor 40?"
      ]
    },
    {
      "cell_type": "code",
      "execution_count": 17,
      "id": "6bd19d45",
      "metadata": {
        "colab": {
          "base_uri": "https://localhost:8080/"
        },
        "id": "6bd19d45",
        "outputId": "cf007204-5ce8-470b-f3fd-a853756c13f9"
      },
      "outputs": [
        {
          "output_type": "stream",
          "name": "stdout",
          "text": [
            "1\n"
          ]
        }
      ],
      "source": [
        "print(Numeros.index(40))"
      ]
    },
    {
      "cell_type": "markdown",
      "id": "4a954096",
      "metadata": {
        "id": "4a954096"
      },
      "source": [
        "Ordene todos os números na lista \"Números\" do maior para o menor."
      ]
    },
    {
      "cell_type": "code",
      "execution_count": 18,
      "id": "7b193bd9",
      "metadata": {
        "colab": {
          "base_uri": "https://localhost:8080/"
        },
        "id": "7b193bd9",
        "outputId": "a2d0c98c-712c-4532-d0ce-9755dcf7b293"
      },
      "outputs": [
        {
          "output_type": "stream",
          "name": "stdout",
          "text": [
            "[15, 40, 50, 100, 115, 140]\n"
          ]
        }
      ],
      "source": [
        "print(sorted(Numeros))"
      ]
    },
    {
      "cell_type": "markdown",
      "id": "f9d925ca",
      "metadata": {
        "id": "f9d925ca"
      },
      "source": [
        "##### Exercício C8\n",
        "Use a função range para criar uma lista com todos os números pares de 0 a 30 incluídos."
      ]
    },
    {
      "cell_type": "code",
      "execution_count": 19,
      "id": "380ca9f5",
      "metadata": {
        "colab": {
          "base_uri": "https://localhost:8080/"
        },
        "id": "380ca9f5",
        "outputId": "9df36698-d723-4cdc-8c90-8ca609aa1bed"
      },
      "outputs": [
        {
          "output_type": "stream",
          "name": "stdout",
          "text": [
            "0\n",
            "1\n",
            "2\n",
            "3\n",
            "4\n",
            "5\n",
            "6\n",
            "7\n",
            "8\n",
            "9\n",
            "10\n",
            "11\n",
            "12\n",
            "13\n",
            "14\n",
            "15\n",
            "16\n",
            "17\n",
            "18\n",
            "19\n",
            "20\n",
            "21\n",
            "22\n",
            "23\n",
            "24\n",
            "25\n",
            "26\n",
            "27\n",
            "28\n",
            "29\n",
            "30\n"
          ]
        }
      ],
      "source": [
        "for c in range(0,31):\n",
        "  print(c)"
      ]
    },
    {
      "cell_type": "markdown",
      "id": "b455bdff",
      "metadata": {
        "id": "b455bdff"
      },
      "source": [
        "##### Exercício C9\n",
        "Defina uma função que dado um número adicione 5. Em seguida, defina outra função que irá multiplicar o número recém-obtido por 3. Verifique se seu código estava correto chamando a segunda função com um argumento de 5. Sua saída foi igual a 30?"
      ]
    },
    {
      "cell_type": "code",
      "execution_count": 22,
      "id": "3922c318",
      "metadata": {
        "colab": {
          "base_uri": "https://localhost:8080/"
        },
        "id": "3922c318",
        "outputId": "7c144f4f-c554-4c99-9b09-66887707a4bc"
      },
      "outputs": [
        {
          "output_type": "execute_result",
          "data": {
            "text/plain": [
              "30"
            ]
          },
          "metadata": {},
          "execution_count": 22
        }
      ],
      "source": [
        "num=5\n",
        "def soma(num):\n",
        "  s=num+5\n",
        "  return s\n",
        "def mux(num):\n",
        "  m=num*3\n",
        "  return m\n",
        "mux(soma(num))  "
      ]
    },
    {
      "cell_type": "code",
      "execution_count": null,
      "id": "f83cf971",
      "metadata": {
        "id": "f83cf971"
      },
      "outputs": [],
      "source": [
        ""
      ]
    },
    {
      "cell_type": "code",
      "execution_count": null,
      "id": "b46a6899",
      "metadata": {
        "id": "b46a6899"
      },
      "outputs": [],
      "source": [
        ""
      ]
    }
  ],
  "metadata": {
    "kernelspec": {
      "display_name": "Python 3",
      "language": "python",
      "name": "python3"
    },
    "language_info": {
      "codemirror_mode": {
        "name": "ipython",
        "version": 3
      },
      "file_extension": ".py",
      "mimetype": "text/x-python",
      "name": "python",
      "nbconvert_exporter": "python",
      "pygments_lexer": "ipython3",
      "version": "3.8.8"
    },
    "colab": {
      "name": "Exercícios_Complementares.ipynb",
      "provenance": [],
      "collapsed_sections": []
    }
  },
  "nbformat": 4,
  "nbformat_minor": 5
}