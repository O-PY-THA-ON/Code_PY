{
  "cells": [
    {
      "cell_type": "markdown",
      "id": "0ec33545",
      "metadata": {
        "id": "0ec33545"
      },
      "source": [
        "##### 1. Escreva um programa em Python que dado uma palavra imprima a primeira letra, a letra do meio e a última letra"
      ]
    },
    {
      "cell_type": "code",
      "execution_count": 4,
      "id": "f086781d",
      "metadata": {
        "colab": {
          "base_uri": "https://localhost:8080/"
        },
        "id": "f086781d",
        "outputId": "1faddfb7-d996-43a0-e036-c535098bf9e8"
      },
      "outputs": [
        {
          "output_type": "stream",
          "name": "stdout",
          "text": [
            "Digite uma palavra:oioioi\n",
            " 1 letra: o 2 letra: i 3 letra: i\n"
          ]
        }
      ],
      "source": [
        "from math import floor\n",
        "palavra=input(\"Digite uma palavra:\")\n",
        "primeira_letra=palavra[0]\n",
        "meio_palavra=(palavra[floor(len(palavra)/2)])\n",
        "ultila_letra=palavra[len(palavra)-1]\n",
        "print(f' 1 letra: {primeira_letra} 2 letra: {meio_palavra} 3 letra: {ultila_letra}')"
      ]
    },
    {
      "cell_type": "markdown",
      "id": "cf9fada9",
      "metadata": {
        "id": "cf9fada9"
      },
      "source": [
        "#### 2 - Escreva um programa inverta uma determinada palavra dada como entrada"
      ]
    },
    {
      "cell_type": "code",
      "execution_count": 5,
      "id": "b846b6de",
      "metadata": {
        "colab": {
          "base_uri": "https://localhost:8080/"
        },
        "id": "b846b6de",
        "outputId": "0e9b3b61-cc22-4a4b-ed7d-f5e28f097696"
      },
      "outputs": [
        {
          "output_type": "stream",
          "name": "stdout",
          "text": [
            "ioioio\n"
          ]
        }
      ],
      "source": [
        "print(palavra[::-1])"
      ]
    },
    {
      "cell_type": "code",
      "execution_count": null,
      "id": "0a81a03c",
      "metadata": {
        "id": "0a81a03c"
      },
      "outputs": [],
      "source": [
        ""
      ]
    }
  ],
  "metadata": {
    "kernelspec": {
      "display_name": "Python 3",
      "language": "python",
      "name": "python3"
    },
    "language_info": {
      "codemirror_mode": {
        "name": "ipython",
        "version": 3
      },
      "file_extension": ".py",
      "mimetype": "text/x-python",
      "name": "python",
      "nbconvert_exporter": "python",
      "pygments_lexer": "ipython3",
      "version": "3.8.8"
    },
    "colab": {
      "name": "Exercícios - Strings.ipynb",
      "provenance": [],
      "collapsed_sections": []
    }
  },
  "nbformat": 4,
  "nbformat_minor": 5
}