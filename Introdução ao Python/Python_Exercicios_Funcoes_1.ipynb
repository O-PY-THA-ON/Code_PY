{
  "cells": [
    {
      "cell_type": "markdown",
      "metadata": {
        "cell_id": "117e6e7a-5905-4ab7-9394-a65721e9b527",
        "deepnote_cell_height": 266.34375,
        "deepnote_cell_type": "markdown",
        "id": "c9BudZ2gNE2n"
      },
      "source": [
        "# Exercício 1\n",
        "\n",
        "Ler uma temperatura em graus Celsius e apresentá-la convertida em graus Fahrenheit. A fórmula de conversão é F = (9 * C + 160) / 5, na qual F é a temperatura em Fahrenheit e C é a temperatura em graus Celsius\n",
        "- Função para ler e retorna o valor da temperatura (não recebe parâmetro)\n",
        "- Função para fazer o cálculo (recebe como parâmetro a temperatura em graus Celsius)\n",
        "- Função para mostrar o resultado, recebendo como parâmetro o valor e fazendo a impressão\n"
      ]
    },
    {
      "cell_type": "code",
      "execution_count": 26,
      "metadata": {
        "cell_id": "00001-7b4105aa-fa98-422f-9c5d-2e538f3dc456",
        "deepnote_cell_height": 102,
        "deepnote_cell_type": "code",
        "id": "SVlPSs0oS1XU",
        "colab": {
          "base_uri": "https://localhost:8080/"
        },
        "outputId": "ca95e74a-ac71-4780-b239-69da073bb699"
      },
      "outputs": [
        {
          "output_type": "stream",
          "name": "stdout",
          "text": [
            "Insira a temperatura em celsius para ter em Fahrenheit:  5\n",
            "A temperatura informada: 5\n",
            "resultado: 41.0\n"
          ]
        },
        {
          "output_type": "execute_result",
          "data": {
            "text/plain": [
              "41.0"
            ]
          },
          "metadata": {},
          "execution_count": 26
        }
      ],
      "source": [
        "#Exercício 1\n",
        "#Ler uma temperatura em graus Celsius e apresentá-la convertida em graus Fahrenheit. A fórmula de conversão é F = (9 * C + 160) / 5, na qual F é a temperatura em Fahrenheit e C é a temperatura em graus Celsius\n",
        "\n",
        "#Função para ler e retorna o valor da temperatura (não recebe parâmetro)\n",
        "#Função para fazer o cálculo (recebe como parâmetro a temperatura em graus Celsius)\n",
        "celsius=int(input(\"Insira a temperatura em celsius para ter em Fahrenheit:  \"))\n",
        "#Função para ler e retorna o valor da temperatura (não recebe parâmetro)\n",
        "def leitura():\n",
        "    print(f\"A temperatura informada: {celsius}\")\n",
        "    return celsius    \n",
        "leitura ()       \n",
        "\n",
        "#Função para fazer o cálculo (recebe como parâmetro a temperatura em graus Celsius)\n",
        "def formula (celsius):\n",
        "    far1=(9*celsius+160)/5\n",
        "    return far1\n",
        "    \n",
        "\n",
        "\n",
        "#Função para mostrar o resultado, recebendo como parâmetro o valor e fazendo a impressão\n",
        "def resultado():\n",
        "    far=formula(celsius)\n",
        "    print(f\"resultado: {far}\")\n",
        "    return far\n",
        "resultado()\n"
      ]
    },
    {
      "cell_type": "code",
      "execution_count": null,
      "metadata": {
        "cell_id": "00004-a7ee3187-9d49-4a9e-add5-8521eac80ace",
        "deepnote_cell_height": 168.375,
        "deepnote_cell_type": "code",
        "id": "I4JsEBXLeSUI"
      },
      "outputs": [],
      "source": [
        ""
      ]
    },
    {
      "cell_type": "markdown",
      "metadata": {
        "cell_id": "00005-063dd9bf-21aa-41c3-8864-c85ab13e149e",
        "deepnote_cell_height": 381.296875,
        "deepnote_cell_type": "markdown",
        "id": "-44bufKRbeBf"
      },
      "source": [
        "# Exercício 2\n",
        "\n",
        "Efetuar o cálculo da quantidade de litros de combustível gasto em uma viagem, utilizando um automóvel que faz 12 Km por litro. Para obter o cálculo, o usuário deve fornecer o tempo gasto na viagem e a velocidade média durante ela. Desta forma, será possível obter a distância percorrida com a fórmula DISTANCIA = TEMPO * VELOCIDADE. Tendo o valor da distância, basta calcular a quantidade de litros de combustível utilizada na viagem, com a fórmula: LITROS_USADOS = DISTANCIA / 12. O programa deve apresentar os valores da velocidade média, tempo gasto na viagem, a distância percorrida e a quantidade de litros utilizada na viagem\n",
        "- Função para ler os valores (não recebe parâmetro e retorna os dois valores)\n",
        "- Função para calcular a distância (recebe como parâmetro o tempo e a velocidade e retorna a distância)\n",
        "- Função para calcular a quantidade de litros (recebe como parâmetro a distância e retorna os litros)\n",
        "- Função para apresentar o resultado (recebe como parâmetro os valores e somente imprime o resultado)"
      ]
    },
    {
      "cell_type": "code",
      "execution_count": 36,
      "metadata": {
        "cell_id": "00006-718a04d8-0861-4efd-b128-b45e297ed927",
        "deepnote_cell_height": 120,
        "deepnote_cell_type": "code",
        "id": "GxlRNd_meyJA",
        "colab": {
          "base_uri": "https://localhost:8080/"
        },
        "outputId": "8405c49b-6191-47e0-fe3d-48614b4c1675"
      },
      "outputs": [
        {
          "output_type": "stream",
          "name": "stdout",
          "text": [
            "Insira o tempo:  8\n",
            "Insira a velocidade:  8\n",
            "resultado: 64.0 5.33\n",
            "None\n"
          ]
        }
      ],
      "source": [
        "#Exercício 1\n",
        "#Ler uma temperatura em graus Celsius e apresentá-la convertida em graus Fahrenheit. A fórmula de conversão é F = (9 * C + 160) / 5, na qual F é a temperatura em Fahrenheit e C é a temperatura em graus Celsius\n",
        "\n",
        "#Função para ler e retorna o valor da temperatura (não recebe parâmetro)\n",
        "#Função para fazer o cálculo (recebe como parâmetro a temperatura em graus Celsius)\n",
        "tempo=float(input(\"Insira o tempo:  \"))\n",
        "velocidade=float(input(\"Insira a velocidade:  \"))\n",
        "#Função para ler e retorna o valor da temperatura (não recebe parâmetro)\n",
        "def leitura():\n",
        "    return tempo,velocidade   \n",
        "leitura ()       \n",
        "\n",
        "#Função para fazer o cálculo (recebe como parâmetro a temperatura em graus Celsius)\n",
        "def formula1 (tempo,velocidade):\n",
        "    distancia=tempo*velocidade\n",
        "    return distancia\n",
        "\n",
        "def formula2 (distancia):\n",
        "    qtd_litros=distancia/12\n",
        "    return qtd_litros  \n",
        "\n",
        "\n",
        "#Função para mostrar o resultado, recebendo como parâmetro o valor e fazendo a impressão\n",
        "def resultado():\n",
        "    far=formula1(tempo,velocidade)\n",
        "    far2=formula2(tempo*velocidade)\n",
        "    print(f\"resultado: {far} {far2:.2f}\")\n",
        "  \n",
        "print(resultado())\n"
      ]
    },
    {
      "cell_type": "code",
      "execution_count": null,
      "metadata": {
        "cell_id": "00007-c4686be2-c49a-4ea2-94f6-e377b6b49d21",
        "deepnote_cell_height": 84,
        "deepnote_cell_type": "code",
        "id": "GqJx1tabfWhA"
      },
      "outputs": [],
      "source": [
        ""
      ]
    },
    {
      "cell_type": "code",
      "execution_count": null,
      "metadata": {
        "cell_id": "00008-ef748aba-bc94-4620-848e-10791ce2f9c5",
        "deepnote_cell_height": 84,
        "deepnote_cell_type": "code",
        "id": "ns5EY4mkfdAx"
      },
      "outputs": [],
      "source": [
        ""
      ]
    },
    {
      "cell_type": "code",
      "execution_count": null,
      "metadata": {
        "cell_id": "00009-1ae465dc-de61-4732-bb4e-53cd35f03362",
        "deepnote_cell_height": 138,
        "deepnote_cell_type": "code",
        "id": "TlebFchzfiQH"
      },
      "outputs": [],
      "source": [
        ""
      ]
    },
    {
      "cell_type": "code",
      "execution_count": null,
      "metadata": {
        "cell_id": "00010-426f4299-e7ff-4fb3-8862-63aee1818bf1",
        "deepnote_cell_height": 267.125,
        "deepnote_cell_type": "code",
        "id": "bOEk5jeAfmXL"
      },
      "outputs": [],
      "source": [
        ""
      ]
    },
    {
      "cell_type": "markdown",
      "metadata": {
        "created_in_deepnote_cell": true,
        "deepnote_cell_type": "markdown",
        "tags": [],
        "id": "B4PWrmdjiWr3"
      },
      "source": [
        "<a style='text-decoration:none;line-height:16px;display:flex;color:#5B5B62;padding:10px;justify-content:end;' href='https://deepnote.com?utm_source=created-in-deepnote-cell&projectId=1076b42e-c05f-4a34-b15a-62125e5c174b' target=\"_blank\">\n",
        "<img alt='Created in deepnote.com' style='display:inline;max-height:16px;margin:0px;margin-right:7.5px;' src='data:image/svg+xml;base64,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' > </img>\n",
        "Created in <span style='font-weight:600;margin-left:4px;'>Deepnote</span></a>"
      ]
    }
  ],
  "metadata": {
    "colab": {
      "name": "Python_Exercicios_Funcoes_1.ipynb",
      "provenance": []
    },
    "deepnote": {},
    "deepnote_execution_queue": [],
    "deepnote_notebook_id": "8b05a228-d6f1-4b29-94b8-71bd3cd8fc44",
    "kernelspec": {
      "display_name": "Python 3",
      "language": "python",
      "name": "python3"
    },
    "language_info": {
      "codemirror_mode": {
        "name": "ipython",
        "version": 3
      },
      "file_extension": ".py",
      "mimetype": "text/x-python",
      "name": "python",
      "nbconvert_exporter": "python",
      "pygments_lexer": "ipython3",
      "version": "3.8.8"
    }
  },
  "nbformat": 4,
  "nbformat_minor": 0
}