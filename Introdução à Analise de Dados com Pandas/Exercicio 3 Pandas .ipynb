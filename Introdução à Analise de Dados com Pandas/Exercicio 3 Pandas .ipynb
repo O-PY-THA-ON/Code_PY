{
 "cells": [
  {
   "cell_type": "markdown",
   "id": "ab344dc5",
   "metadata": {},
   "source": [
    "###### Os dados desse exercício fazem parte de um conjunto de dados sobre pessoas sem moradia em estados dos EUA.\n"
   ]
  },
  {
   "cell_type": "markdown",
   "id": "7b679460",
   "metadata": {},
   "source": [
    "##### Exercício 1 - Importe o dataset dados.csv e salve com o nome df\n"
   ]
  },
  {
   "cell_type": "code",
   "execution_count": 40,
   "id": "bee7c268",
   "metadata": {},
   "outputs": [],
   "source": [
    "import pandas as pd"
   ]
  },
  {
   "cell_type": "code",
   "execution_count": null,
   "id": "49d50654",
   "metadata": {},
   "outputs": [],
   "source": []
  },
  {
   "cell_type": "markdown",
   "id": "a4cbd331",
   "metadata": {},
   "source": [
    "##### Exercício 2 - Imprima as primeiras e as últimas linhas desse dataset"
   ]
  },
  {
   "cell_type": "code",
   "execution_count": null,
   "id": "6d5f13d4",
   "metadata": {},
   "outputs": [],
   "source": []
  },
  {
   "cell_type": "markdown",
   "id": "0e164d60",
   "metadata": {},
   "source": [
    "Observação: A coluna individuos refere-se a pessoas sem moradia."
   ]
  },
  {
   "cell_type": "markdown",
   "id": "4ac4a931",
   "metadata": {},
   "source": [
    "##### Exercício 3 - Elimine a coluna \" Unnamed: 0\""
   ]
  },
  {
   "cell_type": "code",
   "execution_count": null,
   "id": "518d4a46",
   "metadata": {},
   "outputs": [],
   "source": []
  },
  {
   "cell_type": "code",
   "execution_count": null,
   "id": "0c4f7c24",
   "metadata": {},
   "outputs": [],
   "source": []
  },
  {
   "cell_type": "markdown",
   "id": "2665dfb8",
   "metadata": {},
   "source": [
    "**Exercício 4 - Crie uma nova coluna chamada total que é a soma das colunas  individuos e membros_da_familia**"
   ]
  },
  {
   "cell_type": "code",
   "execution_count": null,
   "id": "145fc359",
   "metadata": {},
   "outputs": [],
   "source": []
  },
  {
   "cell_type": "markdown",
   "id": "2d73fd3f",
   "metadata": {},
   "source": [
    "**Exercício 5 - Crie a coluna prop_individuos como uma  proporção de indivíduos em relação a coluna total que você criou anteriormente**"
   ]
  },
  {
   "cell_type": "code",
   "execution_count": null,
   "id": "8214e202",
   "metadata": {},
   "outputs": [],
   "source": []
  },
  {
   "cell_type": "markdown",
   "id": "219e0eb2",
   "metadata": {},
   "source": [
    "**Exercício 6 - Imprima as primeiras linhas das colunas *individuos*, *total* e *prop_individuos***"
   ]
  },
  {
   "cell_type": "code",
   "execution_count": null,
   "id": "a2ac8ab3",
   "metadata": {},
   "outputs": [],
   "source": []
  },
  {
   "cell_type": "markdown",
   "id": "b157a53c",
   "metadata": {},
   "source": [
    "**Exercício 7  - Qual estado tem o maior número de pessoas sem moradia por 10.000 pessoas ?**\n",
    "\n",
    "Para responder siga os passos:\n",
    "\n",
    "\n",
    "- Crie uma coluna, chamada indiv_por_10k, contendo o número de pessoas sem-teto(individuos) por dez mil pessoas em cada estado.\n",
    "\n",
    "Fórmula = 10000 * df['individuos'] / df['populacao_do_estado']\n",
    "\n",
    "- Depois filtre as linhas tais que indiv_por_10k seja  maior que 20\n",
    "- Classifique os altos níveis de falta de moradia ordenando os dados em ordem decrescente pela coluna indiv_per_10k\n",
    "- selecione as colunas estado e indiv_por_10k e imprima o rsultado"
   ]
  },
  {
   "cell_type": "code",
   "execution_count": 49,
   "id": "0750fba8",
   "metadata": {},
   "outputs": [],
   "source": []
  },
  {
   "cell_type": "code",
   "execution_count": null,
   "id": "68315cc1",
   "metadata": {},
   "outputs": [],
   "source": []
  },
  {
   "cell_type": "code",
   "execution_count": 51,
   "id": "b8c4d225",
   "metadata": {},
   "outputs": [],
   "source": []
  },
  {
   "cell_type": "code",
   "execution_count": 52,
   "id": "1983e95c",
   "metadata": {},
   "outputs": [],
   "source": []
  },
  {
   "cell_type": "code",
   "execution_count": null,
   "id": "f8fb2ba1",
   "metadata": {},
   "outputs": [],
   "source": []
  },
  {
   "cell_type": "code",
   "execution_count": null,
   "id": "59b4e336",
   "metadata": {},
   "outputs": [],
   "source": []
  }
 ],
 "metadata": {
  "kernelspec": {
   "display_name": "Python 3",
   "language": "python",
   "name": "python3"
  },
  "language_info": {
   "codemirror_mode": {
    "name": "ipython",
    "version": 3
   },
   "file_extension": ".py",
   "mimetype": "text/x-python",
   "name": "python",
   "nbconvert_exporter": "python",
   "pygments_lexer": "ipython3",
   "version": "3.8.8"
  }
 },
 "nbformat": 4,
 "nbformat_minor": 5
}
