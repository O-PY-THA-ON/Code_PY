{
 "cells": [
  {
   "cell_type": "markdown",
   "metadata": {},
   "source": [
    "</div>\n",
    "<h1>Exercício Guiado </h1>\n",
    "\n",
    "\n",
    "Aluno: \n",
    "\n",
    "Data:"
   ]
  },
  {
   "cell_type": "markdown",
   "metadata": {},
   "source": [
    "#### Exercício de Salários SF \n",
    "\n",
    "Bem-vindo a um exercício rápido para você praticar suas habilidades de pandas! Usaremos o [SF Salaries Dataset](https://www.kaggle.com/kaggle/sf-salaries) do Kaggle! Siga as tarefas descritas em negrito abaixo. "
   ]
  },
  {
   "cell_type": "markdown",
   "metadata": {},
   "source": [
    "Descrição dos dados:\n",
    "\n",
    "- Id               =  Id,\n",
    "- EmployeeName     =  Nome do Funcionário , \n",
    "- JobTitle\t       =  Cargo ,\n",
    "- BasePay          =  Remuneração Base ,\n",
    "- OvertimePay      =  Pagamento de Horas Extras,\n",
    "- OtherPay         =  Outros Pagamentos,\n",
    "- Benefits         =  Benefícios, \n",
    "- TotalPay         =  Pagamento Total, \n",
    "- TotalPayBenefits =  Pagamento Total de Benefícios, \n",
    "- Year             =  Ano, \n",
    "- Notes            =  Notas, \n",
    "- Agency           = Agência,\n",
    "- Status           =  Status"
   ]
  },
  {
   "cell_type": "markdown",
   "metadata": {},
   "source": [
    "**Não esqueça de importar o arquivo csv que está na plataforma Sirius para fazer o exercício!!**"
   ]
  },
  {
   "cell_type": "markdown",
   "metadata": {},
   "source": [
    "**Import pandas as pd.** \n",
    "\n",
    " - pd é o que chamamos de alias, ou seja um apelido para o pandas!"
   ]
  },
  {
   "cell_type": "code",
   "execution_count": null,
   "metadata": {},
   "outputs": [],
   "source": []
  },
  {
   "cell_type": "markdown",
   "metadata": {},
   "source": [
    "**Leia o arquivo Salaries.csv como um dataframe chamado sal.** \n",
    "\n",
    "- pandas tem um método para isso!!"
   ]
  },
  {
   "cell_type": "code",
   "execution_count": null,
   "metadata": {},
   "outputs": [],
   "source": []
  },
  {
   "cell_type": "markdown",
   "metadata": {},
   "source": [
    "**Verifique as primeiras linhas do DataFrame.**"
   ]
  },
  {
   "cell_type": "code",
   "execution_count": null,
   "metadata": {},
   "outputs": [],
   "source": []
  },
  {
   "cell_type": "markdown",
   "metadata": {},
   "source": [
    "**Verifique quantas linhas existem, os tipos de dados e se há nulos.**"
   ]
  },
  {
   "cell_type": "code",
   "execution_count": null,
   "metadata": {},
   "outputs": [],
   "source": []
  },
  {
   "cell_type": "markdown",
   "metadata": {},
   "source": [
    "**Qual é a média da  Remuneração base(BasePay) ?**"
   ]
  },
  {
   "cell_type": "code",
   "execution_count": null,
   "metadata": {},
   "outputs": [],
   "source": []
  },
  {
   "cell_type": "markdown",
   "metadata": {},
   "source": [
    "**Qual é a máximo de horas extras(OvertimePay) no conjunto de dados?**"
   ]
  },
  {
   "cell_type": "code",
   "execution_count": null,
   "metadata": {},
   "outputs": [],
   "source": []
  },
  {
   "cell_type": "markdown",
   "metadata": {},
   "source": [
    "**Qual é o cargo de JOANNE HAYES-WHITE'?**"
   ]
  },
  {
   "cell_type": "code",
   "execution_count": null,
   "metadata": {},
   "outputs": [],
   "source": []
  },
  {
   "cell_type": "markdown",
   "metadata": {},
   "source": [
    "**Quanto ganha JOANNE HAYES-WHITE (incluindo benefícios)?**"
   ]
  },
  {
   "cell_type": "code",
   "execution_count": null,
   "metadata": {},
   "outputs": [],
   "source": []
  },
  {
   "cell_type": "markdown",
   "metadata": {},
   "source": [
    "**Qual é o nome da pessoa mais bem paga (incluindo benefícios)?**"
   ]
  },
  {
   "cell_type": "code",
   "execution_count": null,
   "metadata": {},
   "outputs": [],
   "source": []
  },
  {
   "cell_type": "markdown",
   "metadata": {},
   "source": [
    "**Qual é o nome da pessoa com o salário mais baixo (incluindo benefícios)? Você percebe algo estranho sobre o quanto ele ou ela é pago?**"
   ]
  },
  {
   "cell_type": "code",
   "execution_count": null,
   "metadata": {},
   "outputs": [],
   "source": []
  },
  {
   "cell_type": "markdown",
   "metadata": {},
   "source": [
    "**Qual foi a média da Remuneração base (BasePay) de todos os funcionários por ano? (2011-2014) ?**"
   ]
  },
  {
   "cell_type": "code",
   "execution_count": null,
   "metadata": {},
   "outputs": [],
   "source": []
  },
  {
   "cell_type": "markdown",
   "metadata": {},
   "source": [
    "**Quantos cargos exclusivos existem?**"
   ]
  },
  {
   "cell_type": "code",
   "execution_count": null,
   "metadata": {},
   "outputs": [],
   "source": []
  },
  {
   "cell_type": "markdown",
   "metadata": {},
   "source": [
    "**Quais são as 5 profissões mais comuns?**"
   ]
  },
  {
   "cell_type": "code",
   "execution_count": null,
   "metadata": {},
   "outputs": [],
   "source": []
  },
  {
   "cell_type": "markdown",
   "metadata": {},
   "source": [
    "**Quantos cargos foram representados por apenas uma pessoa em 2013? (ou seja, cargos com apenas uma ocorrência em 2013?)**"
   ]
  },
  {
   "cell_type": "code",
   "execution_count": null,
   "metadata": {},
   "outputs": [],
   "source": []
  },
  {
   "cell_type": "markdown",
   "metadata": {},
   "source": [
    "**Quantas pessoas têm a palavra chefe em seu cargo?**"
   ]
  },
  {
   "cell_type": "code",
   "execution_count": 22,
   "metadata": {},
   "outputs": [],
   "source": []
  },
  {
   "cell_type": "code",
   "execution_count": null,
   "metadata": {},
   "outputs": [],
   "source": []
  },
  {
   "cell_type": "markdown",
   "metadata": {},
   "source": []
  },
  {
   "cell_type": "code",
   "execution_count": null,
   "metadata": {},
   "outputs": [],
   "source": []
  },
  {
   "cell_type": "code",
   "execution_count": null,
   "metadata": {},
   "outputs": [],
   "source": []
  },
  {
   "cell_type": "markdown",
   "metadata": {},
   "source": []
  }
 ],
 "metadata": {
  "hide_input": false,
  "kernelspec": {
   "display_name": "Python 3 (ipykernel)",
   "language": "python",
   "name": "python3"
  },
  "language_info": {
   "codemirror_mode": {
    "name": "ipython",
    "version": 3
   },
   "file_extension": ".py",
   "mimetype": "text/x-python",
   "name": "python",
   "nbconvert_exporter": "python",
   "pygments_lexer": "ipython3",
   "version": "3.9.7"
  }
 },
 "nbformat": 4,
 "nbformat_minor": 1
}
