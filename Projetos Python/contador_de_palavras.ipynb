{
  "nbformat": 4,
  "nbformat_minor": 0,
  "metadata": {
    "colab": {
      "name": "contador_de_palavras.ipynb",
      "provenance": [],
      "collapsed_sections": []
    },
    "kernelspec": {
      "name": "python3",
      "display_name": "Python 3"
    },
    "language_info": {
      "name": "python"
    }
  },
  "cells": [
    {
      "cell_type": "code",
      "execution_count": null,
      "metadata": {
        "id": "4uOsbfSlU2QD"
      },
      "outputs": [],
      "source": [
        "frase=input('Coloque aqui a frase para contarmos as palavras: ').strip().lower()\n",
        "junta=''\n",
        "for c in range(0,len(frase)):\n",
        "  if frase[c]!=',' and frase[c]!='!' and frase[c]!='?' and frase[c]!='-' and frase[c]!=':':\n",
        "    junta+=frase[c]\n",
        "frase_tratada=junta.split()\n",
        "print(frase_tratada)\n",
        "print(len(frase_tratada))"
      ]
    }
  ]
}