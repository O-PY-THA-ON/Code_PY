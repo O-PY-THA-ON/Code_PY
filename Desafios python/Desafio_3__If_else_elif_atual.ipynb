{
  "cells": [
    {
      "cell_type": "markdown",
      "id": "ede87055",
      "metadata": {
        "id": "ede87055"
      },
      "source": [
        "<div>\n",
        "    <p style=\"float: right;\"><img src=\"https://media.swipepages.com/2021/2/sirius-logo-principal-tag-1-300.png\" height=\"80px\"border=\"1px\"></p>\n",
        "    \n",
        "</div>\n",
        "<h1>Nano Desafio 3 </h1>\n",
        "<h2> Desafios </h2>\n",
        "\n",
        "Aluno: Gabriel Nunes Barbosa Nogueira\n",
        "\n",
        "Data: 31/05/2022"
      ]
    },
    {
      "cell_type": "markdown",
      "id": "769b477d",
      "metadata": {
        "id": "769b477d"
      },
      "source": [
        "#### Desafio 1 - Sistema ENEM\n",
        "\n",
        "Você foi contratado para criar um sistema para uma Faculdade que leia dados de um candidato e que após avaliar os dados diga se o candidato foi aprovado ou não.\n",
        "\n",
        "Esse sistema deve ler os seguintes dados dos candidatos:\n",
        "\n",
        " - idade(deve ser inteiro)\n",
        " - Nota do Enem - (número real - float)\n",
        " - Brasileiro( variável lógica)\n",
        "\n",
        "Nesses sistema o candidato será aprovado para essa Faculdade se obedecer os critérios abaixo:\n",
        "\n",
        "- menos que 25 anos\n",
        "- nota miníma do ENEM: 70 pontos\n",
        "- ser brasileiro: S se brasileiro e N caso não seja\n",
        "\n",
        "O sistema deve emitir uma mensagem informando se ele foi ou não aprovado."
      ]
    },
    {
      "cell_type": "code",
      "execution_count": null,
      "id": "7e3c3cdc",
      "metadata": {
        "id": "7e3c3cdc"
      },
      "outputs": [],
      "source": [
        "idade=int(input(\"Digite uma idade: \"))\n",
        "nota_enem=float(input(\"Digite sua nota do enem:\"))\n",
        "nacionalidade=input(\"Brasileiro? [s/n] \")\n",
        "if idade<=25 and nota_enem>=70 and nacionalidade=='s':\n",
        "  print(\"Aprovado!\")\n",
        "else:\n",
        "  print(\"Reprovado!\")  "
      ]
    },
    {
      "cell_type": "code",
      "source": [
        "idad=int(input(\"Digite sua idade: \"))\n",
        "nota_enem=float(input(\"Digite sua nota: \"))\n",
        "nac=input(\"Brasileiro? [s/n] \").lower()\n",
        "if idad<=25 and nota_enem>=70 and nac=='s':\n",
        "  print(\"Aprovado!\")\n",
        "else:\n",
        "  print(\"Reprovado!\")  \n"
      ],
      "metadata": {
        "colab": {
          "base_uri": "https://localhost:8080/"
        },
        "id": "y6XDQAhSF-pA",
        "outputId": "290d93d2-7e8b-440f-ffca-da3e08386563"
      },
      "id": "y6XDQAhSF-pA",
      "execution_count": null,
      "outputs": [
        {
          "output_type": "stream",
          "name": "stdout",
          "text": [
            "Digite sua idade: 24\n",
            "Digite sua nota: 80\n",
            "Brasileiro? [s/n] n\n",
            "Reprovado!\n"
          ]
        }
      ]
    },
    {
      "cell_type": "markdown",
      "id": "468db797",
      "metadata": {
        "id": "468db797"
      },
      "source": [
        "#### Desafio 2 - Mediana"
      ]
    },
    {
      "cell_type": "markdown",
      "id": "366b1861",
      "metadata": {
        "id": "366b1861"
      },
      "source": [
        "Em estatística, a Mediana representa o valor central de um conjunto de dados. Ou seja, dado que os dados estão ordenados a mediana ocupa a 50º posição.\n",
        "Para encontrar o valor da mediana é necessário colocar os valores em ordem crescente.\n",
        "\n",
        "Escreva uma função que receba três números como parâmetros e retorne o valor mediano desses parâmetros como seu resultado. \n",
        "\n",
        "Dica: No caso de três valores, o valor mediano é o valor do meio desses três valores quando eles são ordenados em ordem crescente."
      ]
    },
    {
      "cell_type": "code",
      "execution_count": null,
      "id": "54698818",
      "metadata": {
        "colab": {
          "base_uri": "https://localhost:8080/"
        },
        "id": "54698818",
        "outputId": "320de793-e513-4ee1-e10e-e1b2e101f860"
      },
      "outputs": [
        {
          "output_type": "stream",
          "name": "stdout",
          "text": [
            "Digite um primeiro numero: 5\n",
            "Digite um segundo numero: 9\n",
            "Digite um terceiro numero: 7\n",
            "O valor da mediana é: 7\n"
          ]
        },
        {
          "output_type": "execute_result",
          "data": {
            "text/plain": [
              "[5, 7, 9]"
            ]
          },
          "metadata": {},
          "execution_count": 26
        }
      ],
      "source": [
        "#Definir uma função\n",
        "def ordem():\n",
        "  num1=int(input(\"Digite um primeiro numero: \"))\n",
        "  num2=int(input(\"Digite um segundo numero: \"))\n",
        "  num3=int(input(\"Digite um terceiro numero: \"))\n",
        "  lis=[num1,num2,num3]\n",
        "  mediana=sorted(lis)[1]\n",
        "  print(f'O valor da mediana é: {mediana}')\n",
        "  return sorted(lis)\n",
        "ordem()\n",
        "\n"
      ]
    },
    {
      "cell_type": "markdown",
      "id": "05ea1ea9",
      "metadata": {
        "id": "05ea1ea9"
      },
      "source": [
        "#### Desafio 3 - Multiplos\n",
        "Crie uma função que irá checar se um número é múltiplo do outro número.\n",
        "\n",
        "Retorne True caso seja múltiplo e False se não for.\n",
        "\n",
        "Exemplos:\n",
        "\n",
        " - print(multiplo_de(355, 5))\n",
        "\n",
        "True\n",
        "\n",
        "- print(multiplo_de(356, 5))\n",
        "\n",
        "False\n",
        "\n",
        "- print(multiplo_de(2357, 3))\n",
        "\n",
        "False\n",
        "\n",
        "- print(multiplo_de(2358, 3))\n",
        "\n",
        "True"
      ]
    },
    {
      "cell_type": "code",
      "execution_count": null,
      "id": "335a68a3",
      "metadata": {
        "colab": {
          "base_uri": "https://localhost:8080/"
        },
        "id": "335a68a3",
        "outputId": "2d7dccfd-ecc4-4b20-f6a8-7c9d447cb04b"
      },
      "outputs": [
        {
          "output_type": "stream",
          "name": "stdout",
          "text": [
            "False\n"
          ]
        }
      ],
      "source": [
        "def analise(num1,num2):\n",
        "  if num1%num2==0: print('True')\n",
        "  else: print('False')\n",
        "analise(2357,5)  "
      ]
    },
    {
      "cell_type": "markdown",
      "id": "8cf550ee",
      "metadata": {
        "id": "8cf550ee"
      },
      "source": [
        "#### Desafio 4 - Soma e limite\n",
        "\n",
        "Escreva uma função que recebe dois números (a e b) como parâmetro e retorna True caso a soma dos dois seja maior que um terceiro parâmetro, chamado limite, caso contrário retorna False."
      ]
    },
    {
      "cell_type": "code",
      "source": [
        "def comparador(num1, num2,limite):\n",
        "  if (num1+num2)>=limite:\n",
        "    print('True')\n",
        "  else:\n",
        "    print(\"False\")\n",
        "comparador(2,5,5)  "
      ],
      "metadata": {
        "colab": {
          "base_uri": "https://localhost:8080/"
        },
        "id": "Oj0KmndycPgT",
        "outputId": "cc7257fc-d8d1-4e5b-d7a0-403c9c856ed2"
      },
      "id": "Oj0KmndycPgT",
      "execution_count": null,
      "outputs": [
        {
          "output_type": "stream",
          "name": "stdout",
          "text": [
            "True\n"
          ]
        }
      ]
    },
    {
      "cell_type": "code",
      "source": [
        "def comparador():\n",
        "  num1=int(input())\n",
        "  num2=int(input())\n",
        "  limite=int(input())\n",
        "  if (num1+num2)>=limite:\n",
        "    print('True')\n",
        "  else:\n",
        "    print(\"False\")\n",
        "comparador() "
      ],
      "metadata": {
        "colab": {
          "base_uri": "https://localhost:8080/"
        },
        "id": "Q8tc7X6cdrF3",
        "outputId": "9e80b48f-d3c5-4951-d2ef-4416a17363e2"
      },
      "id": "Q8tc7X6cdrF3",
      "execution_count": null,
      "outputs": [
        {
          "output_type": "stream",
          "name": "stdout",
          "text": [
            "2\n",
            "5\n",
            "5\n",
            "True\n"
          ]
        }
      ]
    },
    {
      "cell_type": "code",
      "source": [
        "def comparador(limite):\n",
        "  num1=int(input())\n",
        "  num2=int(input())\n",
        "  if (num1+num2)>=limite:\n",
        "    print('True')\n",
        "  else:\n",
        "    print(\"False\")\n",
        "comparador(5) "
      ],
      "metadata": {
        "colab": {
          "base_uri": "https://localhost:8080/"
        },
        "id": "Hg5F6-c0eGO5",
        "outputId": "f773b715-13c3-4037-c56d-16ac5d28d424"
      },
      "id": "Hg5F6-c0eGO5",
      "execution_count": null,
      "outputs": [
        {
          "output_type": "stream",
          "name": "stdout",
          "text": [
            "2\n",
            "5\n",
            "True\n"
          ]
        }
      ]
    },
    {
      "cell_type": "markdown",
      "id": "b819e8f6",
      "metadata": {
        "id": "b819e8f6"
      },
      "source": [
        "#### Desafio 5 - Celsius e Fahrenheit ( de novo!!! rs)"
      ]
    },
    {
      "cell_type": "markdown",
      "id": "e90407d0",
      "metadata": {
        "id": "e90407d0"
      },
      "source": [
        "\n",
        "Escreva um programa em Python para converter temperaturas de Fahrenheit para Celsius e de Celsius para Fahrenheit.\n",
        "    O usuário deve escrever o número acompanhado da letra f se a entrada for temperatura em Fahrenheit, se a temperatura for em Celsius entrada do usuário será o número acompanhado da letra c\n",
        "\n",
        "A fórmula de conversão de Celsius para Fahrenheit é:\n",
        "\n",
        "\n",
        "C = (5/9) * (F - 32) onde F é a temperatura Fahrenheit. \n",
        "\n",
        "Exemplo: \n",
        "- Para converter de Fahrenheit para Celsius a temperatura de 15:\n",
        "\n",
        "*entrada do usuário: 15F ou 15f*\n",
        "\n",
        "*saida: A temperatura em Celsius é -9 graus*\n",
        "\n",
        "- Para converter de Celsius para Fahrenheit a temperatura de 20:\n",
        "\n",
        "*entrada do usuário: 20C ou 20c*\n",
        "\n",
        "*saida: A temperatura em Fahrenheit é 68 graus*"
      ]
    },
    {
      "cell_type": "code",
      "execution_count": null,
      "id": "1d4cc60b",
      "metadata": {
        "colab": {
          "base_uri": "https://localhost:8080/"
        },
        "id": "1d4cc60b",
        "outputId": "06c0c13b-564c-4649-f105-840c76f23096"
      },
      "outputs": [
        {
          "output_type": "stream",
          "name": "stdout",
          "text": [
            "15c\n",
            "A temperatura em Fahrenheit é 59.00 graus\n"
          ]
        }
      ],
      "source": [
        "teste=input().lower()\n",
        "chave=teste[len(teste)-1]\n",
        "valor=int(teste[0:len(teste)-1])\n",
        "if chave =='c':\n",
        "  f=valor*1.8+32\n",
        "  print(f'A temperatura em Fahrenheit é {f:.2f} graus')\n",
        "\n",
        "elif chave=='f':\n",
        "  c=(5/9)*(valor-32)\n",
        "  print(f'A temperatura em Celsius é {c:.2f} graus')"
      ]
    },
    {
      "cell_type": "code",
      "source": [
        "test=input().lower()\n",
        "chav=teste[len(teste)-1]\n",
        "print(chav)"
      ],
      "metadata": {
        "colab": {
          "base_uri": "https://localhost:8080/"
        },
        "id": "5km7IrVlE8o2",
        "outputId": "a8c9125e-353c-4491-bdea-c6814014830e"
      },
      "id": "5km7IrVlE8o2",
      "execution_count": null,
      "outputs": [
        {
          "output_type": "stream",
          "name": "stdout",
          "text": [
            "160c\n",
            "f\n"
          ]
        }
      ]
    },
    {
      "cell_type": "code",
      "source": [
        "teste=input().lower()\n",
        "chave=teste[len(teste)-1]\n",
        "valor=int(teste[0:len(teste)-1])\n",
        "if chave == 'c' : \n",
        "  f=valor*1.8+32\n",
        "  print(f'A temperatura em Fahrenheit é {f:.2f} graus')\n",
        "if chave == 'f':\n",
        "  c=(5/9)*(valor-32)\n",
        "  print(f'A temperatura em Celsius é {c:.2f} graus')"
      ],
      "metadata": {
        "colab": {
          "base_uri": "https://localhost:8080/"
        },
        "id": "1LyWHRS5o048",
        "outputId": "cec998cd-af16-4037-dcd4-f18b0f694724"
      },
      "id": "1LyWHRS5o048",
      "execution_count": null,
      "outputs": [
        {
          "output_type": "stream",
          "name": "stdout",
          "text": [
            "17f\n",
            "A temperatura em Celsius é -8.33 graus\n"
          ]
        }
      ]
    },
    {
      "cell_type": "code",
      "execution_count": null,
      "id": "ed291546",
      "metadata": {
        "colab": {
          "base_uri": "https://localhost:8080/"
        },
        "id": "ed291546",
        "outputId": "ca6859a4-110b-4e8b-f7e1-f1b8f03ed5a1"
      },
      "outputs": [
        {
          "output_type": "stream",
          "name": "stdout",
          "text": [
            "166666f\n",
            "f\n",
            "166666\n"
          ]
        }
      ],
      "source": [
        "teste=input().lower()\n",
        "a=teste[len(teste)-1]\n",
        "print(a)\n",
        "print(int(teste[0:len(teste)-1]))"
      ]
    },
    {
      "cell_type": "markdown",
      "id": "83548a30",
      "metadata": {
        "id": "83548a30"
      },
      "source": [
        "#### Desafio 6\n",
        "\n",
        "\n",
        "Estação do ano, mês e do dia\n",
        "\n",
        "O ano é dividido em quatro estações: primavera, verão, outono (ou outono) e inverno. Usaremos as seguintes datas e perídos para este exercício supondo que você está resolvendo um problema para Portugal:\n",
        "\n",
        "\n",
        "- Primavera: de janeiro até 20 de março\n",
        "- Verão: até 21 de junho\n",
        "- Outono: até 22 de setembro\n",
        "- Inverno: até 21 de dezembro\n",
        "\n",
        "Crie um programa que leia um mês e um dia do usuário. O usuário irá digitar o nome do mês como uma string, seguido pelo dia dentro do mês como um inteiro. Em seguida, seu programa deve exibir a estação do ano associada à data em que foi inserido."
      ]
    },
    {
      "cell_type": "code",
      "source": [
        "#Primavera: 22 de dezembro até 20 de março\n",
        "#Verão: 21 marco até 21 de junho\n",
        "#Outono: 22 de junho até 22 de setembro\n",
        "#Inverno: 23 setembro até 21 de dezembro"
      ],
      "metadata": {
        "id": "PNLqFnpqLcLO"
      },
      "id": "PNLqFnpqLcLO",
      "execution_count": null,
      "outputs": []
    },
    {
      "cell_type": "code",
      "execution_count": 111,
      "id": "efa218b0",
      "metadata": {
        "id": "efa218b0",
        "colab": {
          "base_uri": "https://localhost:8080/"
        },
        "outputId": "333909cf-9017-4a58-f117-76f13cb9a780"
      },
      "outputs": [
        {
          "output_type": "stream",
          "name": "stdout",
          "text": [
            "Informe o dia: 23\n",
            "Informe o mês: Janeiro\n",
            "Primavera\n",
            "Janeiro\n"
          ]
        }
      ],
      "source": [
        "#d=[0,1,2,3,4,5,6,7,8,9,10,11,12,13,14,15,16,17,18,19,20,21,22,23,24,25,26,27,28,29,30]\n",
        "dia=int(input('Informe o dia: '))\n",
        "mes=input('Informe o mês: ')\n",
        "primavera=['Dezembro','Janeiro','Fevereiro','Março']\n",
        "verao=['Março','Abril','Maio','Junho']\n",
        "outono=['Junho','Julho','Agosto','Setembro']\n",
        "inverno=['Setembro','Outubro','Novembro','Dezembro']\n",
        "if mes=='Janeiro' or mes=='Fevereiro':\n",
        "  print('Primavera')\n",
        "elif mes=='Abril' or mes=='Maio' or mes=='Junho':\n",
        "  print('Verao')\n",
        "elif mes=='Agosto' or mes=='Julho':\n",
        "  print('Outono')     \n",
        "elif mes=='Outubro' or mes=='Novembro':\n",
        "  print('Inverno')"
      ]
    },
    {
      "cell_type": "code",
      "source": [
        "#tratando exceções\n",
        "#Primavera: 22 de dezembro até 20 de março\n",
        "#Verão: 21 marco até 21 de junho\n",
        "#Outono: 22 de junho até 22 de setembro\n",
        "#Inverno: 23 setembro até 21 de dezembro\n",
        "dia=int(input('Informe o dia: '))\n",
        "mes=input('Informe o mês: ')\n",
        "#primavera\n",
        "if mes in primavera:\n",
        "  if dia in range(0,21) and mes=='Março':print('Primavera')\n",
        "  if dia in range(22, 31) and mes=='Dezembro':print('Primavera')  \n",
        "  if mes=='Janeiro' or mes=='Fevereiro':print('Primavera')\n",
        "#verao    \n",
        "if mes in verao:\n",
        "  if dia in range(21,31) and mes=='Março':print('Verão')\n",
        "  if dia in range(0,23) and mes=='Junho':print('Verão')  \n",
        "  if mes=='Abril' or mes=='Maio':print('Verão')\n",
        "#Outono\n",
        "if mes in outono:\n",
        "  if dia in range(22,31) and mes=='Junho':print('Outono')\n",
        "  if dia in range(0, 23) and mes=='Setembro':print('Outono')  \n",
        "  if mes=='Julho' or mes=='Agosto':print('Outono')\n",
        "#Inverno    \n",
        "if mes in inverno:\n",
        "  if dia in range(23,31) and mes=='Setembro':print('Inverno')\n",
        "  if dia in range(0, 22) and mes=='Dezembro':print('Inverno')  \n",
        "  if mes=='Outubro' or mes=='Novembro':print('Inverno')            "
      ],
      "metadata": {
        "colab": {
          "base_uri": "https://localhost:8080/"
        },
        "id": "8JONpDXSdjVA",
        "outputId": "16c61ca1-5fc9-4cc0-95cc-e57974256fb4"
      },
      "id": "8JONpDXSdjVA",
      "execution_count": 160,
      "outputs": [
        {
          "output_type": "stream",
          "name": "stdout",
          "text": [
            "Informe o dia: 29\n",
            "Informe o mês: Junho\n",
            "Outono\n"
          ]
        }
      ]
    },
    {
      "cell_type": "markdown",
      "id": "e3388e5c",
      "metadata": {
        "id": "e3388e5c"
      },
      "source": [
        "Esta solução para o problema de identificação da estação usa várias partes elif para que as condições permaneçam o mais simples possível. Outra forma de abordar este problema é diminuir o número de elif, tornando as condições mais complexas."
      ]
    },
    {
      "cell_type": "code",
      "execution_count": null,
      "id": "8096d326",
      "metadata": {
        "id": "8096d326"
      },
      "outputs": [],
      "source": [
        ""
      ]
    },
    {
      "cell_type": "code",
      "execution_count": null,
      "id": "ccf2265d",
      "metadata": {
        "id": "ccf2265d"
      },
      "outputs": [],
      "source": [
        ""
      ]
    },
    {
      "cell_type": "markdown",
      "id": "4485106f",
      "metadata": {
        "id": "4485106f"
      },
      "source": [
        ""
      ]
    },
    {
      "cell_type": "markdown",
      "id": "7bdbe2b8",
      "metadata": {
        "id": "7bdbe2b8"
      },
      "source": [
        "\n"
      ]
    },
    {
      "cell_type": "markdown",
      "id": "553a8dbf",
      "metadata": {
        "id": "553a8dbf"
      },
      "source": [
        ""
      ]
    },
    {
      "cell_type": "code",
      "execution_count": null,
      "id": "7b84e5ab",
      "metadata": {
        "id": "7b84e5ab"
      },
      "outputs": [],
      "source": [
        ""
      ]
    }
  ],
  "metadata": {
    "hide_input": false,
    "kernelspec": {
      "display_name": "Python 3",
      "language": "python",
      "name": "python3"
    },
    "language_info": {
      "codemirror_mode": {
        "name": "ipython",
        "version": 3
      },
      "file_extension": ".py",
      "mimetype": "text/x-python",
      "name": "python",
      "nbconvert_exporter": "python",
      "pygments_lexer": "ipython3",
      "version": "3.8.8"
    },
    "colab": {
      "name": "Desafio 3 _If_else_elif_atual.ipynb",
      "provenance": [],
      "collapsed_sections": []
    }
  },
  "nbformat": 4,
  "nbformat_minor": 5
}