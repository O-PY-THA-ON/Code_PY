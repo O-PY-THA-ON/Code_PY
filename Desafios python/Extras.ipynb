{
  "cells": [
    {
      "cell_type": "markdown",
      "id": "1678a85e",
      "metadata": {
        "id": "1678a85e"
      },
      "source": [
        "### Extras"
      ]
    },
    {
      "cell_type": "markdown",
      "id": "67239bb7",
      "metadata": {
        "id": "67239bb7"
      },
      "source": [
        "1- Escreva um programa em Python que aceite uma sequência de números separados por vírgulas fornecida pelo usuário e gere uma lista e uma tupla com esses números."
      ]
    },
    {
      "cell_type": "code",
      "execution_count": 4,
      "id": "755eaec6",
      "metadata": {
        "colab": {
          "base_uri": "https://localhost:8080/"
        },
        "id": "755eaec6",
        "outputId": "0988d5f9-588d-4314-ef29-e69f770b6aa9"
      },
      "outputs": [
        {
          "output_type": "stream",
          "name": "stdout",
          "text": [
            "Digite aqui a sequencia de numeros separados por virgula: 5,4\n",
            "(5, 4)\n"
          ]
        }
      ],
      "source": [
        "numeros=input(\"Digite aqui a sequencia de numeros separados por virgula: \").split(',')\n",
        "lis=[]\n",
        "for item in numeros:\n",
        "  item=int(item)\n",
        "  lis.append(item)\n",
        "print(tuple(lis))"
      ]
    },
    {
      "cell_type": "markdown",
      "id": "e6e5cb10",
      "metadata": {
        "id": "e6e5cb10"
      },
      "source": [
        "2 -Escreva um programa em Python para imprimir o calendário de um determinado mês e ano.\n",
        "\n",
        "Dica: veja a documentação do pacote 'calendar'."
      ]
    },
    {
      "cell_type": "code",
      "execution_count": 10,
      "id": "82adbd06",
      "metadata": {
        "colab": {
          "base_uri": "https://localhost:8080/"
        },
        "id": "82adbd06",
        "outputId": "a9348427-17ef-4ec2-bea7-fc82fa99b4c1"
      },
      "outputs": [
        {
          "output_type": "stream",
          "name": "stdout",
          "text": [
            "     June 2021\n",
            "Mo Tu We Th Fr Sa Su\n",
            "    1  2  3  4  5  6\n",
            " 7  8  9 10 11 12 13\n",
            "14 15 16 17 18 19 20\n",
            "21 22 23 24 25 26 27\n",
            "28 29 30\n",
            "\n"
          ]
        }
      ],
      "source": [
        "import calendar\n",
        "print(calendar.month(2021,6))"
      ]
    },
    {
      "cell_type": "markdown",
      "id": "b64e8100",
      "metadata": {
        "id": "b64e8100"
      },
      "source": [
        ""
      ]
    },
    {
      "cell_type": "markdown",
      "id": "5147bcf9",
      "metadata": {
        "id": "5147bcf9"
      },
      "source": [
        ""
      ]
    },
    {
      "cell_type": "markdown",
      "id": "c2a19a5c",
      "metadata": {
        "id": "c2a19a5c"
      },
      "source": [
        "3 - Escreva um programa em Python para calcular a distância entre os pontos (x1, y1) e (x2, y2)."
      ]
    },
    {
      "cell_type": "code",
      "source": [
        "from math import pow,sqrt"
      ],
      "metadata": {
        "id": "IrCJIh-2G1LM"
      },
      "id": "IrCJIh-2G1LM",
      "execution_count": 14,
      "outputs": []
    },
    {
      "cell_type": "code",
      "execution_count": 16,
      "id": "8c0ec820",
      "metadata": {
        "colab": {
          "base_uri": "https://localhost:8080/"
        },
        "id": "8c0ec820",
        "outputId": "c130fbef-12f1-4a9f-d3a8-b51e06fa659d"
      },
      "outputs": [
        {
          "output_type": "stream",
          "name": "stdout",
          "text": [
            "Digite os 2 pontos x,y separados por virgulas, exemplo p1(2,4), p2(4,5): 2,4,4,5: 2,4,4,5\n",
            "2.24\n"
          ]
        }
      ],
      "source": [
        "pontos=input('Digite os 2 pontos x,y separados por virgulas, exemplo p1(2,4), p2(4,5): 2,4,4,5: ').split(',')\n",
        "x1=int(pontos[0])\n",
        "y1=int(pontos[1])\n",
        "x2=int(pontos[2])\n",
        "y2=int(pontos[3])\n",
        "dist=sqrt(pow(x2-x1,2)+pow(y2-y1,2))\n",
        "print(round(dist,2))"
      ]
    },
    {
      "cell_type": "markdown",
      "id": "62807ffd",
      "metadata": {
        "id": "62807ffd"
      },
      "source": [
        "4 -Crie um programa que leia três inteiros do usuário e os exiba em ordem (do menor para o maior). Use as funções min e max para encontrar o menor e maiores valores. O valor médio pode ser encontrado calculando a soma de todos os três\n",
        "valores e, em seguida, subtraindo o valor mínimo e o valor máximo"
      ]
    },
    {
      "cell_type": "code",
      "execution_count": 17,
      "id": "76dce714",
      "metadata": {
        "colab": {
          "base_uri": "https://localhost:8080/"
        },
        "id": "76dce714",
        "outputId": "53b24af3-646d-41d2-fe21-ee5bc07464f3"
      },
      "outputs": [
        {
          "output_type": "stream",
          "name": "stdout",
          "text": [
            "Digite os 3 numeros separados por virgula: 2,4,1\n",
            "Maximo: 4 Minimo: 1 Médio: 2\n"
          ]
        }
      ],
      "source": [
        "pontos=input('Digite os 3 numeros separados por virgula: ').split(',')\n",
        "x1=int(pontos[0])\n",
        "y1=int(pontos[1])\n",
        "z1=int(pontos[2])\n",
        "lis=[x1,y1,z1]\n",
        "max=sorted(lis)[2]\n",
        "min=sorted(lis)[0]\n",
        "medio=sorted(lis)[1]\n",
        "print(f'Maximo: {max} Minimo: {min} Médio: {medio}')"
      ]
    },
    {
      "cell_type": "code",
      "execution_count": null,
      "id": "e5e7c1f9",
      "metadata": {
        "id": "e5e7c1f9"
      },
      "outputs": [],
      "source": [
        ""
      ]
    },
    {
      "cell_type": "code",
      "execution_count": null,
      "id": "61a01e98",
      "metadata": {
        "id": "61a01e98"
      },
      "outputs": [],
      "source": [
        ""
      ]
    },
    {
      "cell_type": "code",
      "execution_count": null,
      "id": "a945a21e",
      "metadata": {
        "id": "a945a21e"
      },
      "outputs": [],
      "source": [
        ""
      ]
    }
  ],
  "metadata": {
    "hide_input": false,
    "kernelspec": {
      "display_name": "Python 3",
      "language": "python",
      "name": "python3"
    },
    "language_info": {
      "codemirror_mode": {
        "name": "ipython",
        "version": 3
      },
      "file_extension": ".py",
      "mimetype": "text/x-python",
      "name": "python",
      "nbconvert_exporter": "python",
      "pygments_lexer": "ipython3",
      "version": "3.8.8"
    },
    "colab": {
      "name": "Extras.ipynb",
      "provenance": [],
      "collapsed_sections": []
    }
  },
  "nbformat": 4,
  "nbformat_minor": 5
}