{
  "cells": [
    {
      "cell_type": "markdown",
      "id": "7e4f5ae4",
      "metadata": {
        "id": "7e4f5ae4"
      },
      "source": [
        "<div>\n",
        "    <p style=\"float: right;\"><img src=\"https://media.swipepages.com/2021/2/sirius-logo-principal-tag-1-300.png\" height=\"80px\"border=\"1px\"></p>\n",
        "    \n",
        "</div>\n",
        "<h1>Nano Desafio 6 </h1>\n",
        "<h2>Pandas - estatísticas </h2>\n",
        "\n",
        "Aluno: Gabriel Nunes Barbosa Nogueira\n",
        "\n",
        "\n",
        "Data: 09/06/2022"
      ]
    },
    {
      "cell_type": "markdown",
      "id": "48c084d7",
      "metadata": {
        "id": "48c084d7"
      },
      "source": [
        "##### Introdução"
      ]
    },
    {
      "cell_type": "markdown",
      "id": "025060d1",
      "metadata": {
        "id": "025060d1"
      },
      "source": [
        "Já conhecemos o pandas e um pouco do seu poder para analisar dados! Agora vamos fazer alguns calculos estatísticos usando essa ferramenta já no ritmo de despedida e também como uma  prévia do que esta por vir. Afinal você está crescendo e sua jornada de Introdução ao Python está chegando ao fim!!! \n",
        "\n",
        "A Estatística já está batendo a porta e dando boas vindas!!"
      ]
    },
    {
      "cell_type": "markdown",
      "id": "92351feb",
      "metadata": {
        "id": "92351feb"
      },
      "source": [
        "##### Estatísticas\n",
        "Estatísticas resumo, para que servem? Adivinhe? - elas \"resumem\" muitos números!!!. Por exemplo, média, mediana, mínimo, máximo e desvio padrão são estatísticas resumidas. O cálculo de estatísticas resumidas permitem que você tenha uma noção melhor de seus dados, mesmo que você tenha milhares ou milhões!!"
      ]
    },
    {
      "cell_type": "markdown",
      "id": "564c22c9",
      "metadata": {
        "id": "564c22c9"
      },
      "source": [
        "##### O conjunto de dados\n",
        "A Walt Disney Studios já produziu mais de 600 filmes desde seu filme de estreia, Branca de Neve e os Sete Anões, em 1937. Vamos, explorar um conjunto de dados de filmes da Disney !! Esses dados foram compilados por <a href=\"https://data.world/kgarrett/disney-character-success-00-16\">Kelly Garrett</a>. Os dados contêm 579 filmes da Disney com seis características: título do filme, data de lançamento, gênero, classificação MPAA, bilheteria bruta  e bilheteria ajustada pela inflação. </p>"
      ]
    },
    {
      "cell_type": "markdown",
      "id": "af2ea7e4",
      "metadata": {
        "id": "af2ea7e4"
      },
      "source": [
        ""
      ]
    },
    {
      "cell_type": "markdown",
      "id": "51f2b192",
      "metadata": {
        "id": "51f2b192"
      },
      "source": [
        "1 -Importe o  dataset disney_movies_total_gross.csv e salvar com o nome dados."
      ]
    },
    {
      "cell_type": "code",
      "execution_count": 2,
      "id": "2750f558",
      "metadata": {
        "id": "2750f558"
      },
      "outputs": [],
      "source": [
        "import pandas as pd\n",
        "import statistics as stat\n",
        "import numpy as np\n",
        "# Leia o arquivo \n",
        "dados = pd.read_csv('/content/drive/MyDrive/SIRIUS/Dados/disney_movies_total_gross.csv', parse_dates =['release_date'])"
      ]
    },
    {
      "cell_type": "code",
      "source": [
        "from google.colab import drive\n",
        "drive.mount('/content/drive')"
      ],
      "metadata": {
        "colab": {
          "base_uri": "https://localhost:8080/"
        },
        "id": "vO4gAYy2bU_E",
        "outputId": "0f35ec06-d763-4318-caea-49a833546ea4"
      },
      "id": "vO4gAYy2bU_E",
      "execution_count": 1,
      "outputs": [
        {
          "output_type": "stream",
          "name": "stdout",
          "text": [
            "Mounted at /content/drive\n"
          ]
        }
      ]
    },
    {
      "cell_type": "markdown",
      "id": "97272379",
      "metadata": {
        "id": "97272379"
      },
      "source": [
        ""
      ]
    },
    {
      "cell_type": "markdown",
      "id": "b230e93c",
      "metadata": {
        "id": "b230e93c"
      },
      "source": [
        "2 -  Imprima as primeiras linhas desse dataset"
      ]
    },
    {
      "cell_type": "code",
      "execution_count": 3,
      "id": "59ce51cc",
      "metadata": {
        "colab": {
          "base_uri": "https://localhost:8080/",
          "height": 206
        },
        "id": "59ce51cc",
        "outputId": "983dee0d-4557-4703-aa68-09dd27102d4a"
      },
      "outputs": [
        {
          "output_type": "execute_result",
          "data": {
            "text/plain": [
              "                       movie_title release_date      genre mpaa_rating  \\\n",
              "0  Snow White and the Seven Dwarfs   1937-12-21    Musical           G   \n",
              "1                        Pinocchio   1940-02-09  Adventure           G   \n",
              "2                         Fantasia   1940-11-13    Musical           G   \n",
              "3                Song of the South   1946-11-12  Adventure           G   \n",
              "4                       Cinderella   1950-02-15      Drama           G   \n",
              "\n",
              "   total_gross  inflation_adjusted_gross  \n",
              "0    184925485                5228953251  \n",
              "1     84300000                2188229052  \n",
              "2     83320000                2187090808  \n",
              "3     65000000                1078510579  \n",
              "4     85000000                 920608730  "
            ],
            "text/html": [
              "\n",
              "  <div id=\"df-8192d412-7e0e-4bf9-9eac-b6ebd480f7aa\">\n",
              "    <div class=\"colab-df-container\">\n",
              "      <div>\n",
              "<style scoped>\n",
              "    .dataframe tbody tr th:only-of-type {\n",
              "        vertical-align: middle;\n",
              "    }\n",
              "\n",
              "    .dataframe tbody tr th {\n",
              "        vertical-align: top;\n",
              "    }\n",
              "\n",
              "    .dataframe thead th {\n",
              "        text-align: right;\n",
              "    }\n",
              "</style>\n",
              "<table border=\"1\" class=\"dataframe\">\n",
              "  <thead>\n",
              "    <tr style=\"text-align: right;\">\n",
              "      <th></th>\n",
              "      <th>movie_title</th>\n",
              "      <th>release_date</th>\n",
              "      <th>genre</th>\n",
              "      <th>mpaa_rating</th>\n",
              "      <th>total_gross</th>\n",
              "      <th>inflation_adjusted_gross</th>\n",
              "    </tr>\n",
              "  </thead>\n",
              "  <tbody>\n",
              "    <tr>\n",
              "      <th>0</th>\n",
              "      <td>Snow White and the Seven Dwarfs</td>\n",
              "      <td>1937-12-21</td>\n",
              "      <td>Musical</td>\n",
              "      <td>G</td>\n",
              "      <td>184925485</td>\n",
              "      <td>5228953251</td>\n",
              "    </tr>\n",
              "    <tr>\n",
              "      <th>1</th>\n",
              "      <td>Pinocchio</td>\n",
              "      <td>1940-02-09</td>\n",
              "      <td>Adventure</td>\n",
              "      <td>G</td>\n",
              "      <td>84300000</td>\n",
              "      <td>2188229052</td>\n",
              "    </tr>\n",
              "    <tr>\n",
              "      <th>2</th>\n",
              "      <td>Fantasia</td>\n",
              "      <td>1940-11-13</td>\n",
              "      <td>Musical</td>\n",
              "      <td>G</td>\n",
              "      <td>83320000</td>\n",
              "      <td>2187090808</td>\n",
              "    </tr>\n",
              "    <tr>\n",
              "      <th>3</th>\n",
              "      <td>Song of the South</td>\n",
              "      <td>1946-11-12</td>\n",
              "      <td>Adventure</td>\n",
              "      <td>G</td>\n",
              "      <td>65000000</td>\n",
              "      <td>1078510579</td>\n",
              "    </tr>\n",
              "    <tr>\n",
              "      <th>4</th>\n",
              "      <td>Cinderella</td>\n",
              "      <td>1950-02-15</td>\n",
              "      <td>Drama</td>\n",
              "      <td>G</td>\n",
              "      <td>85000000</td>\n",
              "      <td>920608730</td>\n",
              "    </tr>\n",
              "  </tbody>\n",
              "</table>\n",
              "</div>\n",
              "      <button class=\"colab-df-convert\" onclick=\"convertToInteractive('df-8192d412-7e0e-4bf9-9eac-b6ebd480f7aa')\"\n",
              "              title=\"Convert this dataframe to an interactive table.\"\n",
              "              style=\"display:none;\">\n",
              "        \n",
              "  <svg xmlns=\"http://www.w3.org/2000/svg\" height=\"24px\"viewBox=\"0 0 24 24\"\n",
              "       width=\"24px\">\n",
              "    <path d=\"M0 0h24v24H0V0z\" fill=\"none\"/>\n",
              "    <path d=\"M18.56 5.44l.94 2.06.94-2.06 2.06-.94-2.06-.94-.94-2.06-.94 2.06-2.06.94zm-11 1L8.5 8.5l.94-2.06 2.06-.94-2.06-.94L8.5 2.5l-.94 2.06-2.06.94zm10 10l.94 2.06.94-2.06 2.06-.94-2.06-.94-.94-2.06-.94 2.06-2.06.94z\"/><path d=\"M17.41 7.96l-1.37-1.37c-.4-.4-.92-.59-1.43-.59-.52 0-1.04.2-1.43.59L10.3 9.45l-7.72 7.72c-.78.78-.78 2.05 0 2.83L4 21.41c.39.39.9.59 1.41.59.51 0 1.02-.2 1.41-.59l7.78-7.78 2.81-2.81c.8-.78.8-2.07 0-2.86zM5.41 20L4 18.59l7.72-7.72 1.47 1.35L5.41 20z\"/>\n",
              "  </svg>\n",
              "      </button>\n",
              "      \n",
              "  <style>\n",
              "    .colab-df-container {\n",
              "      display:flex;\n",
              "      flex-wrap:wrap;\n",
              "      gap: 12px;\n",
              "    }\n",
              "\n",
              "    .colab-df-convert {\n",
              "      background-color: #E8F0FE;\n",
              "      border: none;\n",
              "      border-radius: 50%;\n",
              "      cursor: pointer;\n",
              "      display: none;\n",
              "      fill: #1967D2;\n",
              "      height: 32px;\n",
              "      padding: 0 0 0 0;\n",
              "      width: 32px;\n",
              "    }\n",
              "\n",
              "    .colab-df-convert:hover {\n",
              "      background-color: #E2EBFA;\n",
              "      box-shadow: 0px 1px 2px rgba(60, 64, 67, 0.3), 0px 1px 3px 1px rgba(60, 64, 67, 0.15);\n",
              "      fill: #174EA6;\n",
              "    }\n",
              "\n",
              "    [theme=dark] .colab-df-convert {\n",
              "      background-color: #3B4455;\n",
              "      fill: #D2E3FC;\n",
              "    }\n",
              "\n",
              "    [theme=dark] .colab-df-convert:hover {\n",
              "      background-color: #434B5C;\n",
              "      box-shadow: 0px 1px 3px 1px rgba(0, 0, 0, 0.15);\n",
              "      filter: drop-shadow(0px 1px 2px rgba(0, 0, 0, 0.3));\n",
              "      fill: #FFFFFF;\n",
              "    }\n",
              "  </style>\n",
              "\n",
              "      <script>\n",
              "        const buttonEl =\n",
              "          document.querySelector('#df-8192d412-7e0e-4bf9-9eac-b6ebd480f7aa button.colab-df-convert');\n",
              "        buttonEl.style.display =\n",
              "          google.colab.kernel.accessAllowed ? 'block' : 'none';\n",
              "\n",
              "        async function convertToInteractive(key) {\n",
              "          const element = document.querySelector('#df-8192d412-7e0e-4bf9-9eac-b6ebd480f7aa');\n",
              "          const dataTable =\n",
              "            await google.colab.kernel.invokeFunction('convertToInteractive',\n",
              "                                                     [key], {});\n",
              "          if (!dataTable) return;\n",
              "\n",
              "          const docLinkHtml = 'Like what you see? Visit the ' +\n",
              "            '<a target=\"_blank\" href=https://colab.research.google.com/notebooks/data_table.ipynb>data table notebook</a>'\n",
              "            + ' to learn more about interactive tables.';\n",
              "          element.innerHTML = '';\n",
              "          dataTable['output_type'] = 'display_data';\n",
              "          await google.colab.output.renderOutput(dataTable, element);\n",
              "          const docLink = document.createElement('div');\n",
              "          docLink.innerHTML = docLinkHtml;\n",
              "          element.appendChild(docLink);\n",
              "        }\n",
              "      </script>\n",
              "    </div>\n",
              "  </div>\n",
              "  "
            ]
          },
          "metadata": {},
          "execution_count": 3
        }
      ],
      "source": [
        "dados.head()"
      ]
    },
    {
      "cell_type": "markdown",
      "id": "eab3247c",
      "metadata": {
        "id": "eab3247c"
      },
      "source": [
        "Obs.: Motion Picture Association of America (MPAA) - é uma associação que tem por objetivo original garantir a viabilidade da indústria cinematográfica norte-americana. Além disso, a MPA estabeleceu diretrizes para o conteúdo de filmes que resultaram na criação do Código de Produção em 1930. \n",
        "Por exemplo, a classificação de filmes segundo essa associação é:"
      ]
    },
    {
      "cell_type": "markdown",
      "id": "b8ad1e28",
      "metadata": {
        "id": "b8ad1e28"
      },
      "source": [
        "![wikipedia](mpaa_rating.png)\n",
        "\n",
        "fonte:https://pt.wikipedia.org/wiki/Motion_Picture_Association"
      ]
    },
    {
      "cell_type": "markdown",
      "id": "d52ae9ee",
      "metadata": {
        "id": "d52ae9ee"
      },
      "source": [
        "Agora, antes de mais nada vamos renomear as colunas para ficar mais fácil o entendimento?"
      ]
    },
    {
      "cell_type": "markdown",
      "id": "e5e4a2f6",
      "metadata": {
        "id": "e5e4a2f6"
      },
      "source": [
        "['tit_do_filme','dt_lancamento','genero','classificacao_mpaa','bilheteria_bruta','bilheteria_ajustada_inflacao']"
      ]
    },
    {
      "cell_type": "markdown",
      "id": "17fce58e",
      "metadata": {
        "id": "17fce58e"
      },
      "source": [
        "3 - Veja o dataset agora:"
      ]
    },
    {
      "cell_type": "code",
      "execution_count": 4,
      "id": "4c510b9c",
      "metadata": {
        "colab": {
          "base_uri": "https://localhost:8080/",
          "height": 206
        },
        "id": "4c510b9c",
        "outputId": "c9748ecc-6b4f-4ac0-965a-ae2d72d53e74"
      },
      "outputs": [
        {
          "output_type": "execute_result",
          "data": {
            "text/plain": [
              "                      tit_do_filme dt_lancamento     genero  \\\n",
              "0  Snow White and the Seven Dwarfs    1937-12-21    Musical   \n",
              "1                        Pinocchio    1940-02-09  Adventure   \n",
              "2                         Fantasia    1940-11-13    Musical   \n",
              "3                Song of the South    1946-11-12  Adventure   \n",
              "4                       Cinderella    1950-02-15      Drama   \n",
              "\n",
              "  classificacao_mpaa  bilheteria_bruta  bilheteria_ajustada_inflacao  \n",
              "0                  G         184925485                    5228953251  \n",
              "1                  G          84300000                    2188229052  \n",
              "2                  G          83320000                    2187090808  \n",
              "3                  G          65000000                    1078510579  \n",
              "4                  G          85000000                     920608730  "
            ],
            "text/html": [
              "\n",
              "  <div id=\"df-acbbff2b-dabc-4ba9-8d7a-9f3892de84c1\">\n",
              "    <div class=\"colab-df-container\">\n",
              "      <div>\n",
              "<style scoped>\n",
              "    .dataframe tbody tr th:only-of-type {\n",
              "        vertical-align: middle;\n",
              "    }\n",
              "\n",
              "    .dataframe tbody tr th {\n",
              "        vertical-align: top;\n",
              "    }\n",
              "\n",
              "    .dataframe thead th {\n",
              "        text-align: right;\n",
              "    }\n",
              "</style>\n",
              "<table border=\"1\" class=\"dataframe\">\n",
              "  <thead>\n",
              "    <tr style=\"text-align: right;\">\n",
              "      <th></th>\n",
              "      <th>tit_do_filme</th>\n",
              "      <th>dt_lancamento</th>\n",
              "      <th>genero</th>\n",
              "      <th>classificacao_mpaa</th>\n",
              "      <th>bilheteria_bruta</th>\n",
              "      <th>bilheteria_ajustada_inflacao</th>\n",
              "    </tr>\n",
              "  </thead>\n",
              "  <tbody>\n",
              "    <tr>\n",
              "      <th>0</th>\n",
              "      <td>Snow White and the Seven Dwarfs</td>\n",
              "      <td>1937-12-21</td>\n",
              "      <td>Musical</td>\n",
              "      <td>G</td>\n",
              "      <td>184925485</td>\n",
              "      <td>5228953251</td>\n",
              "    </tr>\n",
              "    <tr>\n",
              "      <th>1</th>\n",
              "      <td>Pinocchio</td>\n",
              "      <td>1940-02-09</td>\n",
              "      <td>Adventure</td>\n",
              "      <td>G</td>\n",
              "      <td>84300000</td>\n",
              "      <td>2188229052</td>\n",
              "    </tr>\n",
              "    <tr>\n",
              "      <th>2</th>\n",
              "      <td>Fantasia</td>\n",
              "      <td>1940-11-13</td>\n",
              "      <td>Musical</td>\n",
              "      <td>G</td>\n",
              "      <td>83320000</td>\n",
              "      <td>2187090808</td>\n",
              "    </tr>\n",
              "    <tr>\n",
              "      <th>3</th>\n",
              "      <td>Song of the South</td>\n",
              "      <td>1946-11-12</td>\n",
              "      <td>Adventure</td>\n",
              "      <td>G</td>\n",
              "      <td>65000000</td>\n",
              "      <td>1078510579</td>\n",
              "    </tr>\n",
              "    <tr>\n",
              "      <th>4</th>\n",
              "      <td>Cinderella</td>\n",
              "      <td>1950-02-15</td>\n",
              "      <td>Drama</td>\n",
              "      <td>G</td>\n",
              "      <td>85000000</td>\n",
              "      <td>920608730</td>\n",
              "    </tr>\n",
              "  </tbody>\n",
              "</table>\n",
              "</div>\n",
              "      <button class=\"colab-df-convert\" onclick=\"convertToInteractive('df-acbbff2b-dabc-4ba9-8d7a-9f3892de84c1')\"\n",
              "              title=\"Convert this dataframe to an interactive table.\"\n",
              "              style=\"display:none;\">\n",
              "        \n",
              "  <svg xmlns=\"http://www.w3.org/2000/svg\" height=\"24px\"viewBox=\"0 0 24 24\"\n",
              "       width=\"24px\">\n",
              "    <path d=\"M0 0h24v24H0V0z\" fill=\"none\"/>\n",
              "    <path d=\"M18.56 5.44l.94 2.06.94-2.06 2.06-.94-2.06-.94-.94-2.06-.94 2.06-2.06.94zm-11 1L8.5 8.5l.94-2.06 2.06-.94-2.06-.94L8.5 2.5l-.94 2.06-2.06.94zm10 10l.94 2.06.94-2.06 2.06-.94-2.06-.94-.94-2.06-.94 2.06-2.06.94z\"/><path d=\"M17.41 7.96l-1.37-1.37c-.4-.4-.92-.59-1.43-.59-.52 0-1.04.2-1.43.59L10.3 9.45l-7.72 7.72c-.78.78-.78 2.05 0 2.83L4 21.41c.39.39.9.59 1.41.59.51 0 1.02-.2 1.41-.59l7.78-7.78 2.81-2.81c.8-.78.8-2.07 0-2.86zM5.41 20L4 18.59l7.72-7.72 1.47 1.35L5.41 20z\"/>\n",
              "  </svg>\n",
              "      </button>\n",
              "      \n",
              "  <style>\n",
              "    .colab-df-container {\n",
              "      display:flex;\n",
              "      flex-wrap:wrap;\n",
              "      gap: 12px;\n",
              "    }\n",
              "\n",
              "    .colab-df-convert {\n",
              "      background-color: #E8F0FE;\n",
              "      border: none;\n",
              "      border-radius: 50%;\n",
              "      cursor: pointer;\n",
              "      display: none;\n",
              "      fill: #1967D2;\n",
              "      height: 32px;\n",
              "      padding: 0 0 0 0;\n",
              "      width: 32px;\n",
              "    }\n",
              "\n",
              "    .colab-df-convert:hover {\n",
              "      background-color: #E2EBFA;\n",
              "      box-shadow: 0px 1px 2px rgba(60, 64, 67, 0.3), 0px 1px 3px 1px rgba(60, 64, 67, 0.15);\n",
              "      fill: #174EA6;\n",
              "    }\n",
              "\n",
              "    [theme=dark] .colab-df-convert {\n",
              "      background-color: #3B4455;\n",
              "      fill: #D2E3FC;\n",
              "    }\n",
              "\n",
              "    [theme=dark] .colab-df-convert:hover {\n",
              "      background-color: #434B5C;\n",
              "      box-shadow: 0px 1px 3px 1px rgba(0, 0, 0, 0.15);\n",
              "      filter: drop-shadow(0px 1px 2px rgba(0, 0, 0, 0.3));\n",
              "      fill: #FFFFFF;\n",
              "    }\n",
              "  </style>\n",
              "\n",
              "      <script>\n",
              "        const buttonEl =\n",
              "          document.querySelector('#df-acbbff2b-dabc-4ba9-8d7a-9f3892de84c1 button.colab-df-convert');\n",
              "        buttonEl.style.display =\n",
              "          google.colab.kernel.accessAllowed ? 'block' : 'none';\n",
              "\n",
              "        async function convertToInteractive(key) {\n",
              "          const element = document.querySelector('#df-acbbff2b-dabc-4ba9-8d7a-9f3892de84c1');\n",
              "          const dataTable =\n",
              "            await google.colab.kernel.invokeFunction('convertToInteractive',\n",
              "                                                     [key], {});\n",
              "          if (!dataTable) return;\n",
              "\n",
              "          const docLinkHtml = 'Like what you see? Visit the ' +\n",
              "            '<a target=\"_blank\" href=https://colab.research.google.com/notebooks/data_table.ipynb>data table notebook</a>'\n",
              "            + ' to learn more about interactive tables.';\n",
              "          element.innerHTML = '';\n",
              "          dataTable['output_type'] = 'display_data';\n",
              "          await google.colab.output.renderOutput(dataTable, element);\n",
              "          const docLink = document.createElement('div');\n",
              "          docLink.innerHTML = docLinkHtml;\n",
              "          element.appendChild(docLink);\n",
              "        }\n",
              "      </script>\n",
              "    </div>\n",
              "  </div>\n",
              "  "
            ]
          },
          "metadata": {},
          "execution_count": 4
        }
      ],
      "source": [
        "dados.columns = ['tit_do_filme','dt_lancamento','genero','classificacao_mpaa','bilheteria_bruta','bilheteria_ajustada_inflacao']\n",
        "dados.head()"
      ]
    },
    {
      "cell_type": "markdown",
      "id": "39ddad3f",
      "metadata": {
        "id": "39ddad3f"
      },
      "source": [
        ""
      ]
    },
    {
      "cell_type": "markdown",
      "id": "dbcc6abc",
      "metadata": {
        "id": "dbcc6abc"
      },
      "source": [
        "4 -Imprima informações básicas sobre o DataFrame"
      ]
    },
    {
      "cell_type": "code",
      "source": [
        "dados.head()"
      ],
      "metadata": {
        "colab": {
          "base_uri": "https://localhost:8080/",
          "height": 206
        },
        "id": "N4gBU9nOcw2N",
        "outputId": "708c5144-de32-45b8-d114-ec3b3e820e03"
      },
      "id": "N4gBU9nOcw2N",
      "execution_count": 5,
      "outputs": [
        {
          "output_type": "execute_result",
          "data": {
            "text/plain": [
              "                      tit_do_filme dt_lancamento     genero  \\\n",
              "0  Snow White and the Seven Dwarfs    1937-12-21    Musical   \n",
              "1                        Pinocchio    1940-02-09  Adventure   \n",
              "2                         Fantasia    1940-11-13    Musical   \n",
              "3                Song of the South    1946-11-12  Adventure   \n",
              "4                       Cinderella    1950-02-15      Drama   \n",
              "\n",
              "  classificacao_mpaa  bilheteria_bruta  bilheteria_ajustada_inflacao  \n",
              "0                  G         184925485                    5228953251  \n",
              "1                  G          84300000                    2188229052  \n",
              "2                  G          83320000                    2187090808  \n",
              "3                  G          65000000                    1078510579  \n",
              "4                  G          85000000                     920608730  "
            ],
            "text/html": [
              "\n",
              "  <div id=\"df-9d504ebf-db1e-46d9-94db-e534d5557bb9\">\n",
              "    <div class=\"colab-df-container\">\n",
              "      <div>\n",
              "<style scoped>\n",
              "    .dataframe tbody tr th:only-of-type {\n",
              "        vertical-align: middle;\n",
              "    }\n",
              "\n",
              "    .dataframe tbody tr th {\n",
              "        vertical-align: top;\n",
              "    }\n",
              "\n",
              "    .dataframe thead th {\n",
              "        text-align: right;\n",
              "    }\n",
              "</style>\n",
              "<table border=\"1\" class=\"dataframe\">\n",
              "  <thead>\n",
              "    <tr style=\"text-align: right;\">\n",
              "      <th></th>\n",
              "      <th>tit_do_filme</th>\n",
              "      <th>dt_lancamento</th>\n",
              "      <th>genero</th>\n",
              "      <th>classificacao_mpaa</th>\n",
              "      <th>bilheteria_bruta</th>\n",
              "      <th>bilheteria_ajustada_inflacao</th>\n",
              "    </tr>\n",
              "  </thead>\n",
              "  <tbody>\n",
              "    <tr>\n",
              "      <th>0</th>\n",
              "      <td>Snow White and the Seven Dwarfs</td>\n",
              "      <td>1937-12-21</td>\n",
              "      <td>Musical</td>\n",
              "      <td>G</td>\n",
              "      <td>184925485</td>\n",
              "      <td>5228953251</td>\n",
              "    </tr>\n",
              "    <tr>\n",
              "      <th>1</th>\n",
              "      <td>Pinocchio</td>\n",
              "      <td>1940-02-09</td>\n",
              "      <td>Adventure</td>\n",
              "      <td>G</td>\n",
              "      <td>84300000</td>\n",
              "      <td>2188229052</td>\n",
              "    </tr>\n",
              "    <tr>\n",
              "      <th>2</th>\n",
              "      <td>Fantasia</td>\n",
              "      <td>1940-11-13</td>\n",
              "      <td>Musical</td>\n",
              "      <td>G</td>\n",
              "      <td>83320000</td>\n",
              "      <td>2187090808</td>\n",
              "    </tr>\n",
              "    <tr>\n",
              "      <th>3</th>\n",
              "      <td>Song of the South</td>\n",
              "      <td>1946-11-12</td>\n",
              "      <td>Adventure</td>\n",
              "      <td>G</td>\n",
              "      <td>65000000</td>\n",
              "      <td>1078510579</td>\n",
              "    </tr>\n",
              "    <tr>\n",
              "      <th>4</th>\n",
              "      <td>Cinderella</td>\n",
              "      <td>1950-02-15</td>\n",
              "      <td>Drama</td>\n",
              "      <td>G</td>\n",
              "      <td>85000000</td>\n",
              "      <td>920608730</td>\n",
              "    </tr>\n",
              "  </tbody>\n",
              "</table>\n",
              "</div>\n",
              "      <button class=\"colab-df-convert\" onclick=\"convertToInteractive('df-9d504ebf-db1e-46d9-94db-e534d5557bb9')\"\n",
              "              title=\"Convert this dataframe to an interactive table.\"\n",
              "              style=\"display:none;\">\n",
              "        \n",
              "  <svg xmlns=\"http://www.w3.org/2000/svg\" height=\"24px\"viewBox=\"0 0 24 24\"\n",
              "       width=\"24px\">\n",
              "    <path d=\"M0 0h24v24H0V0z\" fill=\"none\"/>\n",
              "    <path d=\"M18.56 5.44l.94 2.06.94-2.06 2.06-.94-2.06-.94-.94-2.06-.94 2.06-2.06.94zm-11 1L8.5 8.5l.94-2.06 2.06-.94-2.06-.94L8.5 2.5l-.94 2.06-2.06.94zm10 10l.94 2.06.94-2.06 2.06-.94-2.06-.94-.94-2.06-.94 2.06-2.06.94z\"/><path d=\"M17.41 7.96l-1.37-1.37c-.4-.4-.92-.59-1.43-.59-.52 0-1.04.2-1.43.59L10.3 9.45l-7.72 7.72c-.78.78-.78 2.05 0 2.83L4 21.41c.39.39.9.59 1.41.59.51 0 1.02-.2 1.41-.59l7.78-7.78 2.81-2.81c.8-.78.8-2.07 0-2.86zM5.41 20L4 18.59l7.72-7.72 1.47 1.35L5.41 20z\"/>\n",
              "  </svg>\n",
              "      </button>\n",
              "      \n",
              "  <style>\n",
              "    .colab-df-container {\n",
              "      display:flex;\n",
              "      flex-wrap:wrap;\n",
              "      gap: 12px;\n",
              "    }\n",
              "\n",
              "    .colab-df-convert {\n",
              "      background-color: #E8F0FE;\n",
              "      border: none;\n",
              "      border-radius: 50%;\n",
              "      cursor: pointer;\n",
              "      display: none;\n",
              "      fill: #1967D2;\n",
              "      height: 32px;\n",
              "      padding: 0 0 0 0;\n",
              "      width: 32px;\n",
              "    }\n",
              "\n",
              "    .colab-df-convert:hover {\n",
              "      background-color: #E2EBFA;\n",
              "      box-shadow: 0px 1px 2px rgba(60, 64, 67, 0.3), 0px 1px 3px 1px rgba(60, 64, 67, 0.15);\n",
              "      fill: #174EA6;\n",
              "    }\n",
              "\n",
              "    [theme=dark] .colab-df-convert {\n",
              "      background-color: #3B4455;\n",
              "      fill: #D2E3FC;\n",
              "    }\n",
              "\n",
              "    [theme=dark] .colab-df-convert:hover {\n",
              "      background-color: #434B5C;\n",
              "      box-shadow: 0px 1px 3px 1px rgba(0, 0, 0, 0.15);\n",
              "      filter: drop-shadow(0px 1px 2px rgba(0, 0, 0, 0.3));\n",
              "      fill: #FFFFFF;\n",
              "    }\n",
              "  </style>\n",
              "\n",
              "      <script>\n",
              "        const buttonEl =\n",
              "          document.querySelector('#df-9d504ebf-db1e-46d9-94db-e534d5557bb9 button.colab-df-convert');\n",
              "        buttonEl.style.display =\n",
              "          google.colab.kernel.accessAllowed ? 'block' : 'none';\n",
              "\n",
              "        async function convertToInteractive(key) {\n",
              "          const element = document.querySelector('#df-9d504ebf-db1e-46d9-94db-e534d5557bb9');\n",
              "          const dataTable =\n",
              "            await google.colab.kernel.invokeFunction('convertToInteractive',\n",
              "                                                     [key], {});\n",
              "          if (!dataTable) return;\n",
              "\n",
              "          const docLinkHtml = 'Like what you see? Visit the ' +\n",
              "            '<a target=\"_blank\" href=https://colab.research.google.com/notebooks/data_table.ipynb>data table notebook</a>'\n",
              "            + ' to learn more about interactive tables.';\n",
              "          element.innerHTML = '';\n",
              "          dataTable['output_type'] = 'display_data';\n",
              "          await google.colab.output.renderOutput(dataTable, element);\n",
              "          const docLink = document.createElement('div');\n",
              "          docLink.innerHTML = docLinkHtml;\n",
              "          element.appendChild(docLink);\n",
              "        }\n",
              "      </script>\n",
              "    </div>\n",
              "  </div>\n",
              "  "
            ]
          },
          "metadata": {},
          "execution_count": 5
        }
      ]
    },
    {
      "cell_type": "code",
      "execution_count": 6,
      "id": "2947b71b",
      "metadata": {
        "colab": {
          "base_uri": "https://localhost:8080/"
        },
        "id": "2947b71b",
        "outputId": "a4033014-8352-45ba-ccab-98d54247b9fe"
      },
      "outputs": [
        {
          "output_type": "stream",
          "name": "stdout",
          "text": [
            "<class 'pandas.core.frame.DataFrame'>\n",
            "RangeIndex: 579 entries, 0 to 578\n",
            "Data columns (total 6 columns):\n",
            " #   Column                        Non-Null Count  Dtype         \n",
            "---  ------                        --------------  -----         \n",
            " 0   tit_do_filme                  579 non-null    object        \n",
            " 1   dt_lancamento                 579 non-null    datetime64[ns]\n",
            " 2   genero                        562 non-null    object        \n",
            " 3   classificacao_mpaa            523 non-null    object        \n",
            " 4   bilheteria_bruta              579 non-null    int64         \n",
            " 5   bilheteria_ajustada_inflacao  579 non-null    int64         \n",
            "dtypes: datetime64[ns](1), int64(2), object(3)\n",
            "memory usage: 27.3+ KB\n"
          ]
        }
      ],
      "source": [
        "dados.info()"
      ]
    },
    {
      "cell_type": "markdown",
      "id": "99cf10a8",
      "metadata": {
        "id": "99cf10a8"
      },
      "source": [
        "5 - Calcule a média da bilheteria ajustada"
      ]
    },
    {
      "cell_type": "code",
      "source": [
        "dados.columns"
      ],
      "metadata": {
        "colab": {
          "base_uri": "https://localhost:8080/"
        },
        "id": "_JrbafJve9SU",
        "outputId": "81344c1f-3c93-4876-a44e-9ee3fa8135fa"
      },
      "id": "_JrbafJve9SU",
      "execution_count": null,
      "outputs": [
        {
          "output_type": "execute_result",
          "data": {
            "text/plain": [
              "Index(['tit_do_filme', 'dt_lancamento', 'genero', 'classificacao_mpaa',\n",
              "       'bilheteria_bruta', 'bilheteria_ajustada_inflacao'],\n",
              "      dtype='object')"
            ]
          },
          "metadata": {},
          "execution_count": 9
        }
      ]
    },
    {
      "cell_type": "code",
      "source": [
        "dados['bilheteria_ajustada_inflacao'].agg(np.mean)"
      ],
      "metadata": {
        "colab": {
          "base_uri": "https://localhost:8080/"
        },
        "id": "hoH50shNb9f0",
        "outputId": "633f8bbf-010b-4dbd-eede-49fbeb6b53e4"
      },
      "id": "hoH50shNb9f0",
      "execution_count": null,
      "outputs": [
        {
          "output_type": "execute_result",
          "data": {
            "text/plain": [
              "118762523.31088082"
            ]
          },
          "metadata": {},
          "execution_count": 10
        }
      ]
    },
    {
      "cell_type": "code",
      "source": [
        "round(dados.bilheteria_ajustada_inflacao.mean(),2)"
      ],
      "metadata": {
        "colab": {
          "base_uri": "https://localhost:8080/"
        },
        "id": "xh9cVv_KNt6-",
        "outputId": "b5c0d915-758f-48df-9e90-28fa33d79f92"
      },
      "id": "xh9cVv_KNt6-",
      "execution_count": 10,
      "outputs": [
        {
          "output_type": "execute_result",
          "data": {
            "text/plain": [
              "118762523.31"
            ]
          },
          "metadata": {},
          "execution_count": 10
        }
      ]
    },
    {
      "cell_type": "code",
      "execution_count": null,
      "id": "911d11c6",
      "metadata": {
        "colab": {
          "base_uri": "https://localhost:8080/"
        },
        "id": "911d11c6",
        "outputId": "f2cbf4f5-1b88-4267-f8e6-7c507fb09189"
      },
      "outputs": [
        {
          "output_type": "execute_result",
          "data": {
            "text/plain": [
              "118762523.31088082"
            ]
          },
          "metadata": {},
          "execution_count": 11
        }
      ],
      "source": [
        "dados.bilheteria_ajustada_inflacao.describe().loc[\"mean\"]\n"
      ]
    },
    {
      "cell_type": "markdown",
      "id": "80f0ce0c",
      "metadata": {
        "id": "80f0ce0c"
      },
      "source": [
        "6 - Calcule a mediana da bilheterias ajustada"
      ]
    },
    {
      "cell_type": "code",
      "source": [
        "# dados.groupby('tit_do_filme')[['bilheteria_ajustada_inflacao','bilheteria_bruta']].agg([np.mean,np.median,np.amax])\n",
        "dados.groupby('tit_do_filme')['bilheteria_ajustada_inflacao'].agg(np.median)"
      ],
      "metadata": {
        "colab": {
          "base_uri": "https://localhost:8080/"
        },
        "id": "nMzwidbddHJE",
        "outputId": "35f581e0-51b5-4dfb-831b-98af4ed6b4cb"
      },
      "id": "nMzwidbddHJE",
      "execution_count": 13,
      "outputs": [
        {
          "output_type": "execute_result",
          "data": {
            "text/plain": [
              "tit_do_filme\n",
              "101 Dalmatians                  810799941.5\n",
              "102 Dalmatians                  104055039.0\n",
              "1492: Conquest of Paradise       14421454.0\n",
              "20,000 Leagues Under the Sea    528279994.0\n",
              "25th Hour                        18325463.0\n",
              "                                   ...     \n",
              "You Again                        27461121.0\n",
              "Young Black Stallion              9254344.0\n",
              "Zokkomon                             2984.0\n",
              "Zootopia                        341268248.0\n",
              "crazy/beautiful                  25214223.0\n",
              "Name: bilheteria_ajustada_inflacao, Length: 573, dtype: float64"
            ]
          },
          "metadata": {},
          "execution_count": 13
        }
      ]
    },
    {
      "cell_type": "code",
      "source": [
        "dados.bilheteria_ajustada_inflacao.agg(np.median)"
      ],
      "metadata": {
        "colab": {
          "base_uri": "https://localhost:8080/"
        },
        "id": "8yEQp_6GfMnf",
        "outputId": "ed35ec09-dccf-4bc5-f8f2-a7ffda38bb23"
      },
      "id": "8yEQp_6GfMnf",
      "execution_count": 12,
      "outputs": [
        {
          "output_type": "execute_result",
          "data": {
            "text/plain": [
              "55159783.0"
            ]
          },
          "metadata": {},
          "execution_count": 12
        }
      ]
    },
    {
      "cell_type": "code",
      "execution_count": null,
      "id": "bdf6342f",
      "metadata": {
        "id": "bdf6342f",
        "outputId": "c3ae2ef1-9ec6-4b2f-b988-9fb1adf1dd99"
      },
      "outputs": [
        {
          "data": {
            "text/plain": [
              "50%    55159783.0\n",
              "Name: bilheteria_ajustada_inflacao, dtype: float64"
            ]
          },
          "execution_count": 17,
          "metadata": {},
          "output_type": "execute_result"
        }
      ],
      "source": [
        "dados.bilheteria_ajustada_inflacao.describe().loc[[\"50%\"]]"
      ]
    },
    {
      "cell_type": "markdown",
      "id": "1ddca842",
      "metadata": {
        "id": "1ddca842"
      },
      "source": [
        "7 - Encontre as datas máximas e minimas de lançamentos de filmes nesse dataset"
      ]
    },
    {
      "cell_type": "code",
      "source": [
        "dados['']"
      ],
      "metadata": {
        "id": "foFj0DKl7iz0"
      },
      "id": "foFj0DKl7iz0",
      "execution_count": null,
      "outputs": []
    },
    {
      "cell_type": "code",
      "source": [
        "dados.dt_lancamento.agg([np.max,np.min])"
      ],
      "metadata": {
        "colab": {
          "base_uri": "https://localhost:8080/"
        },
        "id": "Fk5I3bo3OVbc",
        "outputId": "9f7f2e97-6838-44d5-883f-319288ed8713"
      },
      "id": "Fk5I3bo3OVbc",
      "execution_count": 17,
      "outputs": [
        {
          "output_type": "execute_result",
          "data": {
            "text/plain": [
              "amax   2016-12-16\n",
              "amin   1937-12-21\n",
              "Name: dt_lancamento, dtype: datetime64[ns]"
            ]
          },
          "metadata": {},
          "execution_count": 17
        }
      ]
    },
    {
      "cell_type": "code",
      "execution_count": 14,
      "id": "951ebec7",
      "metadata": {
        "id": "951ebec7",
        "outputId": "9aa703ac-93ac-4e3a-bc7c-663486d0bcc1",
        "colab": {
          "base_uri": "https://localhost:8080/"
        }
      },
      "outputs": [
        {
          "output_type": "stream",
          "name": "stderr",
          "text": [
            "/usr/local/lib/python3.7/dist-packages/ipykernel_launcher.py:1: FutureWarning: Treating datetime data as categorical rather than numeric in `.describe` is deprecated and will be removed in a future version of pandas. Specify `datetime_is_numeric=True` to silence this warning and adopt the future behavior now.\n",
            "  \"\"\"Entry point for launching an IPython kernel.\n",
            "/usr/local/lib/python3.7/dist-packages/ipykernel_launcher.py:2: FutureWarning: Treating datetime data as categorical rather than numeric in `.describe` is deprecated and will be removed in a future version of pandas. Specify `datetime_is_numeric=True` to silence this warning and adopt the future behavior now.\n",
            "  \n"
          ]
        }
      ],
      "source": [
        "Data_max = dados.dt_lancamento.describe().loc[[\"top\"]]\n",
        "Data_min = dados.dt_lancamento.describe().loc[[\"last\"]]\n"
      ]
    },
    {
      "cell_type": "code",
      "execution_count": 24,
      "id": "e93f4965",
      "metadata": {
        "id": "e93f4965",
        "outputId": "2c9afc40-bb91-42c2-e16e-a3ca056afb1f",
        "colab": {
          "base_uri": "https://localhost:8080/"
        }
      },
      "outputs": [
        {
          "output_type": "stream",
          "name": "stdout",
          "text": [
            "Data maxima = top    1997-12-25 00:00:00\n",
            "Name: dt_lancamento, dtype: object\n",
            "| Data minima = last    2016-12-16 00:00:00\n",
            "Name: dt_lancamento, dtype: object\n"
          ]
        }
      ],
      "source": [
        "print(f'Data maxima = {Data_max}\\n| Data minima = {Data_min}')"
      ]
    },
    {
      "cell_type": "markdown",
      "id": "c2c74ae8",
      "metadata": {
        "id": "c2c74ae8"
      },
      "source": [
        "8 - Qual filme tem maior bilheteria_ajustada_inflacao ?"
      ]
    },
    {
      "cell_type": "code",
      "execution_count": 18,
      "id": "840584dd",
      "metadata": {
        "id": "840584dd",
        "outputId": "8725fc1b-666a-4d13-fa9c-8dd8e1c540e4",
        "colab": {
          "base_uri": "https://localhost:8080/",
          "height": 35
        }
      },
      "outputs": [
        {
          "output_type": "execute_result",
          "data": {
            "text/plain": [
              "'Snow White and the Seven Dwarfs'"
            ],
            "application/vnd.google.colaboratory.intrinsic+json": {
              "type": "string"
            }
          },
          "metadata": {},
          "execution_count": 18
        }
      ],
      "source": [
        "dados.sort_values(by = \"bilheteria_ajustada_inflacao\", ascending = False).iloc[0,0]"
      ]
    },
    {
      "cell_type": "markdown",
      "id": "e60ba8ea",
      "metadata": {
        "id": "e60ba8ea"
      },
      "source": [
        ""
      ]
    },
    {
      "cell_type": "markdown",
      "id": "4eb6a2c1",
      "metadata": {
        "id": "4eb6a2c1"
      },
      "source": [
        "9 - Ordene os dados por dt_lancamento e chame de data_ordenada"
      ]
    },
    {
      "cell_type": "code",
      "execution_count": 22,
      "id": "9c8ae3bf",
      "metadata": {
        "id": "9c8ae3bf",
        "outputId": "5e9ae5bf-d439-4b31-8149-e8881fb3dd9d",
        "colab": {
          "base_uri": "https://localhost:8080/",
          "height": 206
        }
      },
      "outputs": [
        {
          "output_type": "execute_result",
          "data": {
            "text/plain": [
              "                      tit_do_filme dt_lancamento     genero  \\\n",
              "0  Snow White and the Seven Dwarfs    1937-12-21    Musical   \n",
              "1                        Pinocchio    1940-02-09  Adventure   \n",
              "2                         Fantasia    1940-11-13    Musical   \n",
              "3                Song of the South    1946-11-12  Adventure   \n",
              "4                       Cinderella    1950-02-15      Drama   \n",
              "\n",
              "  classificacao_mpaa  bilheteria_bruta  bilheteria_ajustada_inflacao  \n",
              "0                  G         184925485                    5228953251  \n",
              "1                  G          84300000                    2188229052  \n",
              "2                  G          83320000                    2187090808  \n",
              "3                  G          65000000                    1078510579  \n",
              "4                  G          85000000                     920608730  "
            ],
            "text/html": [
              "\n",
              "  <div id=\"df-f76f8e55-e7b2-4737-8fd3-338b710e977d\">\n",
              "    <div class=\"colab-df-container\">\n",
              "      <div>\n",
              "<style scoped>\n",
              "    .dataframe tbody tr th:only-of-type {\n",
              "        vertical-align: middle;\n",
              "    }\n",
              "\n",
              "    .dataframe tbody tr th {\n",
              "        vertical-align: top;\n",
              "    }\n",
              "\n",
              "    .dataframe thead th {\n",
              "        text-align: right;\n",
              "    }\n",
              "</style>\n",
              "<table border=\"1\" class=\"dataframe\">\n",
              "  <thead>\n",
              "    <tr style=\"text-align: right;\">\n",
              "      <th></th>\n",
              "      <th>tit_do_filme</th>\n",
              "      <th>dt_lancamento</th>\n",
              "      <th>genero</th>\n",
              "      <th>classificacao_mpaa</th>\n",
              "      <th>bilheteria_bruta</th>\n",
              "      <th>bilheteria_ajustada_inflacao</th>\n",
              "    </tr>\n",
              "  </thead>\n",
              "  <tbody>\n",
              "    <tr>\n",
              "      <th>0</th>\n",
              "      <td>Snow White and the Seven Dwarfs</td>\n",
              "      <td>1937-12-21</td>\n",
              "      <td>Musical</td>\n",
              "      <td>G</td>\n",
              "      <td>184925485</td>\n",
              "      <td>5228953251</td>\n",
              "    </tr>\n",
              "    <tr>\n",
              "      <th>1</th>\n",
              "      <td>Pinocchio</td>\n",
              "      <td>1940-02-09</td>\n",
              "      <td>Adventure</td>\n",
              "      <td>G</td>\n",
              "      <td>84300000</td>\n",
              "      <td>2188229052</td>\n",
              "    </tr>\n",
              "    <tr>\n",
              "      <th>2</th>\n",
              "      <td>Fantasia</td>\n",
              "      <td>1940-11-13</td>\n",
              "      <td>Musical</td>\n",
              "      <td>G</td>\n",
              "      <td>83320000</td>\n",
              "      <td>2187090808</td>\n",
              "    </tr>\n",
              "    <tr>\n",
              "      <th>3</th>\n",
              "      <td>Song of the South</td>\n",
              "      <td>1946-11-12</td>\n",
              "      <td>Adventure</td>\n",
              "      <td>G</td>\n",
              "      <td>65000000</td>\n",
              "      <td>1078510579</td>\n",
              "    </tr>\n",
              "    <tr>\n",
              "      <th>4</th>\n",
              "      <td>Cinderella</td>\n",
              "      <td>1950-02-15</td>\n",
              "      <td>Drama</td>\n",
              "      <td>G</td>\n",
              "      <td>85000000</td>\n",
              "      <td>920608730</td>\n",
              "    </tr>\n",
              "  </tbody>\n",
              "</table>\n",
              "</div>\n",
              "      <button class=\"colab-df-convert\" onclick=\"convertToInteractive('df-f76f8e55-e7b2-4737-8fd3-338b710e977d')\"\n",
              "              title=\"Convert this dataframe to an interactive table.\"\n",
              "              style=\"display:none;\">\n",
              "        \n",
              "  <svg xmlns=\"http://www.w3.org/2000/svg\" height=\"24px\"viewBox=\"0 0 24 24\"\n",
              "       width=\"24px\">\n",
              "    <path d=\"M0 0h24v24H0V0z\" fill=\"none\"/>\n",
              "    <path d=\"M18.56 5.44l.94 2.06.94-2.06 2.06-.94-2.06-.94-.94-2.06-.94 2.06-2.06.94zm-11 1L8.5 8.5l.94-2.06 2.06-.94-2.06-.94L8.5 2.5l-.94 2.06-2.06.94zm10 10l.94 2.06.94-2.06 2.06-.94-2.06-.94-.94-2.06-.94 2.06-2.06.94z\"/><path d=\"M17.41 7.96l-1.37-1.37c-.4-.4-.92-.59-1.43-.59-.52 0-1.04.2-1.43.59L10.3 9.45l-7.72 7.72c-.78.78-.78 2.05 0 2.83L4 21.41c.39.39.9.59 1.41.59.51 0 1.02-.2 1.41-.59l7.78-7.78 2.81-2.81c.8-.78.8-2.07 0-2.86zM5.41 20L4 18.59l7.72-7.72 1.47 1.35L5.41 20z\"/>\n",
              "  </svg>\n",
              "      </button>\n",
              "      \n",
              "  <style>\n",
              "    .colab-df-container {\n",
              "      display:flex;\n",
              "      flex-wrap:wrap;\n",
              "      gap: 12px;\n",
              "    }\n",
              "\n",
              "    .colab-df-convert {\n",
              "      background-color: #E8F0FE;\n",
              "      border: none;\n",
              "      border-radius: 50%;\n",
              "      cursor: pointer;\n",
              "      display: none;\n",
              "      fill: #1967D2;\n",
              "      height: 32px;\n",
              "      padding: 0 0 0 0;\n",
              "      width: 32px;\n",
              "    }\n",
              "\n",
              "    .colab-df-convert:hover {\n",
              "      background-color: #E2EBFA;\n",
              "      box-shadow: 0px 1px 2px rgba(60, 64, 67, 0.3), 0px 1px 3px 1px rgba(60, 64, 67, 0.15);\n",
              "      fill: #174EA6;\n",
              "    }\n",
              "\n",
              "    [theme=dark] .colab-df-convert {\n",
              "      background-color: #3B4455;\n",
              "      fill: #D2E3FC;\n",
              "    }\n",
              "\n",
              "    [theme=dark] .colab-df-convert:hover {\n",
              "      background-color: #434B5C;\n",
              "      box-shadow: 0px 1px 3px 1px rgba(0, 0, 0, 0.15);\n",
              "      filter: drop-shadow(0px 1px 2px rgba(0, 0, 0, 0.3));\n",
              "      fill: #FFFFFF;\n",
              "    }\n",
              "  </style>\n",
              "\n",
              "      <script>\n",
              "        const buttonEl =\n",
              "          document.querySelector('#df-f76f8e55-e7b2-4737-8fd3-338b710e977d button.colab-df-convert');\n",
              "        buttonEl.style.display =\n",
              "          google.colab.kernel.accessAllowed ? 'block' : 'none';\n",
              "\n",
              "        async function convertToInteractive(key) {\n",
              "          const element = document.querySelector('#df-f76f8e55-e7b2-4737-8fd3-338b710e977d');\n",
              "          const dataTable =\n",
              "            await google.colab.kernel.invokeFunction('convertToInteractive',\n",
              "                                                     [key], {});\n",
              "          if (!dataTable) return;\n",
              "\n",
              "          const docLinkHtml = 'Like what you see? Visit the ' +\n",
              "            '<a target=\"_blank\" href=https://colab.research.google.com/notebooks/data_table.ipynb>data table notebook</a>'\n",
              "            + ' to learn more about interactive tables.';\n",
              "          element.innerHTML = '';\n",
              "          dataTable['output_type'] = 'display_data';\n",
              "          await google.colab.output.renderOutput(dataTable, element);\n",
              "          const docLink = document.createElement('div');\n",
              "          docLink.innerHTML = docLinkHtml;\n",
              "          element.appendChild(docLink);\n",
              "        }\n",
              "      </script>\n",
              "    </div>\n",
              "  </div>\n",
              "  "
            ]
          },
          "metadata": {},
          "execution_count": 22
        }
      ],
      "source": [
        "data_ordenada = dados.sort_values(by = \"dt_lancamento\")\n",
        "data_ordenada.head()"
      ]
    },
    {
      "cell_type": "markdown",
      "id": "83cdf73f",
      "metadata": {
        "id": "83cdf73f"
      },
      "source": [
        "10- Obtenha a soma cumulativa da bilheteria_ajustada_inflacao,adicione ao dataset com o nome de bilheteria_milionaria"
      ]
    },
    {
      "cell_type": "code",
      "execution_count": 23,
      "id": "689b7837",
      "metadata": {
        "id": "689b7837"
      },
      "outputs": [],
      "source": [
        "data_ordenada[\"bilheteria_milionaria\"] = data_ordenada.bilheteria_ajustada_inflacao.cumsum()\n"
      ]
    },
    {
      "cell_type": "markdown",
      "id": "e0c7ffc8",
      "metadata": {
        "id": "e0c7ffc8"
      },
      "source": [
        "11 - Veja a coluna que você criou"
      ]
    },
    {
      "cell_type": "code",
      "execution_count": 25,
      "id": "533171d5",
      "metadata": {
        "id": "533171d5",
        "outputId": "fccb0bff-c909-4e4f-f4c4-9107cac0cd27",
        "colab": {
          "base_uri": "https://localhost:8080/"
        }
      },
      "outputs": [
        {
          "output_type": "execute_result",
          "data": {
            "text/plain": [
              "0       5228953251\n",
              "1       7417182303\n",
              "2       9604273111\n",
              "3      10682783690\n",
              "4      11603392420\n",
              "          ...     \n",
              "574    67746527720\n",
              "575    67755402109\n",
              "576    67987935032\n",
              "577    68234017061\n",
              "578    68763500997\n",
              "Name: bilheteria_milionaria, Length: 579, dtype: int64"
            ]
          },
          "metadata": {},
          "execution_count": 25
        }
      ],
      "source": [
        "data_ordenada.bilheteria_milionaria"
      ]
    },
    {
      "cell_type": "markdown",
      "id": "875fb027",
      "metadata": {
        "id": "875fb027"
      },
      "source": [
        "12 - Selecione os filmes de aventura e atribua a uma variável chamada filmes_aventura"
      ]
    },
    {
      "cell_type": "code",
      "execution_count": 26,
      "id": "38bbaae5",
      "metadata": {
        "id": "38bbaae5",
        "colab": {
          "base_uri": "https://localhost:8080/"
        },
        "outputId": "2bb13435-8495-4678-b344-7e1c3e2e62b6"
      },
      "outputs": [
        {
          "output_type": "execute_result",
          "data": {
            "text/plain": [
              "1                         Pinocchio\n",
              "3                 Song of the South\n",
              "5      20,000 Leagues Under the Sea\n",
              "12           The Sword in the Stone\n",
              "21                     The Rescuers\n",
              "                   ...             \n",
              "572                         The BFG\n",
              "573                   Pete’s Dragon\n",
              "576                  Doctor Strange\n",
              "577                           Moana\n",
              "578    Rogue One: A Star Wars Story\n",
              "Name: tit_do_filme, Length: 129, dtype: object"
            ]
          },
          "metadata": {},
          "execution_count": 26
        }
      ],
      "source": [
        "filmes_aventura = data_ordenada.tit_do_filme[data_ordenada.genero == \"Adventure\"]\n",
        "filmes_aventura"
      ]
    },
    {
      "cell_type": "markdown",
      "id": "8816a9c3",
      "metadata": {
        "id": "8816a9c3"
      },
      "source": [
        "13 - Veja as primeiras linha desse novo dataset:"
      ]
    },
    {
      "cell_type": "code",
      "execution_count": 27,
      "id": "719759d1",
      "metadata": {
        "id": "719759d1",
        "colab": {
          "base_uri": "https://localhost:8080/",
          "height": 206
        },
        "outputId": "5502d921-0080-4632-d6f6-b536db1a6a30"
      },
      "outputs": [
        {
          "output_type": "execute_result",
          "data": {
            "text/plain": [
              "                      tit_do_filme dt_lancamento     genero  \\\n",
              "0  Snow White and the Seven Dwarfs    1937-12-21    Musical   \n",
              "1                        Pinocchio    1940-02-09  Adventure   \n",
              "2                         Fantasia    1940-11-13    Musical   \n",
              "3                Song of the South    1946-11-12  Adventure   \n",
              "4                       Cinderella    1950-02-15      Drama   \n",
              "\n",
              "  classificacao_mpaa  bilheteria_bruta  bilheteria_ajustada_inflacao  \\\n",
              "0                  G         184925485                    5228953251   \n",
              "1                  G          84300000                    2188229052   \n",
              "2                  G          83320000                    2187090808   \n",
              "3                  G          65000000                    1078510579   \n",
              "4                  G          85000000                     920608730   \n",
              "\n",
              "   bilheteria_milionaria  \n",
              "0             5228953251  \n",
              "1             7417182303  \n",
              "2             9604273111  \n",
              "3            10682783690  \n",
              "4            11603392420  "
            ],
            "text/html": [
              "\n",
              "  <div id=\"df-b5e9149c-88db-40a6-b554-f3aaee1b7ee7\">\n",
              "    <div class=\"colab-df-container\">\n",
              "      <div>\n",
              "<style scoped>\n",
              "    .dataframe tbody tr th:only-of-type {\n",
              "        vertical-align: middle;\n",
              "    }\n",
              "\n",
              "    .dataframe tbody tr th {\n",
              "        vertical-align: top;\n",
              "    }\n",
              "\n",
              "    .dataframe thead th {\n",
              "        text-align: right;\n",
              "    }\n",
              "</style>\n",
              "<table border=\"1\" class=\"dataframe\">\n",
              "  <thead>\n",
              "    <tr style=\"text-align: right;\">\n",
              "      <th></th>\n",
              "      <th>tit_do_filme</th>\n",
              "      <th>dt_lancamento</th>\n",
              "      <th>genero</th>\n",
              "      <th>classificacao_mpaa</th>\n",
              "      <th>bilheteria_bruta</th>\n",
              "      <th>bilheteria_ajustada_inflacao</th>\n",
              "      <th>bilheteria_milionaria</th>\n",
              "    </tr>\n",
              "  </thead>\n",
              "  <tbody>\n",
              "    <tr>\n",
              "      <th>0</th>\n",
              "      <td>Snow White and the Seven Dwarfs</td>\n",
              "      <td>1937-12-21</td>\n",
              "      <td>Musical</td>\n",
              "      <td>G</td>\n",
              "      <td>184925485</td>\n",
              "      <td>5228953251</td>\n",
              "      <td>5228953251</td>\n",
              "    </tr>\n",
              "    <tr>\n",
              "      <th>1</th>\n",
              "      <td>Pinocchio</td>\n",
              "      <td>1940-02-09</td>\n",
              "      <td>Adventure</td>\n",
              "      <td>G</td>\n",
              "      <td>84300000</td>\n",
              "      <td>2188229052</td>\n",
              "      <td>7417182303</td>\n",
              "    </tr>\n",
              "    <tr>\n",
              "      <th>2</th>\n",
              "      <td>Fantasia</td>\n",
              "      <td>1940-11-13</td>\n",
              "      <td>Musical</td>\n",
              "      <td>G</td>\n",
              "      <td>83320000</td>\n",
              "      <td>2187090808</td>\n",
              "      <td>9604273111</td>\n",
              "    </tr>\n",
              "    <tr>\n",
              "      <th>3</th>\n",
              "      <td>Song of the South</td>\n",
              "      <td>1946-11-12</td>\n",
              "      <td>Adventure</td>\n",
              "      <td>G</td>\n",
              "      <td>65000000</td>\n",
              "      <td>1078510579</td>\n",
              "      <td>10682783690</td>\n",
              "    </tr>\n",
              "    <tr>\n",
              "      <th>4</th>\n",
              "      <td>Cinderella</td>\n",
              "      <td>1950-02-15</td>\n",
              "      <td>Drama</td>\n",
              "      <td>G</td>\n",
              "      <td>85000000</td>\n",
              "      <td>920608730</td>\n",
              "      <td>11603392420</td>\n",
              "    </tr>\n",
              "  </tbody>\n",
              "</table>\n",
              "</div>\n",
              "      <button class=\"colab-df-convert\" onclick=\"convertToInteractive('df-b5e9149c-88db-40a6-b554-f3aaee1b7ee7')\"\n",
              "              title=\"Convert this dataframe to an interactive table.\"\n",
              "              style=\"display:none;\">\n",
              "        \n",
              "  <svg xmlns=\"http://www.w3.org/2000/svg\" height=\"24px\"viewBox=\"0 0 24 24\"\n",
              "       width=\"24px\">\n",
              "    <path d=\"M0 0h24v24H0V0z\" fill=\"none\"/>\n",
              "    <path d=\"M18.56 5.44l.94 2.06.94-2.06 2.06-.94-2.06-.94-.94-2.06-.94 2.06-2.06.94zm-11 1L8.5 8.5l.94-2.06 2.06-.94-2.06-.94L8.5 2.5l-.94 2.06-2.06.94zm10 10l.94 2.06.94-2.06 2.06-.94-2.06-.94-.94-2.06-.94 2.06-2.06.94z\"/><path d=\"M17.41 7.96l-1.37-1.37c-.4-.4-.92-.59-1.43-.59-.52 0-1.04.2-1.43.59L10.3 9.45l-7.72 7.72c-.78.78-.78 2.05 0 2.83L4 21.41c.39.39.9.59 1.41.59.51 0 1.02-.2 1.41-.59l7.78-7.78 2.81-2.81c.8-.78.8-2.07 0-2.86zM5.41 20L4 18.59l7.72-7.72 1.47 1.35L5.41 20z\"/>\n",
              "  </svg>\n",
              "      </button>\n",
              "      \n",
              "  <style>\n",
              "    .colab-df-container {\n",
              "      display:flex;\n",
              "      flex-wrap:wrap;\n",
              "      gap: 12px;\n",
              "    }\n",
              "\n",
              "    .colab-df-convert {\n",
              "      background-color: #E8F0FE;\n",
              "      border: none;\n",
              "      border-radius: 50%;\n",
              "      cursor: pointer;\n",
              "      display: none;\n",
              "      fill: #1967D2;\n",
              "      height: 32px;\n",
              "      padding: 0 0 0 0;\n",
              "      width: 32px;\n",
              "    }\n",
              "\n",
              "    .colab-df-convert:hover {\n",
              "      background-color: #E2EBFA;\n",
              "      box-shadow: 0px 1px 2px rgba(60, 64, 67, 0.3), 0px 1px 3px 1px rgba(60, 64, 67, 0.15);\n",
              "      fill: #174EA6;\n",
              "    }\n",
              "\n",
              "    [theme=dark] .colab-df-convert {\n",
              "      background-color: #3B4455;\n",
              "      fill: #D2E3FC;\n",
              "    }\n",
              "\n",
              "    [theme=dark] .colab-df-convert:hover {\n",
              "      background-color: #434B5C;\n",
              "      box-shadow: 0px 1px 3px 1px rgba(0, 0, 0, 0.15);\n",
              "      filter: drop-shadow(0px 1px 2px rgba(0, 0, 0, 0.3));\n",
              "      fill: #FFFFFF;\n",
              "    }\n",
              "  </style>\n",
              "\n",
              "      <script>\n",
              "        const buttonEl =\n",
              "          document.querySelector('#df-b5e9149c-88db-40a6-b554-f3aaee1b7ee7 button.colab-df-convert');\n",
              "        buttonEl.style.display =\n",
              "          google.colab.kernel.accessAllowed ? 'block' : 'none';\n",
              "\n",
              "        async function convertToInteractive(key) {\n",
              "          const element = document.querySelector('#df-b5e9149c-88db-40a6-b554-f3aaee1b7ee7');\n",
              "          const dataTable =\n",
              "            await google.colab.kernel.invokeFunction('convertToInteractive',\n",
              "                                                     [key], {});\n",
              "          if (!dataTable) return;\n",
              "\n",
              "          const docLinkHtml = 'Like what you see? Visit the ' +\n",
              "            '<a target=\"_blank\" href=https://colab.research.google.com/notebooks/data_table.ipynb>data table notebook</a>'\n",
              "            + ' to learn more about interactive tables.';\n",
              "          element.innerHTML = '';\n",
              "          dataTable['output_type'] = 'display_data';\n",
              "          await google.colab.output.renderOutput(dataTable, element);\n",
              "          const docLink = document.createElement('div');\n",
              "          docLink.innerHTML = docLinkHtml;\n",
              "          element.appendChild(docLink);\n",
              "        }\n",
              "      </script>\n",
              "    </div>\n",
              "  </div>\n",
              "  "
            ]
          },
          "metadata": {},
          "execution_count": 27
        }
      ],
      "source": [
        "data_ordenada.head()"
      ]
    },
    {
      "cell_type": "markdown",
      "id": "58b724d2",
      "metadata": {
        "id": "58b724d2"
      },
      "source": [
        "14 - Conte o número de filmes por genero e ordene"
      ]
    },
    {
      "cell_type": "code",
      "execution_count": 28,
      "id": "9f35f2dd",
      "metadata": {
        "id": "9f35f2dd",
        "outputId": "06029f5f-d1c5-4436-d3d8-90a7c40a37d2",
        "colab": {
          "base_uri": "https://localhost:8080/"
        }
      },
      "outputs": [
        {
          "output_type": "execute_result",
          "data": {
            "text/plain": [
              "genero\n",
              "Comedy                 182\n",
              "Adventure              129\n",
              "Drama                  114\n",
              "Action                  40\n",
              "Thriller/Suspense       24\n",
              "Romantic Comedy         23\n",
              "Documentary             16\n",
              "Musical                 16\n",
              "Western                  7\n",
              "Horror                   6\n",
              "Black Comedy             3\n",
              "Concert/Performance      2\n",
              "dtype: int64"
            ]
          },
          "metadata": {},
          "execution_count": 28
        }
      ],
      "source": [
        "data_ordenada.value_counts(\"genero\")"
      ]
    },
    {
      "cell_type": "markdown",
      "id": "5acb96d9",
      "metadata": {
        "id": "5acb96d9"
      },
      "source": [
        "15 - Calcule agora a proporção de filmes por genero e ordene"
      ]
    },
    {
      "cell_type": "code",
      "execution_count": 29,
      "id": "934f5164",
      "metadata": {
        "id": "934f5164",
        "outputId": "7d9ce784-01e5-4e0a-ef1d-a2520f50ceff",
        "colab": {
          "base_uri": "https://localhost:8080/"
        }
      },
      "outputs": [
        {
          "output_type": "execute_result",
          "data": {
            "text/plain": [
              "genero\n",
              "Comedy                 0.323843\n",
              "Adventure              0.229537\n",
              "Drama                  0.202847\n",
              "Action                 0.071174\n",
              "Thriller/Suspense      0.042705\n",
              "Romantic Comedy        0.040925\n",
              "Documentary            0.028470\n",
              "Musical                0.028470\n",
              "Western                0.012456\n",
              "Horror                 0.010676\n",
              "Black Comedy           0.005338\n",
              "Concert/Performance    0.003559\n",
              "dtype: float64"
            ]
          },
          "metadata": {},
          "execution_count": 29
        }
      ],
      "source": [
        "prop_gen = data_ordenada.value_counts(\"genero\", normalize = True) \n",
        "prop_gen"
      ]
    },
    {
      "cell_type": "markdown",
      "id": "c0e64ed2",
      "metadata": {
        "id": "c0e64ed2"
      },
      "source": [
        "Estatísticas resumidas agrupadas"
      ]
    },
    {
      "cell_type": "markdown",
      "id": "8ce11db4",
      "metadata": {
        "id": "8ce11db4"
      },
      "source": [
        "16 - Calcule o total da \"bilheteria_bruta\""
      ]
    },
    {
      "cell_type": "code",
      "execution_count": 30,
      "id": "55dbb07e",
      "metadata": {
        "id": "55dbb07e",
        "outputId": "ccf83cda-3755-4f52-b61b-04bd4b136143",
        "colab": {
          "base_uri": "https://localhost:8080/"
        }
      },
      "outputs": [
        {
          "output_type": "execute_result",
          "data": {
            "text/plain": [
              "37462335553"
            ]
          },
          "metadata": {},
          "execution_count": 30
        }
      ],
      "source": [
        "data_ordenada.bilheteria_bruta.sum()"
      ]
    },
    {
      "cell_type": "markdown",
      "id": "a35facfb",
      "metadata": {
        "id": "a35facfb"
      },
      "source": [
        "17 - Visualize os tipos de generos que tem nesse dataset:"
      ]
    },
    {
      "cell_type": "code",
      "execution_count": 31,
      "id": "1a6152ca",
      "metadata": {
        "id": "1a6152ca",
        "outputId": "6aa63556-45b4-456f-b9be-cc384e7334c3",
        "colab": {
          "base_uri": "https://localhost:8080/"
        }
      },
      "outputs": [
        {
          "output_type": "execute_result",
          "data": {
            "text/plain": [
              "array(['Musical', 'Adventure', 'Drama', 'Comedy', nan, 'Action', 'Horror',\n",
              "       'Romantic Comedy', 'Thriller/Suspense', 'Western', 'Black Comedy',\n",
              "       'Documentary', 'Concert/Performance'], dtype=object)"
            ]
          },
          "metadata": {},
          "execution_count": 31
        }
      ],
      "source": [
        "gen = data_ordenada.genero.unique()\n",
        "data_ordenada.genero.isnull().sum()\n",
        "gen"
      ]
    },
    {
      "cell_type": "markdown",
      "id": "47955f3b",
      "metadata": {
        "id": "47955f3b"
      },
      "source": [
        "18 - Calcule o total da bilheteria_bruta pelo genero 'Drama'"
      ]
    },
    {
      "cell_type": "code",
      "execution_count": 32,
      "id": "504703e4",
      "metadata": {
        "id": "504703e4",
        "outputId": "009cbb7f-3352-4904-9607-de7196695f14",
        "colab": {
          "base_uri": "https://localhost:8080/"
        }
      },
      "outputs": [
        {
          "output_type": "execute_result",
          "data": {
            "text/plain": [
              "4106972970"
            ]
          },
          "metadata": {},
          "execution_count": 32
        }
      ],
      "source": [
        "data_ordenada.bilheteria_bruta[data_ordenada.genero == \"Drama\"].sum()"
      ]
    },
    {
      "cell_type": "code",
      "source": [
        "dados.groupby('genero')['bilheteria_bruta'].agg([np.mean,np.min,np.sum])"
      ],
      "metadata": {
        "colab": {
          "base_uri": "https://localhost:8080/",
          "height": 457
        },
        "id": "Ug4OzPTBg2J8",
        "outputId": "ae85c809-7dc6-44d5-c487-fdc7af855202"
      },
      "id": "Ug4OzPTBg2J8",
      "execution_count": 33,
      "outputs": [
        {
          "output_type": "execute_result",
          "data": {
            "text/plain": [
              "                             mean      amin          sum\n",
              "genero                                                  \n",
              "Action               1.046141e+08         0   4184563282\n",
              "Adventure            1.270471e+08      2815  16389069453\n",
              "Black Comedy         3.251440e+07  17105219     97543212\n",
              "Comedy               4.461329e+07     45779   8119619678\n",
              "Concert/Performance  5.172823e+07  38174685    103456466\n",
              "Documentary          1.129285e+07     20521    180685619\n",
              "Drama                3.602608e+07         0   4106972970\n",
              "Horror               1.451148e+07   4877567     87068872\n",
              "Musical              7.233026e+07   5632086   1157284155\n",
              "Romantic Comedy      5.009595e+07    468240   1152206855\n",
              "Thriller/Suspense    5.861694e+07   2154540   1406806519\n",
              "Western              5.128735e+07   8247627    359011459"
            ],
            "text/html": [
              "\n",
              "  <div id=\"df-c817b6a4-ffd6-40e1-9dba-b260700b7351\">\n",
              "    <div class=\"colab-df-container\">\n",
              "      <div>\n",
              "<style scoped>\n",
              "    .dataframe tbody tr th:only-of-type {\n",
              "        vertical-align: middle;\n",
              "    }\n",
              "\n",
              "    .dataframe tbody tr th {\n",
              "        vertical-align: top;\n",
              "    }\n",
              "\n",
              "    .dataframe thead th {\n",
              "        text-align: right;\n",
              "    }\n",
              "</style>\n",
              "<table border=\"1\" class=\"dataframe\">\n",
              "  <thead>\n",
              "    <tr style=\"text-align: right;\">\n",
              "      <th></th>\n",
              "      <th>mean</th>\n",
              "      <th>amin</th>\n",
              "      <th>sum</th>\n",
              "    </tr>\n",
              "    <tr>\n",
              "      <th>genero</th>\n",
              "      <th></th>\n",
              "      <th></th>\n",
              "      <th></th>\n",
              "    </tr>\n",
              "  </thead>\n",
              "  <tbody>\n",
              "    <tr>\n",
              "      <th>Action</th>\n",
              "      <td>1.046141e+08</td>\n",
              "      <td>0</td>\n",
              "      <td>4184563282</td>\n",
              "    </tr>\n",
              "    <tr>\n",
              "      <th>Adventure</th>\n",
              "      <td>1.270471e+08</td>\n",
              "      <td>2815</td>\n",
              "      <td>16389069453</td>\n",
              "    </tr>\n",
              "    <tr>\n",
              "      <th>Black Comedy</th>\n",
              "      <td>3.251440e+07</td>\n",
              "      <td>17105219</td>\n",
              "      <td>97543212</td>\n",
              "    </tr>\n",
              "    <tr>\n",
              "      <th>Comedy</th>\n",
              "      <td>4.461329e+07</td>\n",
              "      <td>45779</td>\n",
              "      <td>8119619678</td>\n",
              "    </tr>\n",
              "    <tr>\n",
              "      <th>Concert/Performance</th>\n",
              "      <td>5.172823e+07</td>\n",
              "      <td>38174685</td>\n",
              "      <td>103456466</td>\n",
              "    </tr>\n",
              "    <tr>\n",
              "      <th>Documentary</th>\n",
              "      <td>1.129285e+07</td>\n",
              "      <td>20521</td>\n",
              "      <td>180685619</td>\n",
              "    </tr>\n",
              "    <tr>\n",
              "      <th>Drama</th>\n",
              "      <td>3.602608e+07</td>\n",
              "      <td>0</td>\n",
              "      <td>4106972970</td>\n",
              "    </tr>\n",
              "    <tr>\n",
              "      <th>Horror</th>\n",
              "      <td>1.451148e+07</td>\n",
              "      <td>4877567</td>\n",
              "      <td>87068872</td>\n",
              "    </tr>\n",
              "    <tr>\n",
              "      <th>Musical</th>\n",
              "      <td>7.233026e+07</td>\n",
              "      <td>5632086</td>\n",
              "      <td>1157284155</td>\n",
              "    </tr>\n",
              "    <tr>\n",
              "      <th>Romantic Comedy</th>\n",
              "      <td>5.009595e+07</td>\n",
              "      <td>468240</td>\n",
              "      <td>1152206855</td>\n",
              "    </tr>\n",
              "    <tr>\n",
              "      <th>Thriller/Suspense</th>\n",
              "      <td>5.861694e+07</td>\n",
              "      <td>2154540</td>\n",
              "      <td>1406806519</td>\n",
              "    </tr>\n",
              "    <tr>\n",
              "      <th>Western</th>\n",
              "      <td>5.128735e+07</td>\n",
              "      <td>8247627</td>\n",
              "      <td>359011459</td>\n",
              "    </tr>\n",
              "  </tbody>\n",
              "</table>\n",
              "</div>\n",
              "      <button class=\"colab-df-convert\" onclick=\"convertToInteractive('df-c817b6a4-ffd6-40e1-9dba-b260700b7351')\"\n",
              "              title=\"Convert this dataframe to an interactive table.\"\n",
              "              style=\"display:none;\">\n",
              "        \n",
              "  <svg xmlns=\"http://www.w3.org/2000/svg\" height=\"24px\"viewBox=\"0 0 24 24\"\n",
              "       width=\"24px\">\n",
              "    <path d=\"M0 0h24v24H0V0z\" fill=\"none\"/>\n",
              "    <path d=\"M18.56 5.44l.94 2.06.94-2.06 2.06-.94-2.06-.94-.94-2.06-.94 2.06-2.06.94zm-11 1L8.5 8.5l.94-2.06 2.06-.94-2.06-.94L8.5 2.5l-.94 2.06-2.06.94zm10 10l.94 2.06.94-2.06 2.06-.94-2.06-.94-.94-2.06-.94 2.06-2.06.94z\"/><path d=\"M17.41 7.96l-1.37-1.37c-.4-.4-.92-.59-1.43-.59-.52 0-1.04.2-1.43.59L10.3 9.45l-7.72 7.72c-.78.78-.78 2.05 0 2.83L4 21.41c.39.39.9.59 1.41.59.51 0 1.02-.2 1.41-.59l7.78-7.78 2.81-2.81c.8-.78.8-2.07 0-2.86zM5.41 20L4 18.59l7.72-7.72 1.47 1.35L5.41 20z\"/>\n",
              "  </svg>\n",
              "      </button>\n",
              "      \n",
              "  <style>\n",
              "    .colab-df-container {\n",
              "      display:flex;\n",
              "      flex-wrap:wrap;\n",
              "      gap: 12px;\n",
              "    }\n",
              "\n",
              "    .colab-df-convert {\n",
              "      background-color: #E8F0FE;\n",
              "      border: none;\n",
              "      border-radius: 50%;\n",
              "      cursor: pointer;\n",
              "      display: none;\n",
              "      fill: #1967D2;\n",
              "      height: 32px;\n",
              "      padding: 0 0 0 0;\n",
              "      width: 32px;\n",
              "    }\n",
              "\n",
              "    .colab-df-convert:hover {\n",
              "      background-color: #E2EBFA;\n",
              "      box-shadow: 0px 1px 2px rgba(60, 64, 67, 0.3), 0px 1px 3px 1px rgba(60, 64, 67, 0.15);\n",
              "      fill: #174EA6;\n",
              "    }\n",
              "\n",
              "    [theme=dark] .colab-df-convert {\n",
              "      background-color: #3B4455;\n",
              "      fill: #D2E3FC;\n",
              "    }\n",
              "\n",
              "    [theme=dark] .colab-df-convert:hover {\n",
              "      background-color: #434B5C;\n",
              "      box-shadow: 0px 1px 3px 1px rgba(0, 0, 0, 0.15);\n",
              "      filter: drop-shadow(0px 1px 2px rgba(0, 0, 0, 0.3));\n",
              "      fill: #FFFFFF;\n",
              "    }\n",
              "  </style>\n",
              "\n",
              "      <script>\n",
              "        const buttonEl =\n",
              "          document.querySelector('#df-c817b6a4-ffd6-40e1-9dba-b260700b7351 button.colab-df-convert');\n",
              "        buttonEl.style.display =\n",
              "          google.colab.kernel.accessAllowed ? 'block' : 'none';\n",
              "\n",
              "        async function convertToInteractive(key) {\n",
              "          const element = document.querySelector('#df-c817b6a4-ffd6-40e1-9dba-b260700b7351');\n",
              "          const dataTable =\n",
              "            await google.colab.kernel.invokeFunction('convertToInteractive',\n",
              "                                                     [key], {});\n",
              "          if (!dataTable) return;\n",
              "\n",
              "          const docLinkHtml = 'Like what you see? Visit the ' +\n",
              "            '<a target=\"_blank\" href=https://colab.research.google.com/notebooks/data_table.ipynb>data table notebook</a>'\n",
              "            + ' to learn more about interactive tables.';\n",
              "          element.innerHTML = '';\n",
              "          dataTable['output_type'] = 'display_data';\n",
              "          await google.colab.output.renderOutput(dataTable, element);\n",
              "          const docLink = document.createElement('div');\n",
              "          docLink.innerHTML = docLinkHtml;\n",
              "          element.appendChild(docLink);\n",
              "        }\n",
              "      </script>\n",
              "    </div>\n",
              "  </div>\n",
              "  "
            ]
          },
          "metadata": {},
          "execution_count": 33
        }
      ]
    },
    {
      "cell_type": "code",
      "source": [
        "dados.groupby('genero')['bilheteria_bruta'].agg(np.sum).loc['Drama']"
      ],
      "metadata": {
        "colab": {
          "base_uri": "https://localhost:8080/"
        },
        "id": "PBH8M0ojgDBa",
        "outputId": "a10f09e5-7b04-4739-a8eb-9200b2bc376d"
      },
      "id": "PBH8M0ojgDBa",
      "execution_count": 34,
      "outputs": [
        {
          "output_type": "execute_result",
          "data": {
            "text/plain": [
              "4106972970"
            ]
          },
          "metadata": {},
          "execution_count": 34
        }
      ]
    },
    {
      "cell_type": "markdown",
      "id": "2671365c",
      "metadata": {
        "id": "2671365c"
      },
      "source": [
        "19 - Calcule o total da bilheteria_bruta pelo genero Comedia 'Comedy'"
      ]
    },
    {
      "cell_type": "code",
      "execution_count": 35,
      "id": "b06d5fcd",
      "metadata": {
        "colab": {
          "base_uri": "https://localhost:8080/"
        },
        "id": "b06d5fcd",
        "outputId": "ffd9f222-4ae1-4094-93b3-7d4bb0750772"
      },
      "outputs": [
        {
          "output_type": "execute_result",
          "data": {
            "text/plain": [
              "8119619678"
            ]
          },
          "metadata": {},
          "execution_count": 35
        }
      ],
      "source": [
        "dados.groupby('genero')['bilheteria_bruta'].agg(np.sum).loc['Comedy']"
      ]
    },
    {
      "cell_type": "markdown",
      "id": "f3073292",
      "metadata": {
        "id": "f3073292"
      },
      "source": [
        "20 - Calcule o total da bilheteria_bruta pelo genero Ação 'Action'"
      ]
    },
    {
      "cell_type": "code",
      "execution_count": 36,
      "id": "fc908d7a",
      "metadata": {
        "id": "fc908d7a",
        "outputId": "1b1bd57b-367b-456c-d62a-cdce4c68a757",
        "colab": {
          "base_uri": "https://localhost:8080/"
        }
      },
      "outputs": [
        {
          "output_type": "execute_result",
          "data": {
            "text/plain": [
              "4184563282"
            ]
          },
          "metadata": {},
          "execution_count": 36
        }
      ],
      "source": [
        "data_ordenada.bilheteria_bruta[data_ordenada.genero == \"Action\"].sum()"
      ]
    },
    {
      "cell_type": "markdown",
      "id": "13fd0acf",
      "metadata": {
        "id": "13fd0acf"
      },
      "source": [
        "21 -  Obtenha proporção do bilheteria_bruta para os três generos acima."
      ]
    },
    {
      "cell_type": "code",
      "source": [
        "data_ordenada.genero.value_counts('bilheteria')"
      ],
      "metadata": {
        "colab": {
          "base_uri": "https://localhost:8080/"
        },
        "id": "tTuBcHG4Pk9M",
        "outputId": "eb64f4b3-a314-4011-fb2a-cdf335e14546"
      },
      "id": "tTuBcHG4Pk9M",
      "execution_count": 46,
      "outputs": [
        {
          "output_type": "execute_result",
          "data": {
            "text/plain": [
              "Comedy                 0.323843\n",
              "Adventure              0.229537\n",
              "Drama                  0.202847\n",
              "Action                 0.071174\n",
              "Thriller/Suspense      0.042705\n",
              "Romantic Comedy        0.040925\n",
              "Musical                0.028470\n",
              "Documentary            0.028470\n",
              "Western                0.012456\n",
              "Horror                 0.010676\n",
              "Black Comedy           0.005338\n",
              "Concert/Performance    0.003559\n",
              "Name: genero, dtype: float64"
            ]
          },
          "metadata": {},
          "execution_count": 46
        }
      ]
    },
    {
      "cell_type": "code",
      "execution_count": null,
      "id": "408343b4",
      "metadata": {
        "id": "408343b4",
        "outputId": "51a9dfc8-d052-49ae-bed4-0008e494f8ea"
      },
      "outputs": [
        {
          "name": "stdout",
          "output_type": "stream",
          "text": [
            "Proporção Bilheteria Drama: 25.03 %\n",
            "Proporção Bilheteria Comedy: 49.48 %\n",
            "Proporção Bilheteria Drama: 25.5 %\n"
          ]
        }
      ],
      "source": [
        "data_gen = data_ordenada[data_ordenada.genero.isin([\"Drama\",\"Comedy\",\"Action\"])]\n",
        "Bil_tot = data_gen.bilheteria_bruta.sum()\n",
        "\n",
        "Bil_drama_prop = round(data_gen.bilheteria_bruta[data_gen.genero == \"Drama\"].sum() / Bil_tot * 100,2)\n",
        "Bil_actio_prop = round(data_gen.bilheteria_bruta[data_gen.genero == \"Comedy\"].sum() / Bil_tot * 100,2)\n",
        "Bil_comed_prop = round(data_gen.bilheteria_bruta[data_gen.genero == \"Action\"].sum() / Bil_tot * 100,2)\n",
        "print(f'Proporção Bilheteria Drama: {Bil_drama_prop} %\\nProporção Bilheteria Comedy: {Bil_actio_prop} %\\nProporção Bilheteria Drama: {Bil_comed_prop} %')\n"
      ]
    },
    {
      "cell_type": "markdown",
      "id": "def6832b",
      "metadata": {
        "id": "def6832b"
      },
      "source": [
        "22 - Importe numpy com o alias np"
      ]
    },
    {
      "cell_type": "code",
      "execution_count": 47,
      "id": "55f563e8",
      "metadata": {
        "id": "55f563e8"
      },
      "outputs": [],
      "source": [
        "import numpy as np"
      ]
    },
    {
      "cell_type": "markdown",
      "id": "70537d5b",
      "metadata": {
        "id": "70537d5b"
      },
      "source": [
        "23 - Para cada genero de filme, agregue a bilheteria_bruta obtendo min, max, média e mediana e imprima o resultado\n",
        "\n",
        "Dica: use numpy para as estatísticas"
      ]
    },
    {
      "cell_type": "code",
      "execution_count": 48,
      "id": "fe3088e8",
      "metadata": {
        "colab": {
          "base_uri": "https://localhost:8080/",
          "height": 457
        },
        "id": "fe3088e8",
        "outputId": "de2ad495-c239-4800-c07a-5ac6d64f000d"
      },
      "outputs": [
        {
          "output_type": "execute_result",
          "data": {
            "text/plain": [
              "                             mean      amin       amax      median\n",
              "genero                                                            \n",
              "Action               1.046141e+08         0  623279547  43315244.5\n",
              "Adventure            1.270471e+08      2815  936662225  65000000.0\n",
              "Black Comedy         3.251440e+07  17105219   52353636  28084357.0\n",
              "Comedy               4.461329e+07     45779  244082982  26923500.5\n",
              "Concert/Performance  5.172823e+07  38174685   65281781  51728233.0\n",
              "Documentary          1.129285e+07     20521   32011576   9688331.0\n",
              "Drama                3.602608e+07         0  201151353  19730097.0\n",
              "Horror               1.451148e+07   4877567   26570463  13439137.5\n",
              "Musical              7.233026e+07   5632086  218951625  53041787.5\n",
              "Romantic Comedy      5.009595e+07    468240  178406268  32680633.0\n",
              "Thriller/Suspense    5.861694e+07   2154540  293506292  28153827.0\n",
              "Western              5.128735e+07   8247627   89302115  56932305.0"
            ],
            "text/html": [
              "\n",
              "  <div id=\"df-d9c7ad2e-d503-47ef-aa91-f4d2689194fc\">\n",
              "    <div class=\"colab-df-container\">\n",
              "      <div>\n",
              "<style scoped>\n",
              "    .dataframe tbody tr th:only-of-type {\n",
              "        vertical-align: middle;\n",
              "    }\n",
              "\n",
              "    .dataframe tbody tr th {\n",
              "        vertical-align: top;\n",
              "    }\n",
              "\n",
              "    .dataframe thead th {\n",
              "        text-align: right;\n",
              "    }\n",
              "</style>\n",
              "<table border=\"1\" class=\"dataframe\">\n",
              "  <thead>\n",
              "    <tr style=\"text-align: right;\">\n",
              "      <th></th>\n",
              "      <th>mean</th>\n",
              "      <th>amin</th>\n",
              "      <th>amax</th>\n",
              "      <th>median</th>\n",
              "    </tr>\n",
              "    <tr>\n",
              "      <th>genero</th>\n",
              "      <th></th>\n",
              "      <th></th>\n",
              "      <th></th>\n",
              "      <th></th>\n",
              "    </tr>\n",
              "  </thead>\n",
              "  <tbody>\n",
              "    <tr>\n",
              "      <th>Action</th>\n",
              "      <td>1.046141e+08</td>\n",
              "      <td>0</td>\n",
              "      <td>623279547</td>\n",
              "      <td>43315244.5</td>\n",
              "    </tr>\n",
              "    <tr>\n",
              "      <th>Adventure</th>\n",
              "      <td>1.270471e+08</td>\n",
              "      <td>2815</td>\n",
              "      <td>936662225</td>\n",
              "      <td>65000000.0</td>\n",
              "    </tr>\n",
              "    <tr>\n",
              "      <th>Black Comedy</th>\n",
              "      <td>3.251440e+07</td>\n",
              "      <td>17105219</td>\n",
              "      <td>52353636</td>\n",
              "      <td>28084357.0</td>\n",
              "    </tr>\n",
              "    <tr>\n",
              "      <th>Comedy</th>\n",
              "      <td>4.461329e+07</td>\n",
              "      <td>45779</td>\n",
              "      <td>244082982</td>\n",
              "      <td>26923500.5</td>\n",
              "    </tr>\n",
              "    <tr>\n",
              "      <th>Concert/Performance</th>\n",
              "      <td>5.172823e+07</td>\n",
              "      <td>38174685</td>\n",
              "      <td>65281781</td>\n",
              "      <td>51728233.0</td>\n",
              "    </tr>\n",
              "    <tr>\n",
              "      <th>Documentary</th>\n",
              "      <td>1.129285e+07</td>\n",
              "      <td>20521</td>\n",
              "      <td>32011576</td>\n",
              "      <td>9688331.0</td>\n",
              "    </tr>\n",
              "    <tr>\n",
              "      <th>Drama</th>\n",
              "      <td>3.602608e+07</td>\n",
              "      <td>0</td>\n",
              "      <td>201151353</td>\n",
              "      <td>19730097.0</td>\n",
              "    </tr>\n",
              "    <tr>\n",
              "      <th>Horror</th>\n",
              "      <td>1.451148e+07</td>\n",
              "      <td>4877567</td>\n",
              "      <td>26570463</td>\n",
              "      <td>13439137.5</td>\n",
              "    </tr>\n",
              "    <tr>\n",
              "      <th>Musical</th>\n",
              "      <td>7.233026e+07</td>\n",
              "      <td>5632086</td>\n",
              "      <td>218951625</td>\n",
              "      <td>53041787.5</td>\n",
              "    </tr>\n",
              "    <tr>\n",
              "      <th>Romantic Comedy</th>\n",
              "      <td>5.009595e+07</td>\n",
              "      <td>468240</td>\n",
              "      <td>178406268</td>\n",
              "      <td>32680633.0</td>\n",
              "    </tr>\n",
              "    <tr>\n",
              "      <th>Thriller/Suspense</th>\n",
              "      <td>5.861694e+07</td>\n",
              "      <td>2154540</td>\n",
              "      <td>293506292</td>\n",
              "      <td>28153827.0</td>\n",
              "    </tr>\n",
              "    <tr>\n",
              "      <th>Western</th>\n",
              "      <td>5.128735e+07</td>\n",
              "      <td>8247627</td>\n",
              "      <td>89302115</td>\n",
              "      <td>56932305.0</td>\n",
              "    </tr>\n",
              "  </tbody>\n",
              "</table>\n",
              "</div>\n",
              "      <button class=\"colab-df-convert\" onclick=\"convertToInteractive('df-d9c7ad2e-d503-47ef-aa91-f4d2689194fc')\"\n",
              "              title=\"Convert this dataframe to an interactive table.\"\n",
              "              style=\"display:none;\">\n",
              "        \n",
              "  <svg xmlns=\"http://www.w3.org/2000/svg\" height=\"24px\"viewBox=\"0 0 24 24\"\n",
              "       width=\"24px\">\n",
              "    <path d=\"M0 0h24v24H0V0z\" fill=\"none\"/>\n",
              "    <path d=\"M18.56 5.44l.94 2.06.94-2.06 2.06-.94-2.06-.94-.94-2.06-.94 2.06-2.06.94zm-11 1L8.5 8.5l.94-2.06 2.06-.94-2.06-.94L8.5 2.5l-.94 2.06-2.06.94zm10 10l.94 2.06.94-2.06 2.06-.94-2.06-.94-.94-2.06-.94 2.06-2.06.94z\"/><path d=\"M17.41 7.96l-1.37-1.37c-.4-.4-.92-.59-1.43-.59-.52 0-1.04.2-1.43.59L10.3 9.45l-7.72 7.72c-.78.78-.78 2.05 0 2.83L4 21.41c.39.39.9.59 1.41.59.51 0 1.02-.2 1.41-.59l7.78-7.78 2.81-2.81c.8-.78.8-2.07 0-2.86zM5.41 20L4 18.59l7.72-7.72 1.47 1.35L5.41 20z\"/>\n",
              "  </svg>\n",
              "      </button>\n",
              "      \n",
              "  <style>\n",
              "    .colab-df-container {\n",
              "      display:flex;\n",
              "      flex-wrap:wrap;\n",
              "      gap: 12px;\n",
              "    }\n",
              "\n",
              "    .colab-df-convert {\n",
              "      background-color: #E8F0FE;\n",
              "      border: none;\n",
              "      border-radius: 50%;\n",
              "      cursor: pointer;\n",
              "      display: none;\n",
              "      fill: #1967D2;\n",
              "      height: 32px;\n",
              "      padding: 0 0 0 0;\n",
              "      width: 32px;\n",
              "    }\n",
              "\n",
              "    .colab-df-convert:hover {\n",
              "      background-color: #E2EBFA;\n",
              "      box-shadow: 0px 1px 2px rgba(60, 64, 67, 0.3), 0px 1px 3px 1px rgba(60, 64, 67, 0.15);\n",
              "      fill: #174EA6;\n",
              "    }\n",
              "\n",
              "    [theme=dark] .colab-df-convert {\n",
              "      background-color: #3B4455;\n",
              "      fill: #D2E3FC;\n",
              "    }\n",
              "\n",
              "    [theme=dark] .colab-df-convert:hover {\n",
              "      background-color: #434B5C;\n",
              "      box-shadow: 0px 1px 3px 1px rgba(0, 0, 0, 0.15);\n",
              "      filter: drop-shadow(0px 1px 2px rgba(0, 0, 0, 0.3));\n",
              "      fill: #FFFFFF;\n",
              "    }\n",
              "  </style>\n",
              "\n",
              "      <script>\n",
              "        const buttonEl =\n",
              "          document.querySelector('#df-d9c7ad2e-d503-47ef-aa91-f4d2689194fc button.colab-df-convert');\n",
              "        buttonEl.style.display =\n",
              "          google.colab.kernel.accessAllowed ? 'block' : 'none';\n",
              "\n",
              "        async function convertToInteractive(key) {\n",
              "          const element = document.querySelector('#df-d9c7ad2e-d503-47ef-aa91-f4d2689194fc');\n",
              "          const dataTable =\n",
              "            await google.colab.kernel.invokeFunction('convertToInteractive',\n",
              "                                                     [key], {});\n",
              "          if (!dataTable) return;\n",
              "\n",
              "          const docLinkHtml = 'Like what you see? Visit the ' +\n",
              "            '<a target=\"_blank\" href=https://colab.research.google.com/notebooks/data_table.ipynb>data table notebook</a>'\n",
              "            + ' to learn more about interactive tables.';\n",
              "          element.innerHTML = '';\n",
              "          dataTable['output_type'] = 'display_data';\n",
              "          await google.colab.output.renderOutput(dataTable, element);\n",
              "          const docLink = document.createElement('div');\n",
              "          docLink.innerHTML = docLinkHtml;\n",
              "          element.appendChild(docLink);\n",
              "        }\n",
              "      </script>\n",
              "    </div>\n",
              "  </div>\n",
              "  "
            ]
          },
          "metadata": {},
          "execution_count": 48
        }
      ],
      "source": [
        "dados.groupby(\"genero\")[\"bilheteria_bruta\"].agg([np.mean,np.min,np.max,np.median])"
      ]
    },
    {
      "cell_type": "markdown",
      "id": "3fdc9959",
      "metadata": {
        "id": "3fdc9959"
      },
      "source": [
        "24 - Para cada genero de filme, agregue bilheteria_bruta e bilheteria_ajustada_inflacao: obtenha o minimo, maximo, média e mediana"
      ]
    },
    {
      "cell_type": "code",
      "execution_count": 49,
      "id": "1fb8b150",
      "metadata": {
        "colab": {
          "base_uri": "https://localhost:8080/",
          "height": 488
        },
        "id": "1fb8b150",
        "outputId": "ce948404-f1dd-4ddc-b196-581f679988e5"
      },
      "outputs": [
        {
          "output_type": "execute_result",
          "data": {
            "text/plain": [
              "                    bilheteria_bruta                                   \\\n",
              "                                mean      amin       amax      median   \n",
              "genero                                                                  \n",
              "Action                  1.046141e+08         0  623279547  43315244.5   \n",
              "Adventure               1.270471e+08      2815  936662225  65000000.0   \n",
              "Black Comedy            3.251440e+07  17105219   52353636  28084357.0   \n",
              "Comedy                  4.461329e+07     45779  244082982  26923500.5   \n",
              "Concert/Performance     5.172823e+07  38174685   65281781  51728233.0   \n",
              "Documentary             1.129285e+07     20521   32011576   9688331.0   \n",
              "Drama                   3.602608e+07         0  201151353  19730097.0   \n",
              "Horror                  1.451148e+07   4877567   26570463  13439137.5   \n",
              "Musical                 7.233026e+07   5632086  218951625  53041787.5   \n",
              "Romantic Comedy         5.009595e+07    468240  178406268  32680633.0   \n",
              "Thriller/Suspense       5.861694e+07   2154540  293506292  28153827.0   \n",
              "Western                 5.128735e+07   8247627   89302115  56932305.0   \n",
              "\n",
              "                    bilheteria_ajustada_inflacao                        \\\n",
              "                                            mean      amin        amax   \n",
              "genero                                                                   \n",
              "Action                              1.374734e+08         0   660081224   \n",
              "Adventure                           1.903974e+08      2984  2188229052   \n",
              "Black Comedy                        5.224349e+07  28392518    76758193   \n",
              "Comedy                              8.466773e+07     82277  1362870985   \n",
              "Concert/Performance                 5.741084e+07  38174685    76646993   \n",
              "Documentary                         1.271803e+07     23064    35981010   \n",
              "Drama                               7.189302e+07         0  1236035515   \n",
              "Horror                              2.341385e+07   9907922    48546161   \n",
              "Musical                             6.035979e+08  11468231  5228953251   \n",
              "Romantic Comedy                     7.777708e+07    907414   356389765   \n",
              "Thriller/Suspense                   8.965379e+07   3957025   485424724   \n",
              "Western                             7.381571e+07  15983331   115781734   \n",
              "\n",
              "                                  \n",
              "                          median  \n",
              "genero                            \n",
              "Action                69012064.5  \n",
              "Adventure            102254492.0  \n",
              "Black Comedy          51579764.0  \n",
              "Comedy                51195217.0  \n",
              "Concert/Performance   57410839.0  \n",
              "Documentary           12344483.5  \n",
              "Drama                 39325794.0  \n",
              "Horror                18589709.5  \n",
              "Musical              103167587.5  \n",
              "Romantic Comedy       57925202.0  \n",
              "Thriller/Suspense     51804588.0  \n",
              "Western               89042541.0  "
            ],
            "text/html": [
              "\n",
              "  <div id=\"df-ff195e8b-33b1-4fb8-8c57-6d7e72c9414f\">\n",
              "    <div class=\"colab-df-container\">\n",
              "      <div>\n",
              "<style scoped>\n",
              "    .dataframe tbody tr th:only-of-type {\n",
              "        vertical-align: middle;\n",
              "    }\n",
              "\n",
              "    .dataframe tbody tr th {\n",
              "        vertical-align: top;\n",
              "    }\n",
              "\n",
              "    .dataframe thead tr th {\n",
              "        text-align: left;\n",
              "    }\n",
              "\n",
              "    .dataframe thead tr:last-of-type th {\n",
              "        text-align: right;\n",
              "    }\n",
              "</style>\n",
              "<table border=\"1\" class=\"dataframe\">\n",
              "  <thead>\n",
              "    <tr>\n",
              "      <th></th>\n",
              "      <th colspan=\"4\" halign=\"left\">bilheteria_bruta</th>\n",
              "      <th colspan=\"4\" halign=\"left\">bilheteria_ajustada_inflacao</th>\n",
              "    </tr>\n",
              "    <tr>\n",
              "      <th></th>\n",
              "      <th>mean</th>\n",
              "      <th>amin</th>\n",
              "      <th>amax</th>\n",
              "      <th>median</th>\n",
              "      <th>mean</th>\n",
              "      <th>amin</th>\n",
              "      <th>amax</th>\n",
              "      <th>median</th>\n",
              "    </tr>\n",
              "    <tr>\n",
              "      <th>genero</th>\n",
              "      <th></th>\n",
              "      <th></th>\n",
              "      <th></th>\n",
              "      <th></th>\n",
              "      <th></th>\n",
              "      <th></th>\n",
              "      <th></th>\n",
              "      <th></th>\n",
              "    </tr>\n",
              "  </thead>\n",
              "  <tbody>\n",
              "    <tr>\n",
              "      <th>Action</th>\n",
              "      <td>1.046141e+08</td>\n",
              "      <td>0</td>\n",
              "      <td>623279547</td>\n",
              "      <td>43315244.5</td>\n",
              "      <td>1.374734e+08</td>\n",
              "      <td>0</td>\n",
              "      <td>660081224</td>\n",
              "      <td>69012064.5</td>\n",
              "    </tr>\n",
              "    <tr>\n",
              "      <th>Adventure</th>\n",
              "      <td>1.270471e+08</td>\n",
              "      <td>2815</td>\n",
              "      <td>936662225</td>\n",
              "      <td>65000000.0</td>\n",
              "      <td>1.903974e+08</td>\n",
              "      <td>2984</td>\n",
              "      <td>2188229052</td>\n",
              "      <td>102254492.0</td>\n",
              "    </tr>\n",
              "    <tr>\n",
              "      <th>Black Comedy</th>\n",
              "      <td>3.251440e+07</td>\n",
              "      <td>17105219</td>\n",
              "      <td>52353636</td>\n",
              "      <td>28084357.0</td>\n",
              "      <td>5.224349e+07</td>\n",
              "      <td>28392518</td>\n",
              "      <td>76758193</td>\n",
              "      <td>51579764.0</td>\n",
              "    </tr>\n",
              "    <tr>\n",
              "      <th>Comedy</th>\n",
              "      <td>4.461329e+07</td>\n",
              "      <td>45779</td>\n",
              "      <td>244082982</td>\n",
              "      <td>26923500.5</td>\n",
              "      <td>8.466773e+07</td>\n",
              "      <td>82277</td>\n",
              "      <td>1362870985</td>\n",
              "      <td>51195217.0</td>\n",
              "    </tr>\n",
              "    <tr>\n",
              "      <th>Concert/Performance</th>\n",
              "      <td>5.172823e+07</td>\n",
              "      <td>38174685</td>\n",
              "      <td>65281781</td>\n",
              "      <td>51728233.0</td>\n",
              "      <td>5.741084e+07</td>\n",
              "      <td>38174685</td>\n",
              "      <td>76646993</td>\n",
              "      <td>57410839.0</td>\n",
              "    </tr>\n",
              "    <tr>\n",
              "      <th>Documentary</th>\n",
              "      <td>1.129285e+07</td>\n",
              "      <td>20521</td>\n",
              "      <td>32011576</td>\n",
              "      <td>9688331.0</td>\n",
              "      <td>1.271803e+07</td>\n",
              "      <td>23064</td>\n",
              "      <td>35981010</td>\n",
              "      <td>12344483.5</td>\n",
              "    </tr>\n",
              "    <tr>\n",
              "      <th>Drama</th>\n",
              "      <td>3.602608e+07</td>\n",
              "      <td>0</td>\n",
              "      <td>201151353</td>\n",
              "      <td>19730097.0</td>\n",
              "      <td>7.189302e+07</td>\n",
              "      <td>0</td>\n",
              "      <td>1236035515</td>\n",
              "      <td>39325794.0</td>\n",
              "    </tr>\n",
              "    <tr>\n",
              "      <th>Horror</th>\n",
              "      <td>1.451148e+07</td>\n",
              "      <td>4877567</td>\n",
              "      <td>26570463</td>\n",
              "      <td>13439137.5</td>\n",
              "      <td>2.341385e+07</td>\n",
              "      <td>9907922</td>\n",
              "      <td>48546161</td>\n",
              "      <td>18589709.5</td>\n",
              "    </tr>\n",
              "    <tr>\n",
              "      <th>Musical</th>\n",
              "      <td>7.233026e+07</td>\n",
              "      <td>5632086</td>\n",
              "      <td>218951625</td>\n",
              "      <td>53041787.5</td>\n",
              "      <td>6.035979e+08</td>\n",
              "      <td>11468231</td>\n",
              "      <td>5228953251</td>\n",
              "      <td>103167587.5</td>\n",
              "    </tr>\n",
              "    <tr>\n",
              "      <th>Romantic Comedy</th>\n",
              "      <td>5.009595e+07</td>\n",
              "      <td>468240</td>\n",
              "      <td>178406268</td>\n",
              "      <td>32680633.0</td>\n",
              "      <td>7.777708e+07</td>\n",
              "      <td>907414</td>\n",
              "      <td>356389765</td>\n",
              "      <td>57925202.0</td>\n",
              "    </tr>\n",
              "    <tr>\n",
              "      <th>Thriller/Suspense</th>\n",
              "      <td>5.861694e+07</td>\n",
              "      <td>2154540</td>\n",
              "      <td>293506292</td>\n",
              "      <td>28153827.0</td>\n",
              "      <td>8.965379e+07</td>\n",
              "      <td>3957025</td>\n",
              "      <td>485424724</td>\n",
              "      <td>51804588.0</td>\n",
              "    </tr>\n",
              "    <tr>\n",
              "      <th>Western</th>\n",
              "      <td>5.128735e+07</td>\n",
              "      <td>8247627</td>\n",
              "      <td>89302115</td>\n",
              "      <td>56932305.0</td>\n",
              "      <td>7.381571e+07</td>\n",
              "      <td>15983331</td>\n",
              "      <td>115781734</td>\n",
              "      <td>89042541.0</td>\n",
              "    </tr>\n",
              "  </tbody>\n",
              "</table>\n",
              "</div>\n",
              "      <button class=\"colab-df-convert\" onclick=\"convertToInteractive('df-ff195e8b-33b1-4fb8-8c57-6d7e72c9414f')\"\n",
              "              title=\"Convert this dataframe to an interactive table.\"\n",
              "              style=\"display:none;\">\n",
              "        \n",
              "  <svg xmlns=\"http://www.w3.org/2000/svg\" height=\"24px\"viewBox=\"0 0 24 24\"\n",
              "       width=\"24px\">\n",
              "    <path d=\"M0 0h24v24H0V0z\" fill=\"none\"/>\n",
              "    <path d=\"M18.56 5.44l.94 2.06.94-2.06 2.06-.94-2.06-.94-.94-2.06-.94 2.06-2.06.94zm-11 1L8.5 8.5l.94-2.06 2.06-.94-2.06-.94L8.5 2.5l-.94 2.06-2.06.94zm10 10l.94 2.06.94-2.06 2.06-.94-2.06-.94-.94-2.06-.94 2.06-2.06.94z\"/><path d=\"M17.41 7.96l-1.37-1.37c-.4-.4-.92-.59-1.43-.59-.52 0-1.04.2-1.43.59L10.3 9.45l-7.72 7.72c-.78.78-.78 2.05 0 2.83L4 21.41c.39.39.9.59 1.41.59.51 0 1.02-.2 1.41-.59l7.78-7.78 2.81-2.81c.8-.78.8-2.07 0-2.86zM5.41 20L4 18.59l7.72-7.72 1.47 1.35L5.41 20z\"/>\n",
              "  </svg>\n",
              "      </button>\n",
              "      \n",
              "  <style>\n",
              "    .colab-df-container {\n",
              "      display:flex;\n",
              "      flex-wrap:wrap;\n",
              "      gap: 12px;\n",
              "    }\n",
              "\n",
              "    .colab-df-convert {\n",
              "      background-color: #E8F0FE;\n",
              "      border: none;\n",
              "      border-radius: 50%;\n",
              "      cursor: pointer;\n",
              "      display: none;\n",
              "      fill: #1967D2;\n",
              "      height: 32px;\n",
              "      padding: 0 0 0 0;\n",
              "      width: 32px;\n",
              "    }\n",
              "\n",
              "    .colab-df-convert:hover {\n",
              "      background-color: #E2EBFA;\n",
              "      box-shadow: 0px 1px 2px rgba(60, 64, 67, 0.3), 0px 1px 3px 1px rgba(60, 64, 67, 0.15);\n",
              "      fill: #174EA6;\n",
              "    }\n",
              "\n",
              "    [theme=dark] .colab-df-convert {\n",
              "      background-color: #3B4455;\n",
              "      fill: #D2E3FC;\n",
              "    }\n",
              "\n",
              "    [theme=dark] .colab-df-convert:hover {\n",
              "      background-color: #434B5C;\n",
              "      box-shadow: 0px 1px 3px 1px rgba(0, 0, 0, 0.15);\n",
              "      filter: drop-shadow(0px 1px 2px rgba(0, 0, 0, 0.3));\n",
              "      fill: #FFFFFF;\n",
              "    }\n",
              "  </style>\n",
              "\n",
              "      <script>\n",
              "        const buttonEl =\n",
              "          document.querySelector('#df-ff195e8b-33b1-4fb8-8c57-6d7e72c9414f button.colab-df-convert');\n",
              "        buttonEl.style.display =\n",
              "          google.colab.kernel.accessAllowed ? 'block' : 'none';\n",
              "\n",
              "        async function convertToInteractive(key) {\n",
              "          const element = document.querySelector('#df-ff195e8b-33b1-4fb8-8c57-6d7e72c9414f');\n",
              "          const dataTable =\n",
              "            await google.colab.kernel.invokeFunction('convertToInteractive',\n",
              "                                                     [key], {});\n",
              "          if (!dataTable) return;\n",
              "\n",
              "          const docLinkHtml = 'Like what you see? Visit the ' +\n",
              "            '<a target=\"_blank\" href=https://colab.research.google.com/notebooks/data_table.ipynb>data table notebook</a>'\n",
              "            + ' to learn more about interactive tables.';\n",
              "          element.innerHTML = '';\n",
              "          dataTable['output_type'] = 'display_data';\n",
              "          await google.colab.output.renderOutput(dataTable, element);\n",
              "          const docLink = document.createElement('div');\n",
              "          docLink.innerHTML = docLinkHtml;\n",
              "          element.appendChild(docLink);\n",
              "        }\n",
              "      </script>\n",
              "    </div>\n",
              "  </div>\n",
              "  "
            ]
          },
          "metadata": {},
          "execution_count": 49
        }
      ],
      "source": [
        "dados.groupby(\"genero\")[[\"bilheteria_bruta\",\"bilheteria_ajustada_inflacao\"]].agg([np.mean,np.min,np.max,np.median])"
      ]
    },
    {
      "cell_type": "code",
      "execution_count": null,
      "id": "ee7b56fb",
      "metadata": {
        "id": "ee7b56fb",
        "outputId": "c1af353a-34e0-46db-b71a-25a64d4855fc"
      },
      "outputs": [
        {
          "data": {
            "text/plain": [
              "'Musical'"
            ]
          },
          "execution_count": 127,
          "metadata": {},
          "output_type": "execute_result"
        }
      ],
      "source": [
        ""
      ]
    },
    {
      "cell_type": "markdown",
      "id": "fbebf915",
      "metadata": {
        "id": "fbebf915"
      },
      "source": [
        "Está na hora de fazermos um pouco de gráficos. Não existe análise de dados sem visualização!!"
      ]
    },
    {
      "cell_type": "markdown",
      "id": "cc1f85d1",
      "metadata": {
        "id": "cc1f85d1"
      },
      "source": [
        ""
      ]
    },
    {
      "cell_type": "code",
      "execution_count": 50,
      "id": "31d99f5a",
      "metadata": {
        "id": "31d99f5a"
      },
      "outputs": [],
      "source": [
        "import seaborn as sns"
      ]
    },
    {
      "cell_type": "markdown",
      "id": "0bdd6de2",
      "metadata": {
        "id": "0bdd6de2"
      },
      "source": [
        "25 - Some a bilheteria_bruta por genero"
      ]
    },
    {
      "cell_type": "code",
      "execution_count": 51,
      "id": "49d0c034",
      "metadata": {
        "colab": {
          "base_uri": "https://localhost:8080/",
          "height": 457
        },
        "id": "49d0c034",
        "outputId": "a0ae0185-8d68-4b93-beb2-1dbdd8f359ba"
      },
      "outputs": [
        {
          "output_type": "execute_result",
          "data": {
            "text/plain": [
              "                             sum\n",
              "genero                          \n",
              "Action                4184563282\n",
              "Adventure            16389069453\n",
              "Black Comedy            97543212\n",
              "Comedy                8119619678\n",
              "Concert/Performance    103456466\n",
              "Documentary            180685619\n",
              "Drama                 4106972970\n",
              "Horror                  87068872\n",
              "Musical               1157284155\n",
              "Romantic Comedy       1152206855\n",
              "Thriller/Suspense     1406806519\n",
              "Western                359011459"
            ],
            "text/html": [
              "\n",
              "  <div id=\"df-9ab26612-ce16-47bf-94a7-318dfe51089f\">\n",
              "    <div class=\"colab-df-container\">\n",
              "      <div>\n",
              "<style scoped>\n",
              "    .dataframe tbody tr th:only-of-type {\n",
              "        vertical-align: middle;\n",
              "    }\n",
              "\n",
              "    .dataframe tbody tr th {\n",
              "        vertical-align: top;\n",
              "    }\n",
              "\n",
              "    .dataframe thead th {\n",
              "        text-align: right;\n",
              "    }\n",
              "</style>\n",
              "<table border=\"1\" class=\"dataframe\">\n",
              "  <thead>\n",
              "    <tr style=\"text-align: right;\">\n",
              "      <th></th>\n",
              "      <th>sum</th>\n",
              "    </tr>\n",
              "    <tr>\n",
              "      <th>genero</th>\n",
              "      <th></th>\n",
              "    </tr>\n",
              "  </thead>\n",
              "  <tbody>\n",
              "    <tr>\n",
              "      <th>Action</th>\n",
              "      <td>4184563282</td>\n",
              "    </tr>\n",
              "    <tr>\n",
              "      <th>Adventure</th>\n",
              "      <td>16389069453</td>\n",
              "    </tr>\n",
              "    <tr>\n",
              "      <th>Black Comedy</th>\n",
              "      <td>97543212</td>\n",
              "    </tr>\n",
              "    <tr>\n",
              "      <th>Comedy</th>\n",
              "      <td>8119619678</td>\n",
              "    </tr>\n",
              "    <tr>\n",
              "      <th>Concert/Performance</th>\n",
              "      <td>103456466</td>\n",
              "    </tr>\n",
              "    <tr>\n",
              "      <th>Documentary</th>\n",
              "      <td>180685619</td>\n",
              "    </tr>\n",
              "    <tr>\n",
              "      <th>Drama</th>\n",
              "      <td>4106972970</td>\n",
              "    </tr>\n",
              "    <tr>\n",
              "      <th>Horror</th>\n",
              "      <td>87068872</td>\n",
              "    </tr>\n",
              "    <tr>\n",
              "      <th>Musical</th>\n",
              "      <td>1157284155</td>\n",
              "    </tr>\n",
              "    <tr>\n",
              "      <th>Romantic Comedy</th>\n",
              "      <td>1152206855</td>\n",
              "    </tr>\n",
              "    <tr>\n",
              "      <th>Thriller/Suspense</th>\n",
              "      <td>1406806519</td>\n",
              "    </tr>\n",
              "    <tr>\n",
              "      <th>Western</th>\n",
              "      <td>359011459</td>\n",
              "    </tr>\n",
              "  </tbody>\n",
              "</table>\n",
              "</div>\n",
              "      <button class=\"colab-df-convert\" onclick=\"convertToInteractive('df-9ab26612-ce16-47bf-94a7-318dfe51089f')\"\n",
              "              title=\"Convert this dataframe to an interactive table.\"\n",
              "              style=\"display:none;\">\n",
              "        \n",
              "  <svg xmlns=\"http://www.w3.org/2000/svg\" height=\"24px\"viewBox=\"0 0 24 24\"\n",
              "       width=\"24px\">\n",
              "    <path d=\"M0 0h24v24H0V0z\" fill=\"none\"/>\n",
              "    <path d=\"M18.56 5.44l.94 2.06.94-2.06 2.06-.94-2.06-.94-.94-2.06-.94 2.06-2.06.94zm-11 1L8.5 8.5l.94-2.06 2.06-.94-2.06-.94L8.5 2.5l-.94 2.06-2.06.94zm10 10l.94 2.06.94-2.06 2.06-.94-2.06-.94-.94-2.06-.94 2.06-2.06.94z\"/><path d=\"M17.41 7.96l-1.37-1.37c-.4-.4-.92-.59-1.43-.59-.52 0-1.04.2-1.43.59L10.3 9.45l-7.72 7.72c-.78.78-.78 2.05 0 2.83L4 21.41c.39.39.9.59 1.41.59.51 0 1.02-.2 1.41-.59l7.78-7.78 2.81-2.81c.8-.78.8-2.07 0-2.86zM5.41 20L4 18.59l7.72-7.72 1.47 1.35L5.41 20z\"/>\n",
              "  </svg>\n",
              "      </button>\n",
              "      \n",
              "  <style>\n",
              "    .colab-df-container {\n",
              "      display:flex;\n",
              "      flex-wrap:wrap;\n",
              "      gap: 12px;\n",
              "    }\n",
              "\n",
              "    .colab-df-convert {\n",
              "      background-color: #E8F0FE;\n",
              "      border: none;\n",
              "      border-radius: 50%;\n",
              "      cursor: pointer;\n",
              "      display: none;\n",
              "      fill: #1967D2;\n",
              "      height: 32px;\n",
              "      padding: 0 0 0 0;\n",
              "      width: 32px;\n",
              "    }\n",
              "\n",
              "    .colab-df-convert:hover {\n",
              "      background-color: #E2EBFA;\n",
              "      box-shadow: 0px 1px 2px rgba(60, 64, 67, 0.3), 0px 1px 3px 1px rgba(60, 64, 67, 0.15);\n",
              "      fill: #174EA6;\n",
              "    }\n",
              "\n",
              "    [theme=dark] .colab-df-convert {\n",
              "      background-color: #3B4455;\n",
              "      fill: #D2E3FC;\n",
              "    }\n",
              "\n",
              "    [theme=dark] .colab-df-convert:hover {\n",
              "      background-color: #434B5C;\n",
              "      box-shadow: 0px 1px 3px 1px rgba(0, 0, 0, 0.15);\n",
              "      filter: drop-shadow(0px 1px 2px rgba(0, 0, 0, 0.3));\n",
              "      fill: #FFFFFF;\n",
              "    }\n",
              "  </style>\n",
              "\n",
              "      <script>\n",
              "        const buttonEl =\n",
              "          document.querySelector('#df-9ab26612-ce16-47bf-94a7-318dfe51089f button.colab-df-convert');\n",
              "        buttonEl.style.display =\n",
              "          google.colab.kernel.accessAllowed ? 'block' : 'none';\n",
              "\n",
              "        async function convertToInteractive(key) {\n",
              "          const element = document.querySelector('#df-9ab26612-ce16-47bf-94a7-318dfe51089f');\n",
              "          const dataTable =\n",
              "            await google.colab.kernel.invokeFunction('convertToInteractive',\n",
              "                                                     [key], {});\n",
              "          if (!dataTable) return;\n",
              "\n",
              "          const docLinkHtml = 'Like what you see? Visit the ' +\n",
              "            '<a target=\"_blank\" href=https://colab.research.google.com/notebooks/data_table.ipynb>data table notebook</a>'\n",
              "            + ' to learn more about interactive tables.';\n",
              "          element.innerHTML = '';\n",
              "          dataTable['output_type'] = 'display_data';\n",
              "          await google.colab.output.renderOutput(dataTable, element);\n",
              "          const docLink = document.createElement('div');\n",
              "          docLink.innerHTML = docLinkHtml;\n",
              "          element.appendChild(docLink);\n",
              "        }\n",
              "      </script>\n",
              "    </div>\n",
              "  </div>\n",
              "  "
            ]
          },
          "metadata": {},
          "execution_count": 51
        }
      ],
      "source": [
        "bilheteria_genero=dados.groupby('genero')['bilheteria_bruta'].agg([np.sum])\n",
        "bilheteria_genero"
      ]
    },
    {
      "cell_type": "markdown",
      "id": "ce14137d",
      "metadata": {
        "id": "ce14137d"
      },
      "source": [
        "26 - Agora sim faça um gráfico de barras com o resultado anterior!"
      ]
    },
    {
      "cell_type": "code",
      "source": [
        ""
      ],
      "metadata": {
        "colab": {
          "base_uri": "https://localhost:8080/"
        },
        "id": "5XSG5QrtpHNZ",
        "outputId": "88405326-d3a7-4683-cf02-6c7c76571c74"
      },
      "id": "5XSG5QrtpHNZ",
      "execution_count": null,
      "outputs": [
        {
          "output_type": "execute_result",
          "data": {
            "text/plain": [
              "Index(['genero', 'bilheteria_bruta'], dtype='object')"
            ]
          },
          "metadata": {},
          "execution_count": 97
        }
      ]
    },
    {
      "cell_type": "code",
      "execution_count": 52,
      "id": "d07655f7",
      "metadata": {
        "colab": {
          "base_uri": "https://localhost:8080/",
          "height": 403
        },
        "id": "d07655f7",
        "outputId": "ba584f36-59ca-4173-821b-d0cb7164f475"
      },
      "outputs": [
        {
          "output_type": "execute_result",
          "data": {
            "text/plain": [
              "<matplotlib.axes._subplots.AxesSubplot at 0x7f4ce4c067d0>"
            ]
          },
          "metadata": {},
          "execution_count": 52
        },
        {
          "output_type": "display_data",
          "data": {
            "text/plain": [
              "<Figure size 432x288 with 1 Axes>"
            ],
            "image/png": "[encoded data removed]"
          },
          "metadata": {
            "needs_background": "light"
          }
        }
      ],
      "source": [
        "bilheteria_genero.to_csv('ui.csv')\n",
        "df=pd.read_csv('ui.csv')\n",
        "df.plot(x=\"genero\",y='sum',kind=\"bar\")\n"
      ]
    },
    {
      "cell_type": "markdown",
      "id": "f4db205c",
      "metadata": {
        "id": "f4db205c"
      },
      "source": [
        "27 - Importe o seaborn com o apelido sns "
      ]
    },
    {
      "cell_type": "code",
      "execution_count": 53,
      "id": "c9bf4215",
      "metadata": {
        "id": "c9bf4215"
      },
      "outputs": [],
      "source": [
        "import seaborn as sns\n"
      ]
    },
    {
      "cell_type": "markdown",
      "id": "2bda7f9f",
      "metadata": {
        "id": "2bda7f9f"
      },
      "source": [
        "28 -Faça um boxplot comparando a bilheteria_ajustada_inflacao dos filmes de ação e comédia\n"
      ]
    },
    {
      "cell_type": "code",
      "source": [
        "df=dados[(dados['genero']=='Comedy') | (dados['genero']=='Action')]\n",
        "sns.boxplot(data=df,x='genero',y='bilheteria_ajustada_inflacao')"
      ],
      "metadata": {
        "colab": {
          "base_uri": "https://localhost:8080/",
          "height": 313
        },
        "id": "wnHX5MxCTJkL",
        "outputId": "b69dc129-3906-4957-f6f9-1052ec947cdf"
      },
      "id": "wnHX5MxCTJkL",
      "execution_count": 74,
      "outputs": [
        {
          "output_type": "execute_result",
          "data": {
            "text/plain": [
              "<matplotlib.axes._subplots.AxesSubplot at 0x7f4ce411b450>"
            ]
          },
          "metadata": {},
          "execution_count": 74
        },
        {
          "output_type": "display_data",
          "data": {
            "text/plain": [
              "<Figure size 432x288 with 1 Axes>"
            ],
            "image/png": "[encoded data removed]"
          },
          "metadata": {}
        }
      ]
    },
    {
      "cell_type": "code",
      "source": [
        "sns.boxplot(data=dados,x='genero',y='bilheteria_ajustada_inflacao')"
      ],
      "metadata": {
        "colab": {
          "base_uri": "https://localhost:8080/",
          "height": 313
        },
        "id": "Tna9CMV-Skin",
        "outputId": "fde06ac1-d2f8-456e-b94a-680eba2dd8d0"
      },
      "id": "Tna9CMV-Skin",
      "execution_count": 62,
      "outputs": [
        {
          "output_type": "execute_result",
          "data": {
            "text/plain": [
              "<matplotlib.axes._subplots.AxesSubplot at 0x7f4ce43b1a50>"
            ]
          },
          "metadata": {},
          "execution_count": 62
        },
        {
          "output_type": "display_data",
          "data": {
            "text/plain": [
              "<Figure size 432x288 with 1 Axes>"
            ],
            "image/png": "[encoded data removed]"
          },
          "metadata": {}
        }
      ]
    },
    {
      "cell_type": "code",
      "source": [
        "x=dados.groupby('genero')['bilheteria_ajustada_inflacao'].agg(np.mean).loc[['Action','Comedy']]"
      ],
      "metadata": {
        "id": "yrG03ypcpOne"
      },
      "id": "yrG03ypcpOne",
      "execution_count": 63,
      "outputs": []
    },
    {
      "cell_type": "code",
      "source": [
        "dados.genero.fillna(dados.genero.mode(),inplace=True)\n",
        "dados.classificacao_mpaa.fillna('Não especificado',inplace=True)"
      ],
      "metadata": {
        "id": "SkLPYAwWuO8u"
      },
      "id": "SkLPYAwWuO8u",
      "execution_count": 83,
      "outputs": []
    },
    {
      "cell_type": "code",
      "source": [
        "dados.isnull().sum()"
      ],
      "metadata": {
        "colab": {
          "base_uri": "https://localhost:8080/"
        },
        "id": "JZoJZnGLqxR2",
        "outputId": "0b0e9377-53f6-4c3b-92a2-efa06438c564"
      },
      "id": "JZoJZnGLqxR2",
      "execution_count": 84,
      "outputs": [
        {
          "output_type": "execute_result",
          "data": {
            "text/plain": [
              "tit_do_filme                     0\n",
              "dt_lancamento                    0\n",
              "genero                          17\n",
              "classificacao_mpaa               0\n",
              "bilheteria_bruta                 0\n",
              "bilheteria_ajustada_inflacao     0\n",
              "dtype: int64"
            ]
          },
          "metadata": {},
          "execution_count": 84
        }
      ]
    },
    {
      "cell_type": "code",
      "execution_count": 85,
      "id": "05cb1c96",
      "metadata": {
        "colab": {
          "base_uri": "https://localhost:8080/"
        },
        "id": "05cb1c96",
        "outputId": "036fd84d-45b0-4bc8-87c8-beab365a8dd0"
      },
      "outputs": [
        {
          "output_type": "execute_result",
          "data": {
            "text/plain": [
              "array(['Musical', 'Adventure', 'Drama', 'Comedy', nan, 'Action', 'Horror',\n",
              "       'Romantic Comedy', 'Thriller/Suspense', 'Western', 'Black Comedy',\n",
              "       'Documentary', 'Concert/Performance'], dtype=object)"
            ]
          },
          "metadata": {},
          "execution_count": 85
        }
      ],
      "source": [
        "dados['genero'].unique()"
      ]
    },
    {
      "cell_type": "code",
      "source": [
        "\n",
        "dados.head()"
      ],
      "metadata": {
        "colab": {
          "base_uri": "https://localhost:8080/",
          "height": 206
        },
        "id": "yRczK9JbVd7Y",
        "outputId": "dffccb9b-4d7a-4b38-8926-a01e0e749abf"
      },
      "id": "yRczK9JbVd7Y",
      "execution_count": 86,
      "outputs": [
        {
          "output_type": "execute_result",
          "data": {
            "text/plain": [
              "                      tit_do_filme dt_lancamento     genero  \\\n",
              "0  Snow White and the Seven Dwarfs    1937-12-21    Musical   \n",
              "1                        Pinocchio    1940-02-09  Adventure   \n",
              "2                         Fantasia    1940-11-13    Musical   \n",
              "3                Song of the South    1946-11-12  Adventure   \n",
              "4                       Cinderella    1950-02-15      Drama   \n",
              "\n",
              "  classificacao_mpaa  bilheteria_bruta  bilheteria_ajustada_inflacao  \n",
              "0                  G         184925485                    5228953251  \n",
              "1                  G          84300000                    2188229052  \n",
              "2                  G          83320000                    2187090808  \n",
              "3                  G          65000000                    1078510579  \n",
              "4                  G          85000000                     920608730  "
            ],
            "text/html": [
              "\n",
              "  <div id=\"df-fc8cb2d1-5951-49de-a669-aa558d79de4c\">\n",
              "    <div class=\"colab-df-container\">\n",
              "      <div>\n",
              "<style scoped>\n",
              "    .dataframe tbody tr th:only-of-type {\n",
              "        vertical-align: middle;\n",
              "    }\n",
              "\n",
              "    .dataframe tbody tr th {\n",
              "        vertical-align: top;\n",
              "    }\n",
              "\n",
              "    .dataframe thead th {\n",
              "        text-align: right;\n",
              "    }\n",
              "</style>\n",
              "<table border=\"1\" class=\"dataframe\">\n",
              "  <thead>\n",
              "    <tr style=\"text-align: right;\">\n",
              "      <th></th>\n",
              "      <th>tit_do_filme</th>\n",
              "      <th>dt_lancamento</th>\n",
              "      <th>genero</th>\n",
              "      <th>classificacao_mpaa</th>\n",
              "      <th>bilheteria_bruta</th>\n",
              "      <th>bilheteria_ajustada_inflacao</th>\n",
              "    </tr>\n",
              "  </thead>\n",
              "  <tbody>\n",
              "    <tr>\n",
              "      <th>0</th>\n",
              "      <td>Snow White and the Seven Dwarfs</td>\n",
              "      <td>1937-12-21</td>\n",
              "      <td>Musical</td>\n",
              "      <td>G</td>\n",
              "      <td>184925485</td>\n",
              "      <td>5228953251</td>\n",
              "    </tr>\n",
              "    <tr>\n",
              "      <th>1</th>\n",
              "      <td>Pinocchio</td>\n",
              "      <td>1940-02-09</td>\n",
              "      <td>Adventure</td>\n",
              "      <td>G</td>\n",
              "      <td>84300000</td>\n",
              "      <td>2188229052</td>\n",
              "    </tr>\n",
              "    <tr>\n",
              "      <th>2</th>\n",
              "      <td>Fantasia</td>\n",
              "      <td>1940-11-13</td>\n",
              "      <td>Musical</td>\n",
              "      <td>G</td>\n",
              "      <td>83320000</td>\n",
              "      <td>2187090808</td>\n",
              "    </tr>\n",
              "    <tr>\n",
              "      <th>3</th>\n",
              "      <td>Song of the South</td>\n",
              "      <td>1946-11-12</td>\n",
              "      <td>Adventure</td>\n",
              "      <td>G</td>\n",
              "      <td>65000000</td>\n",
              "      <td>1078510579</td>\n",
              "    </tr>\n",
              "    <tr>\n",
              "      <th>4</th>\n",
              "      <td>Cinderella</td>\n",
              "      <td>1950-02-15</td>\n",
              "      <td>Drama</td>\n",
              "      <td>G</td>\n",
              "      <td>85000000</td>\n",
              "      <td>920608730</td>\n",
              "    </tr>\n",
              "  </tbody>\n",
              "</table>\n",
              "</div>\n",
              "      <button class=\"colab-df-convert\" onclick=\"convertToInteractive('df-fc8cb2d1-5951-49de-a669-aa558d79de4c')\"\n",
              "              title=\"Convert this dataframe to an interactive table.\"\n",
              "              style=\"display:none;\">\n",
              "        \n",
              "  <svg xmlns=\"http://www.w3.org/2000/svg\" height=\"24px\"viewBox=\"0 0 24 24\"\n",
              "       width=\"24px\">\n",
              "    <path d=\"M0 0h24v24H0V0z\" fill=\"none\"/>\n",
              "    <path d=\"M18.56 5.44l.94 2.06.94-2.06 2.06-.94-2.06-.94-.94-2.06-.94 2.06-2.06.94zm-11 1L8.5 8.5l.94-2.06 2.06-.94-2.06-.94L8.5 2.5l-.94 2.06-2.06.94zm10 10l.94 2.06.94-2.06 2.06-.94-2.06-.94-.94-2.06-.94 2.06-2.06.94z\"/><path d=\"M17.41 7.96l-1.37-1.37c-.4-.4-.92-.59-1.43-.59-.52 0-1.04.2-1.43.59L10.3 9.45l-7.72 7.72c-.78.78-.78 2.05 0 2.83L4 21.41c.39.39.9.59 1.41.59.51 0 1.02-.2 1.41-.59l7.78-7.78 2.81-2.81c.8-.78.8-2.07 0-2.86zM5.41 20L4 18.59l7.72-7.72 1.47 1.35L5.41 20z\"/>\n",
              "  </svg>\n",
              "      </button>\n",
              "      \n",
              "  <style>\n",
              "    .colab-df-container {\n",
              "      display:flex;\n",
              "      flex-wrap:wrap;\n",
              "      gap: 12px;\n",
              "    }\n",
              "\n",
              "    .colab-df-convert {\n",
              "      background-color: #E8F0FE;\n",
              "      border: none;\n",
              "      border-radius: 50%;\n",
              "      cursor: pointer;\n",
              "      display: none;\n",
              "      fill: #1967D2;\n",
              "      height: 32px;\n",
              "      padding: 0 0 0 0;\n",
              "      width: 32px;\n",
              "    }\n",
              "\n",
              "    .colab-df-convert:hover {\n",
              "      background-color: #E2EBFA;\n",
              "      box-shadow: 0px 1px 2px rgba(60, 64, 67, 0.3), 0px 1px 3px 1px rgba(60, 64, 67, 0.15);\n",
              "      fill: #174EA6;\n",
              "    }\n",
              "\n",
              "    [theme=dark] .colab-df-convert {\n",
              "      background-color: #3B4455;\n",
              "      fill: #D2E3FC;\n",
              "    }\n",
              "\n",
              "    [theme=dark] .colab-df-convert:hover {\n",
              "      background-color: #434B5C;\n",
              "      box-shadow: 0px 1px 3px 1px rgba(0, 0, 0, 0.15);\n",
              "      filter: drop-shadow(0px 1px 2px rgba(0, 0, 0, 0.3));\n",
              "      fill: #FFFFFF;\n",
              "    }\n",
              "  </style>\n",
              "\n",
              "      <script>\n",
              "        const buttonEl =\n",
              "          document.querySelector('#df-fc8cb2d1-5951-49de-a669-aa558d79de4c button.colab-df-convert');\n",
              "        buttonEl.style.display =\n",
              "          google.colab.kernel.accessAllowed ? 'block' : 'none';\n",
              "\n",
              "        async function convertToInteractive(key) {\n",
              "          const element = document.querySelector('#df-fc8cb2d1-5951-49de-a669-aa558d79de4c');\n",
              "          const dataTable =\n",
              "            await google.colab.kernel.invokeFunction('convertToInteractive',\n",
              "                                                     [key], {});\n",
              "          if (!dataTable) return;\n",
              "\n",
              "          const docLinkHtml = 'Like what you see? Visit the ' +\n",
              "            '<a target=\"_blank\" href=https://colab.research.google.com/notebooks/data_table.ipynb>data table notebook</a>'\n",
              "            + ' to learn more about interactive tables.';\n",
              "          element.innerHTML = '';\n",
              "          dataTable['output_type'] = 'display_data';\n",
              "          await google.colab.output.renderOutput(dataTable, element);\n",
              "          const docLink = document.createElement('div');\n",
              "          docLink.innerHTML = docLinkHtml;\n",
              "          element.appendChild(docLink);\n",
              "        }\n",
              "      </script>\n",
              "    </div>\n",
              "  </div>\n",
              "  "
            ]
          },
          "metadata": {},
          "execution_count": 86
        }
      ]
    },
    {
      "cell_type": "code",
      "execution_count": 87,
      "id": "c420ae3d",
      "metadata": {
        "colab": {
          "base_uri": "https://localhost:8080/",
          "height": 296
        },
        "id": "c420ae3d",
        "outputId": "bbba5fea-c6df-4647-d4fe-70a749da0cc7"
      },
      "outputs": [
        {
          "output_type": "execute_result",
          "data": {
            "text/plain": [
              "<matplotlib.axes._subplots.AxesSubplot at 0x7f4ce4065390>"
            ]
          },
          "metadata": {},
          "execution_count": 87
        },
        {
          "output_type": "display_data",
          "data": {
            "text/plain": [
              "<Figure size 432x288 with 1 Axes>"
            ],
            "image/png": "[encoded data removed]"
          },
          "metadata": {}
        }
      ],
      "source": [
        "col_action=dados[dados['genero']=='Action']['bilheteria_ajustada_inflacao'].values.tolist()\n",
        "col_comedy=dados[dados['genero']=='Comedy']['bilheteria_ajustada_inflacao'].values.tolist()\n",
        "sns.boxplot(data=[col_comedy,col_action])"
      ]
    },
    {
      "cell_type": "code",
      "source": [
        "a=col_action\n",
        "plt.boxplot(a)\n",
        "plt.show()"
      ],
      "metadata": {
        "colab": {
          "base_uri": "https://localhost:8080/",
          "height": 200
        },
        "id": "zKkOcfwcjfzI",
        "outputId": "669491d7-c2a3-40e2-8324-7474c677e145"
      },
      "id": "zKkOcfwcjfzI",
      "execution_count": 88,
      "outputs": [
        {
          "output_type": "error",
          "ename": "NameError",
          "evalue": "ignored",
          "traceback": [
            "\u001b[0;31m---------------------------------------------------------------------------\u001b[0m",
            "\u001b[0;31mNameError\u001b[0m                                 Traceback (most recent call last)",
            "\u001b[0;32m<ipython-input-88-4a4e6f58b437>\u001b[0m in \u001b[0;36m<module>\u001b[0;34m()\u001b[0m\n\u001b[1;32m      1\u001b[0m \u001b[0ma\u001b[0m\u001b[0;34m=\u001b[0m\u001b[0mcol_action\u001b[0m\u001b[0;34m\u001b[0m\u001b[0;34m\u001b[0m\u001b[0m\n\u001b[0;32m----> 2\u001b[0;31m \u001b[0mplt\u001b[0m\u001b[0;34m.\u001b[0m\u001b[0mboxplot\u001b[0m\u001b[0;34m(\u001b[0m\u001b[0ma\u001b[0m\u001b[0;34m)\u001b[0m\u001b[0;34m\u001b[0m\u001b[0;34m\u001b[0m\u001b[0m\n\u001b[0m\u001b[1;32m      3\u001b[0m \u001b[0mplt\u001b[0m\u001b[0;34m.\u001b[0m\u001b[0mshow\u001b[0m\u001b[0;34m(\u001b[0m\u001b[0;34m)\u001b[0m\u001b[0;34m\u001b[0m\u001b[0;34m\u001b[0m\u001b[0m\n",
            "\u001b[0;31mNameError\u001b[0m: name 'plt' is not defined"
          ]
        }
      ]
    },
    {
      "cell_type": "code",
      "source": [
        "import matplotlib.pyplot as plt\n",
        "x = [col_comedy,col_action]\n",
        "plt.boxplot(x)\n"
      ],
      "metadata": {
        "colab": {
          "base_uri": "https://localhost:8080/",
          "height": 594
        },
        "id": "kf3rDaxxgl5W",
        "outputId": "3e8f1688-ab13-46bc-aa56-2e095733ffa4"
      },
      "id": "kf3rDaxxgl5W",
      "execution_count": null,
      "outputs": [
        {
          "output_type": "stream",
          "name": "stderr",
          "text": [
            "/usr/local/lib/python3.7/dist-packages/matplotlib/cbook/__init__.py:1376: VisibleDeprecationWarning: Creating an ndarray from ragged nested sequences (which is a list-or-tuple of lists-or-tuples-or ndarrays with different lengths or shapes) is deprecated. If you meant to do this, you must specify 'dtype=object' when creating the ndarray.\n",
            "  X = np.atleast_1d(X.T if isinstance(X, np.ndarray) else np.asarray(X))\n"
          ]
        },
        {
          "output_type": "execute_result",
          "data": {
            "text/plain": [
              "{'boxes': [<matplotlib.lines.Line2D at 0x7fcc1fc3a250>,\n",
              "  <matplotlib.lines.Line2D at 0x7fcc1fc47810>],\n",
              " 'caps': [<matplotlib.lines.Line2D at 0x7fcc1fc40290>,\n",
              "  <matplotlib.lines.Line2D at 0x7fcc1fc407d0>,\n",
              "  <matplotlib.lines.Line2D at 0x7fcc1fc52710>,\n",
              "  <matplotlib.lines.Line2D at 0x7fcc1fc52c10>],\n",
              " 'fliers': [<matplotlib.lines.Line2D at 0x7fcc1fc472d0>,\n",
              "  <matplotlib.lines.Line2D at 0x7fcc1fc5a650>],\n",
              " 'means': [],\n",
              " 'medians': [<matplotlib.lines.Line2D at 0x7fcc1fc40d50>,\n",
              "  <matplotlib.lines.Line2D at 0x7fcc1fc5a150>],\n",
              " 'whiskers': [<matplotlib.lines.Line2D at 0x7fcc1fc3a7d0>,\n",
              "  <matplotlib.lines.Line2D at 0x7fcc1fc3ad10>,\n",
              "  <matplotlib.lines.Line2D at 0x7fcc1fc47d10>,\n",
              "  <matplotlib.lines.Line2D at 0x7fcc1fc52210>]}"
            ]
          },
          "metadata": {},
          "execution_count": 258
        },
        {
          "output_type": "display_data",
          "data": {
            "text/plain": [
              "<Figure size 432x288 with 1 Axes>"
            ],
            "image/png": "[encoded data removed]"
          },
          "metadata": {}
        }
      ]
    }
  ],
  "metadata": {
    "hide_input": false,
    "kernelspec": {
      "display_name": "Python 3.10.4 64-bit",
      "language": "python",
      "name": "python3"
    },
    "language_info": {
      "codemirror_mode": {
        "name": "ipython",
        "version": 3
      },
      "file_extension": ".py",
      "mimetype": "text/x-python",
      "name": "python",
      "nbconvert_exporter": "python",
      "pygments_lexer": "ipython3",
      "version": "3.10.4"
    },
    "vscode": {
      "interpreter": {
        "hash": "b1be5a1e9e85905d3e4e97ef1b769f5caa870a8a58c9f9e0ae488b6f0a0e1baf"
      }
    },
    "colab": {
      "name": "Desafio 6 - Estatísticas.ipynb",
      "provenance": []
    }
  },
  "nbformat": 4,
  "nbformat_minor": 5
}