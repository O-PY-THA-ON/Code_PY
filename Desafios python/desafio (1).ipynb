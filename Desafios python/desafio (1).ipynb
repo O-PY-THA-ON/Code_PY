{
  "cells": [
    {
      "cell_type": "markdown",
      "metadata": {
        "cell_id": "00000-e8ac9e2f-d35b-4610-b8ce-bb66388448af",
        "deepnote_cell_height": 196,
        "deepnote_cell_type": "markdown",
        "tags": [],
        "id": "b4IqmpZBexw8"
      },
      "source": [
        "<div>\n",
        "    <p style=\"float: right;\"><img src=\"https://media.swipepages.com/2021/2/sirius-logo-principal-tag-1-300.png\" height=\"80px\"border=\"1px\"></p>\n",
        "    \n",
        "</div>\n",
        "<h1>Nano Desafio 2 </h1>\n",
        "<h2> Desafios </h2>\n",
        "\n",
        "Aluno: \n",
        "\n",
        "Data:"
      ]
    },
    {
      "cell_type": "markdown",
      "metadata": {
        "cell_id": "00001-1fcaf13b-4d79-4c96-806b-d1c948f8a35b",
        "deepnote_cell_height": 4710,
        "deepnote_cell_type": "markdown",
        "owner_user_id": "d001098f-5dea-4d4f-8c97-a79374dcf058",
        "tags": [],
        "id": "IrUxuqcwexxi"
      },
      "source": [
        "# Desafio 1\n",
        "\n",
        "\n",
        "![Calculo](preco.jpg)\n"
      ]
    },
    {
      "cell_type": "markdown",
      "metadata": {
        "cell_id": "00002-d9beadac-64fe-4b1f-aaf7-020a6b348857",
        "deepnote_cell_height": 296,
        "deepnote_cell_type": "markdown",
        "tags": [],
        "id": "EArDWhUXexxm"
      },
      "source": [
        "# Pergunta\n",
        "Qual o preço final ao consumidor deste modelo de sapato? <br>\n",
        "Para envio do seu resultado final, considere os seguites valores abaixo de referência mas lembre-se que o seu programa deve ser capaz de calcular quaisquer que sejam os valores! <br>\n",
        "Couro: 140 <br>\n",
        "Solado: 80 <br>\n",
        "Cordões e Ilhoses: 40 <br>\n",
        "Insumos: 30 <br>\n",
        "Mão de Obra: 50 <br>\n",
        "Marketing: 30 <br>\n",
        "Custos de Venda: 20 <br>"
      ]
    },
    {
      "cell_type": "markdown",
      "metadata": {
        "cell_id": "00003-e58e431a-dacd-4002-bfc0-7963d5fc5945",
        "deepnote_cell_height": 46,
        "deepnote_cell_type": "markdown",
        "tags": [],
        "id": "U3H4ZJ43exxs"
      },
      "source": [
        ""
      ]
    },
    {
      "cell_type": "markdown",
      "metadata": {
        "created_in_deepnote_cell": true,
        "deepnote_cell_type": "markdown",
        "tags": [],
        "id": "5inupJyNexxw"
      },
      "source": [
        "<a style='text-decoration:none;line-height:16px;display:flex;color:#5B5B62;padding:10px;justify-content:end;' href='https://deepnote.com?utm_source=created-in-deepnote-cell&projectId=0fd69832-cf00-4dd5-8436-e30c0fc0360f' target=\"_blank\">\n",
        "<img alt='Created in deepnote.com' style='display:inline;max-height:16px;margin:0px;margin-right:7.5px;' src='data:image/svg+xml;base64,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' > </img>\n",
        "Created in <span style='font-weight:600;margin-left:4px;'>Deepnote</span></a>"
      ]
    },
    {
      "cell_type": "code",
      "source": [
        "custo_couro=float(input(\"Valor do Couro: \"))\n",
        "custo_solado=float(input(\"Valor do Solado: \"))\n",
        "custo_cordoes_ilhoses=float(input(\"Valor Cordões e ilhoses: \"))\n",
        "custo_isumos=float(input(\"Valor do isumo: \"))\n",
        "custo_obra=float(input(\"Valor do obra: \"))\n",
        "custo_marketing=float(input(\"Valor do marketing: \"))\n",
        "custo_vendas=float(input(\"Valor do vendas: \"))\n",
        "preco_custo=custo_couro*0.3+custo_solado*0.2+custo_cordoes_ilhoses*0.05+custo_isumos*0.05+custo_obra*0.2+custo_marketing*0.1+custo_vendas*0.1\n",
        "lucro_fabricante=preco_custo*1.30\n",
        "perda_capital=lucro_fabricante*1.15\n",
        "imposto_ipi_confins=perda_capital*1.15\n",
        "margem_vendas=imposto_ipi_confins*1.25\n",
        "imposto_estadual_municipal=margem_vendas*1.30\n",
        "preco_final=imposto_estadual_municipal\n",
        "print(preco_custo,preco_final)"
      ],
      "metadata": {
        "id": "9GUOZB1Fiexh"
      },
      "execution_count": null,
      "outputs": []
    },
    {
      "cell_type": "code",
      "source": [
        "#Desafio_extra\n",
        "sequencia=input(\"Digite uma sequência de numeros separados por virgulas\").split(',')\n",
        "print(sequencia)\n",
        "print(tuple(sequencia))"
      ],
      "metadata": {
        "id": "GCFWQed5wmGj"
      },
      "execution_count": null,
      "outputs": []
    },
    {
      "cell_type": "code",
      "source": [
        "#Desafio extra 3\n",
        "pnt1=input('Digite um ponto nesse formato x,y: ').split(',')\n",
        "pnt2=input('Digite um ponto 2 nesse formato x,y: ').split(',')\n",
        "x1=int(pnt1[0])\n",
        "y1=int(pnt1[1])\n",
        "x2=int(pnt2[0])\n",
        "y2=int(pnt2[1])\n",
        "distancia=((x2-x1)**2+(y2-y1)**2)**(1/2)\n",
        "print(f'{distancia:.2f}')"
      ],
      "metadata": {
        "colab": {
          "base_uri": "https://localhost:8080/"
        },
        "id": "zG6fZ5LNyH1X",
        "outputId": "fc2e0830-122d-4c43-ebff-35b3b5f58b45"
      },
      "execution_count": null,
      "outputs": [
        {
          "output_type": "stream",
          "name": "stdout",
          "text": [
            "Digite um ponto nesse formato x,y: 1,2\n",
            "Digite um ponto 2 nesse formato x,y: 3,2\n",
            "2.00\n"
          ]
        }
      ]
    },
    {
      "cell_type": "code",
      "source": [
        "import calendar\n",
        "\n",
        "print(calendar.month(2004,6))\n",
        "\n",
        "\t"
      ],
      "metadata": {
        "colab": {
          "base_uri": "https://localhost:8080/"
        },
        "id": "PSHu6Lhp0UzM",
        "outputId": "d8396609-30ee-4d8b-8bc6-bae700388be7"
      },
      "execution_count": null,
      "outputs": [
        {
          "output_type": "stream",
          "name": "stdout",
          "text": [
            "     June 2004\n",
            "Mo Tu We Th Fr Sa Su\n",
            "    1  2  3  4  5  6\n",
            " 7  8  9 10 11 12 13\n",
            "14 15 16 17 18 19 20\n",
            "21 22 23 24 25 26 27\n",
            "28 29 30\n",
            "\n"
          ]
        }
      ]
    },
    {
      "cell_type": "code",
      "source": [
        "lista=[]\n",
        "for c in range (0,3):\n",
        "  lista.append(int(input()))\n",
        "lis=sorted(lista)  \n",
        "print(*lis)\n"
      ],
      "metadata": {
        "colab": {
          "base_uri": "https://localhost:8080/"
        },
        "id": "G54QMWB32aMp",
        "outputId": "2d4d4aa2-eaac-42df-d862-cb58c871d75e"
      },
      "execution_count": null,
      "outputs": [
        {
          "output_type": "stream",
          "name": "stdout",
          "text": [
            "4\n",
            "5\n",
            "7\n",
            "4 5 7\n"
          ]
        }
      ]
    }
  ],
  "metadata": {
    "deepnote": {
      "is_reactive": false
    },
    "deepnote_execution_queue": [],
    "deepnote_notebook_id": "f324b11a-158a-4746-b2df-a66e34c34b29",
    "hide_input": false,
    "kernelspec": {
      "display_name": "Python 3",
      "language": "python",
      "name": "python3"
    },
    "language_info": {
      "codemirror_mode": {
        "name": "ipython",
        "version": 3
      },
      "file_extension": ".py",
      "mimetype": "text/x-python",
      "name": "python",
      "nbconvert_exporter": "python",
      "pygments_lexer": "ipython3",
      "version": "3.8.8"
    },
    "colab": {
      "name": "desafio.ipynb",
      "provenance": [],
      "collapsed_sections": []
    }
  },
  "nbformat": 4,
  "nbformat_minor": 0
}