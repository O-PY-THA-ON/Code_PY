{
  "cells": [
    {
      "cell_type": "markdown",
      "id": "fd0672f9",
      "metadata": {
        "id": "fd0672f9"
      },
      "source": [
        "<div>\n",
        "    <p style=\"float: right;\"><img src=\"https://media.swipepages.com/2021/2/sirius-logo-principal-tag-1-300.png\" height=\"80px\"border=\"1px\"></p>\n",
        "    \n",
        "</div>\n",
        "<h1>Nano Desafio 4 </h1>\n",
        "<h2> Desafios </h2>\n",
        "\n",
        "Aluno: \n",
        "\n",
        "Data:"
      ]
    },
    {
      "cell_type": "markdown",
      "id": "7501b9f3",
      "metadata": {
        "id": "7501b9f3"
      },
      "source": [
        "##### EXERCÍCIO 1 \n",
        "\n",
        "###### Jogo de adivinhação de números\n",
        "\n",
        "Este primeiro exercício apresenta vários tópicos que se repetirão em sua carreira com Python : loops, entrada do usuário, conversão e comparação de valores.\n",
        "\n",
        "Saber como pedir a entrada do usuário não apenas é útil, mas nos permite pensar sobre o tipo de dados que estamos recebendo, como convertê-los em um formato que podemos usar, e qual seria o formato.\n",
        "\n",
        "Como você deve saber, o Python fornece apenas dois tipos de loops: for e while. Saber como escrevê-los e usá-los será muito útil ao longo de sua carreira em Ciência de Dados. \n",
        "O fato de que quase todos os tipos de dados podem ser usados dentro de um loop torna seu uso muito comum. Se você estiver trabalhando com registros de banco de dados, elementos em um XML ou os resultados da pesquisa de texto usando expressões regulares, você será provavelmente usará loops.\n",
        " \n",
        "Para este exercício\n",
        "- Escreva uma função (chute) que não receba argumentos.\n",
        "- Quando executada, a função escolhe um inteiro aleatório entre 0 e 100.\n",
        "- Em seguida, peça ao usuário para adivinhar qual número foi escolhido.\n",
        "- Cada vez que o usuário insere um palpite, o programa indica um dos seguintes:\n",
        "- Muito alto\n",
        "- Muito baixo\n",
        "- Na medida\n",
        "\n",
        "- Se o usuário adivinhar corretamente, o programa é encerrado. Caso contrário, o usuário é solicitado a\n",
        "tentar novamente.\n",
        "- O programa só sai depois que o usuário adivinhar corretamente.\n",
        "\n",
        "\n",
        "Dica - resolva o exercício complementar 2 antes de resolver esse exercício"
      ]
    },
    {
      "cell_type": "code",
      "execution_count": null,
      "id": "40f57806",
      "metadata": {
        "id": "40f57806",
        "colab": {
          "base_uri": "https://localhost:8080/"
        },
        "outputId": "306e7b2e-c70f-4bd4-c8f5-8bc62ae47a37"
      },
      "outputs": [
        {
          "name": "stdout",
          "output_type": "stream",
          "text": [
            "Seu palpite foi: 80 a função escolheu: 88\n",
            "Muito Baixo\n",
            "Digite um palpite entre 0 e 100 ou aperte enter para sair: \n"
          ]
        }
      ],
      "source": [
        "from random import randint\n",
        "def aleatorio():\n",
        "  while(True):\n",
        "    chute=randint(0,100)\n",
        "    palpite=input(\"Digite um palpite entre 0 e 100 ou aperte enter para sair: \")\n",
        "    if palpite=='':\n",
        "      break\n",
        "    else:\n",
        "      palpite=int(palpite)  \n",
        "      if palpite<0 or palpite>100:\n",
        "        print('E]paaaa, digite o um numero entre 0 e 100 hehehe...')\n",
        "      else:  \n",
        "        print(f'Seu palpite foi: {palpite} a função escolheu: {chute}')\n",
        "        if palpite==chute:\n",
        "          print(\"Na medida!\")\n",
        "          break\n",
        "        if palpite>chute:print(\"Muito Alto\")\n",
        "        if palpite<chute:print(\"Muito Baixo\")\n",
        "aleatorio()  \n",
        "\n"
      ]
    },
    {
      "cell_type": "code",
      "execution_count": null,
      "id": "1e6a3317",
      "metadata": {
        "id": "1e6a3317"
      },
      "outputs": [],
      "source": [
        ""
      ]
    },
    {
      "cell_type": "markdown",
      "id": "e2c79c2b",
      "metadata": {
        "id": "e2c79c2b"
      },
      "source": [
        "##### EXERCÍCIO  2\n",
        "\n",
        "Para este exercício, vamos supor que você corra 10 km por dia como parte de seu regime. Você quer saber quanto tempo, em média, essa corrida leva.\n",
        "\n",
        "Escreva uma função (tempo_de_execucao) que pergunte quanto tempo você levou para correr 10 km.\n",
        "A função continua perguntando quanto tempo (em minutos) levou para execuções adicionais, até que o usuário pressiona Enter. Nesse ponto, a função sai - mas somente depois de calcular e exibindo o tempo médio que as corridas de 10 km levaram.\n",
        "A média das corridas pode ser calculado pela formula: **tempo_total / numero_de_corridas**\n",
        "\n",
        "Por exemplo, veja como seria a saída se o usuário inserisse três dados pontos:"
      ]
    },
    {
      "cell_type": "raw",
      "id": "634ada7e",
      "metadata": {
        "id": "634ada7e"
      },
      "source": [
        "Digite o tempo de corrida de 10 km: 15\n",
        "\n",
        "Digite o tempo de corrida de 10 km: 20\n",
        "\n",
        "Digite o tempo de corrida de 10 km: 10\n",
        "\n",
        "Digite o tempo de corrida de 10 km: <enter>\n",
        "\n",
        "Média de 15,0, nas 3 corridas."
      ]
    },
    {
      "cell_type": "code",
      "execution_count": null,
      "id": "0bd3e603",
      "metadata": {
        "id": "0bd3e603",
        "colab": {
          "base_uri": "https://localhost:8080/"
        },
        "outputId": "2dce1f88-f318-4024-fc26-c80b3a64fc08"
      },
      "outputs": [
        {
          "output_type": "stream",
          "name": "stdout",
          "text": [
            "Digite o tempo de corrida de 10 km: 5\n",
            "Digite o tempo de corrida de 10 km: 5\n",
            "Digite o tempo de corrida de 10 km: 5\n",
            "Digite o tempo de corrida de 10 km: \n",
            "Media de 5.0 nas 3 corridas\n"
          ]
        }
      ],
      "source": [
        "contador=-1\n",
        "soma=0\n",
        "while(True):\n",
        "  contador=contador+1\n",
        "  tem=input(\"Digite o tempo de corrida de 10 km: \")\n",
        "  if tem=='':\n",
        "    break\n",
        "  else:\n",
        "    tempo=int(tem)\n",
        "    soma+=tempo\n",
        "media=soma/(contador)\n",
        "print(f'Media de {media} km, nas {contador} corridas')\n"
      ]
    },
    {
      "cell_type": "code",
      "source": [
        "def temporizador():  \n",
        "  contador=soma=0\n",
        "  while(True):\n",
        "    contador=contador+1\n",
        "    tem=input(\"Digite o tempo de corrida de 10 km: \")\n",
        "    if tem=='':\n",
        "      break\n",
        "    else:\n",
        "      tempo=int(tem)\n",
        "      soma+=tempo\n",
        "  media=soma/(contador-1)\n",
        "  print(f'Media de {media} nas {contador-1} corridas')\n",
        "temporizador()"
      ],
      "metadata": {
        "id": "7tbnR-Us1Wud"
      },
      "id": "7tbnR-Us1Wud",
      "execution_count": null,
      "outputs": []
    },
    {
      "cell_type": "code",
      "source": [
        "tempo=input(\"Digite o tempo de corrida de 10 km: \")\n",
        "print(int(tempo))"
      ],
      "metadata": {
        "colab": {
          "base_uri": "https://localhost:8080/"
        },
        "id": "Y6bmzXM8xbmu",
        "outputId": "8b2985e3-cda6-4301-c8a8-82af3b134662"
      },
      "id": "Y6bmzXM8xbmu",
      "execution_count": null,
      "outputs": [
        {
          "output_type": "stream",
          "name": "stdout",
          "text": [
            "Digite o tempo de corrida de 10 km: 5\n",
            "5\n"
          ]
        }
      ]
    },
    {
      "cell_type": "code",
      "execution_count": null,
      "id": "95cef80e",
      "metadata": {
        "id": "95cef80e"
      },
      "outputs": [],
      "source": [
        ""
      ]
    },
    {
      "cell_type": "code",
      "execution_count": null,
      "id": "60887642",
      "metadata": {
        "id": "60887642"
      },
      "outputs": [],
      "source": [
        "\n"
      ]
    },
    {
      "cell_type": "code",
      "execution_count": null,
      "id": "2c763ce0",
      "metadata": {
        "id": "2c763ce0"
      },
      "outputs": [],
      "source": [
        ""
      ]
    },
    {
      "cell_type": "code",
      "execution_count": null,
      "id": "8d9cdfb2",
      "metadata": {
        "id": "8d9cdfb2"
      },
      "outputs": [],
      "source": [
        ""
      ]
    },
    {
      "cell_type": "markdown",
      "id": "15dc6111",
      "metadata": {
        "id": "15dc6111"
      },
      "source": [
        "##### EXERCÍCIO 3 \n",
        "Escreva um programa em Python para contar o número de números pares e ímpares de uma série de números. \n",
        "\n",
        "Exemplo:\n",
        "\n",
        "Entrada: números = (1, 2, 3, 4, 5, 6, 7, 8, 9)\n",
        "\n",
        "Saída esperada:\n",
        "\n",
        "Número de números pares: 4\n",
        "\n",
        "Número de números ímpares: 5"
      ]
    },
    {
      "cell_type": "code",
      "execution_count": null,
      "id": "d41bf6e5",
      "metadata": {
        "id": "d41bf6e5"
      },
      "outputs": [],
      "source": [
        "numeros = (1, 2, 3, 4, 5, 6, 7, 8, 9)\n",
        "contador_par=contador_impar=0\n",
        "for item in numeros:\n",
        "  if item%2==0:\n",
        "    contador_par+=1\n",
        "  else:\n",
        "    contador_impar+=1\n",
        "print(f\"\"\"Número de números pares: {contador_par}\n",
        "Número de números ímpares: {contador_impar}\"\"\")     "
      ]
    },
    {
      "cell_type": "markdown",
      "id": "5b451e7e",
      "metadata": {
        "id": "5b451e7e"
      },
      "source": [
        "#### EXERCÍCIO 4\n",
        "\n",
        "Escreva um código que retorne a sequência de Fibonacci para uma quantidade de números.\n",
        "\n",
        "Para mais informações sobre o que é a Sequência de Fibonacci: https://pt.wikipedia.org/wiki/Sequ%C3%AAncia_de_Fibonacci\n",
        "\n",
        "Exemplo 1:\n",
        "    \n",
        "Quantos números você quer gerar? 5\n",
        "\n",
        "[1, 1, 2, 3, 5]\n",
        "\n",
        "Exemplo 2:\n",
        "    \n",
        "Quantos números você quer gerar? 10\n",
        "\n",
        "[1, 1, 2, 3, 5, 8, 13, 21, 34, 55]\n",
        "\n",
        "Exemplo 3:\n",
        "\n",
        "Quantos números você quer gerar? 0\n",
        "[]\n",
        "\n",
        "\n"
      ]
    },
    {
      "cell_type": "code",
      "execution_count": null,
      "id": "5b781a54",
      "metadata": {
        "id": "5b781a54",
        "colab": {
          "base_uri": "https://localhost:8080/"
        },
        "outputId": "33ccca9d-f19b-4ad6-ba54-2a8264296db3"
      },
      "outputs": [
        {
          "output_type": "stream",
          "name": "stdout",
          "text": [
            "Quantos números você quer gerar? 5\n",
            "[1, 1, 2, 3, 5]\n"
          ]
        }
      ],
      "source": [
        "from math import sqrt,floor\n",
        "n=int(input(\"Quantos números você quer gerar? \"))\n",
        "lista=[]\n",
        "for x in range(1,n+1):\n",
        "  fibonacci=((1+sqrt(5))**x-(1-sqrt(5))**x)/(2**x*sqrt(5))\n",
        "  lista.append(floor(fibonacci))\n",
        "print(lista)"
      ]
    },
    {
      "cell_type": "code",
      "source": [
        "# F(6) = (F(6 - 1)) + (F(6 - 2)) = 5 e 4 → 8 (Soma do Resultado de F(5) e F(4))\n",
        "# F(5) = (F(5 - 1)) + (F(5 - 2)) = 4 e 3 → 5 (Soma do Resultado de F(4) e F(3))\n",
        "# F(4) = (F(4 - 1)) + (F(4 - 2)) = 3 e 2 → 3 (Soma do Resultado de F(3) e F(2))\n",
        "# F(3) = (F(3 - 1)) + (F(3 - 2)) = 2 e 1 → 2\n",
        "# F(2) = (F(2 - 1)) + (F(2 - 2)) = 1 e 0 → 1\n",
        "j=1\n",
        "i=0\n",
        "fib=[]\n",
        "n=int(input(\"Quantos números você quer gerar? \"))\n",
        "for c in range(0,n):\n",
        "  t=i+j\n",
        "  i=j\n",
        "  j=t\n",
        "  fib.append(i)\n",
        "print(*fib)"
      ],
      "metadata": {
        "colab": {
          "base_uri": "https://localhost:8080/"
        },
        "id": "_GlhgIJanpsx",
        "outputId": "fc09fef5-fd3b-48d9-ead9-60b184f29d5a"
      },
      "id": "_GlhgIJanpsx",
      "execution_count": null,
      "outputs": [
        {
          "output_type": "stream",
          "name": "stdout",
          "text": [
            "Quantos números você quer gerar? 8\n",
            "1 1 2 3 5 8 13 21\n"
          ]
        }
      ]
    },
    {
      "cell_type": "code",
      "source": [
        "n=int(input(\"Quantos números você quer gerar? \"))\n"
      ],
      "metadata": {
        "id": "4emkSOKgHlo1"
      },
      "id": "4emkSOKgHlo1",
      "execution_count": null,
      "outputs": []
    },
    {
      "cell_type": "code",
      "execution_count": null,
      "id": "0ca0c8ff",
      "metadata": {
        "id": "0ca0c8ff"
      },
      "outputs": [],
      "source": [
        ""
      ]
    }
  ],
  "metadata": {
    "hide_input": false,
    "kernelspec": {
      "display_name": "Python 3",
      "language": "python",
      "name": "python3"
    },
    "language_info": {
      "codemirror_mode": {
        "name": "ipython",
        "version": 3
      },
      "file_extension": ".py",
      "mimetype": "text/x-python",
      "name": "python",
      "nbconvert_exporter": "python",
      "pygments_lexer": "ipython3",
      "version": "3.8.8"
    },
    "colab": {
      "name": "Desafio 4 loops_atual.ipynb",
      "provenance": [],
      "collapsed_sections": []
    }
  },
  "nbformat": 4,
  "nbformat_minor": 5
}