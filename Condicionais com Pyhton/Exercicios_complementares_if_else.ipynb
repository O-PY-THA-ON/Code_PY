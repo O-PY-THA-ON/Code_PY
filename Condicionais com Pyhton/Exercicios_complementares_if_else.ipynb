{
  "cells": [
    {
      "cell_type": "markdown",
      "id": "2ad774b9",
      "metadata": {
        "id": "2ad774b9"
      },
      "source": [
        "#### Exercicio C1\n",
        "Escrever um programa em Python para ler um número inteiro e informar se ele é divisível por 5"
      ]
    },
    {
      "cell_type": "code",
      "execution_count": 2,
      "id": "3066dd48",
      "metadata": {
        "colab": {
          "base_uri": "https://localhost:8080/"
        },
        "id": "3066dd48",
        "outputId": "832d89fe-7a67-4151-8c65-d80cb104d524"
      },
      "outputs": [
        {
          "name": "stdout",
          "output_type": "stream",
          "text": [
            "Digite um número: 5\n"
          ]
        },
        {
          "output_type": "execute_result",
          "data": {
            "text/plain": [
              "True"
            ]
          },
          "metadata": {},
          "execution_count": 2
        }
      ],
      "source": [
        "num=int(input(\"Digite um número: \"))\n",
        "num%5==0"
      ]
    },
    {
      "cell_type": "markdown",
      "id": "52bc44f2",
      "metadata": {
        "id": "52bc44f2"
      },
      "source": [
        "#### Exercicio C2\n",
        "Vogal ou Consoante\n",
        "\n",
        "Neste exercício, você criará um programa que lê uma letra do alfabeto. Se o usuário digitar a, e, i, o ou u, seu programa deverá exibir uma mensagem indicando que a letra digitada é uma vogal. Caso contrário, seu programa deve exibir uma mensagem indicando que aletra é uma consoante"
      ]
    },
    {
      "cell_type": "code",
      "execution_count": 3,
      "id": "3397e95a",
      "metadata": {
        "id": "3397e95a"
      },
      "outputs": [],
      "source": [
        "lista=['a','e','i','o','u']"
      ]
    },
    {
      "cell_type": "code",
      "execution_count": 5,
      "id": "a3f8393a",
      "metadata": {
        "colab": {
          "base_uri": "https://localhost:8080/"
        },
        "id": "a3f8393a",
        "outputId": "5c74ebe5-1280-4136-9798-f22ce4949bbd"
      },
      "outputs": [
        {
          "name": "stdout",
          "output_type": "stream",
          "text": [
            "Digite uma letra: d\n"
          ]
        }
      ],
      "source": [
        "palpite=input(\"Digite uma letra: \").lower()\n",
        "if palpite in lista:print(\"Vogal encontrada\")\n",
        "else:print(\"Ops, uma consoante!\")"
      ]
    },
    {
      "cell_type": "markdown",
      "id": "c2f72003",
      "metadata": {
        "id": "c2f72003"
      },
      "source": [
        "##### Exercício C3\n",
        "\n",
        "Nomeie a figura\n",
        "\n",
        "\n",
        "- Escreva um programa que determine o nome de uma figura geométrica a partir de seu número de lados. \n",
        "- O usuário fornece o número de lados e, em seguida, o programa deve informar o nome apropriado da figura geométrica. \n",
        "- Seu programa deve suportar figuras com lados a partir de 3 até (e incluindo) 10 lados.\n",
        "- Se um número de lados fora deste intervalo for inserido então seu programa deve exibir uma mensagem de erro apropriada.\n",
        "\n",
        "\n",
        "Ex.:  \n",
        "3 lados ---> triângulo;    \n",
        "\n",
        "4 lados ---> quadrado;  \n",
        "\n",
        "5 lados ----> pentagono;   \n",
        "\n",
        "e assim por diante\n"
      ]
    },
    {
      "cell_type": "code",
      "execution_count": 6,
      "id": "3d2cce3f",
      "metadata": {
        "colab": {
          "base_uri": "https://localhost:8080/"
        },
        "id": "3d2cce3f",
        "outputId": "79f585be-517d-48d9-90ce-6d72bc839930"
      },
      "outputs": [
        {
          "output_type": "stream",
          "name": "stdout",
          "text": [
            "Digite o numero de lados do poligono: 99\n",
            "Opção inválida\n"
          ]
        }
      ],
      "source": [
        "usuario=int(input('Digite o numero de lados do poligono: '))\n",
        "if usuario==3:print(\"Triângulo\")\n",
        "if usuario==4:print(\"Quadrado\")\n",
        "if usuario==5:print(\"Pentagono\")\n",
        "if usuario==6:print(\"Hexagono\")\n",
        "if usuario==7:print(\"Heptagono\")\n",
        "if usuario==8:print(\"Octogono\")\n",
        "if usuario==9:print(\"Nonanogo\")\n",
        "if usuario==10:print(\"Decagono\")\n",
        "else:print(\"Opção inválida\")"
      ]
    },
    {
      "cell_type": "code",
      "execution_count": null,
      "id": "2a952ae0",
      "metadata": {
        "id": "2a952ae0"
      },
      "outputs": [],
      "source": [
        ""
      ]
    },
    {
      "cell_type": "code",
      "execution_count": null,
      "id": "d8a76917",
      "metadata": {
        "id": "d8a76917"
      },
      "outputs": [],
      "source": [
        ""
      ]
    },
    {
      "cell_type": "markdown",
      "id": "1e62008e",
      "metadata": {
        "id": "1e62008e"
      },
      "source": [
        "##### Exercicio C4\n",
        "\n",
        "A duração de um mês varia de 28 a 31 dias. Neste exercício você criará um programa que lê o nome de um mês do usuário como uma string. Então seu programa deve exibir o número de dias naquele mês. Exibir “28 ou 29 dias” para fevereiro para que os anos bissextos sejam abordados."
      ]
    },
    {
      "cell_type": "code",
      "execution_count": 7,
      "id": "f19fd2a5",
      "metadata": {
        "colab": {
          "base_uri": "https://localhost:8080/",
          "height": 537
        },
        "id": "f19fd2a5",
        "outputId": "b3ab1646-8f44-4f5d-b84b-f53fc9291e78"
      },
      "outputs": [
        {
          "output_type": "error",
          "ename": "KeyboardInterrupt",
          "evalue": "ignored",
          "traceback": [
            "\u001b[0;31m---------------------------------------------------------------------------\u001b[0m",
            "\u001b[0;31mKeyboardInterrupt\u001b[0m                         Traceback (most recent call last)",
            "\u001b[0;32m/usr/local/lib/python3.7/dist-packages/ipykernel/kernelbase.py\u001b[0m in \u001b[0;36m_input_request\u001b[0;34m(self, prompt, ident, parent, password)\u001b[0m\n\u001b[1;32m    728\u001b[0m             \u001b[0;32mtry\u001b[0m\u001b[0;34m:\u001b[0m\u001b[0;34m\u001b[0m\u001b[0;34m\u001b[0m\u001b[0m\n\u001b[0;32m--> 729\u001b[0;31m                 \u001b[0mident\u001b[0m\u001b[0;34m,\u001b[0m \u001b[0mreply\u001b[0m \u001b[0;34m=\u001b[0m \u001b[0mself\u001b[0m\u001b[0;34m.\u001b[0m\u001b[0msession\u001b[0m\u001b[0;34m.\u001b[0m\u001b[0mrecv\u001b[0m\u001b[0;34m(\u001b[0m\u001b[0mself\u001b[0m\u001b[0;34m.\u001b[0m\u001b[0mstdin_socket\u001b[0m\u001b[0;34m,\u001b[0m \u001b[0;36m0\u001b[0m\u001b[0;34m)\u001b[0m\u001b[0;34m\u001b[0m\u001b[0;34m\u001b[0m\u001b[0m\n\u001b[0m\u001b[1;32m    730\u001b[0m             \u001b[0;32mexcept\u001b[0m \u001b[0mException\u001b[0m\u001b[0;34m:\u001b[0m\u001b[0;34m\u001b[0m\u001b[0;34m\u001b[0m\u001b[0m\n",
            "\u001b[0;32m/usr/local/lib/python3.7/dist-packages/jupyter_client/session.py\u001b[0m in \u001b[0;36mrecv\u001b[0;34m(self, socket, mode, content, copy)\u001b[0m\n\u001b[1;32m    802\u001b[0m         \u001b[0;32mtry\u001b[0m\u001b[0;34m:\u001b[0m\u001b[0;34m\u001b[0m\u001b[0;34m\u001b[0m\u001b[0m\n\u001b[0;32m--> 803\u001b[0;31m             \u001b[0mmsg_list\u001b[0m \u001b[0;34m=\u001b[0m \u001b[0msocket\u001b[0m\u001b[0;34m.\u001b[0m\u001b[0mrecv_multipart\u001b[0m\u001b[0;34m(\u001b[0m\u001b[0mmode\u001b[0m\u001b[0;34m,\u001b[0m \u001b[0mcopy\u001b[0m\u001b[0;34m=\u001b[0m\u001b[0mcopy\u001b[0m\u001b[0;34m)\u001b[0m\u001b[0;34m\u001b[0m\u001b[0;34m\u001b[0m\u001b[0m\n\u001b[0m\u001b[1;32m    804\u001b[0m         \u001b[0;32mexcept\u001b[0m \u001b[0mzmq\u001b[0m\u001b[0;34m.\u001b[0m\u001b[0mZMQError\u001b[0m \u001b[0;32mas\u001b[0m \u001b[0me\u001b[0m\u001b[0;34m:\u001b[0m\u001b[0;34m\u001b[0m\u001b[0;34m\u001b[0m\u001b[0m\n",
            "\u001b[0;32m/usr/local/lib/python3.7/dist-packages/zmq/sugar/socket.py\u001b[0m in \u001b[0;36mrecv_multipart\u001b[0;34m(self, flags, copy, track)\u001b[0m\n\u001b[1;32m    723\u001b[0m         \"\"\"\n\u001b[0;32m--> 724\u001b[0;31m         \u001b[0mparts\u001b[0m \u001b[0;34m=\u001b[0m \u001b[0;34m[\u001b[0m\u001b[0mself\u001b[0m\u001b[0;34m.\u001b[0m\u001b[0mrecv\u001b[0m\u001b[0;34m(\u001b[0m\u001b[0mflags\u001b[0m\u001b[0;34m,\u001b[0m \u001b[0mcopy\u001b[0m\u001b[0;34m=\u001b[0m\u001b[0mcopy\u001b[0m\u001b[0;34m,\u001b[0m \u001b[0mtrack\u001b[0m\u001b[0;34m=\u001b[0m\u001b[0mtrack\u001b[0m\u001b[0;34m)\u001b[0m\u001b[0;34m]\u001b[0m\u001b[0;34m\u001b[0m\u001b[0;34m\u001b[0m\u001b[0m\n\u001b[0m\u001b[1;32m    725\u001b[0m         \u001b[0;31m# have first part already, only loop while more to receive\u001b[0m\u001b[0;34m\u001b[0m\u001b[0;34m\u001b[0m\u001b[0;34m\u001b[0m\u001b[0m\n",
            "\u001b[0;32mzmq/backend/cython/socket.pyx\u001b[0m in \u001b[0;36mzmq.backend.cython.socket.Socket.recv\u001b[0;34m()\u001b[0m\n",
            "\u001b[0;32mzmq/backend/cython/socket.pyx\u001b[0m in \u001b[0;36mzmq.backend.cython.socket.Socket.recv\u001b[0;34m()\u001b[0m\n",
            "\u001b[0;32mzmq/backend/cython/socket.pyx\u001b[0m in \u001b[0;36mzmq.backend.cython.socket._recv_copy\u001b[0;34m()\u001b[0m\n",
            "\u001b[0;32m/usr/local/lib/python3.7/dist-packages/zmq/backend/cython/checkrc.pxd\u001b[0m in \u001b[0;36mzmq.backend.cython.checkrc._check_rc\u001b[0;34m()\u001b[0m\n",
            "\u001b[0;31mKeyboardInterrupt\u001b[0m: ",
            "\nDuring handling of the above exception, another exception occurred:\n",
            "\u001b[0;31mKeyboardInterrupt\u001b[0m                         Traceback (most recent call last)",
            "\u001b[0;32m<ipython-input-7-f2283f7e13b0>\u001b[0m in \u001b[0;36m<module>\u001b[0;34m()\u001b[0m\n\u001b[0;32m----> 1\u001b[0;31m \u001b[0mmes\u001b[0m\u001b[0;34m=\u001b[0m\u001b[0minput\u001b[0m\u001b[0;34m(\u001b[0m\u001b[0;34m\"Digite o mês: \"\u001b[0m\u001b[0;34m)\u001b[0m\u001b[0;34m.\u001b[0m\u001b[0mtitle\u001b[0m\u001b[0;34m(\u001b[0m\u001b[0;34m)\u001b[0m\u001b[0;34m\u001b[0m\u001b[0;34m\u001b[0m\u001b[0m\n\u001b[0m\u001b[1;32m      2\u001b[0m \u001b[0;32mif\u001b[0m \u001b[0mmes\u001b[0m\u001b[0;34m==\u001b[0m\u001b[0;34m'Janeiro'\u001b[0m\u001b[0;34m:\u001b[0m\u001b[0mprint\u001b[0m\u001b[0;34m(\u001b[0m\u001b[0;34m\"28 a 31 dias\"\u001b[0m\u001b[0;34m)\u001b[0m\u001b[0;34m\u001b[0m\u001b[0;34m\u001b[0m\u001b[0m\n\u001b[1;32m      3\u001b[0m \u001b[0;32mif\u001b[0m \u001b[0mmes\u001b[0m\u001b[0;34m==\u001b[0m\u001b[0;34m'Janeiro'\u001b[0m\u001b[0;34m:\u001b[0m\u001b[0mprint\u001b[0m\u001b[0;34m(\u001b[0m\u001b[0;34m\"28 a 31 dias\"\u001b[0m\u001b[0;34m)\u001b[0m\u001b[0;34m\u001b[0m\u001b[0;34m\u001b[0m\u001b[0m\n\u001b[1;32m      4\u001b[0m \u001b[0;32mif\u001b[0m \u001b[0mmes\u001b[0m\u001b[0;34m==\u001b[0m\u001b[0;34m'Janeiro'\u001b[0m\u001b[0;34m:\u001b[0m\u001b[0mprint\u001b[0m\u001b[0;34m(\u001b[0m\u001b[0;34m\"28 a 31 dias\"\u001b[0m\u001b[0;34m)\u001b[0m\u001b[0;34m\u001b[0m\u001b[0;34m\u001b[0m\u001b[0m\n\u001b[1;32m      5\u001b[0m \u001b[0;32mif\u001b[0m \u001b[0mmes\u001b[0m\u001b[0;34m==\u001b[0m\u001b[0;34m'Janeiro'\u001b[0m\u001b[0;34m:\u001b[0m\u001b[0mprint\u001b[0m\u001b[0;34m(\u001b[0m\u001b[0;34m\"28 a 31 dias\"\u001b[0m\u001b[0;34m)\u001b[0m\u001b[0;34m\u001b[0m\u001b[0;34m\u001b[0m\u001b[0m\n",
            "\u001b[0;32m/usr/local/lib/python3.7/dist-packages/ipykernel/kernelbase.py\u001b[0m in \u001b[0;36mraw_input\u001b[0;34m(self, prompt)\u001b[0m\n\u001b[1;32m    702\u001b[0m             \u001b[0mself\u001b[0m\u001b[0;34m.\u001b[0m\u001b[0m_parent_ident\u001b[0m\u001b[0;34m,\u001b[0m\u001b[0;34m\u001b[0m\u001b[0;34m\u001b[0m\u001b[0m\n\u001b[1;32m    703\u001b[0m             \u001b[0mself\u001b[0m\u001b[0;34m.\u001b[0m\u001b[0m_parent_header\u001b[0m\u001b[0;34m,\u001b[0m\u001b[0;34m\u001b[0m\u001b[0;34m\u001b[0m\u001b[0m\n\u001b[0;32m--> 704\u001b[0;31m             \u001b[0mpassword\u001b[0m\u001b[0;34m=\u001b[0m\u001b[0;32mFalse\u001b[0m\u001b[0;34m,\u001b[0m\u001b[0;34m\u001b[0m\u001b[0;34m\u001b[0m\u001b[0m\n\u001b[0m\u001b[1;32m    705\u001b[0m         )\n\u001b[1;32m    706\u001b[0m \u001b[0;34m\u001b[0m\u001b[0m\n",
            "\u001b[0;32m/usr/local/lib/python3.7/dist-packages/ipykernel/kernelbase.py\u001b[0m in \u001b[0;36m_input_request\u001b[0;34m(self, prompt, ident, parent, password)\u001b[0m\n\u001b[1;32m    732\u001b[0m             \u001b[0;32mexcept\u001b[0m \u001b[0mKeyboardInterrupt\u001b[0m\u001b[0;34m:\u001b[0m\u001b[0;34m\u001b[0m\u001b[0;34m\u001b[0m\u001b[0m\n\u001b[1;32m    733\u001b[0m                 \u001b[0;31m# re-raise KeyboardInterrupt, to truncate traceback\u001b[0m\u001b[0;34m\u001b[0m\u001b[0;34m\u001b[0m\u001b[0;34m\u001b[0m\u001b[0m\n\u001b[0;32m--> 734\u001b[0;31m                 \u001b[0;32mraise\u001b[0m \u001b[0mKeyboardInterrupt\u001b[0m\u001b[0;34m\u001b[0m\u001b[0;34m\u001b[0m\u001b[0m\n\u001b[0m\u001b[1;32m    735\u001b[0m             \u001b[0;32melse\u001b[0m\u001b[0;34m:\u001b[0m\u001b[0;34m\u001b[0m\u001b[0;34m\u001b[0m\u001b[0m\n\u001b[1;32m    736\u001b[0m                 \u001b[0;32mbreak\u001b[0m\u001b[0;34m\u001b[0m\u001b[0;34m\u001b[0m\u001b[0m\n",
            "\u001b[0;31mKeyboardInterrupt\u001b[0m: "
          ]
        }
      ],
      "source": [
        "mes=input(\"Digite o mês: \").title()\n",
        "if mes=='Janeiro':print(\"28 a 31 dias\")\n",
        "if mes=='Fevereiro':print(\"28 a 29 dias\")\n",
        "if mes=='Março':print(\"28 a 31 dias\")\n",
        "if mes=='Abril':print(\"28 a 31 dias\")\n",
        "if mes=='Maio':print(\"28 a 31 dias\")\n",
        "if mes=='Junho':print(\"28 a 31 dias\")\n",
        "if mes=='Julho':print(\"28 a 31 dias\")\n",
        "if mes=='Agosto':print(\"28 a 31 dias\")\n",
        "if mes=='Setembro':print(\"28 a 31 dias\")\n",
        "if mes=='Outubro':print(\"28 a 31 dias\")\n",
        "if mes=='Novembro':print(\"28 a 31 dias\")\n",
        "if mes=='Dezembro':print(\"28 a 31 dias\")"
      ]
    },
    {
      "cell_type": "code",
      "execution_count": null,
      "id": "20c010f6",
      "metadata": {
        "id": "20c010f6"
      },
      "outputs": [],
      "source": [
        ""
      ]
    },
    {
      "cell_type": "code",
      "execution_count": null,
      "id": "f3370b04",
      "metadata": {
        "id": "f3370b04"
      },
      "outputs": [],
      "source": [
        ""
      ]
    },
    {
      "cell_type": "code",
      "execution_count": null,
      "id": "01e75673",
      "metadata": {
        "id": "01e75673"
      },
      "outputs": [],
      "source": [
        ""
      ]
    }
  ],
  "metadata": {
    "hide_input": false,
    "kernelspec": {
      "display_name": "Python 3 (ipykernel)",
      "language": "python",
      "name": "python3"
    },
    "language_info": {
      "codemirror_mode": {
        "name": "ipython",
        "version": 3
      },
      "file_extension": ".py",
      "mimetype": "text/x-python",
      "name": "python",
      "nbconvert_exporter": "python",
      "pygments_lexer": "ipython3",
      "version": "3.9.7"
    },
    "colab": {
      "name": "Exercicios_complementares_if_else.ipynb",
      "provenance": [],
      "collapsed_sections": []
    }
  },
  "nbformat": 4,
  "nbformat_minor": 5
}