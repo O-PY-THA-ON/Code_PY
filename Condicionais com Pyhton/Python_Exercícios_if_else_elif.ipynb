{
  "cells": [
    {
      "cell_type": "markdown",
      "metadata": {
        "cell_id": "c5816e9e-f0c6-404b-be00-db60328cf60e",
        "deepnote_cell_height": 243.953125,
        "deepnote_cell_type": "markdown",
        "id": "c9BudZ2gNE2n"
      },
      "source": [
        "### Exercício 1\n",
        "\n",
        "Crie um programa que leia a idade do usuário e classifique-o em:\n",
        "- Criança – 0 a 12 anos\n",
        "- Adolescente – 13 a 17 anos\n",
        "- Adulto – acima de 18 anos\n",
        " -Se o usuário digitar um número negativo, mostrar a mensagem que a idade é inválida\n"
      ]
    },
    {
      "cell_type": "code",
      "execution_count": 2,
      "metadata": {
        "cell_id": "00001-894a665f-87c1-4488-bfc4-8d973fb3d932",
        "colab": {
          "base_uri": "https://localhost:8080/"
        },
        "deepnote_cell_height": 112.1875,
        "deepnote_cell_type": "code",
        "id": "iYgw0XGvM0Xz",
        "outputId": "f107851f-4532-44d6-bd51-c39531d965b0"
      },
      "outputs": [
        {
          "output_type": "stream",
          "name": "stdout",
          "text": [
            "Digite sua idade: -9\n",
            "Inválido!!!\n"
          ]
        }
      ],
      "source": [
        "idade=int(input(\"Digite sua idade: \"))\n",
        "if idade in range(0,13):print(\"Criança\")\n",
        "if idade in range(13,18):print(\"Adolescente\")\n",
        "if idade in range(18,110):print(\"Adulto\")\n",
        "if idade<0:print(\"Inválido!!!\")"
      ]
    },
    {
      "cell_type": "code",
      "execution_count": null,
      "metadata": {
        "cell_id": "00003-b1cfffcf-bba0-435a-aaab-fdf3d8d7d647",
        "deepnote_cell_height": 238.1875,
        "deepnote_cell_type": "code",
        "id": "Dy_UFha_Nb8o"
      },
      "outputs": [],
      "source": [
        ""
      ]
    },
    {
      "cell_type": "markdown",
      "metadata": {
        "id": "IFCaxRb7x0jE"
      },
      "source": [
        "### Exercício 2 \n",
        "\n",
        "Crie um programa que leia um número inteiro e apresenta as seguintes mensagens:\n",
        "- “O valor está na faixa permitida”, caso o valor esteja entre 1 e 9\n",
        "- “O valor está fora da faixa permitida”, caso o valor seja menor que 1 OU maior que 9"
      ]
    },
    {
      "cell_type": "code",
      "source": [
        "num=int(input('Digite um numero: '))\n",
        "if num in range(0,10):print('O valor está na faixa permitida')\n",
        "else:print(\"O valor está fora da faixa permitida\")"
      ],
      "metadata": {
        "colab": {
          "base_uri": "https://localhost:8080/"
        },
        "id": "wG97amGG0XAG",
        "outputId": "af0b27a7-bd14-45f3-a41d-03db7338943f"
      },
      "execution_count": 6,
      "outputs": [
        {
          "output_type": "stream",
          "name": "stdout",
          "text": [
            "Digite um numero: 11\n",
            "O valor está fora da faixa permitida\n"
          ]
        }
      ]
    },
    {
      "cell_type": "markdown",
      "metadata": {
        "cell_id": "00004-5537f7e7-3395-434f-9d3d-7b6cd2112b7a",
        "deepnote_cell_height": 314.125,
        "deepnote_cell_type": "markdown",
        "id": "QK3YAlgdN0t3"
      },
      "source": [
        "### Exercício 3\n",
        "\n",
        "Crie um programa que calcule a média de um aluno que cursou a disciplina de Estatística, a partir da leitura das notas M1, M2 e M3; passando por um cálculo da média aritmética. Após a média calculada, devemos anunciar se o aluno foi aprovado, reprovado ou pegou exame\n",
        "- Se a média estiver entre 0.0 e 4.0, o aluno está reprovado\n",
        "- Se a média estiver entre 4.1 e 6.0, o aluno pegou exame\n",
        "- Se a média for maior do que 6.0, o aluno está aprovado\n",
        "- Se o aluno pegou exame, deve ser lida a nota do exame. Se a nota do exame for maior do que 6.0, está aprovado, senão; está reprovado"
      ]
    },
    {
      "cell_type": "code",
      "execution_count": 12,
      "metadata": {
        "cell_id": "00005-4130c163-d23f-42ff-9e34-6d207e6c24fb",
        "colab": {
          "base_uri": "https://localhost:8080/"
        },
        "deepnote_cell_height": 188.5625,
        "deepnote_cell_type": "code",
        "id": "FIz6i8_LOByQ",
        "outputId": "88b2bb7a-551e-4922-8b6a-299979f68d95",
        "owner_user_id": "d001098f-5dea-4d4f-8c97-a79374dcf058"
      },
      "outputs": [
        {
          "output_type": "stream",
          "name": "stdout",
          "text": [
            "Digite a nota aqui: 5\n",
            "Digite a nota aqui: 5\n",
            "Digite a nota aqui: 5\n",
            "Exame\n"
          ]
        }
      ],
      "source": [
        "s=0\n",
        "for c in range(1,4):\n",
        "  nota=float(input(\"Digite a nota aqui: \"))\n",
        "  s+=nota\n",
        "  media=s/c\n",
        "if media in range(0,5):print(\"Reprovado\")\n",
        "if media>=4.1 and media<6.0:print(\"Exame\")\n",
        "else:print(\"Aprovado\")"
      ]
    },
    {
      "cell_type": "code",
      "execution_count": null,
      "metadata": {
        "cell_id": "00006-e8dc5914-ad4a-481f-b18e-050dd82a75aa",
        "deepnote_cell_height": 130.1875,
        "deepnote_cell_type": "code",
        "id": "g1-4CUlMORsU"
      },
      "outputs": [],
      "source": [
        ""
      ]
    },
    {
      "cell_type": "code",
      "execution_count": null,
      "metadata": {
        "cell_id": "00007-392beeb7-17ce-44f4-bab0-0872192c6078",
        "deepnote_cell_height": 294.375,
        "deepnote_cell_type": "code",
        "id": "9uVrqKjhOcAV"
      },
      "outputs": [],
      "source": [
        ""
      ]
    },
    {
      "cell_type": "markdown",
      "metadata": {
        "id": "Q8DvFLzxx0jP"
      },
      "source": [
        "### Exercício 4 \n",
        "Crie um programa que leia dois números reais e uma operação, e com isso imprima o resultado de acordo com a operação escolhida pelo usuário: adição, subtração, multiplicação e divisão.\n",
        "Caso seja informada operação inválida, mostrar na tela"
      ]
    },
    {
      "cell_type": "code",
      "execution_count": 5,
      "metadata": {
        "colab": {
          "base_uri": "https://localhost:8080/"
        },
        "id": "r2E3ldqlx0jS",
        "outputId": "b099c464-0b67-4445-87cd-32140cedaea7"
      },
      "outputs": [
        {
          "output_type": "stream",
          "name": "stdout",
          "text": [
            "Digite um número: 5\n",
            "Digite um número: 4\n",
            "O que quer fazer com esses números?\n",
            "1-Somar\n",
            "2-Diminuir\n",
            "3-Multiplicar\n",
            "4-Dividir\n",
            "Digite: 2\n",
            "O resultado da subtração de 5 com 4 resulta em 1\n"
          ]
        }
      ],
      "source": [
        "x=int(input(\"Digite um número: \"))\n",
        "y=int(input(\"Digite um número: \"))\n",
        "opc=int(input(\"\"\"O que quer fazer com esses números?\n",
        "1-Somar\n",
        "2-Diminuir\n",
        "3-Multiplicar\n",
        "4-Dividir\n",
        "Digite: \"\"\"))\n",
        "if opc==1:print(f\"O resultado da soma de {x} com {y} resulta em {x+y}\")\n",
        "if opc==2:print(f\"O resultado da subtração de {x} com {y} resulta em {x-y}\")\n",
        "if opc==3:print(f\"O resultado da multiplicação de {x} com {y} resulta em {x*y}\")\n",
        "if opc==4:print(f\"O resultado da divisão de {x} com {y} resulta em {x/y}\")"
      ]
    },
    {
      "cell_type": "markdown",
      "metadata": {
        "created_in_deepnote_cell": true,
        "deepnote_cell_type": "markdown",
        "tags": [],
        "id": "5xb2TH7Nx0jV"
      },
      "source": [
        "<a style='text-decoration:none;line-height:16px;display:flex;color:#5B5B62;padding:10px;justify-content:end;' href='https://deepnote.com?utm_source=created-in-deepnote-cell&projectId=1076b42e-c05f-4a34-b15a-62125e5c174b' target=\"_blank\">\n",
        "<img alt='Created in deepnote.com' style='display:inline;max-height:16px;margin:0px;margin-right:7.5px;' src='data:image/svg+xml;base64,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' > </img>\n",
        "Created in <span style='font-weight:600;margin-left:4px;'>Deepnote</span></a>"
      ]
    }
  ],
  "metadata": {
    "colab": {
      "name": "Python_Exercícios_if_else_elif.ipynb",
      "provenance": []
    },
    "deepnote": {},
    "deepnote_execution_queue": [],
    "deepnote_notebook_id": "e57aea23-a238-498e-beb5-87203e8b0197",
    "hide_input": false,
    "kernelspec": {
      "display_name": "Python 3",
      "language": "python",
      "name": "python3"
    },
    "language_info": {
      "codemirror_mode": {
        "name": "ipython",
        "version": 3
      },
      "file_extension": ".py",
      "mimetype": "text/x-python",
      "name": "python",
      "nbconvert_exporter": "python",
      "pygments_lexer": "ipython3",
      "version": "3.8.8"
    }
  },
  "nbformat": 4,
  "nbformat_minor": 0
}